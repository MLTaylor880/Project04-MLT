{
 "cells": [
  {
   "cell_type": "markdown",
   "metadata": {
    "focus": false,
    "id": "69b9a648-bcc7-490d-9f9b-ea244d156bd6"
   },
   "source": [
    "# Web Scraping for Indeed.com & Predicting Salaries"
   ]
  },
  {
   "cell_type": "markdown",
   "metadata": {
    "focus": false,
    "id": "34681254-c802-462f-829d-8894d0772d08"
   },
   "source": [
    "In this project, we will practice two major skills: collecting data by scraping a website and then building a binary predictor with Logistic Regression.\n",
    "\n",
    "We are going to collect salary information on data science jobs in a variety of markets. Then using the location, title and summary of the job we will attempt to predict the salary of the job. For job posting sites, this would be extraordinarily useful. While most listings DO NOT come with salary information (as you will see in this exercise), being to able extrapolate or predict the expected salaries from other listings can help guide negotiations.\n",
    "\n",
    "Normally, we could use regression for this task; however, we will convert this problem into classification and use Logistic Regression.\n",
    "\n",
    "- Question: Why would we want this to be a classification problem?\n",
    "- Answer: While more precision may be better, there is a fair amount of natural variance in job salaries - predicting a range be may be useful.\n",
    "\n",
    "Therefore, the first part of the assignment will be focused on scraping Indeed.com. In the second, we'll focus on using listings with salary information to build a model and predict additional salaries."
   ]
  },
  {
   "cell_type": "markdown",
   "metadata": {
    "focus": false,
    "id": "a948d79c-5527-4c0d-ab23-f5d43ce72056"
   },
   "source": [
    "### Scraping job listings from Indeed.com"
   ]
  },
  {
   "cell_type": "markdown",
   "metadata": {
    "focus": true,
    "id": "7203e0c9-e437-4802-a6ad-7dc464f94436"
   },
   "source": [
    "We will be scraping job listings from Indeed.com using BeautifulSoup. Luckily, Indeed.com is a simple text page where we can easily find relevant entries.\n",
    "\n",
    "First, look at the source of an Indeed.com page: (http://www.indeed.com/jobs?q=data+scientist+%2420%2C000&l=New+York&start=10\")\n",
    "\n",
    "Notice, each job listing is underneath a `div` tag with a class name of `result`. We can use BeautifulSoup to extract those. "
   ]
  },
  {
   "cell_type": "markdown",
   "metadata": {
    "focus": false,
    "id": "9732c901-ae26-4160-8376-42e22dd327df"
   },
   "source": [
    "#### Setup a request (using `requests`) to the URL below. Use BeautifulSoup to parse the page and extract all results (HINT: Look for div tags with class name result)\n",
    "\n",
    "The URL here has many query parameters\n",
    "\n",
    "- `q` for the job search\n",
    "- This is followed by \"+20,000\" to return results with salaries (or expected salaries >$20,000)\n",
    "- `l` for a location \n",
    "- `start` for what result number to start on"
   ]
  },
  {
   "cell_type": "code",
   "execution_count": 1,
   "metadata": {
    "collapsed": false,
    "focus": false,
    "id": "e915023e-6b0d-4982-af2a-b1e0355f4927"
   },
   "outputs": [],
   "source": [
    "URL = \"http://www.indeed.com/jobs?q=data+scientist+%2420%2C000&l=New+York&start=10\""
   ]
  },
  {
   "cell_type": "code",
   "execution_count": 1,
   "metadata": {
    "collapsed": true,
    "focus": false,
    "id": "2efefc73-064a-482d-b3b5-ddf5508cb4ec"
   },
   "outputs": [],
   "source": [
    "import requests\n",
    "import bs4\n",
    "from bs4 import BeautifulSoup"
   ]
  },
  {
   "cell_type": "code",
   "execution_count": 19,
   "metadata": {
    "collapsed": true,
    "focus": false,
    "id": "2c6752c4-7704-4c94-8bc0-6f13d2d0d570"
   },
   "outputs": [],
   "source": [
    "from bs4 import BeautifulSoup\n",
    "import urllib2\n",
    "import pandas as pd\n",
    "import numpy as np\n",
    "import time\n",
    "import csv\n",
    "import seaborn as sb\n",
    "import matplotlib.pyplot as plt\n",
    "import json\n",
    "%matplotlib inline\n",
    "from sklearn.grid_search import GridSearchCV\n",
    "from sklearn.linear_model import LogisticRegression\n",
    "from sklearn.metrics import confusion_matrix, classification_report\n",
    "\n",
    "pd.options.display.max_columns = 50\n",
    "pd.options.display.max_colwidth = 300"
   ]
  },
  {
   "cell_type": "markdown",
   "metadata": {
    "focus": false,
    "id": "bb0b866a-26a7-45e9-8084-5a0f90eb4b3e"
   },
   "source": [
    "Let's look at one result more closely. A single `result` looks like\n",
    "\n",
    "```\n",
    "<div class=\" row result\" data-jk=\"2480d203f7e97210\" data-tn-component=\"organicJob\" id=\"p_2480d203f7e97210\" itemscope=\"\" itemtype=\"http://schema.org/JobPosting\">\n",
    "<h2 class=\"jobtitle\" id=\"jl_2480d203f7e97210\">\n",
    "<a class=\"turnstileLink\" data-tn-element=\"jobTitle\" onmousedown=\"return rclk(this,jobmap[0],1);\" rel=\"nofollow\" target=\"_blank\" title=\"AVP/Quantitative Analyst\">AVP/Quantitative Analyst</a>\n",
    "</h2>\n",
    "<span class=\"company\" itemprop=\"hiringOrganization\" itemtype=\"http://schema.org/Organization\">\n",
    "<span itemprop=\"name\">\n",
    "<a href=\"/cmp/Alliancebernstein?from=SERP&amp;campaignid=serp-linkcompanyname&amp;fromjk=2480d203f7e97210&amp;jcid=b374f2a780e04789\" target=\"_blank\">\n",
    "    AllianceBernstein</a></span>\n",
    "</span>\n",
    "<tr>\n",
    "<td class=\"snip\">\n",
    "<nobr>$117,500 - $127,500 a year</nobr>\n",
    "<div>\n",
    "<span class=\"summary\" itemprop=\"description\">\n",
    "C onduct quantitative and statistical research as well as portfolio management for various investment portfolios. Collaborate with Quantitative Analysts and</span>\n",
    "</div>\n",
    "</div>\n",
    "</td>\n",
    "</tr>\n",
    "</table>\n",
    "</div>\n",
    "```\n",
    "\n",
    "While this has some more verbose elements removed, we can see that there is some structure to the above:\n",
    "- The salary is available in a `nobr` element inside of a `td` element with `class='snip`.\n",
    "- The title of a job is in a link with class set to `jobtitle` and a `data-tn-element=\"jobTitle`.  \n",
    "- The location is set in a `span` with `class='location'`. \n",
    "- The company is set in a `span` with `class='company'`. "
   ]
  },
  {
   "cell_type": "markdown",
   "metadata": {
    "focus": false,
    "id": "f1eddb90-4ba8-483c-a229-77e93aa53119"
   },
   "source": [
    "### Write 4 functions to extract each item: location, company, job, and salary.\n",
    "\n",
    "example: \n",
    "```python\n",
    "def extract_location_from_result(result):\n",
    "    return result.find ...\n",
    "```\n",
    "\n",
    "\n",
    "- **Make sure these functions are robust and can handle cases where the data/field may not be available.**\n",
    "    - Remember to check if a field is empty or `None` for attempting to call methods on it\n",
    "    - Remember to use `try/except` if you anticipate errors\n",
    "- **Test** the functions on the results above and simple examples"
   ]
  },
  {
   "cell_type": "markdown",
   "metadata": {
    "collapsed": true,
    "focus": false,
    "id": "a1af53c9-9090-494f-b82e-cadb60a54909"
   },
   "source": [
    "I did different functions - ones that made sense to me.\n",
    "I check lenght of each list before I copy it to a backup.\n",
    "I had to run the code several times when I realized the lists did not match up"
   ]
  },
  {
   "cell_type": "code",
   "execution_count": 20,
   "metadata": {
    "collapsed": true
   },
   "outputs": [],
   "source": [
    "#list to hold scraped data\n",
    "#the back up are used once it is determined that the list are the same length.\n",
    "#Twice I ended up with uneven list - this assures that I do not have to start from the top\n",
    "pd.set_option('max_colwidth',500)    # to remove column limit (Otherwise, we'll lose some info)\n",
    "df = pd.DataFrame()   # create a new data frame\n",
    "\n",
    "searchCriteria=[]\n",
    "salaryRange=[]\n",
    "jobTitle = []\n",
    "companyName=[]\n",
    "cityLocation=[]\n",
    "description=[]\n",
    "actualSalary=[]\n",
    "BackupsearchCriteria=[]\n",
    "BackupsalaryRange=[]\n",
    "BackupjobTitle = []\n",
    "BackupcompanyName=[]\n",
    "BackupcityLocation=[]\n",
    "Backupdescription=[]\n",
    "BackupactualSalary=[]"
   ]
  },
  {
   "cell_type": "code",
   "execution_count": 21,
   "metadata": {
    "collapsed": true
   },
   "outputs": [],
   "source": [
    "#this function is to scrape the data off the first page of all cities. The Url is different for the \n",
    "#first page.\n",
    "#note I clean up the company name before I save it\n",
    "def extractDataFirstPage(priceRanges,city, level, b_URL):\n",
    "        time.sleep(1)   \n",
    "        base_url = b_URL\n",
    "        soup = BeautifulSoup(urllib2.urlopen(base_url).read())\n",
    "    \n",
    "        gData = soup.find_all(\"div\",{\"class\":\"row result\"})\n",
    "        for item in gData:\n",
    "                searchCriteria.append('data scientist')\n",
    "                jobTitle.append(item.find_all(\"a\",{\"data-tn-element\":\"jobTitle\"})[0].text)\n",
    "                companyName.append((item.find_all(\"span\",{\"class\":\"company\"})[0].text).lstrip().replace('\\n',''))\n",
    "                cityLocation.append(item.find_all(\"span\",{\"class\":\"location\"})[0].text)\n",
    "                description.append(item.find_all(\"span\",{\"class\":\"summary\"})[0].text)\n",
    "                salaryRange.append(level) \n",
    "                \n",
    "\n",
    "        gData = soup.find_all(\"div\",{\"class\":\" row result\"})\n",
    "        for item in gData:\n",
    "                searchCriteria.append('data scientist')\n",
    "                jobTitle.append(item.find_all(\"a\",{\"data-tn-element\":\"jobTitle\"})[0].text)\n",
    "                companyName.append((item.find_all(\"span\",{\"class\":\"company\"})[0].text).lstrip().replace('\\n',''))\n",
    "                cityLocation.append(item.find_all(\"span\",{\"class\":\"location\"})[0].text)\n",
    "                description.append(item.find_all(\"span\",{\"class\":\"summary\"})[0].text)\n",
    "                salaryRange.append(level)\n",
    "        \n",
    "    "
   ]
  },
  {
   "cell_type": "code",
   "execution_count": 22,
   "metadata": {
    "collapsed": true
   },
   "outputs": [],
   "source": [
    "#To scape the data off pages 2 on\n",
    "def extractDataBeyondPages(priceRanges, city, level, b_URL, endPage,pVariableNu):\n",
    "        time.sleep(2) \n",
    "        pVariableNu=10\n",
    "        for pages in range(2,endPage): \n",
    "            pVariableNu=10+pVariableNu\n",
    "            pVariable=str(pVariableNu)\n",
    "            base_url = b_URL + pVariable\n",
    "            soup = BeautifulSoup(urllib2.urlopen(base_url).read())\n",
    "    \n",
    "            gData = soup.find_all(\"div\",{\"class\":\"row result\"})\n",
    "            for item in gData:\n",
    "                searchCriteria.append('data scientist')\n",
    "                jobTitle.append(item.find_all(\"a\",{\"data-tn-element\":\"jobTitle\"})[0].text)\n",
    "                companyName.append((item.find_all(\"span\",{\"class\":\"company\"})[0].text).lstrip().replace('\\n',''))\n",
    "                cityLocation.append(item.find_all(\"span\",{\"class\":\"location\"})[0].text)\n",
    "                description.append(item.find_all(\"span\",{\"class\":\"summary\"})[0].text)\n",
    "                salaryRange.append(level)\n",
    "                #print base_url\n",
    "\n",
    "            gData = soup.find_all(\"div\",{\"class\":\" row result\"})\n",
    "            for item in gData:\n",
    "                searchCriteria.append('data scientist')\n",
    "                jobTitle.append(item.find_all(\"a\",{\"data-tn-element\":\"jobTitle\"})[0].text)\n",
    "                companyName.append((item.find_all(\"span\",{\"class\":\"company\"})[0].text).lstrip().replace('\\n',''))\n",
    "                cityLocation.append(item.find_all(\"span\",{\"class\":\"location\"})[0].text)\n",
    "                description.append(item.find_all(\"span\",{\"class\":\"summary\"})[0].text)\n",
    "                salaryRange.append(level)\n",
    "                #print base_url\n",
    "           \n",
    "        "
   ]
  },
  {
   "cell_type": "code",
   "execution_count": 60,
   "metadata": {
    "collapsed": true
   },
   "outputs": [],
   "source": [
    "#backing up during the process because I am paranoid\n",
    "def backup_lists():\n",
    "    BackupsearchCriteria =searchCriteria \n",
    "    BackupsalaryRange=salaryRange\n",
    "    BackupjobTitle =jobTitle\n",
    "    BackupcompanyName=companyName\n",
    "    BackupcityLocation=cityLocation\n",
    "    Backupdescription=description"
   ]
  },
  {
   "cell_type": "code",
   "execution_count": 24,
   "metadata": {
    "collapsed": true
   },
   "outputs": [],
   "source": [
    "#checking to make sure all are same length\n",
    "def print_lengths():\n",
    "    print len(searchCriteria)\n",
    "    print len(jobTitle)\n",
    "    print len(companyName)\n",
    "    print len(cityLocation)\n",
    "    print len(salaryRange)\n",
    "    print len(description)"
   ]
  },
  {
   "cell_type": "code",
   "execution_count": 25,
   "metadata": {
    "collapsed": false
   },
   "outputs": [
    {
     "name": "stdout",
     "output_type": "stream",
     "text": [
      "60\n",
      "60\n",
      "60\n",
      "60\n",
      "60\n",
      "60\n"
     ]
    }
   ],
   "source": [
    "#Chicago all salaries page 1\n",
    "#large city good supply of jobs and applicants\n",
    "priceRanges = ['$55,000','$70,000','$85,000','$100,000','$120,000']\n",
    "for price in priceRanges:\n",
    "    if price == '$55,000':\n",
    "            level = 'low'\n",
    "            endPage=41\n",
    "    elif price == '$70,000':\n",
    "            level = 'low'\n",
    "            endPage=33\n",
    "    elif price == '$85,000':\n",
    "            level = 'low'\n",
    "            endPage=26\n",
    "    elif price == '$100,000':\n",
    "            level = 'high'\n",
    "            endPage=9\n",
    "    else:\n",
    "            level = 'high'\n",
    "            endPage=9\n",
    "    city = 'Chicago'\n",
    "    b_URL='http://www.indeed.com/q-data-scientist-'+ price +'-l-Chicago,-IL-jobs.html'\n",
    "    extractDataFirstPage(priceRanges, city,level,b_URL)\n",
    "print_lengths()"
   ]
  },
  {
   "cell_type": "code",
   "execution_count": 26,
   "metadata": {
    "collapsed": false
   },
   "outputs": [
    {
     "name": "stdout",
     "output_type": "stream",
     "text": [
      "1065\n",
      "1065\n",
      "1065\n",
      "1065\n",
      "1065\n",
      "1065\n"
     ]
    }
   ],
   "source": [
    "#Chicago  other pages\n",
    "priceRanges = ['$55,000','$70,000','$85,000','$100,000','$120,000']\n",
    "\n",
    "for price in priceRanges:\n",
    "    if price == '$55,000':\n",
    "            level = 'low'\n",
    "            endPage=41\n",
    "            salaryCode='55'\n",
    "    elif price == '$70,000':\n",
    "            level = 'low'\n",
    "            endPage=33\n",
    "            salaryCode='70'\n",
    "    elif price == '$85,000':\n",
    "            level = 'low'\n",
    "            endPage=26\n",
    "            salaryCode='85'\n",
    "    elif price == '$100,000':\n",
    "            level = 'high'\n",
    "            endPage=18\n",
    "            salaryCode='100'\n",
    "    else:\n",
    "            level = 'high'\n",
    "            endPage=9\n",
    "            salaryCode='120'\n",
    "    pVariableNu=10\n",
    "    city = 'Chicago'\n",
    "    b_URL='http://www.indeed.com/jobs?q=data+scientist+%24'+salaryCode+'%2C000&l=Chicago%2C+IL&start='\n",
    "    extractDataBeyondPages(price, city, level, b_URL, endPage, pVariableNu)\n",
    "\n",
    "print_lengths()"
   ]
  },
  {
   "cell_type": "code",
   "execution_count": 27,
   "metadata": {
    "collapsed": true
   },
   "outputs": [],
   "source": [
    "backup_lists()"
   ]
  },
  {
   "cell_type": "code",
   "execution_count": 28,
   "metadata": {
    "collapsed": false
   },
   "outputs": [
    {
     "name": "stdout",
     "output_type": "stream",
     "text": [
      "1125\n",
      "1125\n",
      "1125\n",
      "1125\n",
      "1125\n",
      "1125\n"
     ]
    }
   ],
   "source": [
    "#Cincinnati all salaries page 1\n",
    "priceRanges = ['$50,000','$55,000','$65,000','$90,000','$110,000']\n",
    "for price in priceRanges:\n",
    "    if price == '$50,000':\n",
    "            level = 'low'\n",
    "            endPage=9\n",
    "    elif price == '$55,000':\n",
    "            level = 'low'\n",
    "            endPage=7\n",
    "    elif price == '$65,000':\n",
    "            level = 'low'\n",
    "            endPage=6\n",
    "    elif price == '$90,000':\n",
    "            level = 'low'\n",
    "            endPage=4\n",
    "    else:\n",
    "            level = 'high'\n",
    "            endPage=3\n",
    "    city = 'Cincinnati'\n",
    "    b_URL='http://www.indeed.com/q-data-scientist-'+ price +'-l-Cincinnati,-OH-jobs.html'\n",
    "    extractDataFirstPage(priceRanges, city,level,b_URL)\n",
    "print_lengths()\n",
    "\n",
    "\n"
   ]
  },
  {
   "cell_type": "code",
   "execution_count": 30,
   "metadata": {
    "collapsed": false
   },
   "outputs": [
    {
     "name": "stdout",
     "output_type": "stream",
     "text": [
      "1314\n",
      "1314\n",
      "1314\n",
      "1314\n",
      "1314\n",
      "1314\n"
     ]
    }
   ],
   "source": [
    "#Cincinnati  other pages\n",
    "priceRanges = ['$50,000','$55,000','$65,000','$90,000','$110,000']\n",
    "for price in priceRanges:\n",
    "    if price == '$50,000':\n",
    "            level = 'low'\n",
    "            endPage=9\n",
    "            salaryCode='50'\n",
    "    elif price == '$55,000':\n",
    "            level = 'low'\n",
    "            endPage=8\n",
    "            salaryCode='55'\n",
    "    elif price == '$65,000':\n",
    "            level = 'low'\n",
    "            endPage=6\n",
    "            salaryCode='65'\n",
    "    elif price == '$90,000':\n",
    "            level = 'low'\n",
    "            endPage=4\n",
    "            salaryCode='90'\n",
    "    else:\n",
    "            level = 'high'\n",
    "            endPage=3\n",
    "            salaryCode='110'\n",
    "\n",
    "    city = 'Cincinnati'\n",
    "    b_URL='http://www.indeed.com/jobs?q=data+scientist+%24'+salaryCode+'%2C000&l=Chicago%2C+IL&start='\n",
    "    pVariableNu=10\n",
    "    extractDataBeyondPages(price,city, level,b_URL,endPage,pVariableNu)\n",
    "print_lengths()"
   ]
  },
  {
   "cell_type": "code",
   "execution_count": 29,
   "metadata": {
    "collapsed": false
   },
   "outputs": [
    {
     "name": "stdout",
     "output_type": "stream",
     "text": [
      "1125\n",
      "1125\n",
      "1125\n",
      "1125\n",
      "1125\n",
      "1125\n"
     ]
    }
   ],
   "source": [
    "print_lengths()"
   ]
  },
  {
   "cell_type": "code",
   "execution_count": 31,
   "metadata": {
    "collapsed": true
   },
   "outputs": [],
   "source": [
    "backup_lists()"
   ]
  },
  {
   "cell_type": "code",
   "execution_count": 32,
   "metadata": {
    "collapsed": false
   },
   "outputs": [
    {
     "name": "stdout",
     "output_type": "stream",
     "text": [
      "1367\n",
      "1367\n",
      "1367\n",
      "1367\n",
      "1367\n",
      "1367\n"
     ]
    }
   ],
   "source": [
    "#Louisville all salaries page 1\n",
    "priceRanges = ['$40,000','$55,000','$70,000','$100,000','$120,000']\n",
    "for price in priceRanges:\n",
    "    if price == '$40,000':\n",
    "            level = 'low'\n",
    "            endPage=2\n",
    "    elif price == '$55,000':\n",
    "            level = 'low'\n",
    "            endPage=3\n",
    "    elif price == '$70,000':\n",
    "            level = 'low'\n",
    "            endPage=3\n",
    "    elif price == '$100,000':\n",
    "            level = 'high'\n",
    "            endPage=3\n",
    "    else:\n",
    "            level = 'high'\n",
    "            endPage=3\n",
    "    city = 'Louisville'\n",
    "    b_URL= 'http://www.indeed.com/q-data-scientist-'+price +'-l-Louisville,-KY-jobs.html'\n",
    "    extractDataFirstPage(priceRanges, city,level,b_URL)\n",
    "print_lengths()\n",
    "\n",
    "\n"
   ]
  },
  {
   "cell_type": "code",
   "execution_count": 35,
   "metadata": {
    "collapsed": true
   },
   "outputs": [],
   "source": [
    "backup_lists"
   ]
  },
  {
   "cell_type": "code",
   "execution_count": 36,
   "metadata": {
    "collapsed": false
   },
   "outputs": [
    {
     "name": "stdout",
     "output_type": "stream",
     "text": [
      "1433\n",
      "1433\n",
      "1433\n",
      "1433\n",
      "1433\n",
      "1433\n"
     ]
    }
   ],
   "source": [
    "#Louisville other pages\n",
    "priceRanges = ['$40,000','$55,000','$70,000','$100,000','$120,000']\n",
    "for price in priceRanges:\n",
    "    if price == '$40,000':\n",
    "            level = 'low'\n",
    "            endPage=3\n",
    "            salaryCode='40'\n",
    "    elif price == '$55,000':\n",
    "            level = 'low'\n",
    "            endPage=3\n",
    "            salaryCode='55'\n",
    "    elif price == '$70,000':\n",
    "            level = 'low'\n",
    "            endPage=3\n",
    "            salaryCode='70'\n",
    "\n",
    "    elif price == '$100,000':\n",
    "            level = 'high'\n",
    "            endPage=3\n",
    "            salaryCode='100'\n",
    "    else:\n",
    "            level = 'high'\n",
    "            endPage=3\n",
    "            salaryCode='120'\n",
    "    pVariableNu=10\n",
    "    city = 'Louisville'\n",
    "    b_URL='http://www.indeed.com/jobs?q=data+scientist+%24'+salaryCode+'%2C000&l=Louisville%2C+KY&start='\n",
    "    extractDataBeyondPages(price,city, level,b_URL,endPage,pVariableNu)\n",
    "print_lengths()"
   ]
  },
  {
   "cell_type": "code",
   "execution_count": 37,
   "metadata": {
    "collapsed": true
   },
   "outputs": [],
   "source": [
    "backup_lists()"
   ]
  },
  {
   "cell_type": "markdown",
   "metadata": {
    "collapsed": false
   },
   "source": []
  },
  {
   "cell_type": "code",
   "execution_count": 38,
   "metadata": {
    "collapsed": false
   },
   "outputs": [
    {
     "name": "stdout",
     "output_type": "stream",
     "text": [
      "1493\n",
      "1493\n",
      "1493\n",
      "1493\n",
      "1493\n",
      "1493\n"
     ]
    }
   ],
   "source": [
    "#Austin TX all salaries page 1\n",
    "priceRanges = ['$50,000','$70,000','$85,000','$100,000','$115,000']\n",
    "for price in priceRanges:\n",
    "    if price == '$50,000':\n",
    "            level = 'low'\n",
    "            endPage=16\n",
    "    elif price == '$70,000':\n",
    "            level = 'low'\n",
    "            endPage=13\n",
    "    elif price == '$85,000':\n",
    "            level = 'low'\n",
    "            endPage=9\n",
    "    elif price == '$100,000':\n",
    "            level = 'high'\n",
    "            endPage=7\n",
    "    else:\n",
    "            level = 'high'\n",
    "            endPage=4\n",
    "    city = 'Austin'\n",
    "    b_URL ='http://www.indeed.com/q-data-scientist-'+ price +'-l-Austin,-TX-jobs.html'\n",
    "    extractDataFirstPage(priceRanges, city,level,b_URL)\n",
    "print_lengths()"
   ]
  },
  {
   "cell_type": "code",
   "execution_count": 39,
   "metadata": {
    "collapsed": true
   },
   "outputs": [],
   "source": [
    "backup_lists()"
   ]
  },
  {
   "cell_type": "code",
   "execution_count": 40,
   "metadata": {
    "collapsed": false
   },
   "outputs": [
    {
     "name": "stdout",
     "output_type": "stream",
     "text": [
      "1835\n",
      "1835\n",
      "1835\n",
      "1835\n",
      "1835\n",
      "1835\n"
     ]
    }
   ],
   "source": [
    "#Austin other pages\n",
    "priceRanges = ['$50,000','$70,000','$85,000','$100,000','$115,000']\n",
    "for price in priceRanges:\n",
    "    if price == '$50,000':\n",
    "            level = 'low'\n",
    "            endPage=16\n",
    "            salaryCode='50'\n",
    "    elif price == '$70,000':\n",
    "            level = 'low'\n",
    "            endPage=13\n",
    "            salaryCode=='70'\n",
    "    elif price == '$85,000':\n",
    "            level = 'low'\n",
    "            endPage=9\n",
    "            salaryCode='85'\n",
    "    elif price == '$100,000':\n",
    "            level = 'high'\n",
    "            endPage=7\n",
    "            salaryCode='100'\n",
    "    else:\n",
    "            level = 'high'\n",
    "            endPage=4\n",
    "            salaryCode='115'\n",
    "    pVariableNu=10\n",
    "    city = 'Austin'\n",
    "    b_URL='http://www.indeed.com/jobs?q=data+scientist+%24'+salaryCode+'%2C000&l=Austin%2C+TX&start='\n",
    "    extractDataBeyondPages(price,city, level,b_URL,endPage,pVariableNu)\n",
    "print_lengths()"
   ]
  },
  {
   "cell_type": "code",
   "execution_count": 42,
   "metadata": {
    "collapsed": true
   },
   "outputs": [],
   "source": [
    "backup_lists()"
   ]
  },
  {
   "cell_type": "code",
   "execution_count": 61,
   "metadata": {
    "collapsed": false
   },
   "outputs": [
    {
     "name": "stdout",
     "output_type": "stream",
     "text": [
      "1895\n",
      "1895\n",
      "1895\n",
      "1895\n",
      "1895\n",
      "1895\n"
     ]
    }
   ],
   "source": [
    "#San Franisco all salaries page 1\n",
    "priceRanges = ['$65,000','$85,000','$100,000','$115,000','$130,000']\n",
    "for price in priceRanges:\n",
    "    if price == '$65,000':\n",
    "            level = 'low'\n",
    "            endPage=168\n",
    "            salaryCode='65'\n",
    "    elif price == '$85,000':\n",
    "            level = 'low'\n",
    "            endPage=130\n",
    "            salaryCode='85'\n",
    "    elif price == '$100,000':\n",
    "            level = 'high'\n",
    "            endPage=100\n",
    "            salaryCode='100'\n",
    "    elif price == '$115,000':\n",
    "            level = 'high'\n",
    "            endPage=70\n",
    "            salaryCode='115'\n",
    "    else:\n",
    "            level = 'high'\n",
    "            endPage=35\n",
    "            salaryCode='130'\n",
    "    city = 'San Francisco'\n",
    "    b_URL ='http://www.indeed.com/q-data-scientist-'+ price +'-l-San-Francisco,-CA-jobs.html'\n",
    "    extractDataFirstPage(priceRanges, city,level,b_URL)\n",
    "print_lengths()"
   ]
  },
  {
   "cell_type": "code",
   "execution_count": 62,
   "metadata": {
    "collapsed": true
   },
   "outputs": [],
   "source": [
    "BackupsearchCriteria2 =searchCriteria \n",
    "BackupsalaryRange2=salaryRange\n",
    "BackupjobTitle2 =jobTitle\n",
    "BackupcompanyName2=companyName\n",
    "BackupcityLocation2=cityLocation\n",
    "Backupdescription2=description"
   ]
  },
  {
   "cell_type": "code",
   "execution_count": 41,
   "metadata": {
    "collapsed": true
   },
   "outputs": [],
   "source": [
    "backup_lists()"
   ]
  },
  {
   "cell_type": "code",
   "execution_count": 63,
   "metadata": {
    "collapsed": false
   },
   "outputs": [
    {
     "name": "stdout",
     "output_type": "stream",
     "text": [
      "6297\n",
      "6297\n",
      "6297\n",
      "6297\n",
      "6297\n",
      "6297\n"
     ]
    }
   ],
   "source": [
    "#San Francisco other pages\n",
    "priceRanges = ['$65,000','$85,000','$100,000','$115,000','$130,000']\n",
    "for price in priceRanges:\n",
    "    if price == '$65,000':\n",
    "            level = 'low'\n",
    "            endPage=168\n",
    "            salaryCode='65'\n",
    "    elif price == '$85,000':\n",
    "            level = 'low'\n",
    "            endPage=130\n",
    "            salaryCode='85'\n",
    "    elif price == '$100,000':\n",
    "            level = 'high'\n",
    "            endPage=100\n",
    "            salaryCode='100'\n",
    "    elif price == '$115,000':\n",
    "            level = 'high'\n",
    "            endPage=70\n",
    "            salaryCode='115'\n",
    "    else:\n",
    "            level = 'high'\n",
    "            endPage=35\n",
    "            salaryCode='130'\n",
    "    city = 'San Francisco'\n",
    "    pVariableNu=10\n",
    "    b_URL='http://www.indeed.com/jobs?q=data+scientist+%24'+salaryCode+'%2C000&l=San+Francisco%2C+CA&start='\n",
    "    extractDataBeyondPages(price,city, level,b_URL,endPage,pVariableNu)\n",
    "print_lengths()"
   ]
  },
  {
   "cell_type": "code",
   "execution_count": 17,
   "metadata": {
    "collapsed": true
   },
   "outputs": [],
   "source": [
    "backup_lists()"
   ]
  },
  {
   "cell_type": "markdown",
   "metadata": {
    "focus": false,
    "id": "34070e89-9521-4b45-90c8-57a6599aac68"
   },
   "source": [
    "Now, to scale up our scraping, we need to accumulate more results. We can do this by examining the URL above.\n",
    "\n",
    "- \"http://www.indeed.com/jobs?q=data+scientist+%2420%2C000&l=New+York&start=10\"\n",
    "\n",
    "There are two query parameters here we can alter to collect more results, the `l=New+York` and the `start=10`. The first controls the location of the results (so we can try a different city). The second controls where in the results to start and gives 10 results (thus, we can keep incrementing by 10 to go further in the list)."
   ]
  },
  {
   "cell_type": "markdown",
   "metadata": {
    "focus": false,
    "id": "e8beed7c-3e42-40c0-810f-5f67f8f885a0"
   },
   "source": [
    "#### Complete the following code to collect results from multiple cities and starting points. \n",
    "- Enter your city below to add it to the search\n",
    "- Remember to convert your salary to U.S. Dollars to match the other cities if the currency is different"
   ]
  },
  {
   "cell_type": "code",
   "execution_count": 5,
   "metadata": {
    "collapsed": true,
    "focus": false,
    "id": "a9aa87ec-3575-4a01-a986-eb684f2c47d0"
   },
   "outputs": [],
   "source": [
    "#see above: Chicago, Cincinnati, Louisville, Autin, and San Francisco"
   ]
  },
  {
   "cell_type": "code",
   "execution_count": 6,
   "metadata": {
    "collapsed": false,
    "focus": false,
    "id": "04b0f9af-540e-402f-8292-81748707c676"
   },
   "outputs": [],
   "source": [
    "# url_template = \"http://www.indeed.com/jobs?q=data+scientist+%2420%2C000&l={}&start={}\"\n",
    "# max_results_per_city = 100 # Set this to a high-value (5000) to generate more results. \n",
    "# # Crawling more results, will also take much longer. First test your code on a small number of results and then expand.\n",
    "\n",
    "# results = []\n",
    "\n",
    "# for city in set(['New+York', 'Chicago', 'San+Francisco', 'Austin', 'Seattle', \n",
    "#     'Los+Angeles', 'Philadelphia', 'Atlanta', 'Dallas', 'Pittsburgh', \n",
    "#     'Portland', 'Phoenix', 'Denver', 'Houston', 'Miami', YOUR_CITY]):\n",
    "#     for start in range(0, max_results_per_city, 10):\n",
    "#         # Grab the results from the request (as above)\n",
    "#         # Append to the full set of results\n",
    "#         pass"
   ]
  },
  {
   "cell_type": "markdown",
   "metadata": {
    "focus": false,
    "id": "20339c09-5032-4e27-91be-286e9b46cd13"
   },
   "source": [
    "#### Use the functions you wrote above to parse out the 4 fields - location, title, company and salary. Create a dataframe from the results with those 4 columns."
   ]
  },
  {
   "cell_type": "code",
   "execution_count": 65,
   "metadata": {
    "collapsed": false,
    "focus": false,
    "id": "6e259594-1c52-436b-ab9e-527e071941c1"
   },
   "outputs": [
    {
     "name": "stdout",
     "output_type": "stream",
     "text": [
      "(6297, 6)\n",
      "(2934, 6)\n"
     ]
    },
    {
     "name": "stderr",
     "output_type": "stream",
     "text": [
      "/anaconda/lib/python2.7/site-packages/ipykernel/__main__.py:10: FutureWarning: the take_last=True keyword is deprecated, use keep='last' instead\n"
     ]
    }
   ],
   "source": [
    "#merging the list together\n",
    "dictPostings={'Search Criteria':searchCriteria,\n",
    "              'Job Title':jobTitle,\n",
    "              'Company Name':companyName,\n",
    "              'City Location':cityLocation,\n",
    "              'Salary Level': salaryRange, \n",
    "              'Description':description}\n",
    "\n",
    "searchListings = pd.DataFrame(dictPostings)\n",
    "print searchListings.shape\n",
    "searchListings=searchListings.drop_duplicates(take_last=True)\n",
    "print searchListings.shape"
   ]
  },
  {
   "cell_type": "markdown",
   "metadata": {
    "focus": false,
    "id": "ff98ce64-78a7-441f-a675-63464e32c834"
   },
   "source": [
    "Lastly, we need to clean up salary data. \n",
    "\n",
    "1. Only a small number of the scraped results have salary information - only these will be used for modeling.\n",
    "1. Some of the salaries are not yearly but hourly or weekly, these will not be useful to us for now\n",
    "1. Some of the entries may be duplicated\n",
    "1. The salaries are given as text and usually with ranges.\n",
    "\n",
    "#### Find the entries with annual salary entries, by filtering the entries without salaries or salaries that are not yearly (filter those that refer to hour or week). Also, remove duplicate entries"
   ]
  },
  {
   "cell_type": "code",
   "execution_count": 9,
   "metadata": {
    "collapsed": false,
    "focus": false,
    "id": "58533e57-f86b-494a-b841-e7b59c6229c6"
   },
   "outputs": [],
   "source": [
    "## I did ranges"
   ]
  },
  {
   "cell_type": "markdown",
   "metadata": {
    "focus": false,
    "id": "7d4bc860-b214-4f75-9cd0-b234830b1ec2"
   },
   "source": [
    "#### Write a function that takes a salary string and converts it to a number, averaging a salary range if necessary"
   ]
  },
  {
   "cell_type": "code",
   "execution_count": 66,
   "metadata": {
    "collapsed": false,
    "focus": false,
    "id": "a0f701e0-80bd-40ba-9101-4535860c0968"
   },
   "outputs": [
    {
     "data": {
      "text/plain": [
       "Index([u'City Location', u'Company Name', u'Description', u'Job Title',\n",
       "       u'Salary Level', u'Search Criteria'],\n",
       "      dtype='object')"
      ]
     },
     "execution_count": 66,
     "metadata": {},
     "output_type": "execute_result"
    }
   ],
   "source": [
    "##the get dummies\n",
    "searchListings.columns"
   ]
  },
  {
   "cell_type": "code",
   "execution_count": 67,
   "metadata": {
    "collapsed": false
   },
   "outputs": [
    {
     "data": {
      "text/html": [
       "<div>\n",
       "<table border=\"1\" class=\"dataframe\">\n",
       "  <thead>\n",
       "    <tr style=\"text-align: right;\">\n",
       "      <th></th>\n",
       "      <th>City Location</th>\n",
       "      <th>Company Name</th>\n",
       "      <th>Description</th>\n",
       "      <th>Job Title</th>\n",
       "      <th>Salary Level</th>\n",
       "      <th>Search Criteria</th>\n",
       "    </tr>\n",
       "  </thead>\n",
       "  <tbody>\n",
       "    <tr>\n",
       "      <th>2</th>\n",
       "      <td>Chicago, IL 60606</td>\n",
       "      <td>Purohit Navigation</td>\n",
       "      <td>Assist with data QC process on an ad hoc basis. We offer thoughtful research design, expertly executed data collection, and actionable research insights to...</td>\n",
       "      <td>Market Research Analyst</td>\n",
       "      <td>low</td>\n",
       "      <td>data scientist</td>\n",
       "    </tr>\n",
       "    <tr>\n",
       "      <th>8</th>\n",
       "      <td>Chicago, IL</td>\n",
       "      <td>C R Research Services</td>\n",
       "      <td>\\nParticipate in the development of final written reports that involve presentation set-up and data posting. Coordinate all aspects of primary research projects...</td>\n",
       "      <td>Quantitative Research Analyst</td>\n",
       "      <td>low</td>\n",
       "      <td>data scientist</td>\n",
       "    </tr>\n",
       "  </tbody>\n",
       "</table>\n",
       "</div>"
      ],
      "text/plain": [
       "       City Location           Company Name  \\\n",
       "2  Chicago, IL 60606     Purohit Navigation   \n",
       "8        Chicago, IL  C R Research Services   \n",
       "\n",
       "                                                                                                                                                           Description  \\\n",
       "2       Assist with data QC process on an ad hoc basis. We offer thoughtful research design, expertly executed data collection, and actionable research insights to...   \n",
       "8  \\nParticipate in the development of final written reports that involve presentation set-up and data posting. Coordinate all aspects of primary research projects...   \n",
       "\n",
       "                       Job Title Salary Level Search Criteria  \n",
       "2        Market Research Analyst          low  data scientist  \n",
       "8  Quantitative Research Analyst          low  data scientist  "
      ]
     },
     "execution_count": 67,
     "metadata": {},
     "output_type": "execute_result"
    }
   ],
   "source": [
    "searchListings.head(2)"
   ]
  },
  {
   "cell_type": "code",
   "execution_count": 68,
   "metadata": {
    "collapsed": true
   },
   "outputs": [],
   "source": [
    "#creating dummies for salary listings\n",
    "salaryDummies = pd.get_dummies(searchListings['Salary Level'])"
   ]
  },
  {
   "cell_type": "code",
   "execution_count": 69,
   "metadata": {
    "collapsed": false
   },
   "outputs": [
    {
     "data": {
      "text/html": [
       "<div>\n",
       "<table border=\"1\" class=\"dataframe\">\n",
       "  <thead>\n",
       "    <tr style=\"text-align: right;\">\n",
       "      <th></th>\n",
       "      <th>high</th>\n",
       "      <th>low</th>\n",
       "    </tr>\n",
       "  </thead>\n",
       "  <tbody>\n",
       "    <tr>\n",
       "      <th>2</th>\n",
       "      <td>0.0</td>\n",
       "      <td>1.0</td>\n",
       "    </tr>\n",
       "    <tr>\n",
       "      <th>8</th>\n",
       "      <td>0.0</td>\n",
       "      <td>1.0</td>\n",
       "    </tr>\n",
       "    <tr>\n",
       "      <th>9</th>\n",
       "      <td>0.0</td>\n",
       "      <td>1.0</td>\n",
       "    </tr>\n",
       "    <tr>\n",
       "      <th>10</th>\n",
       "      <td>0.0</td>\n",
       "      <td>1.0</td>\n",
       "    </tr>\n",
       "    <tr>\n",
       "      <th>12</th>\n",
       "      <td>0.0</td>\n",
       "      <td>1.0</td>\n",
       "    </tr>\n",
       "  </tbody>\n",
       "</table>\n",
       "</div>"
      ],
      "text/plain": [
       "    high  low\n",
       "2    0.0  1.0\n",
       "8    0.0  1.0\n",
       "9    0.0  1.0\n",
       "10   0.0  1.0\n",
       "12   0.0  1.0"
      ]
     },
     "execution_count": 69,
     "metadata": {},
     "output_type": "execute_result"
    }
   ],
   "source": [
    "salaryDummies.head()"
   ]
  },
  {
   "cell_type": "code",
   "execution_count": 70,
   "metadata": {
    "collapsed": false
   },
   "outputs": [
    {
     "data": {
      "text/plain": [
       "Index([u'high', u'low'], dtype='object')"
      ]
     },
     "execution_count": 70,
     "metadata": {},
     "output_type": "execute_result"
    }
   ],
   "source": [
    "salaryDummies.columns"
   ]
  },
  {
   "cell_type": "code",
   "execution_count": 114,
   "metadata": {
    "collapsed": true
   },
   "outputs": [],
   "source": [
    "#get the dummies for states\n",
    "#first the city state and zip need to be separated"
   ]
  },
  {
   "cell_type": "code",
   "execution_count": 72,
   "metadata": {
    "collapsed": true
   },
   "outputs": [],
   "source": [
    "searchListings=pd.concat([searchListings, \n",
    "                          searchListings['City Location'].str.split(',',expand=True)],axis=1)"
   ]
  },
  {
   "cell_type": "code",
   "execution_count": 73,
   "metadata": {
    "collapsed": true
   },
   "outputs": [],
   "source": [
    "searchListings.columns=['City Location','Company Name',\n",
    "                       'Description','Job Title','Salary Level','Search Criteria',\n",
    "                       'City', 'State Zip']"
   ]
  },
  {
   "cell_type": "code",
   "execution_count": 74,
   "metadata": {
    "collapsed": true
   },
   "outputs": [],
   "source": [
    "searchListings=pd.concat([searchListings, \n",
    "                          searchListings['State Zip'].str.split(' ',2,expand=True)],axis=1)"
   ]
  },
  {
   "cell_type": "code",
   "execution_count": 75,
   "metadata": {
    "collapsed": true
   },
   "outputs": [],
   "source": [
    "searchListings.columns=['City Location','Company Name',\n",
    "                       'Description','Job Title','Salary Level','Search Criteria',\n",
    "                       'City','State Zip', 'blank','State','Zip']"
   ]
  },
  {
   "cell_type": "code",
   "execution_count": 76,
   "metadata": {
    "collapsed": false
   },
   "outputs": [
    {
     "data": {
      "text/html": [
       "<div>\n",
       "<table border=\"1\" class=\"dataframe\">\n",
       "  <thead>\n",
       "    <tr style=\"text-align: right;\">\n",
       "      <th></th>\n",
       "      <th>CA</th>\n",
       "      <th>IL</th>\n",
       "      <th>IN</th>\n",
       "      <th>KY</th>\n",
       "      <th>OH</th>\n",
       "      <th>TX</th>\n",
       "    </tr>\n",
       "  </thead>\n",
       "  <tbody>\n",
       "    <tr>\n",
       "      <th>2</th>\n",
       "      <td>0.0</td>\n",
       "      <td>1.0</td>\n",
       "      <td>0.0</td>\n",
       "      <td>0.0</td>\n",
       "      <td>0.0</td>\n",
       "      <td>0.0</td>\n",
       "    </tr>\n",
       "    <tr>\n",
       "      <th>8</th>\n",
       "      <td>0.0</td>\n",
       "      <td>1.0</td>\n",
       "      <td>0.0</td>\n",
       "      <td>0.0</td>\n",
       "      <td>0.0</td>\n",
       "      <td>0.0</td>\n",
       "    </tr>\n",
       "    <tr>\n",
       "      <th>9</th>\n",
       "      <td>0.0</td>\n",
       "      <td>1.0</td>\n",
       "      <td>0.0</td>\n",
       "      <td>0.0</td>\n",
       "      <td>0.0</td>\n",
       "      <td>0.0</td>\n",
       "    </tr>\n",
       "    <tr>\n",
       "      <th>10</th>\n",
       "      <td>0.0</td>\n",
       "      <td>1.0</td>\n",
       "      <td>0.0</td>\n",
       "      <td>0.0</td>\n",
       "      <td>0.0</td>\n",
       "      <td>0.0</td>\n",
       "    </tr>\n",
       "    <tr>\n",
       "      <th>12</th>\n",
       "      <td>0.0</td>\n",
       "      <td>1.0</td>\n",
       "      <td>0.0</td>\n",
       "      <td>0.0</td>\n",
       "      <td>0.0</td>\n",
       "      <td>0.0</td>\n",
       "    </tr>\n",
       "  </tbody>\n",
       "</table>\n",
       "</div>"
      ],
      "text/plain": [
       "     CA   IL   IN   KY   OH   TX\n",
       "2   0.0  1.0  0.0  0.0  0.0  0.0\n",
       "8   0.0  1.0  0.0  0.0  0.0  0.0\n",
       "9   0.0  1.0  0.0  0.0  0.0  0.0\n",
       "10  0.0  1.0  0.0  0.0  0.0  0.0\n",
       "12  0.0  1.0  0.0  0.0  0.0  0.0"
      ]
     },
     "execution_count": 76,
     "metadata": {},
     "output_type": "execute_result"
    }
   ],
   "source": [
    "#created dummies by state so not to get all the suburbs\n",
    "stateDummies=pd.get_dummies(searchListings['State'])\n",
    "stateDummies.head()\n"
   ]
  },
  {
   "cell_type": "code",
   "execution_count": 77,
   "metadata": {
    "collapsed": true
   },
   "outputs": [],
   "source": [
    "#merge in salary dummies\n",
    "searchListings=pd.concat([searchListings, salaryDummies],axis =1)"
   ]
  },
  {
   "cell_type": "code",
   "execution_count": 78,
   "metadata": {
    "collapsed": true
   },
   "outputs": [],
   "source": [
    "#merge in state dummies\n",
    "searchListings=pd.concat([searchListings, stateDummies],axis=1)"
   ]
  },
  {
   "cell_type": "code",
   "execution_count": 79,
   "metadata": {
    "collapsed": false
   },
   "outputs": [
    {
     "data": {
      "text/html": [
       "<div>\n",
       "<table border=\"1\" class=\"dataframe\">\n",
       "  <thead>\n",
       "    <tr style=\"text-align: right;\">\n",
       "      <th></th>\n",
       "      <th>City Location</th>\n",
       "      <th>Company Name</th>\n",
       "      <th>Description</th>\n",
       "      <th>Job Title</th>\n",
       "      <th>Salary Level</th>\n",
       "      <th>Search Criteria</th>\n",
       "      <th>City</th>\n",
       "      <th>State Zip</th>\n",
       "      <th>blank</th>\n",
       "      <th>State</th>\n",
       "      <th>Zip</th>\n",
       "      <th>high</th>\n",
       "      <th>low</th>\n",
       "      <th>CA</th>\n",
       "      <th>IL</th>\n",
       "      <th>IN</th>\n",
       "      <th>KY</th>\n",
       "      <th>OH</th>\n",
       "      <th>TX</th>\n",
       "    </tr>\n",
       "  </thead>\n",
       "  <tbody>\n",
       "    <tr>\n",
       "      <th>2</th>\n",
       "      <td>Chicago, IL 60606</td>\n",
       "      <td>Purohit Navigation</td>\n",
       "      <td>Assist with data QC process on an ad hoc basis. We offer thoughtful research design, expertly executed data collection, and actionable research insights to...</td>\n",
       "      <td>Market Research Analyst</td>\n",
       "      <td>low</td>\n",
       "      <td>data scientist</td>\n",
       "      <td>Chicago</td>\n",
       "      <td>IL 60606</td>\n",
       "      <td></td>\n",
       "      <td>IL</td>\n",
       "      <td>60606</td>\n",
       "      <td>0.0</td>\n",
       "      <td>1.0</td>\n",
       "      <td>0.0</td>\n",
       "      <td>1.0</td>\n",
       "      <td>0.0</td>\n",
       "      <td>0.0</td>\n",
       "      <td>0.0</td>\n",
       "      <td>0.0</td>\n",
       "    </tr>\n",
       "    <tr>\n",
       "      <th>8</th>\n",
       "      <td>Chicago, IL</td>\n",
       "      <td>C R Research Services</td>\n",
       "      <td>\\nParticipate in the development of final written reports that involve presentation set-up and data posting. Coordinate all aspects of primary research projects...</td>\n",
       "      <td>Quantitative Research Analyst</td>\n",
       "      <td>low</td>\n",
       "      <td>data scientist</td>\n",
       "      <td>Chicago</td>\n",
       "      <td>IL</td>\n",
       "      <td></td>\n",
       "      <td>IL</td>\n",
       "      <td>None</td>\n",
       "      <td>0.0</td>\n",
       "      <td>1.0</td>\n",
       "      <td>0.0</td>\n",
       "      <td>1.0</td>\n",
       "      <td>0.0</td>\n",
       "      <td>0.0</td>\n",
       "      <td>0.0</td>\n",
       "      <td>0.0</td>\n",
       "    </tr>\n",
       "    <tr>\n",
       "      <th>9</th>\n",
       "      <td>Chicago, IL</td>\n",
       "      <td>Google</td>\n",
       "      <td>\\nExperience interpreting technical data and creating reports with data. Experience with data analytics and/or data visualization techniques and software....</td>\n",
       "      <td>Machine Learning Deployment Engineer, Professional Services,...</td>\n",
       "      <td>low</td>\n",
       "      <td>data scientist</td>\n",
       "      <td>Chicago</td>\n",
       "      <td>IL</td>\n",
       "      <td></td>\n",
       "      <td>IL</td>\n",
       "      <td>None</td>\n",
       "      <td>0.0</td>\n",
       "      <td>1.0</td>\n",
       "      <td>0.0</td>\n",
       "      <td>1.0</td>\n",
       "      <td>0.0</td>\n",
       "      <td>0.0</td>\n",
       "      <td>0.0</td>\n",
       "      <td>0.0</td>\n",
       "    </tr>\n",
       "    <tr>\n",
       "      <th>10</th>\n",
       "      <td>Chicago, IL</td>\n",
       "      <td>Northwestern University</td>\n",
       "      <td>\\nEnsures data integrity. This includes database administration, data consolidation, data analysis and management reporting....</td>\n",
       "      <td>Statistical Analyst</td>\n",
       "      <td>low</td>\n",
       "      <td>data scientist</td>\n",
       "      <td>Chicago</td>\n",
       "      <td>IL</td>\n",
       "      <td></td>\n",
       "      <td>IL</td>\n",
       "      <td>None</td>\n",
       "      <td>0.0</td>\n",
       "      <td>1.0</td>\n",
       "      <td>0.0</td>\n",
       "      <td>1.0</td>\n",
       "      <td>0.0</td>\n",
       "      <td>0.0</td>\n",
       "      <td>0.0</td>\n",
       "      <td>0.0</td>\n",
       "    </tr>\n",
       "    <tr>\n",
       "      <th>12</th>\n",
       "      <td>Chicago, IL</td>\n",
       "      <td>Precima</td>\n",
       "      <td>The Data Scientist will provide process execution support for client projects. Take analytical objectives and define data requirements....</td>\n",
       "      <td>Data Scientist</td>\n",
       "      <td>low</td>\n",
       "      <td>data scientist</td>\n",
       "      <td>Chicago</td>\n",
       "      <td>IL</td>\n",
       "      <td></td>\n",
       "      <td>IL</td>\n",
       "      <td>None</td>\n",
       "      <td>0.0</td>\n",
       "      <td>1.0</td>\n",
       "      <td>0.0</td>\n",
       "      <td>1.0</td>\n",
       "      <td>0.0</td>\n",
       "      <td>0.0</td>\n",
       "      <td>0.0</td>\n",
       "      <td>0.0</td>\n",
       "    </tr>\n",
       "  </tbody>\n",
       "</table>\n",
       "</div>"
      ],
      "text/plain": [
       "        City Location             Company Name  \\\n",
       "2   Chicago, IL 60606       Purohit Navigation   \n",
       "8         Chicago, IL    C R Research Services   \n",
       "9         Chicago, IL                   Google   \n",
       "10        Chicago, IL  Northwestern University   \n",
       "12        Chicago, IL                  Precima   \n",
       "\n",
       "                                                                                                                                                            Description  \\\n",
       "2        Assist with data QC process on an ad hoc basis. We offer thoughtful research design, expertly executed data collection, and actionable research insights to...   \n",
       "8   \\nParticipate in the development of final written reports that involve presentation set-up and data posting. Coordinate all aspects of primary research projects...   \n",
       "9         \\nExperience interpreting technical data and creating reports with data. Experience with data analytics and/or data visualization techniques and software....   \n",
       "10                                      \\nEnsures data integrity. This includes database administration, data consolidation, data analysis and management reporting....   \n",
       "12                           The Data Scientist will provide process execution support for client projects. Take analytical objectives and define data requirements....   \n",
       "\n",
       "                                                          Job Title  \\\n",
       "2                                           Market Research Analyst   \n",
       "8                                     Quantitative Research Analyst   \n",
       "9   Machine Learning Deployment Engineer, Professional Services,...   \n",
       "10                                              Statistical Analyst   \n",
       "12                                                   Data Scientist   \n",
       "\n",
       "   Salary Level Search Criteria     City  State Zip blank State    Zip  high  \\\n",
       "2           low  data scientist  Chicago   IL 60606          IL  60606   0.0   \n",
       "8           low  data scientist  Chicago         IL          IL   None   0.0   \n",
       "9           low  data scientist  Chicago         IL          IL   None   0.0   \n",
       "10          low  data scientist  Chicago         IL          IL   None   0.0   \n",
       "12          low  data scientist  Chicago         IL          IL   None   0.0   \n",
       "\n",
       "    low   CA   IL   IN   KY   OH   TX  \n",
       "2   1.0  0.0  1.0  0.0  0.0  0.0  0.0  \n",
       "8   1.0  0.0  1.0  0.0  0.0  0.0  0.0  \n",
       "9   1.0  0.0  1.0  0.0  0.0  0.0  0.0  \n",
       "10  1.0  0.0  1.0  0.0  0.0  0.0  0.0  \n",
       "12  1.0  0.0  1.0  0.0  0.0  0.0  0.0  "
      ]
     },
     "execution_count": 79,
     "metadata": {},
     "output_type": "execute_result"
    }
   ],
   "source": [
    "searchListings.head()"
   ]
  },
  {
   "cell_type": "markdown",
   "metadata": {},
   "source": [
    "in the next step I am going to separate the City State Zipcode.\n",
    "Since my cities are in separate states, below I will see if there is a relationship between location and salary level.  One would assume that there would be"
   ]
  },
  {
   "cell_type": "code",
   "execution_count": 80,
   "metadata": {
    "collapsed": false
   },
   "outputs": [
    {
     "data": {
      "text/plain": [
       "(2934, 19)"
      ]
     },
     "execution_count": 80,
     "metadata": {},
     "output_type": "execute_result"
    }
   ],
   "source": [
    "searchListings.shape"
   ]
  },
  {
   "cell_type": "code",
   "execution_count": 81,
   "metadata": {
    "collapsed": false
   },
   "outputs": [
    {
     "name": "stdout",
     "output_type": "stream",
     "text": [
      "1756.0\n",
      "1178.0\n"
     ]
    }
   ],
   "source": [
    "#basic exploratory stats\n",
    "#pd.pivot_table(salaryListings[salaryListings[]])\n",
    "print np.sum(searchListings['low'])\n",
    "print np.sum(searchListings['high'])"
   ]
  },
  {
   "cell_type": "code",
   "execution_count": 82,
   "metadata": {
    "collapsed": false
   },
   "outputs": [
    {
     "data": {
      "text/html": [
       "<div>\n",
       "<table border=\"1\" class=\"dataframe\">\n",
       "  <thead>\n",
       "    <tr>\n",
       "      <th></th>\n",
       "      <th>sum</th>\n",
       "    </tr>\n",
       "    <tr>\n",
       "      <th></th>\n",
       "      <th>high</th>\n",
       "    </tr>\n",
       "    <tr>\n",
       "      <th>State</th>\n",
       "      <th></th>\n",
       "    </tr>\n",
       "  </thead>\n",
       "  <tbody>\n",
       "    <tr>\n",
       "      <th>CA</th>\n",
       "      <td>935.0</td>\n",
       "    </tr>\n",
       "    <tr>\n",
       "      <th>IL</th>\n",
       "      <td>156.0</td>\n",
       "    </tr>\n",
       "    <tr>\n",
       "      <th>IN</th>\n",
       "      <td>1.0</td>\n",
       "    </tr>\n",
       "    <tr>\n",
       "      <th>KY</th>\n",
       "      <td>4.0</td>\n",
       "    </tr>\n",
       "    <tr>\n",
       "      <th>OH</th>\n",
       "      <td>9.0</td>\n",
       "    </tr>\n",
       "  </tbody>\n",
       "</table>\n",
       "</div>"
      ],
      "text/plain": [
       "         sum\n",
       "        high\n",
       "State       \n",
       "CA     935.0\n",
       "IL     156.0\n",
       "IN       1.0\n",
       "KY       4.0\n",
       "OH       9.0"
      ]
     },
     "execution_count": 82,
     "metadata": {},
     "output_type": "execute_result"
    }
   ],
   "source": [
    "highPivot=pd.pivot_table(searchListings, \n",
    "                    index = ['State',], \n",
    "                        values=['high'], \n",
    "                        aggfunc = [np.sum]).head()\n",
    "lowPivot=pd.pivot_table(searchListings, \n",
    "                    index = ['State',], \n",
    "                        values=['low'], \n",
    "                        aggfunc = [np.sum]).head()\n",
    "highPivot"
   ]
  },
  {
   "cell_type": "code",
   "execution_count": 83,
   "metadata": {
    "collapsed": false
   },
   "outputs": [
    {
     "data": {
      "text/html": [
       "<div>\n",
       "<table border=\"1\" class=\"dataframe\">\n",
       "  <thead>\n",
       "    <tr>\n",
       "      <th></th>\n",
       "      <th>sum</th>\n",
       "    </tr>\n",
       "    <tr>\n",
       "      <th></th>\n",
       "      <th>low</th>\n",
       "    </tr>\n",
       "    <tr>\n",
       "      <th>State</th>\n",
       "      <th></th>\n",
       "    </tr>\n",
       "  </thead>\n",
       "  <tbody>\n",
       "    <tr>\n",
       "      <th>CA</th>\n",
       "      <td>1195.0</td>\n",
       "    </tr>\n",
       "    <tr>\n",
       "      <th>IL</th>\n",
       "      <td>394.0</td>\n",
       "    </tr>\n",
       "    <tr>\n",
       "      <th>IN</th>\n",
       "      <td>1.0</td>\n",
       "    </tr>\n",
       "    <tr>\n",
       "      <th>KY</th>\n",
       "      <td>11.0</td>\n",
       "    </tr>\n",
       "    <tr>\n",
       "      <th>OH</th>\n",
       "      <td>14.0</td>\n",
       "    </tr>\n",
       "  </tbody>\n",
       "</table>\n",
       "</div>"
      ],
      "text/plain": [
       "          sum\n",
       "          low\n",
       "State        \n",
       "CA     1195.0\n",
       "IL      394.0\n",
       "IN        1.0\n",
       "KY       11.0\n",
       "OH       14.0"
      ]
     },
     "execution_count": 83,
     "metadata": {},
     "output_type": "execute_result"
    }
   ],
   "source": [
    "lowPivot\n"
   ]
  },
  {
   "cell_type": "code",
   "execution_count": 84,
   "metadata": {
    "collapsed": false
   },
   "outputs": [
    {
     "data": {
      "text/html": [
       "<div>\n",
       "<table border=\"1\" class=\"dataframe\">\n",
       "  <thead>\n",
       "    <tr>\n",
       "      <th></th>\n",
       "      <th colspan=\"2\" halign=\"left\">sum</th>\n",
       "    </tr>\n",
       "    <tr>\n",
       "      <th></th>\n",
       "      <th>low</th>\n",
       "      <th>high</th>\n",
       "    </tr>\n",
       "    <tr>\n",
       "      <th>State</th>\n",
       "      <th></th>\n",
       "      <th></th>\n",
       "    </tr>\n",
       "  </thead>\n",
       "  <tbody>\n",
       "    <tr>\n",
       "      <th>CA</th>\n",
       "      <td>1195.0</td>\n",
       "      <td>935.0</td>\n",
       "    </tr>\n",
       "    <tr>\n",
       "      <th>IL</th>\n",
       "      <td>394.0</td>\n",
       "      <td>156.0</td>\n",
       "    </tr>\n",
       "    <tr>\n",
       "      <th>IN</th>\n",
       "      <td>1.0</td>\n",
       "      <td>1.0</td>\n",
       "    </tr>\n",
       "    <tr>\n",
       "      <th>KY</th>\n",
       "      <td>11.0</td>\n",
       "      <td>4.0</td>\n",
       "    </tr>\n",
       "    <tr>\n",
       "      <th>OH</th>\n",
       "      <td>14.0</td>\n",
       "      <td>9.0</td>\n",
       "    </tr>\n",
       "  </tbody>\n",
       "</table>\n",
       "</div>"
      ],
      "text/plain": [
       "          sum       \n",
       "          low   high\n",
       "State               \n",
       "CA     1195.0  935.0\n",
       "IL      394.0  156.0\n",
       "IN        1.0    1.0\n",
       "KY       11.0    4.0\n",
       "OH       14.0    9.0"
      ]
     },
     "execution_count": 84,
     "metadata": {},
     "output_type": "execute_result"
    }
   ],
   "source": [
    "#salaryByState=pd.DataFrame(lowPivot).join(pd.DataFrame(highPivot))\n",
    "salaryByState=pd.concat([lowPivot, highPivot],axis=1)\n",
    "salaryByState"
   ]
  },
  {
   "cell_type": "code",
   "execution_count": 85,
   "metadata": {
    "collapsed": false
   },
   "outputs": [
    {
     "data": {
      "text/html": [
       "<div>\n",
       "<table border=\"1\" class=\"dataframe\">\n",
       "  <thead>\n",
       "    <tr style=\"text-align: right;\">\n",
       "      <th></th>\n",
       "      <th>sum low</th>\n",
       "      <th>sum high</th>\n",
       "    </tr>\n",
       "    <tr>\n",
       "      <th>State</th>\n",
       "      <th></th>\n",
       "      <th></th>\n",
       "    </tr>\n",
       "  </thead>\n",
       "  <tbody>\n",
       "    <tr>\n",
       "      <th>CA</th>\n",
       "      <td>1195.0</td>\n",
       "      <td>935.0</td>\n",
       "    </tr>\n",
       "    <tr>\n",
       "      <th>IL</th>\n",
       "      <td>394.0</td>\n",
       "      <td>156.0</td>\n",
       "    </tr>\n",
       "    <tr>\n",
       "      <th>IN</th>\n",
       "      <td>1.0</td>\n",
       "      <td>1.0</td>\n",
       "    </tr>\n",
       "    <tr>\n",
       "      <th>KY</th>\n",
       "      <td>11.0</td>\n",
       "      <td>4.0</td>\n",
       "    </tr>\n",
       "    <tr>\n",
       "      <th>OH</th>\n",
       "      <td>14.0</td>\n",
       "      <td>9.0</td>\n",
       "    </tr>\n",
       "  </tbody>\n",
       "</table>\n",
       "</div>"
      ],
      "text/plain": [
       "       sum low  sum high\n",
       "State                   \n",
       "CA      1195.0     935.0\n",
       "IL       394.0     156.0\n",
       "IN         1.0       1.0\n",
       "KY        11.0       4.0\n",
       "OH        14.0       9.0"
      ]
     },
     "execution_count": 85,
     "metadata": {},
     "output_type": "execute_result"
    }
   ],
   "source": [
    "#sum of low salaries and sum of high salaries\n",
    "salaryByState.columns=[' '.join(col).strip() for col in salaryByState.columns.values]\n",
    "salaryByState"
   ]
  },
  {
   "cell_type": "markdown",
   "metadata": {
    "collapsed": false,
    "focus": false,
    "id": "43e71edd-210e-42b1-9336-70a931f048af"
   },
   "source": [
    "### Save your results as a CSV"
   ]
  },
  {
   "cell_type": "code",
   "execution_count": 86,
   "metadata": {
    "collapsed": false,
    "focus": false,
    "id": "783fd153-28ac-47ab-bfca-27e7c1de95b4"
   },
   "outputs": [],
   "source": [
    "import csv\n",
    "searchListings.to_csv('SearchListings.csv', encoding='utf-8')\n",
    "\n"
   ]
  },
  {
   "cell_type": "markdown",
   "metadata": {},
   "source": [
    "# GO TO Part 2 Project 4 Analysis - MLT"
   ]
  },
  {
   "cell_type": "markdown",
   "metadata": {
    "focus": false,
    "id": "04563b69-f7b6-466f-9d65-fc62c9ddee6a"
   },
   "source": [
    "## Predicting salaries using Logistic Regression"
   ]
  },
  {
   "cell_type": "markdown",
   "metadata": {
    "focus": false,
    "id": "243e949e-2742-40af-872e-fec475fd306c"
   },
   "source": [
    "#### Load in the the data of scraped salaries"
   ]
  },
  {
   "cell_type": "markdown",
   "metadata": {
    "collapsed": false,
    "focus": false,
    "id": "588f9845-6143-4bcc-bfd1-85d45b79303d"
   },
   "source": [
    "The assumption that location will predict whether a salary will be high or low.  If it proves otherwise then I will look into whether words in the title predict high or not"
   ]
  },
  {
   "cell_type": "markdown",
   "metadata": {
    "collapsed": true
   },
   "source": [
    "I started looking at predictors by feeding the states into a model\n",
    "I felt this would make a difference California does predict high but only with .59 accuracy"
   ]
  },
  {
   "cell_type": "code",
   "execution_count": null,
   "metadata": {
    "collapsed": true
   },
   "outputs": [],
   "source": []
  },
  {
   "cell_type": "markdown",
   "metadata": {
    "focus": false,
    "id": "c7631f51-07f2-4c79-a093-3e9bc7849a48"
   },
   "source": [
    "#### We want to predict a binary variable - whether the salary was low or high. Compute the median salary and create a new binary variable that is true when the salary is high (above the median)\n",
    "\n",
    "We could also perform Linear Regression (or any regression) to predict the salary value here. Instead, we are going to convert this into a _binary_ classification problem, by predicting two classes, HIGH vs LOW salary.\n",
    "\n",
    "While performing regression may be better, performing classification may help remove some of the noise of the extreme salaries. We don't have to choice the `median` as the splitting point - we could also split on the 75th percentile or any other reasonable breaking point.\n",
    "\n",
    "In fact, the ideal scenario may be to predict many levels of salaries, "
   ]
  },
  {
   "cell_type": "markdown",
   "metadata": {
    "collapsed": true,
    "focus": false,
    "id": "c20d2498-151c-44c3-a453-3a333c79a0ac"
   },
   "source": [
    "I couldn't calculate the median salary since I did not pull the actual salary data\n",
    "\n",
    "\n"
   ]
  },
  {
   "cell_type": "markdown",
   "metadata": {
    "focus": false,
    "id": "a7afb2c0-d41e-4779-8216-91cd8dd4473f"
   },
   "source": [
    "#### Thought experiment: What is the baseline accuracy for this model?"
   ]
  },
  {
   "cell_type": "code",
   "execution_count": 16,
   "metadata": {
    "collapsed": true,
    "focus": false,
    "id": "87a17d3d-b7f4-4747-9f75-f9af1d18a174"
   },
   "outputs": [],
   "source": [
    "## YOUR CODE HERE"
   ]
  },
  {
   "cell_type": "markdown",
   "metadata": {
    "focus": false,
    "id": "4fb29de2-5b98-474c-a4ad-5170b72b9aea"
   },
   "source": [
    "#### Create a Logistic Regression model to predict High/Low salary using statsmodel. Start by ONLY using the location as a feature. Display the coefficients and write a short summary of what they mean."
   ]
  },
  {
   "cell_type": "code",
   "execution_count": 17,
   "metadata": {
    "collapsed": false,
    "focus": false,
    "id": "ddbc6159-6854-4ca7-857f-bfecdaf6d9c2"
   },
   "outputs": [],
   "source": [
    "## YOUR CODE HERE"
   ]
  },
  {
   "cell_type": "markdown",
   "metadata": {
    "focus": false,
    "id": "0ef04f32-419c-4bf2-baf7-48201f03df89"
   },
   "source": [
    "#### Create a few new variables in your dataframe to represent interesting features of a job title.\n",
    "- For example, create a feature that represents whether 'Senior' is in the title \n",
    "- or whether 'Manager' is in the title. \n",
    "- Then build a new Logistic Regression model with these features. Do they add any value? \n"
   ]
  },
  {
   "cell_type": "code",
   "execution_count": 18,
   "metadata": {
    "collapsed": false,
    "focus": false,
    "id": "068dc1cf-7fd7-4f27-a1f1-7f0a5a221d29"
   },
   "outputs": [],
   "source": [
    "#focus on words - perhaps they do a better job"
   ]
  },
  {
   "cell_type": "code",
   "execution_count": null,
   "metadata": {
    "collapsed": false
   },
   "outputs": [],
   "source": []
  },
  {
   "cell_type": "code",
   "execution_count": null,
   "metadata": {
    "collapsed": true
   },
   "outputs": [],
   "source": []
  },
  {
   "cell_type": "code",
   "execution_count": null,
   "metadata": {
    "collapsed": true
   },
   "outputs": [],
   "source": []
  },
  {
   "cell_type": "markdown",
   "metadata": {
    "focus": false,
    "id": "9c9274ef-c9f5-4d56-b286-ecc8709eff9f"
   },
   "source": [
    "#### Rebuild this model with scikit-learn.\n",
    "- You can either create the dummy features manually or use the `dmatrix` function from `patsy`\n",
    "- Remember to scale the feature variables as well!\n"
   ]
  },
  {
   "cell_type": "code",
   "execution_count": 19,
   "metadata": {
    "collapsed": false,
    "focus": false,
    "id": "b76f65cd-cd3a-4e91-af55-12880be7b057"
   },
   "outputs": [],
   "source": [
    "## YOUR CODE HERE"
   ]
  },
  {
   "cell_type": "markdown",
   "metadata": {
    "focus": false,
    "id": "9367beff-72ba-4768-a0ba-a50b335de61d"
   },
   "source": [
    "#### Use cross-validation in scikit-learn to evaluate the model above. \n",
    "- Evaluate the accuracy, AUC, precision and recall of the model. \n",
    "- Discuss the differences and explain when you want a high-recall or a high-precision model in this scenario."
   ]
  },
  {
   "cell_type": "code",
   "execution_count": 20,
   "metadata": {
    "collapsed": false,
    "focus": false,
    "id": "269b9e7c-60b5-4a06-8255-881d7395bc1b"
   },
   "outputs": [],
   "source": [
    "## YOUR CODE HERE"
   ]
  },
  {
   "cell_type": "markdown",
   "metadata": {
    "focus": false,
    "id": "8c22664b-92e4-4fc2-b7ac-fbac865845d3"
   },
   "source": [
    "#### Compare L1 and L2 regularization for this logistic regression model. What effect does this have on the coefficients learned?"
   ]
  },
  {
   "cell_type": "code",
   "execution_count": 22,
   "metadata": {
    "collapsed": false,
    "focus": false,
    "id": "56cc8854-d722-411d-a6c7-e86310710f67"
   },
   "outputs": [],
   "source": [
    "## YOUR CODE HERE"
   ]
  },
  {
   "cell_type": "markdown",
   "metadata": {
    "focus": false,
    "id": "fead9b5b-7316-405d-87fd-e144dff0cbeb"
   },
   "source": [
    "#### Continue to incorporate other text features from the title or summary that you believe will predict the salary and examine their coefficients"
   ]
  },
  {
   "cell_type": "markdown",
   "metadata": {
    "focus": false,
    "id": "12d5edeb-a272-43a0-9977-d951f12fedfb"
   },
   "source": [
    "#### Take ~100 scraped entries with salaries. Convert them to use with your model and predict the salary - which entries have the highest predicted salaries?"
   ]
  },
  {
   "cell_type": "markdown",
   "metadata": {
    "focus": false,
    "id": "3be94357-e551-4094-b784-2df039216d33"
   },
   "source": [
    "### BONUS "
   ]
  },
  {
   "cell_type": "markdown",
   "metadata": {
    "focus": false,
    "id": "db045898-1d2d-4af2-8e79-437c4c7546b4"
   },
   "source": [
    "#### Bonus: Use Count Vectorizer from scikit-learn to create features from the text summaries. \n",
    "- Examine using count or binary features in the model\n",
    "- Re-evaluate the logistic regression model using these. Does this improve the model performance? \n",
    "- What text features are the most valuable? "
   ]
  },
  {
   "cell_type": "code",
   "execution_count": 23,
   "metadata": {
    "collapsed": false,
    "focus": false,
    "id": "4239e458-28bd-4675-8db3-c1d9c02b9854"
   },
   "outputs": [],
   "source": [
    "#I used Count Vectorizer to get the words to use in the final model"
   ]
  },
  {
   "cell_type": "code",
   "execution_count": 24,
   "metadata": {
    "collapsed": false,
    "focus": false,
    "id": "fec80936-37bc-4922-89bd-b5d615566c9c"
   },
   "outputs": [],
   "source": [
    "## YOUR CODE HERE"
   ]
  },
  {
   "cell_type": "markdown",
   "metadata": {
    "focus": false,
    "id": "d42b9fd8-39d5-416a-b40b-7410e6396c11"
   },
   "source": [
    "#### Re-test L1 and L2 regularization. You can use LogisticRegressionCV to find the optimal reguarlization parameters. \n",
    "- Re-test what text features are most valuable.  \n",
    "- How do L1 and L2 change the coefficients?"
   ]
  },
  {
   "cell_type": "code",
   "execution_count": 25,
   "metadata": {
    "collapsed": false,
    "focus": false,
    "id": "7570e237-c8cc-4e26-b569-7aee10627e79"
   },
   "outputs": [],
   "source": [
    "## YOUR CODE HERE"
   ]
  },
  {
   "cell_type": "code",
   "execution_count": null,
   "metadata": {
    "collapsed": true,
    "focus": false,
    "id": "e3a0c83d-e3b8-4bed-b864-7e795b34a3d4"
   },
   "outputs": [],
   "source": []
  }
 ],
 "metadata": {
  "anaconda-cloud": {},
  "kernelspec": {
   "display_name": "Python [Root]",
   "language": "python",
   "name": "Python [Root]"
  },
  "language_info": {
   "codemirror_mode": {
    "name": "ipython",
    "version": 2
   },
   "file_extension": ".py",
   "mimetype": "text/x-python",
   "name": "python",
   "nbconvert_exporter": "python",
   "pygments_lexer": "ipython2",
   "version": "2.7.12"
  }
 },
 "nbformat": 4,
 "nbformat_minor": 0
}
