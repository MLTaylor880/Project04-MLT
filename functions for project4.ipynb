{
 "cells": [
  {
   "cell_type": "code",
   "execution_count": 67,
   "metadata": {
    "collapsed": true
   },
   "outputs": [],
   "source": [
    "from bs4 import BeautifulSoup\n",
    "import urllib2\n",
    "import pandas as pd\n",
    "import numpy as np\n",
    "import time"
   ]
  },
  {
   "cell_type": "code",
   "execution_count": 68,
   "metadata": {
    "collapsed": true
   },
   "outputs": [],
   "source": [
    "pd.set_option('max_colwidth',500)    # to remove column limit (Otherwise, we'll lose some info)\n",
    "df = pd.DataFrame()   # create a new data frame\n",
    "\n",
    "searchCriteria=[]\n",
    "salaryRange=[]\n",
    "jobTitle = []\n",
    "companyName=[]\n",
    "cityLocation=[]\n",
    "description=[]\n",
    "actualSalary=[]\n",
    "BackupsearchCriteria=[]\n",
    "BackupsalaryRange=[]\n",
    "BackupjobTitle = []\n",
    "BackupcompanyName=[]\n",
    "BackupcityLocation=[]\n",
    "Backupdescription=[]\n",
    "BackupactualSalary=[]"
   ]
  },
  {
   "cell_type": "code",
   "execution_count": 69,
   "metadata": {
    "collapsed": false
   },
   "outputs": [],
   "source": [
    "def extractDataFirstPage(priceRanges,city, level, b_URL):\n",
    "        time.sleep(1)   \n",
    "        base_url = b_URL\n",
    "        soup = BeautifulSoup(urllib2.urlopen(base_url).read())\n",
    "    \n",
    "        gData = soup.find_all(\"div\",{\"class\":\"row result\"})\n",
    "        for item in gData:\n",
    "                searchCriteria.append('data scientist')\n",
    "                jobTitle.append(item.find_all(\"a\",{\"data-tn-element\":\"jobTitle\"})[0].text)\n",
    "                companyName.append((item.find_all(\"span\",{\"class\":\"company\"})[0].text).lstrip().replace('\\n',''))\n",
    "                cityLocation.append(item.find_all(\"span\",{\"class\":\"location\"})[0].text)\n",
    "                description.append(item.find_all(\"span\",{\"class\":\"summary\"})[0].text)\n",
    "                salaryRange.append(level)      \n",
    "\n",
    "        gData = soup.find_all(\"div\",{\"class\":\" row result\"})\n",
    "        for item in gData:\n",
    "                searchCriteria.append('data scientist')\n",
    "                jobTitle.append(item.find_all(\"a\",{\"data-tn-element\":\"jobTitle\"})[0].text)\n",
    "                companyName.append((item.find_all(\"span\",{\"class\":\"company\"})[0].text).lstrip().replace('\\n',''))\n",
    "                cityLocation.append(item.find_all(\"span\",{\"class\":\"location\"})[0].text)\n",
    "                description.append(item.find_all(\"span\",{\"class\":\"summary\"})[0].text)\n",
    "                salaryRange.append(level)\n",
    "\n",
    "def extractDataBeyondPages(priceRanges, city, level, b_URL, endPage):\n",
    "    \n",
    "    time.sleep(2) \n",
    "    pVariableNu=10\n",
    "    for pages in range(2,endPage): \n",
    "        pVariableNu=10+pVariableNu\n",
    "        Variable=str(pVariableNu)\n",
    "        base_url = b_URL\n",
    "        soup = BeautifulSoup(urllib2.urlopen(base_url).read())\n",
    "    \n",
    "        gData = soup.find_all(\"div\",{\"class\":\"row result\"})\n",
    "        for item in gData:\n",
    "                searchCriteria.append('data scientist')\n",
    "                jobTitle.append(item.find_all(\"a\",{\"data-tn-element\":\"jobTitle\"})[0].text)\n",
    "                companyName.append((item.find_all(\"span\",{\"class\":\"company\"})[0].text).lstrip().replace('\\n',''))\n",
    "                cityLocation.append(item.find_all(\"span\",{\"class\":\"location\"})[0].text)\n",
    "                description.append(item.find_all(\"span\",{\"class\":\"summary\"})[0].text)\n",
    "                salaryRange.append(level)      \n",
    "\n",
    "        gData = soup.find_all(\"div\",{\"class\":\" row result\"})\n",
    "        for item in gData:\n",
    "                searchCriteria.append('data scientist')\n",
    "                jobTitle.append(item.find_all(\"a\",{\"data-tn-element\":\"jobTitle\"})[0].text)\n",
    "                companyName.append((item.find_all(\"span\",{\"class\":\"company\"})[0].text).lstrip().replace('\\n',''))\n",
    "                cityLocation.append(item.find_all(\"span\",{\"class\":\"location\"})[0].text)\n",
    "                description.append(item.find_all(\"span\",{\"class\":\"summary\"})[0].text)\n",
    "                salaryRange.append(level)\n",
    "\n",
    "def print_lengths():\n",
    "    print len(searchCriteria)\n",
    "    print len(jobTitle)\n",
    "    print len(companyName)\n",
    "    print len(cityLocation)\n",
    "    print len(salaryRange)\n",
    "    print len(description)\n",
    "\n",
    "def backup_lists():\n",
    "    BackupsearchCriteria =searchCriteria \n",
    "    BackupsalaryRange=salaryRange\n",
    "    BackupjobTitle =jobTitle\n",
    "    BackupcompanyName=companyName\n",
    "    BackupcityLocation=cityLocation\n",
    "    Backupdescription=description\n",
    "    BackupactualSalary=actualSalary\n",
    "    \n",
    "\n",
    "    "
   ]
  },
  {
   "cell_type": "code",
   "execution_count": 64,
   "metadata": {
    "collapsed": false
   },
   "outputs": [
    {
     "name": "stdout",
     "output_type": "stream",
     "text": [
      "60\n",
      "60\n",
      "60\n",
      "60\n",
      "60\n",
      "60\n"
     ]
    }
   ],
   "source": [
    "#Chicago all salaries page 1\n",
    "priceRanges = ['$55,000','$70,000','$85,000','$100,000','$120,000']\n",
    "for price in priceRanges:\n",
    "    if price == '$55,000':\n",
    "            level = 'low'\n",
    "            endPage=41\n",
    "    elif price == '$70,000':\n",
    "            level = 'medium'\n",
    "            endPage=33\n",
    "    elif price == '$85,000':\n",
    "            level = 'medium'\n",
    "            endPage=33\n",
    "    elif price == '$100,000':\n",
    "            level = 'high'\n",
    "            endPage=33\n",
    "    else:\n",
    "            level = 'high'\n",
    "            endPage=9\n",
    "    city = 'Chicago'\n",
    "    b_URL='http://www.indeed.com/q-data-scientist-'+ price +'-l-'+city+',-IL-jobs.html'\n",
    "    extractDataFirstPage(priceRanges, city,level,b_URL)\n",
    "print_lengths()\n"
   ]
  },
  {
   "cell_type": "code",
   "execution_count": 70,
   "metadata": {
    "collapsed": true
   },
   "outputs": [],
   "source": [
    "backup_lists()"
   ]
  },
  {
   "cell_type": "code",
   "execution_count": 71,
   "metadata": {
    "collapsed": false
   },
   "outputs": [
    {
     "name": "stdout",
     "output_type": "stream",
     "text": [
      "1367\n",
      "1367\n",
      "1367\n",
      "1367\n",
      "1367\n",
      "1367\n"
     ]
    }
   ],
   "source": [
    "#Chicago  other pages\n",
    "priceRanges = ['$55,000','$70,000','$85,000','$100,000','$120,000']\n",
    "for price in priceRanges:\n",
    "    if price == '$55,000':\n",
    "            level = 'low'\n",
    "            endPage=41\n",
    "            salaryCode='55'\n",
    "    elif price == '$70,000':\n",
    "            level = 'medium'\n",
    "            endPage=33\n",
    "            salaryCode='70'\n",
    "    elif price == '$85,000':\n",
    "            level = 'medium'\n",
    "            endPage=26\n",
    "            salaryCode='85'\n",
    "    elif price == '$100,000':\n",
    "            level = 'high'\n",
    "            endPage=18\n",
    "            salaryCode='100'\n",
    "    else:\n",
    "            level = 'high'\n",
    "            endPage=9\n",
    "            salaryCode='120'\n",
    "\n",
    "    city = 'Chicago'\n",
    "    b_URL='http://www.indeed.com/jobs?q=data+scientist+%24'+salaryCode+'%2C000&l=Chicago%2C+IL&start='+pVariable+'&pp='\n",
    "    extractDataBeyondPages(price,city, level,b_URL,endPage)\n",
    "print_lengths()"
   ]
  },
  {
   "cell_type": "code",
   "execution_count": 72,
   "metadata": {
    "collapsed": true
   },
   "outputs": [],
   "source": [
    "backup_lists()"
   ]
  },
  {
   "cell_type": "code",
   "execution_count": 73,
   "metadata": {
    "collapsed": false
   },
   "outputs": [
    {
     "name": "stdout",
     "output_type": "stream",
     "text": [
      "1425\n",
      "1425\n",
      "1425\n",
      "1425\n",
      "1425\n",
      "1425\n"
     ]
    }
   ],
   "source": [
    "#Cincinnati all salaries page 1\n",
    "priceRanges = ['$50,000','$55,000','$65,000','$90,000','$110,000']\n",
    "for price in priceRanges:\n",
    "    if price == '$50,000':\n",
    "            level = 'low'\n",
    "            endPage=9\n",
    "    elif price == '$55,000':\n",
    "            level = 'low'\n",
    "            endPage=7\n",
    "    elif price == '$65,000':\n",
    "            level = 'medium'\n",
    "            endPage=6\n",
    "    elif price == '$90,000':\n",
    "            level = 'medium'\n",
    "            endPage=4\n",
    "    else:\n",
    "            level = 'high'\n",
    "            endPage=3\n",
    "    city = 'Cincinnati'\n",
    "    b_URL='http://www.indeed.com/q-data-scientist-'+ price +'-l-Cincinnati,-OH-jobs.html'\n",
    "    extractDataFirstPage(priceRanges, city,level,b_URL)\n",
    "print_lengths()\n",
    "\n"
   ]
  },
  {
   "cell_type": "code",
   "execution_count": 74,
   "metadata": {
    "collapsed": true
   },
   "outputs": [],
   "source": [
    "backup_lists()"
   ]
  },
  {
   "cell_type": "code",
   "execution_count": 76,
   "metadata": {
    "collapsed": false
   },
   "outputs": [
    {
     "name": "stdout",
     "output_type": "stream",
     "text": [
      "1652\n",
      "1652\n",
      "1652\n",
      "1652\n",
      "1652\n",
      "1652\n"
     ]
    }
   ],
   "source": [
    "#Cincinnati  other pages\n",
    "priceRanges = ['$50,000','$55,000','$65,000','$90,000','$110,000']\n",
    "for price in priceRanges:\n",
    "    if price == '$50,000':\n",
    "            level = 'low'\n",
    "            endPage=9\n",
    "            salaryCode='50'\n",
    "    elif price == '$55,000':\n",
    "            level = 'low'\n",
    "            endPage=7\n",
    "            salaryCode='55'\n",
    "    elif price == '$65,000':\n",
    "            level = 'medium'\n",
    "            endPage=6\n",
    "            salaryCode='65'\n",
    "    elif price == '$90,000':\n",
    "            level = 'medium'\n",
    "            endPage=4\n",
    "            salaryCode='90'\n",
    "    else:\n",
    "            level = 'high'\n",
    "            endPage=3\n",
    "            salaryCode='110'\n",
    "\n",
    "    city = 'Cincinnati'\n",
    "    b_URL='http://www.indeed.com/jobs?q=data+scientist+%24'+salaryCode+'%2C000&l=Chicago%2C+IL&start='+pVariable+'&pp='\n",
    "    extractDataBeyondPages(price,city, level,b_URL,endPage)\n",
    "print_lengths()"
   ]
  },
  {
   "cell_type": "code",
   "execution_count": 77,
   "metadata": {
    "collapsed": true
   },
   "outputs": [],
   "source": [
    "backup_lists()"
   ]
  },
  {
   "cell_type": "code",
   "execution_count": null,
   "metadata": {
    "collapsed": false
   },
   "outputs": [],
   "source": [
    "####################  Louisville Ky"
   ]
  },
  {
   "cell_type": "code",
   "execution_count": 79,
   "metadata": {
    "collapsed": false
   },
   "outputs": [
    {
     "name": "stdout",
     "output_type": "stream",
     "text": [
      "1711\n",
      "1711\n",
      "1711\n",
      "1711\n",
      "1711\n",
      "1711\n"
     ]
    }
   ],
   "source": [
    "#Louisville all salaries page 1\n",
    "priceRanges = ['$40,000','$70,000','$80,000','$100,000','$110,000']\n",
    "for price in priceRanges:\n",
    "    if price == '$50,000':\n",
    "            level = 'low'\n",
    "            endPage=2\n",
    "    elif price == '$55,000':\n",
    "            level = 'medium'\n",
    "            endPage=3\n",
    "    elif price == '$65,000':\n",
    "            level = 'medium'\n",
    "            endPage=3\n",
    "    elif price == '$100,000':\n",
    "            level = 'high'\n",
    "            endPage=3\n",
    "    else:\n",
    "            level = 'high'\n",
    "            endPage=3\n",
    "    city = 'Louisville'\n",
    "    b_URL= 'http://www.indeed.com/q-data-scientist-'+price +'-l-Louisville,-KY-jobs.html'\n",
    "    extractDataFirstPage(priceRanges, city,level,b_URL)\n",
    "print_lengths()\n",
    "\n"
   ]
  },
  {
   "cell_type": "code",
   "execution_count": 80,
   "metadata": {
    "collapsed": true
   },
   "outputs": [],
   "source": [
    "backup_lists()"
   ]
  },
  {
   "cell_type": "code",
   "execution_count": 83,
   "metadata": {
    "collapsed": false
   },
   "outputs": [
    {
     "name": "stdout",
     "output_type": "stream",
     "text": [
      "1750\n",
      "1750\n",
      "1750\n",
      "1750\n",
      "1750\n",
      "1750\n"
     ]
    }
   ],
   "source": [
    "#Louisville other pages\n",
    "priceRanges = ['$50,000','$55,000','$65,000','$90,000','$110,000']\n",
    "for price in priceRanges:\n",
    "    if price == '$50,000':\n",
    "            level = 'low'\n",
    "            endPage=2\n",
    "            salaryCode='50'\n",
    "    elif price == '$55,000':\n",
    "            level = 'medium'\n",
    "            endPage=3\n",
    "            salaryCode='55'\n",
    "    elif price == '$65,000':\n",
    "            level = 'medium'\n",
    "            endPage=3\n",
    "            salaryCode='65'\n",
    "\n",
    "    elif price == '$100,000':\n",
    "            level = 'high'\n",
    "            endPage=3\n",
    "            salaryCode='100'\n",
    "    else:\n",
    "            level = 'high'\n",
    "            endPage=3\n",
    "            salaryCode='110'\n",
    "\n",
    "    city = 'Louisville'\n",
    "    b_URL='http://www.indeed.com/jobs?q=data+scientist+%24'+salaryCode+'%2C000&l=Louisville%2C+KY&start='+pVariable+'&pp='\n",
    "    extractDataBeyondPages(price,city, level,b_URL,endPage)\n",
    "print_lengths()"
   ]
  },
  {
   "cell_type": "code",
   "execution_count": 84,
   "metadata": {
    "collapsed": true
   },
   "outputs": [],
   "source": [
    "backup_lists()"
   ]
  },
  {
   "cell_type": "code",
   "execution_count": null,
   "metadata": {
    "collapsed": true
   },
   "outputs": [],
   "source": [
    "################ Austin Texas"
   ]
  },
  {
   "cell_type": "code",
   "execution_count": 86,
   "metadata": {
    "collapsed": false
   },
   "outputs": [
    {
     "name": "stdout",
     "output_type": "stream",
     "text": [
      "1810\n",
      "1810\n",
      "1810\n",
      "1810\n",
      "1810\n",
      "1810\n"
     ]
    }
   ],
   "source": [
    "#Austin TX all salaries page 1\n",
    "priceRanges = ['$50,000','$70,000','$90,000','$100,000','$115,000']\n",
    "for price in priceRanges:\n",
    "    if price == '$50,000':\n",
    "            level = 'low'\n",
    "            endPage=17\n",
    "    elif price == '$70,000':\n",
    "            level = 'medium'\n",
    "            endPage=14\n",
    "    elif price == '$90,000':\n",
    "            level = 'medium'\n",
    "            endPage=10\n",
    "    elif price == '$100,000':\n",
    "            level = 'high'\n",
    "            endPage=7\n",
    "    else:\n",
    "            level = 'high'\n",
    "            endPage=4\n",
    "    city = 'Austin'\n",
    "    b_URL ='http://www.indeed.com/q-data-scientist-'+ price +'-l-Austin,-TX-jobs.html'\n",
    "    extractDataFirstPage(priceRanges, city,level,b_URL)\n",
    "print_lengths()"
   ]
  },
  {
   "cell_type": "code",
   "execution_count": 87,
   "metadata": {
    "collapsed": true
   },
   "outputs": [],
   "source": [
    "backup_lists()"
   ]
  },
  {
   "cell_type": "code",
   "execution_count": 90,
   "metadata": {
    "collapsed": false
   },
   "outputs": [
    {
     "name": "stdout",
     "output_type": "stream",
     "text": [
      "2260\n",
      "2260\n",
      "2260\n",
      "2260\n",
      "2260\n",
      "2260\n"
     ]
    }
   ],
   "source": [
    "#Austin other pages\n",
    "priceRanges = ['$50,000','$70,000','$90,000','$100,000','$115,000']\n",
    "for price in priceRanges:\n",
    "    if price == '$50,000':\n",
    "            level = 'low'\n",
    "            endPage=17\n",
    "            salaryCode='50'\n",
    "    elif price == '$70,000':\n",
    "            level = 'medium'\n",
    "            endPage=14\n",
    "            salaryCode=='70'\n",
    "    elif price == '$90,000':\n",
    "            level = 'medium'\n",
    "            endPage=10\n",
    "            salaryCode='90'\n",
    "    elif price == '$100,000':\n",
    "            level = 'high'\n",
    "            endPage=7\n",
    "            salaryCode='100'\n",
    "    else:\n",
    "            level = 'high'\n",
    "            endPage=4\n",
    "            salaryCode='115'\n",
    "\n",
    "    city = 'Austin'\n",
    "    b_URL='http://www.indeed.com/jobs?q=data+scientist+%24'+salaryCode+'%2C000&l=Austin%2C+TX&start='+pVariable+'#'\n",
    "    extractDataBeyondPages(price,city, level,b_URL,endPage)\n",
    "print_lengths()"
   ]
  },
  {
   "cell_type": "code",
   "execution_count": 91,
   "metadata": {
    "collapsed": true
   },
   "outputs": [],
   "source": [
    "backup_lists()"
   ]
  },
  {
   "cell_type": "code",
   "execution_count": null,
   "metadata": {
    "collapsed": true
   },
   "outputs": [],
   "source": []
  }
 ],
 "metadata": {
  "kernelspec": {
   "display_name": "Python [Root]",
   "language": "python",
   "name": "Python [Root]"
  },
  "language_info": {
   "codemirror_mode": {
    "name": "ipython",
    "version": 2
   },
   "file_extension": ".py",
   "mimetype": "text/x-python",
   "name": "python",
   "nbconvert_exporter": "python",
   "pygments_lexer": "ipython2",
   "version": "2.7.12"
  }
 },
 "nbformat": 4,
 "nbformat_minor": 0
}
