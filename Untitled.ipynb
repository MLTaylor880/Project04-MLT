{
 "cells": [
  {
   "cell_type": "code",
   "execution_count": 1,
   "metadata": {
    "collapsed": false
   },
   "outputs": [
    {
     "name": "stdout",
     "output_type": "stream",
     "text": [
      "10 10\n"
     ]
    }
   ],
   "source": [
    "column1=[x for x in range(0,10)]\n",
    "column2=[y for y in range(10,20)]\n",
    "\n",
    "print len(column1), len(column2)\n"
   ]
  },
  {
   "cell_type": "code",
   "execution_count": null,
   "metadata": {
    "collapsed": true
   },
   "outputs": [],
   "source": [
    "my_data={}\n",
    "x_list=[]\n",
    "y_list=[]\n",
    "\n",
    "for x in ['50','60']:\n",
    "    my_data['x']=column1[1]\n",
    "    my_data['y']=column1[0]\n",
    "    \n",
    "    my_data['salary']=x\n",
    "    x_list.append(column1[1])\n",
    "    y_list.append(column2[0])\n",
    "    "
   ]
  }
 ],
 "metadata": {
  "kernelspec": {
   "display_name": "Python [Root]",
   "language": "python",
   "name": "Python [Root]"
  },
  "language_info": {
   "codemirror_mode": {
    "name": "ipython",
    "version": 2
   },
   "file_extension": ".py",
   "mimetype": "text/x-python",
   "name": "python",
   "nbconvert_exporter": "python",
   "pygments_lexer": "ipython2",
   "version": "2.7.12"
  }
 },
 "nbformat": 4,
 "nbformat_minor": 0
}
