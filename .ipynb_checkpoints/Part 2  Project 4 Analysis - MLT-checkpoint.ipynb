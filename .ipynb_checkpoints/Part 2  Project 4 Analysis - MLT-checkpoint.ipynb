{
 "cells": [
  {
   "cell_type": "code",
   "execution_count": null,
   "metadata": {
    "collapsed": true
   },
   "outputs": [],
   "source": [
    "#since you are giving us more time I will try to redo the models"
   ]
  },
  {
   "cell_type": "code",
   "execution_count": 69,
   "metadata": {
    "collapsed": false
   },
   "outputs": [],
   "source": [
    "\n",
    "import csv\n",
    "from bs4 import BeautifulSoup\n",
    "import urllib2\n",
    "import pandas as pd\n",
    "import numpy as np\n",
    "import time\n",
    "import csv\n",
    "import seaborn as sb\n",
    "import matplotlib.pyplot as plt\n",
    "import json\n",
    "%matplotlib inline\n",
    "from sklearn.grid_search import GridSearchCV\n",
    "from sklearn.linear_model import LogisticRegression\n",
    "from sklearn.metrics import confusion_matrix, classification_report\n",
    "from sklearn.feature_extraction.text import CountVectorizer\n",
    "from sklearn.cross_validation import train_test_split\n",
    "\n",
    "pd.options.display.max_columns = 50\n",
    "pd.options.display.max_colwidth = 300"
   ]
  },
  {
   "cell_type": "code",
   "execution_count": 3,
   "metadata": {
    "collapsed": false
   },
   "outputs": [],
   "source": [
    "searchListings = pd.read_csv('SearchListings.csv')\n"
   ]
  },
  {
   "cell_type": "code",
   "execution_count": 5,
   "metadata": {
    "collapsed": false
   },
   "outputs": [
    {
     "data": {
      "text/html": [
       "<div>\n",
       "<table border=\"1\" class=\"dataframe\">\n",
       "  <thead>\n",
       "    <tr style=\"text-align: right;\">\n",
       "      <th></th>\n",
       "      <th>Unnamed: 0</th>\n",
       "      <th>City Location</th>\n",
       "      <th>Company Name</th>\n",
       "      <th>Description</th>\n",
       "      <th>Job Title</th>\n",
       "      <th>Salary Level</th>\n",
       "      <th>Search Criteria</th>\n",
       "      <th>City</th>\n",
       "      <th>State Zip</th>\n",
       "      <th>blank</th>\n",
       "      <th>State</th>\n",
       "      <th>Zip</th>\n",
       "      <th>high</th>\n",
       "      <th>low</th>\n",
       "      <th>CA</th>\n",
       "      <th>IL</th>\n",
       "      <th>IN</th>\n",
       "      <th>KY</th>\n",
       "      <th>OH</th>\n",
       "      <th>TX</th>\n",
       "    </tr>\n",
       "  </thead>\n",
       "  <tbody>\n",
       "    <tr>\n",
       "      <th>0</th>\n",
       "      <td>2</td>\n",
       "      <td>Chicago, IL 60606</td>\n",
       "      <td>Purohit Navigation</td>\n",
       "      <td>Assist with data QC process on an ad hoc basis. We offer thoughtful research design, expertly executed data collection, and actionable research insights to...</td>\n",
       "      <td>Market Research Analyst</td>\n",
       "      <td>low</td>\n",
       "      <td>data scientist</td>\n",
       "      <td>Chicago</td>\n",
       "      <td>IL 60606</td>\n",
       "      <td>NaN</td>\n",
       "      <td>IL</td>\n",
       "      <td>60606</td>\n",
       "      <td>0.0</td>\n",
       "      <td>1.0</td>\n",
       "      <td>0.0</td>\n",
       "      <td>1.0</td>\n",
       "      <td>0.0</td>\n",
       "      <td>0.0</td>\n",
       "      <td>0.0</td>\n",
       "      <td>0.0</td>\n",
       "    </tr>\n",
       "  </tbody>\n",
       "</table>\n",
       "</div>"
      ],
      "text/plain": [
       "   Unnamed: 0      City Location        Company Name  \\\n",
       "0           2  Chicago, IL 60606  Purohit Navigation   \n",
       "\n",
       "                                                                                                                                                      Description  \\\n",
       "0  Assist with data QC process on an ad hoc basis. We offer thoughtful research design, expertly executed data collection, and actionable research insights to...   \n",
       "\n",
       "                 Job Title Salary Level Search Criteria     City  State Zip  \\\n",
       "0  Market Research Analyst          low  data scientist  Chicago   IL 60606   \n",
       "\n",
       "   blank State    Zip  high  low   CA   IL   IN   KY   OH   TX  \n",
       "0    NaN    IL  60606   0.0  1.0  0.0  1.0  0.0  0.0  0.0  0.0  "
      ]
     },
     "execution_count": 5,
     "metadata": {},
     "output_type": "execute_result"
    }
   ],
   "source": [
    "searchListings.head(1)\n"
   ]
  },
  {
   "cell_type": "code",
   "execution_count": 7,
   "metadata": {
    "collapsed": false
   },
   "outputs": [
    {
     "data": {
      "text/plain": [
       "(2934, 20)"
      ]
     },
     "execution_count": 7,
     "metadata": {},
     "output_type": "execute_result"
    }
   ],
   "source": [
    "searchListings.shape\n"
   ]
  },
  {
   "cell_type": "code",
   "execution_count": 8,
   "metadata": {
    "collapsed": false
   },
   "outputs": [
    {
     "name": "stdout",
     "output_type": "stream",
     "text": [
      "1756.0\n",
      "1178.0\n"
     ]
    }
   ],
   "source": [
    "print np.sum(searchListings['low'])\n",
    "print np.sum(searchListings['high'])"
   ]
  },
  {
   "cell_type": "code",
   "execution_count": 9,
   "metadata": {
    "collapsed": false
   },
   "outputs": [
    {
     "data": {
      "text/html": [
       "<div>\n",
       "<table border=\"1\" class=\"dataframe\">\n",
       "  <thead>\n",
       "    <tr>\n",
       "      <th></th>\n",
       "      <th>sum</th>\n",
       "    </tr>\n",
       "    <tr>\n",
       "      <th></th>\n",
       "      <th>high</th>\n",
       "    </tr>\n",
       "    <tr>\n",
       "      <th>State</th>\n",
       "      <th></th>\n",
       "    </tr>\n",
       "  </thead>\n",
       "  <tbody>\n",
       "    <tr>\n",
       "      <th>CA</th>\n",
       "      <td>935.0</td>\n",
       "    </tr>\n",
       "    <tr>\n",
       "      <th>IL</th>\n",
       "      <td>156.0</td>\n",
       "    </tr>\n",
       "    <tr>\n",
       "      <th>IN</th>\n",
       "      <td>1.0</td>\n",
       "    </tr>\n",
       "    <tr>\n",
       "      <th>KY</th>\n",
       "      <td>4.0</td>\n",
       "    </tr>\n",
       "    <tr>\n",
       "      <th>OH</th>\n",
       "      <td>9.0</td>\n",
       "    </tr>\n",
       "  </tbody>\n",
       "</table>\n",
       "</div>"
      ],
      "text/plain": [
       "         sum\n",
       "        high\n",
       "State       \n",
       "CA     935.0\n",
       "IL     156.0\n",
       "IN       1.0\n",
       "KY       4.0\n",
       "OH       9.0"
      ]
     },
     "execution_count": 9,
     "metadata": {},
     "output_type": "execute_result"
    }
   ],
   "source": [
    "highPivot=pd.pivot_table(searchListings, \n",
    "                    index = ['State',], \n",
    "                        values=['high'], \n",
    "                        aggfunc = [np.sum]).head()\n",
    "lowPivot=pd.pivot_table(searchListings, \n",
    "                    index = ['State',], \n",
    "                        values=['low'], \n",
    "                        aggfunc = [np.sum]).head()\n",
    "highPivot"
   ]
  },
  {
   "cell_type": "code",
   "execution_count": 10,
   "metadata": {
    "collapsed": false
   },
   "outputs": [
    {
     "data": {
      "text/html": [
       "<div>\n",
       "<table border=\"1\" class=\"dataframe\">\n",
       "  <thead>\n",
       "    <tr style=\"text-align: right;\">\n",
       "      <th></th>\n",
       "      <th>sum low</th>\n",
       "      <th>sum high</th>\n",
       "    </tr>\n",
       "    <tr>\n",
       "      <th>State</th>\n",
       "      <th></th>\n",
       "      <th></th>\n",
       "    </tr>\n",
       "  </thead>\n",
       "  <tbody>\n",
       "    <tr>\n",
       "      <th>CA</th>\n",
       "      <td>1195.0</td>\n",
       "      <td>935.0</td>\n",
       "    </tr>\n",
       "    <tr>\n",
       "      <th>IL</th>\n",
       "      <td>394.0</td>\n",
       "      <td>156.0</td>\n",
       "    </tr>\n",
       "    <tr>\n",
       "      <th>IN</th>\n",
       "      <td>1.0</td>\n",
       "      <td>1.0</td>\n",
       "    </tr>\n",
       "    <tr>\n",
       "      <th>KY</th>\n",
       "      <td>11.0</td>\n",
       "      <td>4.0</td>\n",
       "    </tr>\n",
       "    <tr>\n",
       "      <th>OH</th>\n",
       "      <td>14.0</td>\n",
       "      <td>9.0</td>\n",
       "    </tr>\n",
       "  </tbody>\n",
       "</table>\n",
       "</div>"
      ],
      "text/plain": [
       "       sum low  sum high\n",
       "State                   \n",
       "CA      1195.0     935.0\n",
       "IL       394.0     156.0\n",
       "IN         1.0       1.0\n",
       "KY        11.0       4.0\n",
       "OH        14.0       9.0"
      ]
     },
     "execution_count": 10,
     "metadata": {},
     "output_type": "execute_result"
    }
   ],
   "source": [
    "#salaryByState=pd.DataFrame(lowPivot).join(pd.DataFrame(highPivot))\n",
    "#created the table just to get a feel of the data\n",
    "salaryByState=pd.concat([lowPivot, highPivot],axis=1)\n",
    "salaryByState.columns=[' '.join(col).strip() for col in salaryByState.columns.values]\n",
    "salaryByState"
   ]
  },
  {
   "cell_type": "code",
   "execution_count": 21,
   "metadata": {
    "collapsed": false
   },
   "outputs": [
    {
     "data": {
      "text/html": [
       "<div>\n",
       "<table border=\"1\" class=\"dataframe\">\n",
       "  <thead>\n",
       "    <tr style=\"text-align: right;\">\n",
       "      <th></th>\n",
       "      <th>Coefficient</th>\n",
       "      <th>Feature</th>\n",
       "    </tr>\n",
       "  </thead>\n",
       "  <tbody>\n",
       "    <tr>\n",
       "      <th>1</th>\n",
       "      <td>-0.392944</td>\n",
       "      <td>CA</td>\n",
       "    </tr>\n",
       "    <tr>\n",
       "      <th>0</th>\n",
       "      <td>0.284899</td>\n",
       "      <td>IL</td>\n",
       "    </tr>\n",
       "  </tbody>\n",
       "</table>\n",
       "</div>"
      ],
      "text/plain": [
       "   Coefficient Feature\n",
       "1    -0.392944      CA\n",
       "0     0.284899      IL"
      ]
     },
     "execution_count": 21,
     "metadata": {},
     "output_type": "execute_result"
    }
   ],
   "source": [
    "# I removed the midwest states.\n",
    "#note I couldn't even include Dayton since they have NO true data science jobs so sad and yet\n",
    "# a lot of colleges are adding data science programs\n",
    "def examine_coefficients(model, df):\n",
    "    df = pd.DataFrame(\n",
    "        { 'Coefficient' : model.coef_[0] , 'Feature' : df.columns}\n",
    "    ).sort_values(by='Coefficient')\n",
    "    return df[df.Coefficient !=0 ]\n",
    "X=searchListings[['IL','CA']]\n",
    "y=searchListings['low']\n",
    "model = LogisticRegression() \n",
    "\n",
    "model.fit(X, y) # This fits the model to learn the coefficients\n",
    "examine_coefficients(model, X)"
   ]
  },
  {
   "cell_type": "markdown",
   "metadata": {},
   "source": [
    "#Logistic with all states"
   ]
  },
  {
   "cell_type": "code",
   "execution_count": 22,
   "metadata": {
    "collapsed": false
   },
   "outputs": [
    {
     "data": {
      "text/html": [
       "<div>\n",
       "<table border=\"1\" class=\"dataframe\">\n",
       "  <thead>\n",
       "    <tr style=\"text-align: right;\">\n",
       "      <th></th>\n",
       "      <th>Coefficient</th>\n",
       "      <th>Feature</th>\n",
       "    </tr>\n",
       "  </thead>\n",
       "  <tbody>\n",
       "    <tr>\n",
       "      <th>0</th>\n",
       "      <td>-0.284899</td>\n",
       "      <td>IL</td>\n",
       "    </tr>\n",
       "    <tr>\n",
       "      <th>1</th>\n",
       "      <td>0.392944</td>\n",
       "      <td>CA</td>\n",
       "    </tr>\n",
       "  </tbody>\n",
       "</table>\n",
       "</div>"
      ],
      "text/plain": [
       "   Coefficient Feature\n",
       "0    -0.284899      IL\n",
       "1     0.392944      CA"
      ]
     },
     "execution_count": 22,
     "metadata": {},
     "output_type": "execute_result"
    }
   ],
   "source": [
    "#so California has more high paying jobs, Chicago has less\n",
    "def examine_coefficients(model, df):\n",
    "    df = pd.DataFrame(\n",
    "        { 'Coefficient' : model.coef_[0] , 'Feature' : df.columns}\n",
    "    ).sort_values(by='Coefficient')\n",
    "    return df[df.Coefficient !=0 ]\n",
    "X=searchListings[['IL','CA']]\n",
    "y=searchListings['high']\n",
    "model = LogisticRegression() \n",
    "\n",
    "model.fit(X, y) # This fits the model to learn the coefficients\n",
    "examine_coefficients(model, X)"
   ]
  },
  {
   "cell_type": "code",
   "execution_count": 23,
   "metadata": {
    "collapsed": false
   },
   "outputs": [
    {
     "name": "stdout",
     "output_type": "stream",
     "text": [
      "0.598500340832\n"
     ]
    }
   ],
   "source": [
    "print model.score(X,y)"
   ]
  },
  {
   "cell_type": "markdown",
   "metadata": {},
   "source": [
    "# Grid Search for States"
   ]
  },
  {
   "cell_type": "code",
   "execution_count": 24,
   "metadata": {
    "collapsed": false
   },
   "outputs": [
    {
     "name": "stdout",
     "output_type": "stream",
     "text": [
      "Fitting 3 folds for each of 10 candidates, totalling 30 fits\n",
      "[CV] penalty=l1, C=0.1 ...............................................\n",
      "[CV] ...................... penalty=l1, C=0.1, score=0.598570 -   0.0s\n",
      "[CV] penalty=l1, C=0.1 ...............................................\n",
      "[CV] ...................... penalty=l1, C=0.1, score=0.598160 -   0.0s\n",
      "[CV] penalty=l1, C=0.1 ...............................................\n",
      "[CV] ...................... penalty=l1, C=0.1, score=0.598772 -   0.0s\n",
      "[CV] penalty=l2, C=0.1 ...............................................\n",
      "[CV] ...................... penalty=l2, C=0.1, score=0.598570 -   0.0s\n",
      "[CV] penalty=l2, C=0.1 ...............................................\n",
      "[CV] ...................... penalty=l2, C=0.1, score=0.598160 -   0.0s\n",
      "[CV] penalty=l2, C=0.1 ...............................................\n",
      "[CV] ...................... penalty=l2, C=0.1, score=0.598772 -   0.0s\n",
      "[CV] penalty=l1, C=1 .................................................\n",
      "[CV] ........................ penalty=l1, C=1, score=0.598570 -   0.0s\n",
      "[CV] penalty=l1, C=1 .................................................\n",
      "[CV] ........................ penalty=l1, C=1, score=0.598160 -   0.0s\n",
      "[CV] penalty=l1, C=1 .................................................\n",
      "[CV] ........................ penalty=l1, C=1, score=0.598772 -   0.0s\n",
      "[CV] penalty=l2, C=1 .................................................\n",
      "[CV] ........................ penalty=l2, C=1, score=0.598570 -   0.0s\n",
      "[CV] penalty=l2, C=1 .................................................\n",
      "[CV] ........................ penalty=l2, C=1, score=0.598160 -   0.0s\n",
      "[CV] penalty=l2, C=1 .................................................\n",
      "[CV] ........................ penalty=l2, C=1, score=0.598772 -   0.0s\n",
      "[CV] penalty=l1, C=10 ................................................\n",
      "[CV] ....................... penalty=l1, C=10, score=0.598570 -   0.1s\n",
      "[CV] penalty=l1, C=10 ................................................\n",
      "[CV] ....................... penalty=l1, C=10, score=0.598160 -   0.0s\n",
      "[CV] penalty=l1, C=10 ................................................\n",
      "[CV] ....................... penalty=l1, C=10, score=0.598772 -   0.0s\n",
      "[CV] penalty=l2, C=10 ................................................\n"
     ]
    },
    {
     "name": "stderr",
     "output_type": "stream",
     "text": [
      "[Parallel(n_jobs=1)]: Done   1 tasks       | elapsed:    0.0s\n",
      "[Parallel(n_jobs=1)]: Done   4 tasks       | elapsed:    0.0s\n",
      "[Parallel(n_jobs=1)]: Done   7 tasks       | elapsed:    0.1s\n",
      "[Parallel(n_jobs=1)]: Done  12 tasks       | elapsed:    0.1s\n"
     ]
    },
    {
     "name": "stdout",
     "output_type": "stream",
     "text": [
      "[CV] ....................... penalty=l2, C=10, score=0.598570 -   0.0s\n",
      "[CV] penalty=l2, C=10 ................................................\n",
      "[CV] ....................... penalty=l2, C=10, score=0.598160 -   0.0s\n",
      "[CV] penalty=l2, C=10 ................................................\n",
      "[CV] ....................... penalty=l2, C=10, score=0.598772 -   0.0s\n",
      "[CV] penalty=l1, C=23.5 ..............................................\n",
      "[CV] ..................... penalty=l1, C=23.5, score=0.598570 -   0.1s\n",
      "[CV] penalty=l1, C=23.5 ..............................................\n",
      "[CV] ..................... penalty=l1, C=23.5, score=0.598160 -   0.0s\n",
      "[CV] penalty=l1, C=23.5 ..............................................\n",
      "[CV] ..................... penalty=l1, C=23.5, score=0.598772 -   0.0s\n",
      "[CV] penalty=l2, C=23.5 ..............................................\n",
      "[CV] ..................... penalty=l2, C=23.5, score=0.598570 -   0.0s\n",
      "[CV] penalty=l2, C=23.5 ..............................................\n",
      "[CV] ..................... penalty=l2, C=23.5, score=0.598160 -   0.0s\n",
      "[CV] penalty=l2, C=23.5 ..............................................\n",
      "[CV] ..................... penalty=l2, C=23.5, score=0.598772 -   0.0s\n",
      "[CV] penalty=l1, C=50 ................................................\n"
     ]
    },
    {
     "name": "stderr",
     "output_type": "stream",
     "text": [
      "[Parallel(n_jobs=1)]: Done  17 tasks       | elapsed:    0.2s\n",
      "[Parallel(n_jobs=1)]: Done  24 tasks       | elapsed:    0.4s\n"
     ]
    },
    {
     "name": "stdout",
     "output_type": "stream",
     "text": [
      "[CV] ....................... penalty=l1, C=50, score=0.598570 -   0.2s\n",
      "[CV] penalty=l1, C=50 ................................................\n",
      "[CV] ....................... penalty=l1, C=50, score=0.598160 -   0.0s\n",
      "[CV] penalty=l1, C=50 ................................................\n",
      "[CV] ....................... penalty=l1, C=50, score=0.598772 -   0.0s\n",
      "[CV] penalty=l2, C=50 ................................................\n",
      "[CV] ....................... penalty=l2, C=50, score=0.598570 -   0.0s\n",
      "[CV] penalty=l2, C=50 ................................................\n",
      "[CV] ....................... penalty=l2, C=50, score=0.598160 -   0.0s\n",
      "[CV] penalty=l2, C=50 ................................................\n",
      "[CV] ....................... penalty=l2, C=50, score=0.598772 -   0.0s\n"
     ]
    },
    {
     "name": "stderr",
     "output_type": "stream",
     "text": [
      "[Parallel(n_jobs=1)]: Done  30 out of  30 | elapsed:    0.6s finished\n"
     ]
    },
    {
     "data": {
      "text/plain": [
       "GridSearchCV(cv=None, error_score='raise',\n",
       "       estimator=LogisticRegression(C=1.0, class_weight=None, dual=False, fit_intercept=True,\n",
       "          intercept_scaling=1, max_iter=100, multi_class='ovr', n_jobs=1,\n",
       "          penalty='l2', random_state=None, solver='liblinear', tol=0.0001,\n",
       "          verbose=0, warm_start=False),\n",
       "       fit_params={}, iid=True, n_jobs=1,\n",
       "       param_grid={'penalty': ['l1', 'l2'], 'C': [0.1, 1, 10, 23.5, 50]},\n",
       "       pre_dispatch='2*n_jobs', refit=True, scoring=None, verbose=10)"
      ]
     },
     "execution_count": 24,
     "metadata": {},
     "output_type": "execute_result"
    }
   ],
   "source": [
    "paramerters={\n",
    "    'penalty':['l1','l2'],\n",
    "    'C':[0.1,1,10,23.5,50]}\n",
    "\n",
    "modelAmTesting=LogisticRegression()\n",
    "grid_search = GridSearchCV(estimator=modelAmTesting, param_grid=paramerters,verbose=10)\n",
    "grid_search.fit(X,y)"
   ]
  },
  {
   "cell_type": "code",
   "execution_count": 25,
   "metadata": {
    "collapsed": false
   },
   "outputs": [
    {
     "name": "stdout",
     "output_type": "stream",
     "text": [
      "0.598500340832\n"
     ]
    }
   ],
   "source": [
    "print grid_search.best_score_\n",
    "#accuracy percent that the data set we fed into that it predicted correctly"
   ]
  },
  {
   "cell_type": "code",
   "execution_count": 26,
   "metadata": {
    "collapsed": false
   },
   "outputs": [
    {
     "data": {
      "text/plain": [
       "array([[1756,    0],\n",
       "       [1178,    0]])"
      ]
     },
     "execution_count": 26,
     "metadata": {},
     "output_type": "execute_result"
    }
   ],
   "source": [
    "predictions=grid_search.best_estimator_.predict(X)\n",
    "confusion_matrix(y, predictions)"
   ]
  },
  {
   "cell_type": "code",
   "execution_count": 27,
   "metadata": {
    "collapsed": false
   },
   "outputs": [
    {
     "name": "stdout",
     "output_type": "stream",
     "text": [
      "             precision    recall  f1-score   support\n",
      "\n",
      "        0.0       0.60      1.00      0.75      1756\n",
      "        1.0       0.00      0.00      0.00      1178\n",
      "\n",
      "avg / total       0.36      0.60      0.45      2934\n",
      "\n"
     ]
    }
   ],
   "source": [
    "print classification_report(y, predictions)"
   ]
  },
  {
   "cell_type": "code",
   "execution_count": 28,
   "metadata": {
    "collapsed": false
   },
   "outputs": [
    {
     "data": {
      "text/plain": [
       "<matplotlib.axes._subplots.AxesSubplot at 0x11b3868d0>"
      ]
     },
     "execution_count": 28,
     "metadata": {},
     "output_type": "execute_result"
    },
    {
     "data": {
      "image/png": "[encoded data removed]",
      "text/plain": [
       "<matplotlib.figure.Figure at 0x11b363f90>"
      ]
     },
     "metadata": {},
     "output_type": "display_data"
    }
   ],
   "source": [
    "sb.heatmap(confusion_matrix(y,predictions),annot=True)"
   ]
  },
  {
   "cell_type": "markdown",
   "metadata": {},
   "source": [
    "# I am not going to pursue the states. I am moving on to words\n",
    "I am going to look a words in job title"
   ]
  },
  {
   "cell_type": "code",
   "execution_count": 37,
   "metadata": {
    "collapsed": false
   },
   "outputs": [],
   "source": [
    "#Creating dummies from job title. If I had time I would also do the job summary and \n",
    "#compare the two\n",
    "v = CountVectorizer(\n",
    "    binary=True,  # Create binary features\n",
    "    stop_words='english', # Ignore common words such as 'the', 'and'\n",
    "    max_features=30, # Only use the top 50 most common words\n",
    ")\n",
    "#This builds a matrix with a row per website (or data point) and column per word (using all words in the dataset)\n",
    "wordsJobTitle = v.fit_transform(searchListings['Job Title']).todense()     #no difference between data.title and data['title]\n",
    "wordsJobTitle = pd.DataFrame(wordsJobTitle, columns=v.get_feature_names())\n"
   ]
  },
  {
   "cell_type": "code",
   "execution_count": 38,
   "metadata": {
    "collapsed": false
   },
   "outputs": [
    {
     "name": "stdout",
     "output_type": "stream",
     "text": [
      "scientist         1055\n",
      "data              1015\n",
      "engineer           647\n",
      "senior             603\n",
      "manager            349\n",
      "software           310\n",
      "analyst            233\n",
      "research           231\n",
      "sr                 217\n",
      "learning           200\n",
      "machine            197\n",
      "product            157\n",
      "director           146\n",
      "analytics          136\n",
      "science            114\n",
      "lead               108\n",
      "associate           96\n",
      "developer           86\n",
      "development         85\n",
      "statistical         81\n",
      "engineering         77\n",
      "principal           76\n",
      "quantitative        67\n",
      "staff               64\n",
      "clinical            50\n",
      "business            50\n",
      "big                 47\n",
      "platform            46\n",
      "bioinformatics      46\n",
      "architect           46\n",
      "dtype: int64\n"
     ]
    }
   ],
   "source": [
    "print wordsJobTitle.sum().sort_values(ascending=False)\n"
   ]
  },
  {
   "cell_type": "code",
   "execution_count": 39,
   "metadata": {
    "collapsed": true
   },
   "outputs": [],
   "source": [
    "# joining the master file with the words in job title\n",
    "#I am doing this just in case I want to do words in the description\n",
    "listingsJobTitle=pd.DataFrame(searchListings).join(pd.DataFrame(wordsJobTitle))"
   ]
  },
  {
   "cell_type": "code",
   "execution_count": 40,
   "metadata": {
    "collapsed": false
   },
   "outputs": [
    {
     "data": {
      "text/html": [
       "<div>\n",
       "<table border=\"1\" class=\"dataframe\">\n",
       "  <thead>\n",
       "    <tr style=\"text-align: right;\">\n",
       "      <th></th>\n",
       "      <th>Unnamed: 0</th>\n",
       "      <th>City Location</th>\n",
       "      <th>Company Name</th>\n",
       "      <th>Description</th>\n",
       "      <th>Job Title</th>\n",
       "      <th>Salary Level</th>\n",
       "      <th>Search Criteria</th>\n",
       "      <th>City</th>\n",
       "      <th>State Zip</th>\n",
       "      <th>blank</th>\n",
       "      <th>State</th>\n",
       "      <th>Zip</th>\n",
       "      <th>high</th>\n",
       "      <th>low</th>\n",
       "      <th>CA</th>\n",
       "      <th>IL</th>\n",
       "      <th>IN</th>\n",
       "      <th>KY</th>\n",
       "      <th>OH</th>\n",
       "      <th>TX</th>\n",
       "      <th>analyst</th>\n",
       "      <th>analytics</th>\n",
       "      <th>architect</th>\n",
       "      <th>associate</th>\n",
       "      <th>big</th>\n",
       "      <th>bioinformatics</th>\n",
       "      <th>business</th>\n",
       "      <th>clinical</th>\n",
       "      <th>data</th>\n",
       "      <th>developer</th>\n",
       "      <th>development</th>\n",
       "      <th>director</th>\n",
       "      <th>engineer</th>\n",
       "      <th>engineering</th>\n",
       "      <th>lead</th>\n",
       "      <th>learning</th>\n",
       "      <th>machine</th>\n",
       "      <th>manager</th>\n",
       "      <th>platform</th>\n",
       "      <th>principal</th>\n",
       "      <th>product</th>\n",
       "      <th>quantitative</th>\n",
       "      <th>research</th>\n",
       "      <th>science</th>\n",
       "      <th>scientist</th>\n",
       "      <th>senior</th>\n",
       "      <th>software</th>\n",
       "      <th>sr</th>\n",
       "      <th>staff</th>\n",
       "      <th>statistical</th>\n",
       "    </tr>\n",
       "  </thead>\n",
       "  <tbody>\n",
       "    <tr>\n",
       "      <th>0</th>\n",
       "      <td>2</td>\n",
       "      <td>Chicago, IL 60606</td>\n",
       "      <td>Purohit Navigation</td>\n",
       "      <td>Assist with data QC process on an ad hoc basis. We offer thoughtful research design, expertly executed data collection, and actionable research insights to...</td>\n",
       "      <td>Market Research Analyst</td>\n",
       "      <td>low</td>\n",
       "      <td>data scientist</td>\n",
       "      <td>Chicago</td>\n",
       "      <td>IL 60606</td>\n",
       "      <td>NaN</td>\n",
       "      <td>IL</td>\n",
       "      <td>60606</td>\n",
       "      <td>0.0</td>\n",
       "      <td>1.0</td>\n",
       "      <td>0.0</td>\n",
       "      <td>1.0</td>\n",
       "      <td>0.0</td>\n",
       "      <td>0.0</td>\n",
       "      <td>0.0</td>\n",
       "      <td>0.0</td>\n",
       "      <td>1</td>\n",
       "      <td>0</td>\n",
       "      <td>0</td>\n",
       "      <td>0</td>\n",
       "      <td>0</td>\n",
       "      <td>0</td>\n",
       "      <td>0</td>\n",
       "      <td>0</td>\n",
       "      <td>0</td>\n",
       "      <td>0</td>\n",
       "      <td>0</td>\n",
       "      <td>0</td>\n",
       "      <td>0</td>\n",
       "      <td>0</td>\n",
       "      <td>0</td>\n",
       "      <td>0</td>\n",
       "      <td>0</td>\n",
       "      <td>0</td>\n",
       "      <td>0</td>\n",
       "      <td>0</td>\n",
       "      <td>0</td>\n",
       "      <td>0</td>\n",
       "      <td>1</td>\n",
       "      <td>0</td>\n",
       "      <td>0</td>\n",
       "      <td>0</td>\n",
       "      <td>0</td>\n",
       "      <td>0</td>\n",
       "      <td>0</td>\n",
       "      <td>0</td>\n",
       "    </tr>\n",
       "  </tbody>\n",
       "</table>\n",
       "</div>"
      ],
      "text/plain": [
       "   Unnamed: 0      City Location        Company Name  \\\n",
       "0           2  Chicago, IL 60606  Purohit Navigation   \n",
       "\n",
       "                                                                                                                                                      Description  \\\n",
       "0  Assist with data QC process on an ad hoc basis. We offer thoughtful research design, expertly executed data collection, and actionable research insights to...   \n",
       "\n",
       "                 Job Title Salary Level Search Criteria     City  State Zip  \\\n",
       "0  Market Research Analyst          low  data scientist  Chicago   IL 60606   \n",
       "\n",
       "   blank State    Zip  high  low   CA   IL   IN   KY   OH   TX  analyst  \\\n",
       "0    NaN    IL  60606   0.0  1.0  0.0  1.0  0.0  0.0  0.0  0.0        1   \n",
       "\n",
       "   analytics  architect  associate  big  bioinformatics  business  clinical  \\\n",
       "0          0          0          0    0               0         0         0   \n",
       "\n",
       "   data  developer  development  director  engineer  engineering  lead  \\\n",
       "0     0          0            0         0         0            0     0   \n",
       "\n",
       "   learning  machine  manager  platform  principal  product  quantitative  \\\n",
       "0         0        0        0         0          0        0             0   \n",
       "\n",
       "   research  science  scientist  senior  software  sr  staff  statistical  \n",
       "0         1        0          0       0         0   0      0            0  "
      ]
     },
     "execution_count": 40,
     "metadata": {},
     "output_type": "execute_result"
    }
   ],
   "source": [
    "listingsJobTitle.head(1)"
   ]
  },
  {
   "cell_type": "code",
   "execution_count": 41,
   "metadata": {
    "collapsed": false
   },
   "outputs": [
    {
     "data": {
      "text/plain": [
       "Index([u'analyst', u'analytics', u'architect', u'associate', u'big',\n",
       "       u'bioinformatics', u'business', u'clinical', u'data', u'developer',\n",
       "       u'development', u'director', u'engineer', u'engineering', u'lead',\n",
       "       u'learning', u'machine', u'manager', u'platform', u'principal',\n",
       "       u'product', u'quantitative', u'research', u'science', u'scientist',\n",
       "       u'senior', u'software', u'sr', u'staff', u'statistical'],\n",
       "      dtype='object')"
      ]
     },
     "execution_count": 41,
     "metadata": {},
     "output_type": "execute_result"
    }
   ],
   "source": [
    "wordsJobTitle.columns"
   ]
  },
  {
   "cell_type": "code",
   "execution_count": 90,
   "metadata": {
    "collapsed": true
   },
   "outputs": [],
   "source": [
    "#from my experience with companies in the Dayton region (I visit over 100 companies a year)\n",
    "#that 'lead','senior','director' are higher paid\n",
    "def examine_coefficients(model, df):\n",
    "    df = pd.DataFrame(\n",
    "        { 'Coefficient' : model.coef_[0] , 'Feature' : df.columns}\n",
    "    ).sort_values(by='Coefficient')\n",
    "    return df[df.Coefficient !=0 ]\n",
    "y=listingsJobTitle['high']\n",
    "X=wordsJobTitle[['lead','senior','director']]"
   ]
  },
  {
   "cell_type": "code",
   "execution_count": 91,
   "metadata": {
    "collapsed": false
   },
   "outputs": [
    {
     "data": {
      "text/html": [
       "<div>\n",
       "<table border=\"1\" class=\"dataframe\">\n",
       "  <thead>\n",
       "    <tr style=\"text-align: right;\">\n",
       "      <th></th>\n",
       "      <th>Coefficient</th>\n",
       "      <th>Feature</th>\n",
       "    </tr>\n",
       "  </thead>\n",
       "  <tbody>\n",
       "    <tr>\n",
       "      <th>1</th>\n",
       "      <td>0.326278</td>\n",
       "      <td>senior</td>\n",
       "    </tr>\n",
       "    <tr>\n",
       "      <th>0</th>\n",
       "      <td>0.451096</td>\n",
       "      <td>lead</td>\n",
       "    </tr>\n",
       "    <tr>\n",
       "      <th>2</th>\n",
       "      <td>0.815006</td>\n",
       "      <td>director</td>\n",
       "    </tr>\n",
       "  </tbody>\n",
       "</table>\n",
       "</div>"
      ],
      "text/plain": [
       "   Coefficient   Feature\n",
       "1     0.326278    senior\n",
       "0     0.451096      lead\n",
       "2     0.815006  director"
      ]
     },
     "execution_count": 91,
     "metadata": {},
     "output_type": "execute_result"
    }
   ],
   "source": [
    "model = LogisticRegression() \n",
    "\n",
    "model.fit(X, y) # This fits the model to learn the coefficients\n",
    "examine_coefficients(model, X)\n",
    "#wow now we are talking numbers lets do a grid search"
   ]
  },
  {
   "cell_type": "code",
   "execution_count": 92,
   "metadata": {
    "collapsed": false
   },
   "outputs": [
    {
     "name": "stdout",
     "output_type": "stream",
     "text": [
      "Fitting 3 folds for each of 10 candidates, totalling 30 fits\n",
      "[CV] penalty=l1, C=0.1 ...............................................\n",
      "[CV] ...................... penalty=l1, C=0.1, score=0.593463 -   0.0s\n",
      "[CV] penalty=l1, C=0.1 ...............................................\n",
      "[CV] ...................... penalty=l1, C=0.1, score=0.600204 -   0.0s\n",
      "[CV] penalty=l1, C=0.1 ...............................................\n",
      "[CV] ...................... penalty=l1, C=0.1, score=0.598772 -   0.0s\n",
      "[CV] penalty=l2, C=0.1 ...............................................\n",
      "[CV] ...................... penalty=l2, C=0.1, score=0.593463 -   0.0s\n",
      "[CV] penalty=l2, C=0.1 ...............................................\n",
      "[CV] ...................... penalty=l2, C=0.1, score=0.605317 -   0.0s\n",
      "[CV] penalty=l2, C=0.1 ...............................................\n",
      "[CV] ...................... penalty=l2, C=0.1, score=0.607984 -   0.0s\n",
      "[CV] penalty=l1, C=1 .................................................\n",
      "[CV] ........................ penalty=l1, C=1, score=0.593463 -   0.0s\n",
      "[CV] penalty=l1, C=1 .................................................\n",
      "[CV] ........................ penalty=l1, C=1, score=0.605317 -   0.0s\n",
      "[CV] penalty=l1, C=1 .................................................\n",
      "[CV] ........................ penalty=l1, C=1, score=0.606960 -   0.0s\n",
      "[CV] penalty=l2, C=1 .................................................\n",
      "[CV] ........................ penalty=l2, C=1, score=0.593463 -   0.0s\n",
      "[CV] penalty=l2, C=1 .................................................\n",
      "[CV] ........................ penalty=l2, C=1, score=0.605317 -   0.0s\n",
      "[CV] penalty=l2, C=1 .................................................\n",
      "[CV] ........................ penalty=l2, C=1, score=0.622313 -   0.0s\n",
      "[CV] penalty=l1, C=10 ................................................\n",
      "[CV] ....................... penalty=l1, C=10, score=0.593463 -   0.0s\n",
      "[CV] penalty=l1, C=10 ................................................\n",
      "[CV] ....................... penalty=l1, C=10, score=0.602249 -   0.0s\n",
      "[CV] penalty=l1, C=10 ................................................\n",
      "[CV] ....................... penalty=l1, C=10, score=0.622313 -   0.0s\n",
      "[CV] penalty=l2, C=10 ................................................\n",
      "[CV] ....................... penalty=l2, C=10, score=0.593463 -   0.0s\n",
      "[CV] penalty=l2, C=10 ................................................\n",
      "[CV] ....................... penalty=l2, C=10, score=0.602249 -   0.0s\n",
      "[CV] penalty=l2, C=10 ................................................\n",
      "[CV] ....................... penalty=l2, C=10, score=0.622313 -   0.0s\n",
      "[CV] penalty=l1, C=23.5 ..............................................\n",
      "[CV] ..................... penalty=l1, C=23.5, score=0.593463 -   0.0s\n",
      "[CV] penalty=l1, C=23.5 ..............................................\n",
      "[CV] ..................... penalty=l1, C=23.5, score=0.602249 -   0.0s\n",
      "[CV] penalty=l1, C=23.5 ..............................................\n",
      "[CV] ..................... penalty=l1, C=23.5, score=0.622313 -   0.0s\n",
      "[CV] penalty=l2, C=23.5 ..............................................\n",
      "[CV] ..................... penalty=l2, C=23.5, score=0.593463 -   0.0s\n",
      "[CV] penalty=l2, C=23.5 ..............................................\n",
      "[CV] ..................... penalty=l2, C=23.5, score=0.602249 -   0.0s\n",
      "[CV] penalty=l2, C=23.5 ..............................................\n",
      "[CV] ..................... penalty=l2, C=23.5, score=0.622313 -   0.0s\n",
      "[CV] penalty=l1, C=50 ................................................\n",
      "[CV] ....................... penalty=l1, C=50, score=0.593463 -   0.0s\n",
      "[CV] penalty=l1, C=50 ................................................\n",
      "[CV] ....................... penalty=l1, C=50, score=0.602249 -   0.0s\n",
      "[CV] penalty=l1, C=50 ................................................\n"
     ]
    },
    {
     "name": "stderr",
     "output_type": "stream",
     "text": [
      "[Parallel(n_jobs=1)]: Done   1 tasks       | elapsed:    0.0s\n",
      "[Parallel(n_jobs=1)]: Done   4 tasks       | elapsed:    0.0s\n",
      "[Parallel(n_jobs=1)]: Done   7 tasks       | elapsed:    0.1s\n",
      "[Parallel(n_jobs=1)]: Done  12 tasks       | elapsed:    0.1s\n",
      "[Parallel(n_jobs=1)]: Done  17 tasks       | elapsed:    0.1s\n",
      "[Parallel(n_jobs=1)]: Done  24 tasks       | elapsed:    0.2s\n"
     ]
    },
    {
     "name": "stdout",
     "output_type": "stream",
     "text": [
      "[CV] ....................... penalty=l1, C=50, score=0.622313 -   0.0s\n",
      "[CV] penalty=l2, C=50 ................................................\n",
      "[CV] ....................... penalty=l2, C=50, score=0.593463 -   0.0s\n",
      "[CV] penalty=l2, C=50 ................................................\n",
      "[CV] ....................... penalty=l2, C=50, score=0.602249 -   0.0s\n",
      "[CV] penalty=l2, C=50 ................................................\n",
      "[CV] ....................... penalty=l2, C=50, score=0.622313 -   0.0s\n"
     ]
    },
    {
     "name": "stderr",
     "output_type": "stream",
     "text": [
      "[Parallel(n_jobs=1)]: Done  30 out of  30 | elapsed:    0.2s finished\n"
     ]
    },
    {
     "data": {
      "text/plain": [
       "GridSearchCV(cv=None, error_score='raise',\n",
       "       estimator=LogisticRegression(C=1.0, class_weight=None, dual=False, fit_intercept=True,\n",
       "          intercept_scaling=1, max_iter=100, multi_class='ovr', n_jobs=1,\n",
       "          penalty='l2', random_state=None, solver='liblinear', tol=0.0001,\n",
       "          verbose=0, warm_start=False),\n",
       "       fit_params={}, iid=True, n_jobs=1,\n",
       "       param_grid={'penalty': ['l1', 'l2'], 'C': [0.1, 1, 10, 23.5, 50]},\n",
       "       pre_dispatch='2*n_jobs', refit=True, scoring=None, verbose=10)"
      ]
     },
     "execution_count": 92,
     "metadata": {},
     "output_type": "execute_result"
    }
   ],
   "source": [
    "#looking at Ridge and Lasso\n",
    "paramerters={\n",
    "    'penalty':['l1','l2'],\n",
    "    'C':[0.1,1,10,23.5,50]}\n",
    "\n",
    "modelAmTesting=LogisticRegression()\n",
    "grid_search = GridSearchCV(estimator=modelAmTesting, param_grid=paramerters, verbose=10)\n",
    "grid_search\n",
    "grid_search.fit(X,y)"
   ]
  },
  {
   "cell_type": "code",
   "execution_count": 95,
   "metadata": {
    "collapsed": false
   },
   "outputs": [
    {
     "name": "stdout",
     "output_type": "stream",
     "text": [
      "0.607021131561\n"
     ]
    }
   ],
   "source": [
    "print grid_search.best_score_"
   ]
  },
  {
   "cell_type": "code",
   "execution_count": 96,
   "metadata": {
    "collapsed": true
   },
   "outputs": [],
   "source": [
    "predictions=grid_search.best_estimator_.predict(X)"
   ]
  },
  {
   "cell_type": "code",
   "execution_count": 102,
   "metadata": {
    "collapsed": false
   },
   "outputs": [
    {
     "data": {
      "text/html": [
       "<div>\n",
       "<table border=\"1\" class=\"dataframe\">\n",
       "  <thead>\n",
       "    <tr style=\"text-align: right;\">\n",
       "      <th></th>\n",
       "      <th>predicted_high</th>\n",
       "      <th>predicted_low</th>\n",
       "    </tr>\n",
       "  </thead>\n",
       "  <tbody>\n",
       "    <tr>\n",
       "      <th>Listing is High</th>\n",
       "      <td>1692</td>\n",
       "      <td>64</td>\n",
       "    </tr>\n",
       "    <tr>\n",
       "      <th>Listing is Low</th>\n",
       "      <td>1089</td>\n",
       "      <td>89</td>\n",
       "    </tr>\n",
       "  </tbody>\n",
       "</table>\n",
       "</div>"
      ],
      "text/plain": [
       "                 predicted_high  predicted_low\n",
       "Listing is High            1692             64\n",
       "Listing is Low             1089             89"
      ]
     },
     "execution_count": 102,
     "metadata": {},
     "output_type": "execute_result"
    }
   ],
   "source": [
    "confusion_matrix(y, predictions)\n",
    "conmat = np.array(confusion_matrix(y, predictions))\n",
    "confusion=pd.DataFrame(conmat, index=['Listing is High','Listing is Low'],\n",
    "                      columns=['predicted_high','predicted_low'])\n",
    "confusion "
   ]
  },
  {
   "cell_type": "code",
   "execution_count": 97,
   "metadata": {
    "collapsed": false
   },
   "outputs": [
    {
     "name": "stdout",
     "output_type": "stream",
     "text": [
      "             precision    recall  f1-score   support\n",
      "\n",
      "        0.0       0.61      0.96      0.75      1756\n",
      "        1.0       0.58      0.08      0.13      1178\n",
      "\n",
      "avg / total       0.60      0.61      0.50      2934\n",
      "\n"
     ]
    }
   ],
   "source": [
    "print classification_report(y, predictions)"
   ]
  },
  {
   "cell_type": "code",
   "execution_count": 98,
   "metadata": {
    "collapsed": false
   },
   "outputs": [
    {
     "data": {
      "text/plain": [
       "<matplotlib.axes._subplots.AxesSubplot at 0x11bcbc2d0>"
      ]
     },
     "execution_count": 98,
     "metadata": {},
     "output_type": "execute_result"
    },
    {
     "data": {
      "image/png": "[encoded data removed]",
      "text/plain": [
       "<matplotlib.figure.Figure at 0x11ba97250>"
      ]
     },
     "metadata": {},
     "output_type": "display_data"
    }
   ],
   "source": [
    "sb.heatmap(confusion_matrix(y,predictions),annot=True)"
   ]
  },
  {
   "cell_type": "code",
   "execution_count": null,
   "metadata": {
    "collapsed": true
   },
   "outputs": [],
   "source": []
  },
  {
   "cell_type": "code",
   "execution_count": null,
   "metadata": {
    "collapsed": true
   },
   "outputs": [],
   "source": []
  },
  {
   "cell_type": "code",
   "execution_count": null,
   "metadata": {
    "collapsed": true
   },
   "outputs": [],
   "source": []
  },
  {
   "cell_type": "code",
   "execution_count": null,
   "metadata": {
    "collapsed": true
   },
   "outputs": [],
   "source": []
  },
  {
   "cell_type": "code",
   "execution_count": 45,
   "metadata": {
    "collapsed": true
   },
   "outputs": [],
   "source": [
    "#lets go for it and look at all variables\n",
    "X=wordsJobTitle[[\n",
    "'analyst', u'analytics', 'architect', 'associate', 'big',\n",
    "       'bioinformatics', 'business', 'clinical', 'data', 'developer',\n",
    "       'development', 'director', 'engineer', 'engineering', 'lead',\n",
    "       'learning', 'machine', 'manager', 'platform', 'principal',\n",
    "       'product', 'quantitative', 'research', 'science', 'scientist',\n",
    "       'senior', 'software', 'sr', 'staff', 'statistical']]\n"
   ]
  },
  {
   "cell_type": "code",
   "execution_count": 49,
   "metadata": {
    "collapsed": false
   },
   "outputs": [
    {
     "name": "stdout",
     "output_type": "stream",
     "text": [
      "(2934, 30)\n",
      "(2934,)\n"
     ]
    }
   ],
   "source": [
    "print X.shape\n",
    "print y.shape"
   ]
  },
  {
   "cell_type": "code",
   "execution_count": 54,
   "metadata": {
    "collapsed": true
   },
   "outputs": [],
   "source": [
    "def examine_coefficients(model, df):\n",
    "    df = pd.DataFrame(\n",
    "        { 'Coefficient' : model.coef_[0] , 'Feature' : df.columns}\n",
    "    ).sort_values(by='Coefficient')\n",
    "    return df[df.Coefficient !=0 ]\n",
    "y=listingsJobTitle['high']\n",
    "X=wordsJobTitle[['analyst', 'analytics', 'architect', 'associate', 'big',\n",
    "       'bioinformatics', 'business', 'clinical', 'data', 'developer',\n",
    "       'development', 'director', 'engineer', 'engineering', 'lead',\n",
    "       'learning', 'machine', 'manager', 'platform', 'principal',\n",
    "       'product', 'quantitative', 'research', 'science', 'scientist',\n",
    "       'senior', 'software', 'sr', 'staff', 'statistical']]"
   ]
  },
  {
   "cell_type": "code",
   "execution_count": 51,
   "metadata": {
    "collapsed": false
   },
   "outputs": [
    {
     "data": {
      "text/html": [
       "<div>\n",
       "<table border=\"1\" class=\"dataframe\">\n",
       "  <thead>\n",
       "    <tr style=\"text-align: right;\">\n",
       "      <th></th>\n",
       "      <th>Coefficient</th>\n",
       "      <th>Feature</th>\n",
       "    </tr>\n",
       "  </thead>\n",
       "  <tbody>\n",
       "    <tr>\n",
       "      <th>3</th>\n",
       "      <td>-0.739300</td>\n",
       "      <td>associate</td>\n",
       "    </tr>\n",
       "    <tr>\n",
       "      <th>22</th>\n",
       "      <td>-0.715667</td>\n",
       "      <td>research</td>\n",
       "    </tr>\n",
       "    <tr>\n",
       "      <th>0</th>\n",
       "      <td>-0.556808</td>\n",
       "      <td>analyst</td>\n",
       "    </tr>\n",
       "    <tr>\n",
       "      <th>29</th>\n",
       "      <td>-0.446095</td>\n",
       "      <td>statistical</td>\n",
       "    </tr>\n",
       "    <tr>\n",
       "      <th>23</th>\n",
       "      <td>-0.003071</td>\n",
       "      <td>science</td>\n",
       "    </tr>\n",
       "    <tr>\n",
       "      <th>15</th>\n",
       "      <td>0.043920</td>\n",
       "      <td>learning</td>\n",
       "    </tr>\n",
       "    <tr>\n",
       "      <th>1</th>\n",
       "      <td>0.049465</td>\n",
       "      <td>analytics</td>\n",
       "    </tr>\n",
       "    <tr>\n",
       "      <th>26</th>\n",
       "      <td>0.083912</td>\n",
       "      <td>software</td>\n",
       "    </tr>\n",
       "    <tr>\n",
       "      <th>13</th>\n",
       "      <td>0.089672</td>\n",
       "      <td>engineering</td>\n",
       "    </tr>\n",
       "    <tr>\n",
       "      <th>10</th>\n",
       "      <td>0.142905</td>\n",
       "      <td>development</td>\n",
       "    </tr>\n",
       "    <tr>\n",
       "      <th>24</th>\n",
       "      <td>0.157554</td>\n",
       "      <td>scientist</td>\n",
       "    </tr>\n",
       "    <tr>\n",
       "      <th>16</th>\n",
       "      <td>0.174044</td>\n",
       "      <td>machine</td>\n",
       "    </tr>\n",
       "    <tr>\n",
       "      <th>4</th>\n",
       "      <td>0.184742</td>\n",
       "      <td>big</td>\n",
       "    </tr>\n",
       "    <tr>\n",
       "      <th>6</th>\n",
       "      <td>0.186637</td>\n",
       "      <td>business</td>\n",
       "    </tr>\n",
       "    <tr>\n",
       "      <th>9</th>\n",
       "      <td>0.210521</td>\n",
       "      <td>developer</td>\n",
       "    </tr>\n",
       "    <tr>\n",
       "      <th>7</th>\n",
       "      <td>0.214050</td>\n",
       "      <td>clinical</td>\n",
       "    </tr>\n",
       "    <tr>\n",
       "      <th>28</th>\n",
       "      <td>0.225592</td>\n",
       "      <td>staff</td>\n",
       "    </tr>\n",
       "    <tr>\n",
       "      <th>8</th>\n",
       "      <td>0.243761</td>\n",
       "      <td>data</td>\n",
       "    </tr>\n",
       "    <tr>\n",
       "      <th>5</th>\n",
       "      <td>0.261236</td>\n",
       "      <td>bioinformatics</td>\n",
       "    </tr>\n",
       "    <tr>\n",
       "      <th>27</th>\n",
       "      <td>0.354254</td>\n",
       "      <td>sr</td>\n",
       "    </tr>\n",
       "    <tr>\n",
       "      <th>18</th>\n",
       "      <td>0.356318</td>\n",
       "      <td>platform</td>\n",
       "    </tr>\n",
       "    <tr>\n",
       "      <th>25</th>\n",
       "      <td>0.369745</td>\n",
       "      <td>senior</td>\n",
       "    </tr>\n",
       "    <tr>\n",
       "      <th>20</th>\n",
       "      <td>0.373219</td>\n",
       "      <td>product</td>\n",
       "    </tr>\n",
       "    <tr>\n",
       "      <th>17</th>\n",
       "      <td>0.377958</td>\n",
       "      <td>manager</td>\n",
       "    </tr>\n",
       "    <tr>\n",
       "      <th>14</th>\n",
       "      <td>0.467571</td>\n",
       "      <td>lead</td>\n",
       "    </tr>\n",
       "    <tr>\n",
       "      <th>19</th>\n",
       "      <td>0.492621</td>\n",
       "      <td>principal</td>\n",
       "    </tr>\n",
       "    <tr>\n",
       "      <th>12</th>\n",
       "      <td>0.637255</td>\n",
       "      <td>engineer</td>\n",
       "    </tr>\n",
       "    <tr>\n",
       "      <th>2</th>\n",
       "      <td>0.661729</td>\n",
       "      <td>architect</td>\n",
       "    </tr>\n",
       "    <tr>\n",
       "      <th>21</th>\n",
       "      <td>0.704546</td>\n",
       "      <td>quantitative</td>\n",
       "    </tr>\n",
       "    <tr>\n",
       "      <th>11</th>\n",
       "      <td>1.204519</td>\n",
       "      <td>director</td>\n",
       "    </tr>\n",
       "  </tbody>\n",
       "</table>\n",
       "</div>"
      ],
      "text/plain": [
       "    Coefficient         Feature\n",
       "3     -0.739300       associate\n",
       "22    -0.715667        research\n",
       "0     -0.556808         analyst\n",
       "29    -0.446095     statistical\n",
       "23    -0.003071         science\n",
       "15     0.043920        learning\n",
       "1      0.049465       analytics\n",
       "26     0.083912        software\n",
       "13     0.089672     engineering\n",
       "10     0.142905     development\n",
       "24     0.157554       scientist\n",
       "16     0.174044         machine\n",
       "4      0.184742             big\n",
       "6      0.186637        business\n",
       "9      0.210521       developer\n",
       "7      0.214050        clinical\n",
       "28     0.225592           staff\n",
       "8      0.243761            data\n",
       "5      0.261236  bioinformatics\n",
       "27     0.354254              sr\n",
       "18     0.356318        platform\n",
       "25     0.369745          senior\n",
       "20     0.373219         product\n",
       "17     0.377958         manager\n",
       "14     0.467571            lead\n",
       "19     0.492621       principal\n",
       "12     0.637255        engineer\n",
       "2      0.661729       architect\n",
       "21     0.704546    quantitative\n",
       "11     1.204519        director"
      ]
     },
     "execution_count": 51,
     "metadata": {},
     "output_type": "execute_result"
    }
   ],
   "source": [
    "model = LogisticRegression() \n",
    "\n",
    "model.fit(X, y) # This fits the model to learn the coefficients\n",
    "examine_coefficients(model, X)"
   ]
  },
  {
   "cell_type": "code",
   "execution_count": 55,
   "metadata": {
    "collapsed": false
   },
   "outputs": [
    {
     "name": "stdout",
     "output_type": "stream",
     "text": [
      "0.61997273347\n"
     ]
    }
   ],
   "source": [
    "print model.score(X,y)"
   ]
  },
  {
   "cell_type": "code",
   "execution_count": null,
   "metadata": {
    "collapsed": true
   },
   "outputs": [],
   "source": [
    "#now I am going to run the model with director, engineer, architect, quantitative "
   ]
  },
  {
   "cell_type": "code",
   "execution_count": 56,
   "metadata": {
    "collapsed": false
   },
   "outputs": [
    {
     "data": {
      "text/html": [
       "<div>\n",
       "<table border=\"1\" class=\"dataframe\">\n",
       "  <thead>\n",
       "    <tr style=\"text-align: right;\">\n",
       "      <th></th>\n",
       "      <th>Coefficient</th>\n",
       "      <th>Feature</th>\n",
       "    </tr>\n",
       "  </thead>\n",
       "  <tbody>\n",
       "    <tr>\n",
       "      <th>3</th>\n",
       "      <td>0.015402</td>\n",
       "      <td>quantitative</td>\n",
       "    </tr>\n",
       "    <tr>\n",
       "      <th>2</th>\n",
       "      <td>0.623549</td>\n",
       "      <td>engineer</td>\n",
       "    </tr>\n",
       "    <tr>\n",
       "      <th>0</th>\n",
       "      <td>0.631727</td>\n",
       "      <td>architect</td>\n",
       "    </tr>\n",
       "    <tr>\n",
       "      <th>1</th>\n",
       "      <td>0.933229</td>\n",
       "      <td>director</td>\n",
       "    </tr>\n",
       "  </tbody>\n",
       "</table>\n",
       "</div>"
      ],
      "text/plain": [
       "   Coefficient       Feature\n",
       "3     0.015402  quantitative\n",
       "2     0.623549      engineer\n",
       "0     0.631727     architect\n",
       "1     0.933229      director"
      ]
     },
     "execution_count": 56,
     "metadata": {},
     "output_type": "execute_result"
    }
   ],
   "source": [
    "def examine_coefficients(model, df):\n",
    "    df = pd.DataFrame(\n",
    "        { 'Coefficient' : model.coef_[0] , 'Feature' : df.columns}\n",
    "    ).sort_values(by='Coefficient')\n",
    "    return df[df.Coefficient !=0 ]\n",
    "y=listingsJobTitle['high']\n",
    "X=wordsJobTitle[['architect','director', 'engineer', 'quantitative']]\n",
    "model = LogisticRegression() \n",
    "\n",
    "model.fit(X, y) # This fits the model to learn the coefficients\n",
    "examine_coefficients(model, X)"
   ]
  },
  {
   "cell_type": "code",
   "execution_count": 57,
   "metadata": {
    "collapsed": false
   },
   "outputs": [
    {
     "name": "stdout",
     "output_type": "stream",
     "text": [
      "0.611111111111\n"
     ]
    }
   ],
   "source": [
    "#not good enough\n",
    "print model.score(X,y)"
   ]
  },
  {
   "cell_type": "code",
   "execution_count": 62,
   "metadata": {
    "collapsed": false
   },
   "outputs": [
    {
     "data": {
      "text/html": [
       "<div>\n",
       "<table border=\"1\" class=\"dataframe\">\n",
       "  <thead>\n",
       "    <tr style=\"text-align: right;\">\n",
       "      <th></th>\n",
       "      <th>Coefficient</th>\n",
       "      <th>Feature</th>\n",
       "    </tr>\n",
       "  </thead>\n",
       "  <tbody>\n",
       "    <tr>\n",
       "      <th>7</th>\n",
       "      <td>-1.159709</td>\n",
       "      <td>research</td>\n",
       "    </tr>\n",
       "    <tr>\n",
       "      <th>9</th>\n",
       "      <td>-0.816565</td>\n",
       "      <td>statistical</td>\n",
       "    </tr>\n",
       "    <tr>\n",
       "      <th>2</th>\n",
       "      <td>-0.102118</td>\n",
       "      <td>developer</td>\n",
       "    </tr>\n",
       "    <tr>\n",
       "      <th>6</th>\n",
       "      <td>-0.048435</td>\n",
       "      <td>quantitative</td>\n",
       "    </tr>\n",
       "    <tr>\n",
       "      <th>3</th>\n",
       "      <td>-0.044076</td>\n",
       "      <td>learning</td>\n",
       "    </tr>\n",
       "    <tr>\n",
       "      <th>1</th>\n",
       "      <td>-0.030748</td>\n",
       "      <td>bioinformatics</td>\n",
       "    </tr>\n",
       "    <tr>\n",
       "      <th>8</th>\n",
       "      <td>0.293044</td>\n",
       "      <td>senior</td>\n",
       "    </tr>\n",
       "    <tr>\n",
       "      <th>4</th>\n",
       "      <td>0.350377</td>\n",
       "      <td>machine</td>\n",
       "    </tr>\n",
       "    <tr>\n",
       "      <th>0</th>\n",
       "      <td>0.375983</td>\n",
       "      <td>architect</td>\n",
       "    </tr>\n",
       "    <tr>\n",
       "      <th>5</th>\n",
       "      <td>0.455820</td>\n",
       "      <td>principal</td>\n",
       "    </tr>\n",
       "  </tbody>\n",
       "</table>\n",
       "</div>"
      ],
      "text/plain": [
       "   Coefficient         Feature\n",
       "7    -1.159709        research\n",
       "9    -0.816565     statistical\n",
       "2    -0.102118       developer\n",
       "6    -0.048435    quantitative\n",
       "3    -0.044076        learning\n",
       "1    -0.030748  bioinformatics\n",
       "8     0.293044          senior\n",
       "4     0.350377         machine\n",
       "0     0.375983       architect\n",
       "5     0.455820       principal"
      ]
     },
     "execution_count": 62,
     "metadata": {},
     "output_type": "execute_result"
    }
   ],
   "source": [
    "def examine_coefficients(model, df):\n",
    "    df = pd.DataFrame(\n",
    "        { 'Coefficient' : model.coef_[0] , 'Feature' : df.columns}\n",
    "    ).sort_values(by='Coefficient')\n",
    "    return df[df.Coefficient !=0 ]\n",
    "y=listingsJobTitle['high']\n",
    "X=wordsJobTitle[[ 'architect','bioinformatics', 'developer',\n",
    "       'learning', 'machine', 'principal', 'quantitative', 'research',\n",
    "       'senior',  'statistical']]\n",
    "model = LogisticRegression() \n",
    "\n",
    "model.fit(X, y) # This fits the model to learn the coefficients\n",
    "examine_coefficients(model, X)"
   ]
  },
  {
   "cell_type": "code",
   "execution_count": 63,
   "metadata": {
    "collapsed": false
   },
   "outputs": [
    {
     "name": "stdout",
     "output_type": "stream",
     "text": [
      "0.598841172461\n"
     ]
    }
   ],
   "source": [
    "#not good enough\n",
    "print model.score(X,y)"
   ]
  },
  {
   "cell_type": "code",
   "execution_count": null,
   "metadata": {
    "collapsed": true
   },
   "outputs": [],
   "source": [
    "#Test Train \n",
    "#I settled on lead senior and director.  Less words is sometimes more"
   ]
  },
  {
   "cell_type": "code",
   "execution_count": 64,
   "metadata": {
    "collapsed": true
   },
   "outputs": [],
   "source": [
    "X=wordsJobTitle[['lead','senior','director']]"
   ]
  },
  {
   "cell_type": "code",
   "execution_count": 82,
   "metadata": {
    "collapsed": false
   },
   "outputs": [
    {
     "name": "stdout",
     "output_type": "stream",
     "text": [
      "(1760, 30) (1760,)\n",
      "(1174, 30) (1174,)\n"
     ]
    }
   ],
   "source": [
    "X_train, X_test, y_train, y_test=train_test_split(wordsJobTitle,y, test_size= 0.4)\n",
    "print X_train.shape, y_train.shape\n",
    "print X_test.shape, y_test.shape"
   ]
  },
  {
   "cell_type": "code",
   "execution_count": 83,
   "metadata": {
    "collapsed": false
   },
   "outputs": [],
   "source": [
    "lm = LogisticRegression()"
   ]
  },
  {
   "cell_type": "code",
   "execution_count": 84,
   "metadata": {
    "collapsed": false
   },
   "outputs": [
    {
     "data": {
      "text/plain": [
       "LogisticRegression(C=1.0, class_weight=None, dual=False, fit_intercept=True,\n",
       "          intercept_scaling=1, max_iter=100, multi_class='ovr', n_jobs=1,\n",
       "          penalty='l2', random_state=None, solver='liblinear', tol=0.0001,\n",
       "          verbose=0, warm_start=False)"
      ]
     },
     "execution_count": 84,
     "metadata": {},
     "output_type": "execute_result"
    }
   ],
   "source": [
    "lm"
   ]
  },
  {
   "cell_type": "code",
   "execution_count": 85,
   "metadata": {
    "collapsed": false
   },
   "outputs": [],
   "source": [
    "model = lm.fit(X_train, y_train)"
   ]
  },
  {
   "cell_type": "code",
   "execution_count": 86,
   "metadata": {
    "collapsed": false
   },
   "outputs": [
    {
     "name": "stdout",
     "output_type": "stream",
     "text": [
      "Score 0.595400340716\n"
     ]
    },
    {
     "data": {
      "image/png": "[encoded data removed]",
      "text/plain": [
       "<matplotlib.figure.Figure at 0x11ba97910>"
      ]
     },
     "metadata": {},
     "output_type": "display_data"
    }
   ],
   "source": [
    "predictions=lm.predict(X_test)\n",
    "plt.scatter(y_test, predictions)\n",
    "plt.xlabel(\"True Values\")\n",
    "plt.ylabel(\"Predictions\")\n",
    "print \"Score\",model.score(X_test, y_test)\n",
    "#The scatter plot was not very informative\n",
    "#the test score was close to .62"
   ]
  },
  {
   "cell_type": "code",
   "execution_count": 87,
   "metadata": {
    "collapsed": false
   },
   "outputs": [
    {
     "name": "stdout",
     "output_type": "stream",
     "text": [
      "Score 0.627695800227\n"
     ]
    }
   ],
   "source": [
    "X_train, X_test, y_train, y_test=train_test_split(wordsJobTitle,y, test_size= 0.3)\n",
    "model = lm.fit(X_train, y_train)\n",
    "predictions=lm.predict(X_test)\n",
    "print \"Score\",model.score(X_test, y_test)\n",
    "#I like this one"
   ]
  },
  {
   "cell_type": "code",
   "execution_count": null,
   "metadata": {
    "collapsed": true
   },
   "outputs": [],
   "source": []
  },
  {
   "cell_type": "code",
   "execution_count": 88,
   "metadata": {
    "collapsed": false
   },
   "outputs": [
    {
     "name": "stdout",
     "output_type": "stream",
     "text": [
      "Score 0.595773687798\n"
     ]
    }
   ],
   "source": [
    "X_train, X_test, y_train, y_test=train_test_split(wordsJobTitle,y, test_size= 0.5)\n",
    "model = lm.fit(X_train, y_train)\n",
    "predictions=lm.predict(X_test)\n",
    "print \"Score\",model.score(X_test, y_test)\n",
    "#I like this one"
   ]
  },
  {
   "cell_type": "code",
   "execution_count": null,
   "metadata": {
    "collapsed": true
   },
   "outputs": [],
   "source": []
  },
  {
   "cell_type": "code",
   "execution_count": null,
   "metadata": {
    "collapsed": true
   },
   "outputs": [],
   "source": []
  },
  {
   "cell_type": "code",
   "execution_count": null,
   "metadata": {
    "collapsed": true
   },
   "outputs": [],
   "source": []
  },
  {
   "cell_type": "code",
   "execution_count": null,
   "metadata": {
    "collapsed": true
   },
   "outputs": [],
   "source": []
  },
  {
   "cell_type": "markdown",
   "metadata": {},
   "source": [
    "The following cities were included in the study, Chicago, Cincinnati, Louisville, San Francisco, and Austin.\n",
    "\n",
    "The cost of living index. Chicago = 111 Cincinnati = 83 Louisville = 91 Austin Tx = 78.26, and San Francisco = 189.\n",
    "\n",
    "Median pay for a Data Scientist 93,146. The ranger is  64,953−126,183 Chicago the median is 83,437. The range is 53,469−114.196 \n",
    "Austin the median 83,084.The range is 49,460−108,409 \n",
    "SanFrancisco the median salary is 112,468 and the range is 82,601-137,236\n",
    "This data is from www.payscale.com\n",
    "\n",
    "I scraped the data from indeed.com.  I decided that high salary would be $100,000 and above regardless of cost of living for each city since the recruiting firm can work remotely in any city.  \n",
    "\n",
    "Originally I thought the cities (especially San Francisco) would predict high salary and I was wrong. When I looked at indeed.com. I was surprised to see how many entry level jobs there were in San Francisco. After looking at the coefficients and confusion model, it was recommended I try eliminating the smaller markets: Cincinnati, Louisville, and Austin.  Note I did my analysis on the states. I did not want to analyze the cities since workers can compute in from the suburbs.  \n",
    "\n",
    "I reran the model with just San Francisco and Chicago. \n",
    "Chicago's coefficient was -.28 and San Francisco was .39 with an accuracy of .598. If the recruiting firm did want to focus on a city they should focus on San Francisco.  If a company is looking to relocate then they should look at Chicago.  \t\n",
    "\n",
    "After examining the cities, I decided to change direction and look at words in title.  I know a little something about titles since I visit over a 100 companies a year.  I  ran a Count Vectorization and listed the top 30 words.  I ran the model with all the words and accuracy was .62. I played around and tried running with different sets of words and settled on 3: senior, lead, and director. These words imply responsibility and experience.\n",
    "\n",
    "The coefficients were Senior = .33 Lead = .45 Director = .82\n",
    "The accuracy was also .62\n",
    "\n",
    "The confusion matrix results were True Positive: tested high and was high 1,700 False Positive: Tested high and was low 64 False Negative: Tested low and was high 1,100 True Negative: Test negative and was negative 89\n",
    "The precision was .6 - when the model predicted high it was right 60% of the time.\n"
   ]
  }
 ],
 "metadata": {
  "kernelspec": {
   "display_name": "Python [Root]",
   "language": "python",
   "name": "Python [Root]"
  },
  "language_info": {
   "codemirror_mode": {
    "name": "ipython",
    "version": 2
   },
   "file_extension": ".py",
   "mimetype": "text/x-python",
   "name": "python",
   "nbconvert_exporter": "python",
   "pygments_lexer": "ipython2",
   "version": "2.7.12"
  }
 },
 "nbformat": 4,
 "nbformat_minor": 0
}
