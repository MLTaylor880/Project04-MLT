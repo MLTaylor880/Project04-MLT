{
 "cells": [
  {
   "cell_type": "markdown",
   "metadata": {
    "focus": false,
    "id": "69b9a648-bcc7-490d-9f9b-ea244d156bd6"
   },
   "source": [
    "# Web Scraping for Indeed.com & Predicting Salaries"
   ]
  },
  {
   "cell_type": "markdown",
   "metadata": {
    "focus": false,
    "id": "34681254-c802-462f-829d-8894d0772d08"
   },
   "source": [
    "In this project, we will practice two major skills: collecting data by scraping a website and then building a binary predictor with Logistic Regression.\n",
    "\n",
    "We are going to collect salary information on data science jobs in a variety of markets. Then using the location, title and summary of the job we will attempt to predict the salary of the job. For job posting sites, this would be extraordinarily useful. While most listings DO NOT come with salary information (as you will see in this exercise), being to able extrapolate or predict the expected salaries from other listings can help guide negotiations.\n",
    "\n",
    "Normally, we could use regression for this task; however, we will convert this problem into classification and use Logistic Regression.\n",
    "\n",
    "- Question: Why would we want this to be a classification problem?\n",
    "- Answer: While more precision may be better, there is a fair amount of natural variance in job salaries - predicting a range be may be useful.\n",
    "\n",
    "Therefore, the first part of the assignment will be focused on scraping Indeed.com. In the second, we'll focus on using listings with salary information to build a model and predict additional salaries."
   ]
  },
  {
   "cell_type": "markdown",
   "metadata": {
    "focus": false,
    "id": "a948d79c-5527-4c0d-ab23-f5d43ce72056"
   },
   "source": [
    "### Scraping job listings from Indeed.com"
   ]
  },
  {
   "cell_type": "markdown",
   "metadata": {
    "focus": true,
    "id": "7203e0c9-e437-4802-a6ad-7dc464f94436"
   },
   "source": [
    "We will be scraping job listings from Indeed.com using BeautifulSoup. Luckily, Indeed.com is a simple text page where we can easily find relevant entries.\n",
    "\n",
    "First, look at the source of an Indeed.com page: (http://www.indeed.com/jobs?q=data+scientist+%2420%2C000&l=New+York&start=10\")\n",
    "\n",
    "Notice, each job listing is underneath a `div` tag with a class name of `result`. We can use BeautifulSoup to extract those. "
   ]
  },
  {
   "cell_type": "markdown",
   "metadata": {
    "focus": false,
    "id": "9732c901-ae26-4160-8376-42e22dd327df"
   },
   "source": [
    "#### Setup a request (using `requests`) to the URL below. Use BeautifulSoup to parse the page and extract all results (HINT: Look for div tags with class name result)\n",
    "\n",
    "The URL here has many query parameters\n",
    "\n",
    "- `q` for the job search\n",
    "- This is followed by \"+20,000\" to return results with salaries (or expected salaries >$20,000)\n",
    "- `l` for a location \n",
    "- `start` for what result number to start on"
   ]
  },
  {
   "cell_type": "code",
   "execution_count": 1,
   "metadata": {
    "collapsed": false,
    "focus": false,
    "id": "e915023e-6b0d-4982-af2a-b1e0355f4927"
   },
   "outputs": [],
   "source": [
    "URL = \"http://www.indeed.com/jobs?q=data+scientist+%2420%2C000&l=New+York&start=10\""
   ]
  },
  {
   "cell_type": "code",
   "execution_count": 1,
   "metadata": {
    "collapsed": true,
    "focus": false,
    "id": "2efefc73-064a-482d-b3b5-ddf5508cb4ec"
   },
   "outputs": [],
   "source": [
    "import requests\n",
    "import bs4\n",
    "from bs4 import BeautifulSoup"
   ]
  },
  {
   "cell_type": "code",
   "execution_count": 19,
   "metadata": {
    "collapsed": true,
    "focus": false,
    "id": "2c6752c4-7704-4c94-8bc0-6f13d2d0d570"
   },
   "outputs": [],
   "source": [
    "from bs4 import BeautifulSoup\n",
    "import urllib2\n",
    "import pandas as pd\n",
    "import numpy as np\n",
    "import time\n",
    "import csv\n",
    "import seaborn as sb\n",
    "import matplotlib.pyplot as plt\n",
    "import json\n",
    "%matplotlib inline\n",
    "from sklearn.grid_search import GridSearchCV\n",
    "from sklearn.linear_model import LogisticRegression\n",
    "from sklearn.metrics import confusion_matrix, classification_report\n",
    "\n",
    "pd.options.display.max_columns = 50\n",
    "pd.options.display.max_colwidth = 300"
   ]
  },
  {
   "cell_type": "markdown",
   "metadata": {
    "focus": false,
    "id": "bb0b866a-26a7-45e9-8084-5a0f90eb4b3e"
   },
   "source": [
    "Let's look at one result more closely. A single `result` looks like\n",
    "\n",
    "```\n",
    "<div class=\" row result\" data-jk=\"2480d203f7e97210\" data-tn-component=\"organicJob\" id=\"p_2480d203f7e97210\" itemscope=\"\" itemtype=\"http://schema.org/JobPosting\">\n",
    "<h2 class=\"jobtitle\" id=\"jl_2480d203f7e97210\">\n",
    "<a class=\"turnstileLink\" data-tn-element=\"jobTitle\" onmousedown=\"return rclk(this,jobmap[0],1);\" rel=\"nofollow\" target=\"_blank\" title=\"AVP/Quantitative Analyst\">AVP/Quantitative Analyst</a>\n",
    "</h2>\n",
    "<span class=\"company\" itemprop=\"hiringOrganization\" itemtype=\"http://schema.org/Organization\">\n",
    "<span itemprop=\"name\">\n",
    "<a href=\"/cmp/Alliancebernstein?from=SERP&amp;campaignid=serp-linkcompanyname&amp;fromjk=2480d203f7e97210&amp;jcid=b374f2a780e04789\" target=\"_blank\">\n",
    "    AllianceBernstein</a></span>\n",
    "</span>\n",
    "<tr>\n",
    "<td class=\"snip\">\n",
    "<nobr>$117,500 - $127,500 a year</nobr>\n",
    "<div>\n",
    "<span class=\"summary\" itemprop=\"description\">\n",
    "C onduct quantitative and statistical research as well as portfolio management for various investment portfolios. Collaborate with Quantitative Analysts and</span>\n",
    "</div>\n",
    "</div>\n",
    "</td>\n",
    "</tr>\n",
    "</table>\n",
    "</div>\n",
    "```\n",
    "\n",
    "While this has some more verbose elements removed, we can see that there is some structure to the above:\n",
    "- The salary is available in a `nobr` element inside of a `td` element with `class='snip`.\n",
    "- The title of a job is in a link with class set to `jobtitle` and a `data-tn-element=\"jobTitle`.  \n",
    "- The location is set in a `span` with `class='location'`. \n",
    "- The company is set in a `span` with `class='company'`. "
   ]
  },
  {
   "cell_type": "markdown",
   "metadata": {
    "focus": false,
    "id": "f1eddb90-4ba8-483c-a229-77e93aa53119"
   },
   "source": [
    "### Write 4 functions to extract each item: location, company, job, and salary.\n",
    "\n",
    "example: \n",
    "```python\n",
    "def extract_location_from_result(result):\n",
    "    return result.find ...\n",
    "```\n",
    "\n",
    "\n",
    "- **Make sure these functions are robust and can handle cases where the data/field may not be available.**\n",
    "    - Remember to check if a field is empty or `None` for attempting to call methods on it\n",
    "    - Remember to use `try/except` if you anticipate errors\n",
    "- **Test** the functions on the results above and simple examples"
   ]
  },
  {
   "cell_type": "markdown",
   "metadata": {
    "collapsed": true,
    "focus": false,
    "id": "a1af53c9-9090-494f-b82e-cadb60a54909"
   },
   "source": [
    "I did different functions - ones that made sense to me.\n",
    "I check lenght of each list before I copy it to a backup.\n",
    "I had to run the code several times when I realized the lists did not match up"
   ]
  },
  {
   "cell_type": "code",
   "execution_count": 20,
   "metadata": {
    "collapsed": true
   },
   "outputs": [],
   "source": [
    "#list to hold scraped data\n",
    "#the back up are used once it is determined that the list are the same length.\n",
    "#Twice I ended up with uneven list - this assures that I do not have to start from the top\n",
    "pd.set_option('max_colwidth',500)    # to remove column limit (Otherwise, we'll lose some info)\n",
    "df = pd.DataFrame()   # create a new data frame\n",
    "\n",
    "searchCriteria=[]\n",
    "salaryRange=[]\n",
    "jobTitle = []\n",
    "companyName=[]\n",
    "cityLocation=[]\n",
    "description=[]\n",
    "actualSalary=[]\n",
    "BackupsearchCriteria=[]\n",
    "BackupsalaryRange=[]\n",
    "BackupjobTitle = []\n",
    "BackupcompanyName=[]\n",
    "BackupcityLocation=[]\n",
    "Backupdescription=[]\n",
    "BackupactualSalary=[]"
   ]
  },
  {
   "cell_type": "code",
   "execution_count": 21,
   "metadata": {
    "collapsed": true
   },
   "outputs": [],
   "source": [
    "#this function is to scrape the data off the first page of all cities. The Url is different for the \n",
    "#first page.\n",
    "#note I clean up the company name before I save it\n",
    "def extractDataFirstPage(priceRanges,city, level, b_URL):\n",
    "        time.sleep(1)   \n",
    "        base_url = b_URL\n",
    "        soup = BeautifulSoup(urllib2.urlopen(base_url).read())\n",
    "    \n",
    "        gData = soup.find_all(\"div\",{\"class\":\"row result\"})\n",
    "        for item in gData:\n",
    "                searchCriteria.append('data scientist')\n",
    "                jobTitle.append(item.find_all(\"a\",{\"data-tn-element\":\"jobTitle\"})[0].text)\n",
    "                companyName.append((item.find_all(\"span\",{\"class\":\"company\"})[0].text).lstrip().replace('\\n',''))\n",
    "                cityLocation.append(item.find_all(\"span\",{\"class\":\"location\"})[0].text)\n",
    "                description.append(item.find_all(\"span\",{\"class\":\"summary\"})[0].text)\n",
    "                salaryRange.append(level) \n",
    "                \n",
    "\n",
    "        gData = soup.find_all(\"div\",{\"class\":\" row result\"})\n",
    "        for item in gData:\n",
    "                searchCriteria.append('data scientist')\n",
    "                jobTitle.append(item.find_all(\"a\",{\"data-tn-element\":\"jobTitle\"})[0].text)\n",
    "                companyName.append((item.find_all(\"span\",{\"class\":\"company\"})[0].text).lstrip().replace('\\n',''))\n",
    "                cityLocation.append(item.find_all(\"span\",{\"class\":\"location\"})[0].text)\n",
    "                description.append(item.find_all(\"span\",{\"class\":\"summary\"})[0].text)\n",
    "                salaryRange.append(level)\n",
    "        \n",
    "    "
   ]
  },
  {
   "cell_type": "code",
   "execution_count": 22,
   "metadata": {
    "collapsed": true
   },
   "outputs": [],
   "source": [
    "#To scape the data off pages 2 on\n",
    "def extractDataBeyondPages(priceRanges, city, level, b_URL, endPage,pVariableNu):\n",
    "        time.sleep(2) \n",
    "        pVariableNu=10\n",
    "        for pages in range(2,endPage): \n",
    "            pVariableNu=10+pVariableNu\n",
    "            pVariable=str(pVariableNu)\n",
    "            base_url = b_URL + pVariable\n",
    "            soup = BeautifulSoup(urllib2.urlopen(base_url).read())\n",
    "    \n",
    "            gData = soup.find_all(\"div\",{\"class\":\"row result\"})\n",
    "            for item in gData:\n",
    "                searchCriteria.append('data scientist')\n",
    "                jobTitle.append(item.find_all(\"a\",{\"data-tn-element\":\"jobTitle\"})[0].text)\n",
    "                companyName.append((item.find_all(\"span\",{\"class\":\"company\"})[0].text).lstrip().replace('\\n',''))\n",
    "                cityLocation.append(item.find_all(\"span\",{\"class\":\"location\"})[0].text)\n",
    "                description.append(item.find_all(\"span\",{\"class\":\"summary\"})[0].text)\n",
    "                salaryRange.append(level)\n",
    "                #print base_url\n",
    "\n",
    "            gData = soup.find_all(\"div\",{\"class\":\" row result\"})\n",
    "            for item in gData:\n",
    "                searchCriteria.append('data scientist')\n",
    "                jobTitle.append(item.find_all(\"a\",{\"data-tn-element\":\"jobTitle\"})[0].text)\n",
    "                companyName.append((item.find_all(\"span\",{\"class\":\"company\"})[0].text).lstrip().replace('\\n',''))\n",
    "                cityLocation.append(item.find_all(\"span\",{\"class\":\"location\"})[0].text)\n",
    "                description.append(item.find_all(\"span\",{\"class\":\"summary\"})[0].text)\n",
    "                salaryRange.append(level)\n",
    "                #print base_url\n",
    "           \n",
    "        "
   ]
  },
  {
   "cell_type": "code",
   "execution_count": 60,
   "metadata": {
    "collapsed": true
   },
   "outputs": [],
   "source": [
    "#backing up during the process because I am paranoid\n",
    "def backup_lists():\n",
    "    BackupsearchCriteria =searchCriteria \n",
    "    BackupsalaryRange=salaryRange\n",
    "    BackupjobTitle =jobTitle\n",
    "    BackupcompanyName=companyName\n",
    "    BackupcityLocation=cityLocation\n",
    "    Backupdescription=description"
   ]
  },
  {
   "cell_type": "code",
   "execution_count": 24,
   "metadata": {
    "collapsed": true
   },
   "outputs": [],
   "source": [
    "#checking to make sure all are same length\n",
    "def print_lengths():\n",
    "    print len(searchCriteria)\n",
    "    print len(jobTitle)\n",
    "    print len(companyName)\n",
    "    print len(cityLocation)\n",
    "    print len(salaryRange)\n",
    "    print len(description)"
   ]
  },
  {
   "cell_type": "code",
   "execution_count": 25,
   "metadata": {
    "collapsed": false
   },
   "outputs": [
    {
     "name": "stdout",
     "output_type": "stream",
     "text": [
      "60\n",
      "60\n",
      "60\n",
      "60\n",
      "60\n",
      "60\n"
     ]
    }
   ],
   "source": [
    "#Chicago all salaries page 1\n",
    "#large city good supply of jobs and applicants\n",
    "priceRanges = ['$55,000','$70,000','$85,000','$100,000','$120,000']\n",
    "for price in priceRanges:\n",
    "    if price == '$55,000':\n",
    "            level = 'low'\n",
    "            endPage=41\n",
    "    elif price == '$70,000':\n",
    "            level = 'low'\n",
    "            endPage=33\n",
    "    elif price == '$85,000':\n",
    "            level = 'low'\n",
    "            endPage=26\n",
    "    elif price == '$100,000':\n",
    "            level = 'high'\n",
    "            endPage=9\n",
    "    else:\n",
    "            level = 'high'\n",
    "            endPage=9\n",
    "    city = 'Chicago'\n",
    "    b_URL='http://www.indeed.com/q-data-scientist-'+ price +'-l-Chicago,-IL-jobs.html'\n",
    "    extractDataFirstPage(priceRanges, city,level,b_URL)\n",
    "print_lengths()"
   ]
  },
  {
   "cell_type": "code",
   "execution_count": 26,
   "metadata": {
    "collapsed": false
   },
   "outputs": [
    {
     "name": "stdout",
     "output_type": "stream",
     "text": [
      "1065\n",
      "1065\n",
      "1065\n",
      "1065\n",
      "1065\n",
      "1065\n"
     ]
    }
   ],
   "source": [
    "#Chicago  other pages\n",
    "priceRanges = ['$55,000','$70,000','$85,000','$100,000','$120,000']\n",
    "\n",
    "for price in priceRanges:\n",
    "    if price == '$55,000':\n",
    "            level = 'low'\n",
    "            endPage=41\n",
    "            salaryCode='55'\n",
    "    elif price == '$70,000':\n",
    "            level = 'low'\n",
    "            endPage=33\n",
    "            salaryCode='70'\n",
    "    elif price == '$85,000':\n",
    "            level = 'low'\n",
    "            endPage=26\n",
    "            salaryCode='85'\n",
    "    elif price == '$100,000':\n",
    "            level = 'high'\n",
    "            endPage=18\n",
    "            salaryCode='100'\n",
    "    else:\n",
    "            level = 'high'\n",
    "            endPage=9\n",
    "            salaryCode='120'\n",
    "    pVariableNu=10\n",
    "    city = 'Chicago'\n",
    "    b_URL='http://www.indeed.com/jobs?q=data+scientist+%24'+salaryCode+'%2C000&l=Chicago%2C+IL&start='\n",
    "    extractDataBeyondPages(price, city, level, b_URL, endPage, pVariableNu)\n",
    "\n",
    "print_lengths()"
   ]
  },
  {
   "cell_type": "code",
   "execution_count": 27,
   "metadata": {
    "collapsed": true
   },
   "outputs": [],
   "source": [
    "backup_lists()"
   ]
  },
  {
   "cell_type": "code",
   "execution_count": 28,
   "metadata": {
    "collapsed": false
   },
   "outputs": [
    {
     "name": "stdout",
     "output_type": "stream",
     "text": [
      "1125\n",
      "1125\n",
      "1125\n",
      "1125\n",
      "1125\n",
      "1125\n"
     ]
    }
   ],
   "source": [
    "#Cincinnati all salaries page 1\n",
    "priceRanges = ['$50,000','$55,000','$65,000','$90,000','$110,000']\n",
    "for price in priceRanges:\n",
    "    if price == '$50,000':\n",
    "            level = 'low'\n",
    "            endPage=9\n",
    "    elif price == '$55,000':\n",
    "            level = 'low'\n",
    "            endPage=7\n",
    "    elif price == '$65,000':\n",
    "            level = 'low'\n",
    "            endPage=6\n",
    "    elif price == '$90,000':\n",
    "            level = 'low'\n",
    "            endPage=4\n",
    "    else:\n",
    "            level = 'high'\n",
    "            endPage=3\n",
    "    city = 'Cincinnati'\n",
    "    b_URL='http://www.indeed.com/q-data-scientist-'+ price +'-l-Cincinnati,-OH-jobs.html'\n",
    "    extractDataFirstPage(priceRanges, city,level,b_URL)\n",
    "print_lengths()\n",
    "\n",
    "\n"
   ]
  },
  {
   "cell_type": "code",
   "execution_count": 30,
   "metadata": {
    "collapsed": false
   },
   "outputs": [
    {
     "name": "stdout",
     "output_type": "stream",
     "text": [
      "1314\n",
      "1314\n",
      "1314\n",
      "1314\n",
      "1314\n",
      "1314\n"
     ]
    }
   ],
   "source": [
    "#Cincinnati  other pages\n",
    "priceRanges = ['$50,000','$55,000','$65,000','$90,000','$110,000']\n",
    "for price in priceRanges:\n",
    "    if price == '$50,000':\n",
    "            level = 'low'\n",
    "            endPage=9\n",
    "            salaryCode='50'\n",
    "    elif price == '$55,000':\n",
    "            level = 'low'\n",
    "            endPage=8\n",
    "            salaryCode='55'\n",
    "    elif price == '$65,000':\n",
    "            level = 'low'\n",
    "            endPage=6\n",
    "            salaryCode='65'\n",
    "    elif price == '$90,000':\n",
    "            level = 'low'\n",
    "            endPage=4\n",
    "            salaryCode='90'\n",
    "    else:\n",
    "            level = 'high'\n",
    "            endPage=3\n",
    "            salaryCode='110'\n",
    "\n",
    "    city = 'Cincinnati'\n",
    "    b_URL='http://www.indeed.com/jobs?q=data+scientist+%24'+salaryCode+'%2C000&l=Chicago%2C+IL&start='\n",
    "    pVariableNu=10\n",
    "    extractDataBeyondPages(price,city, level,b_URL,endPage,pVariableNu)\n",
    "print_lengths()"
   ]
  },
  {
   "cell_type": "code",
   "execution_count": 29,
   "metadata": {
    "collapsed": false
   },
   "outputs": [
    {
     "name": "stdout",
     "output_type": "stream",
     "text": [
      "1125\n",
      "1125\n",
      "1125\n",
      "1125\n",
      "1125\n",
      "1125\n"
     ]
    }
   ],
   "source": [
    "print_lengths()"
   ]
  },
  {
   "cell_type": "code",
   "execution_count": 31,
   "metadata": {
    "collapsed": true
   },
   "outputs": [],
   "source": [
    "backup_lists()"
   ]
  },
  {
   "cell_type": "code",
   "execution_count": 32,
   "metadata": {
    "collapsed": false
   },
   "outputs": [
    {
     "name": "stdout",
     "output_type": "stream",
     "text": [
      "1367\n",
      "1367\n",
      "1367\n",
      "1367\n",
      "1367\n",
      "1367\n"
     ]
    }
   ],
   "source": [
    "#Louisville all salaries page 1\n",
    "priceRanges = ['$40,000','$55,000','$70,000','$100,000','$120,000']\n",
    "for price in priceRanges:\n",
    "    if price == '$40,000':\n",
    "            level = 'low'\n",
    "            endPage=2\n",
    "    elif price == '$55,000':\n",
    "            level = 'low'\n",
    "            endPage=3\n",
    "    elif price == '$70,000':\n",
    "            level = 'low'\n",
    "            endPage=3\n",
    "    elif price == '$100,000':\n",
    "            level = 'high'\n",
    "            endPage=3\n",
    "    else:\n",
    "            level = 'high'\n",
    "            endPage=3\n",
    "    city = 'Louisville'\n",
    "    b_URL= 'http://www.indeed.com/q-data-scientist-'+price +'-l-Louisville,-KY-jobs.html'\n",
    "    extractDataFirstPage(priceRanges, city,level,b_URL)\n",
    "print_lengths()\n",
    "\n",
    "\n"
   ]
  },
  {
   "cell_type": "code",
   "execution_count": 35,
   "metadata": {
    "collapsed": true
   },
   "outputs": [],
   "source": [
    "backup_lists"
   ]
  },
  {
   "cell_type": "code",
   "execution_count": 36,
   "metadata": {
    "collapsed": false
   },
   "outputs": [
    {
     "name": "stdout",
     "output_type": "stream",
     "text": [
      "1433\n",
      "1433\n",
      "1433\n",
      "1433\n",
      "1433\n",
      "1433\n"
     ]
    }
   ],
   "source": [
    "#Louisville other pages\n",
    "priceRanges = ['$40,000','$55,000','$70,000','$100,000','$120,000']\n",
    "for price in priceRanges:\n",
    "    if price == '$40,000':\n",
    "            level = 'low'\n",
    "            endPage=3\n",
    "            salaryCode='40'\n",
    "    elif price == '$55,000':\n",
    "            level = 'low'\n",
    "            endPage=3\n",
    "            salaryCode='55'\n",
    "    elif price == '$70,000':\n",
    "            level = 'low'\n",
    "            endPage=3\n",
    "            salaryCode='70'\n",
    "\n",
    "    elif price == '$100,000':\n",
    "            level = 'high'\n",
    "            endPage=3\n",
    "            salaryCode='100'\n",
    "    else:\n",
    "            level = 'high'\n",
    "            endPage=3\n",
    "            salaryCode='120'\n",
    "    pVariableNu=10\n",
    "    city = 'Louisville'\n",
    "    b_URL='http://www.indeed.com/jobs?q=data+scientist+%24'+salaryCode+'%2C000&l=Louisville%2C+KY&start='\n",
    "    extractDataBeyondPages(price,city, level,b_URL,endPage,pVariableNu)\n",
    "print_lengths()"
   ]
  },
  {
   "cell_type": "code",
   "execution_count": 37,
   "metadata": {
    "collapsed": true
   },
   "outputs": [],
   "source": [
    "backup_lists()"
   ]
  },
  {
   "cell_type": "markdown",
   "metadata": {
    "collapsed": false
   },
   "source": []
  },
  {
   "cell_type": "code",
   "execution_count": 38,
   "metadata": {
    "collapsed": false
   },
   "outputs": [
    {
     "name": "stdout",
     "output_type": "stream",
     "text": [
      "1493\n",
      "1493\n",
      "1493\n",
      "1493\n",
      "1493\n",
      "1493\n"
     ]
    }
   ],
   "source": [
    "#Austin TX all salaries page 1\n",
    "priceRanges = ['$50,000','$70,000','$85,000','$100,000','$115,000']\n",
    "for price in priceRanges:\n",
    "    if price == '$50,000':\n",
    "            level = 'low'\n",
    "            endPage=16\n",
    "    elif price == '$70,000':\n",
    "            level = 'low'\n",
    "            endPage=13\n",
    "    elif price == '$85,000':\n",
    "            level = 'low'\n",
    "            endPage=9\n",
    "    elif price == '$100,000':\n",
    "            level = 'high'\n",
    "            endPage=7\n",
    "    else:\n",
    "            level = 'high'\n",
    "            endPage=4\n",
    "    city = 'Austin'\n",
    "    b_URL ='http://www.indeed.com/q-data-scientist-'+ price +'-l-Austin,-TX-jobs.html'\n",
    "    extractDataFirstPage(priceRanges, city,level,b_URL)\n",
    "print_lengths()"
   ]
  },
  {
   "cell_type": "code",
   "execution_count": 39,
   "metadata": {
    "collapsed": true
   },
   "outputs": [],
   "source": [
    "backup_lists()"
   ]
  },
  {
   "cell_type": "code",
   "execution_count": 40,
   "metadata": {
    "collapsed": false
   },
   "outputs": [
    {
     "name": "stdout",
     "output_type": "stream",
     "text": [
      "1835\n",
      "1835\n",
      "1835\n",
      "1835\n",
      "1835\n",
      "1835\n"
     ]
    }
   ],
   "source": [
    "#Austin other pages\n",
    "priceRanges = ['$50,000','$70,000','$85,000','$100,000','$115,000']\n",
    "for price in priceRanges:\n",
    "    if price == '$50,000':\n",
    "            level = 'low'\n",
    "            endPage=16\n",
    "            salaryCode='50'\n",
    "    elif price == '$70,000':\n",
    "            level = 'low'\n",
    "            endPage=13\n",
    "            salaryCode=='70'\n",
    "    elif price == '$85,000':\n",
    "            level = 'low'\n",
    "            endPage=9\n",
    "            salaryCode='85'\n",
    "    elif price == '$100,000':\n",
    "            level = 'high'\n",
    "            endPage=7\n",
    "            salaryCode='100'\n",
    "    else:\n",
    "            level = 'high'\n",
    "            endPage=4\n",
    "            salaryCode='115'\n",
    "    pVariableNu=10\n",
    "    city = 'Austin'\n",
    "    b_URL='http://www.indeed.com/jobs?q=data+scientist+%24'+salaryCode+'%2C000&l=Austin%2C+TX&start='\n",
    "    extractDataBeyondPages(price,city, level,b_URL,endPage,pVariableNu)\n",
    "print_lengths()"
   ]
  },
  {
   "cell_type": "code",
   "execution_count": 42,
   "metadata": {
    "collapsed": true
   },
   "outputs": [],
   "source": [
    "backup_lists()"
   ]
  },
  {
   "cell_type": "code",
   "execution_count": 61,
   "metadata": {
    "collapsed": false
   },
   "outputs": [
    {
     "name": "stdout",
     "output_type": "stream",
     "text": [
      "1895\n",
      "1895\n",
      "1895\n",
      "1895\n",
      "1895\n",
      "1895\n"
     ]
    }
   ],
   "source": [
    "#San Franisco all salaries page 1\n",
    "priceRanges = ['$65,000','$85,000','$100,000','$115,000','$130,000']\n",
    "for price in priceRanges:\n",
    "    if price == '$65,000':\n",
    "            level = 'low'\n",
    "            endPage=168\n",
    "            salaryCode='65'\n",
    "    elif price == '$85,000':\n",
    "            level = 'low'\n",
    "            endPage=130\n",
    "            salaryCode='85'\n",
    "    elif price == '$100,000':\n",
    "            level = 'high'\n",
    "            endPage=100\n",
    "            salaryCode='100'\n",
    "    elif price == '$115,000':\n",
    "            level = 'high'\n",
    "            endPage=70\n",
    "            salaryCode='115'\n",
    "    else:\n",
    "            level = 'high'\n",
    "            endPage=35\n",
    "            salaryCode='130'\n",
    "    city = 'San Francisco'\n",
    "    b_URL ='http://www.indeed.com/q-data-scientist-'+ price +'-l-San-Francisco,-CA-jobs.html'\n",
    "    extractDataFirstPage(priceRanges, city,level,b_URL)\n",
    "print_lengths()"
   ]
  },
  {
   "cell_type": "code",
   "execution_count": 62,
   "metadata": {
    "collapsed": true
   },
   "outputs": [],
   "source": [
    "BackupsearchCriteria2 =searchCriteria \n",
    "BackupsalaryRange2=salaryRange\n",
    "BackupjobTitle2 =jobTitle\n",
    "BackupcompanyName2=companyName\n",
    "BackupcityLocation2=cityLocation\n",
    "Backupdescription2=description"
   ]
  },
  {
   "cell_type": "code",
   "execution_count": 41,
   "metadata": {
    "collapsed": true
   },
   "outputs": [],
   "source": [
    "backup_lists()"
   ]
  },
  {
   "cell_type": "code",
   "execution_count": 63,
   "metadata": {
    "collapsed": false
   },
   "outputs": [
    {
     "name": "stdout",
     "output_type": "stream",
     "text": [
      "6297\n",
      "6297\n",
      "6297\n",
      "6297\n",
      "6297\n",
      "6297\n"
     ]
    }
   ],
   "source": [
    "#San Francisco other pages\n",
    "priceRanges = ['$65,000','$85,000','$100,000','$115,000','$130,000']\n",
    "for price in priceRanges:\n",
    "    if price == '$65,000':\n",
    "            level = 'low'\n",
    "            endPage=168\n",
    "            salaryCode='65'\n",
    "    elif price == '$85,000':\n",
    "            level = 'low'\n",
    "            endPage=130\n",
    "            salaryCode='85'\n",
    "    elif price == '$100,000':\n",
    "            level = 'high'\n",
    "            endPage=100\n",
    "            salaryCode='100'\n",
    "    elif price == '$115,000':\n",
    "            level = 'high'\n",
    "            endPage=70\n",
    "            salaryCode='115'\n",
    "    else:\n",
    "            level = 'high'\n",
    "            endPage=35\n",
    "            salaryCode='130'\n",
    "    city = 'San Francisco'\n",
    "    pVariableNu=10\n",
    "    b_URL='http://www.indeed.com/jobs?q=data+scientist+%24'+salaryCode+'%2C000&l=San+Francisco%2C+CA&start='\n",
    "    extractDataBeyondPages(price,city, level,b_URL,endPage,pVariableNu)\n",
    "print_lengths()"
   ]
  },
  {
   "cell_type": "code",
   "execution_count": 17,
   "metadata": {
    "collapsed": true
   },
   "outputs": [],
   "source": [
    "backup_lists()"
   ]
  },
  {
   "cell_type": "markdown",
   "metadata": {
    "focus": false,
    "id": "34070e89-9521-4b45-90c8-57a6599aac68"
   },
   "source": [
    "Now, to scale up our scraping, we need to accumulate more results. We can do this by examining the URL above.\n",
    "\n",
    "- \"http://www.indeed.com/jobs?q=data+scientist+%2420%2C000&l=New+York&start=10\"\n",
    "\n",
    "There are two query parameters here we can alter to collect more results, the `l=New+York` and the `start=10`. The first controls the location of the results (so we can try a different city). The second controls where in the results to start and gives 10 results (thus, we can keep incrementing by 10 to go further in the list)."
   ]
  },
  {
   "cell_type": "markdown",
   "metadata": {
    "focus": false,
    "id": "e8beed7c-3e42-40c0-810f-5f67f8f885a0"
   },
   "source": [
    "#### Complete the following code to collect results from multiple cities and starting points. \n",
    "- Enter your city below to add it to the search\n",
    "- Remember to convert your salary to U.S. Dollars to match the other cities if the currency is different"
   ]
  },
  {
   "cell_type": "code",
   "execution_count": 5,
   "metadata": {
    "collapsed": true,
    "focus": false,
    "id": "a9aa87ec-3575-4a01-a986-eb684f2c47d0"
   },
   "outputs": [],
   "source": [
    "#see above: Chicago, Cincinnati, Louisville, Autin, and San Francisco"
   ]
  },
  {
   "cell_type": "code",
   "execution_count": 6,
   "metadata": {
    "collapsed": false,
    "focus": false,
    "id": "04b0f9af-540e-402f-8292-81748707c676"
   },
   "outputs": [],
   "source": [
    "# url_template = \"http://www.indeed.com/jobs?q=data+scientist+%2420%2C000&l={}&start={}\"\n",
    "# max_results_per_city = 100 # Set this to a high-value (5000) to generate more results. \n",
    "# # Crawling more results, will also take much longer. First test your code on a small number of results and then expand.\n",
    "\n",
    "# results = []\n",
    "\n",
    "# for city in set(['New+York', 'Chicago', 'San+Francisco', 'Austin', 'Seattle', \n",
    "#     'Los+Angeles', 'Philadelphia', 'Atlanta', 'Dallas', 'Pittsburgh', \n",
    "#     'Portland', 'Phoenix', 'Denver', 'Houston', 'Miami', YOUR_CITY]):\n",
    "#     for start in range(0, max_results_per_city, 10):\n",
    "#         # Grab the results from the request (as above)\n",
    "#         # Append to the full set of results\n",
    "#         pass"
   ]
  },
  {
   "cell_type": "markdown",
   "metadata": {
    "focus": false,
    "id": "20339c09-5032-4e27-91be-286e9b46cd13"
   },
   "source": [
    "#### Use the functions you wrote above to parse out the 4 fields - location, title, company and salary. Create a dataframe from the results with those 4 columns."
   ]
  },
  {
   "cell_type": "code",
   "execution_count": 65,
   "metadata": {
    "collapsed": false,
    "focus": false,
    "id": "6e259594-1c52-436b-ab9e-527e071941c1"
   },
   "outputs": [
    {
     "name": "stdout",
     "output_type": "stream",
     "text": [
      "(6297, 6)\n",
      "(2934, 6)\n"
     ]
    },
    {
     "name": "stderr",
     "output_type": "stream",
     "text": [
      "/anaconda/lib/python2.7/site-packages/ipykernel/__main__.py:10: FutureWarning: the take_last=True keyword is deprecated, use keep='last' instead\n"
     ]
    }
   ],
   "source": [
    "#merging the list together\n",
    "dictPostings={'Search Criteria':searchCriteria,\n",
    "              'Job Title':jobTitle,\n",
    "              'Company Name':companyName,\n",
    "              'City Location':cityLocation,\n",
    "              'Salary Level': salaryRange, \n",
    "              'Description':description}\n",
    "\n",
    "searchListings = pd.DataFrame(dictPostings)\n",
    "print searchListings.shape\n",
    "searchListings=searchListings.drop_duplicates(take_last=True)\n",
    "print searchListings.shape"
   ]
  },
  {
   "cell_type": "markdown",
   "metadata": {
    "focus": false,
    "id": "ff98ce64-78a7-441f-a675-63464e32c834"
   },
   "source": [
    "Lastly, we need to clean up salary data. \n",
    "\n",
    "1. Only a small number of the scraped results have salary information - only these will be used for modeling.\n",
    "1. Some of the salaries are not yearly but hourly or weekly, these will not be useful to us for now\n",
    "1. Some of the entries may be duplicated\n",
    "1. The salaries are given as text and usually with ranges.\n",
    "\n",
    "#### Find the entries with annual salary entries, by filtering the entries without salaries or salaries that are not yearly (filter those that refer to hour or week). Also, remove duplicate entries"
   ]
  },
  {
   "cell_type": "code",
   "execution_count": 9,
   "metadata": {
    "collapsed": false,
    "focus": false,
    "id": "58533e57-f86b-494a-b841-e7b59c6229c6"
   },
   "outputs": [],
   "source": [
    "## I did ranges"
   ]
  },
  {
   "cell_type": "markdown",
   "metadata": {
    "focus": false,
    "id": "7d4bc860-b214-4f75-9cd0-b234830b1ec2"
   },
   "source": [
    "#### Write a function that takes a salary string and converts it to a number, averaging a salary range if necessary"
   ]
  },
  {
   "cell_type": "code",
   "execution_count": 66,
   "metadata": {
    "collapsed": false,
    "focus": false,
    "id": "a0f701e0-80bd-40ba-9101-4535860c0968"
   },
   "outputs": [
    {
     "data": {
      "text/plain": [
       "Index([u'City Location', u'Company Name', u'Description', u'Job Title',\n",
       "       u'Salary Level', u'Search Criteria'],\n",
       "      dtype='object')"
      ]
     },
     "execution_count": 66,
     "metadata": {},
     "output_type": "execute_result"
    }
   ],
   "source": [
    "##the get dummies\n",
    "searchListings.columns"
   ]
  },
  {
   "cell_type": "code",
   "execution_count": 67,
   "metadata": {
    "collapsed": false
   },
   "outputs": [
    {
     "data": {
      "text/html": [
       "<div>\n",
       "<table border=\"1\" class=\"dataframe\">\n",
       "  <thead>\n",
       "    <tr style=\"text-align: right;\">\n",
       "      <th></th>\n",
       "      <th>City Location</th>\n",
       "      <th>Company Name</th>\n",
       "      <th>Description</th>\n",
       "      <th>Job Title</th>\n",
       "      <th>Salary Level</th>\n",
       "      <th>Search Criteria</th>\n",
       "    </tr>\n",
       "  </thead>\n",
       "  <tbody>\n",
       "    <tr>\n",
       "      <th>2</th>\n",
       "      <td>Chicago, IL 60606</td>\n",
       "      <td>Purohit Navigation</td>\n",
       "      <td>Assist with data QC process on an ad hoc basis. We offer thoughtful research design, expertly executed data collection, and actionable research insights to...</td>\n",
       "      <td>Market Research Analyst</td>\n",
       "      <td>low</td>\n",
       "      <td>data scientist</td>\n",
       "    </tr>\n",
       "    <tr>\n",
       "      <th>8</th>\n",
       "      <td>Chicago, IL</td>\n",
       "      <td>C R Research Services</td>\n",
       "      <td>\\nParticipate in the development of final written reports that involve presentation set-up and data posting. Coordinate all aspects of primary research projects...</td>\n",
       "      <td>Quantitative Research Analyst</td>\n",
       "      <td>low</td>\n",
       "      <td>data scientist</td>\n",
       "    </tr>\n",
       "  </tbody>\n",
       "</table>\n",
       "</div>"
      ],
      "text/plain": [
       "       City Location           Company Name  \\\n",
       "2  Chicago, IL 60606     Purohit Navigation   \n",
       "8        Chicago, IL  C R Research Services   \n",
       "\n",
       "                                                                                                                                                           Description  \\\n",
       "2       Assist with data QC process on an ad hoc basis. We offer thoughtful research design, expertly executed data collection, and actionable research insights to...   \n",
       "8  \\nParticipate in the development of final written reports that involve presentation set-up and data posting. Coordinate all aspects of primary research projects...   \n",
       "\n",
       "                       Job Title Salary Level Search Criteria  \n",
       "2        Market Research Analyst          low  data scientist  \n",
       "8  Quantitative Research Analyst          low  data scientist  "
      ]
     },
     "execution_count": 67,
     "metadata": {},
     "output_type": "execute_result"
    }
   ],
   "source": [
    "searchListings.head(2)"
   ]
  },
  {
   "cell_type": "code",
   "execution_count": 68,
   "metadata": {
    "collapsed": true
   },
   "outputs": [],
   "source": [
    "#creating dummies for salary listings\n",
    "salaryDummies = pd.get_dummies(searchListings['Salary Level'])"
   ]
  },
  {
   "cell_type": "code",
   "execution_count": 69,
   "metadata": {
    "collapsed": false
   },
   "outputs": [
    {
     "data": {
      "text/html": [
       "<div>\n",
       "<table border=\"1\" class=\"dataframe\">\n",
       "  <thead>\n",
       "    <tr style=\"text-align: right;\">\n",
       "      <th></th>\n",
       "      <th>high</th>\n",
       "      <th>low</th>\n",
       "    </tr>\n",
       "  </thead>\n",
       "  <tbody>\n",
       "    <tr>\n",
       "      <th>2</th>\n",
       "      <td>0.0</td>\n",
       "      <td>1.0</td>\n",
       "    </tr>\n",
       "    <tr>\n",
       "      <th>8</th>\n",
       "      <td>0.0</td>\n",
       "      <td>1.0</td>\n",
       "    </tr>\n",
       "    <tr>\n",
       "      <th>9</th>\n",
       "      <td>0.0</td>\n",
       "      <td>1.0</td>\n",
       "    </tr>\n",
       "    <tr>\n",
       "      <th>10</th>\n",
       "      <td>0.0</td>\n",
       "      <td>1.0</td>\n",
       "    </tr>\n",
       "    <tr>\n",
       "      <th>12</th>\n",
       "      <td>0.0</td>\n",
       "      <td>1.0</td>\n",
       "    </tr>\n",
       "  </tbody>\n",
       "</table>\n",
       "</div>"
      ],
      "text/plain": [
       "    high  low\n",
       "2    0.0  1.0\n",
       "8    0.0  1.0\n",
       "9    0.0  1.0\n",
       "10   0.0  1.0\n",
       "12   0.0  1.0"
      ]
     },
     "execution_count": 69,
     "metadata": {},
     "output_type": "execute_result"
    }
   ],
   "source": [
    "salaryDummies.head()"
   ]
  },
  {
   "cell_type": "code",
   "execution_count": 70,
   "metadata": {
    "collapsed": false
   },
   "outputs": [
    {
     "data": {
      "text/plain": [
       "Index([u'high', u'low'], dtype='object')"
      ]
     },
     "execution_count": 70,
     "metadata": {},
     "output_type": "execute_result"
    }
   ],
   "source": [
    "salaryDummies.columns"
   ]
  },
  {
   "cell_type": "code",
   "execution_count": 114,
   "metadata": {
    "collapsed": true
   },
   "outputs": [],
   "source": [
    "#get the dummies for states\n",
    "#first the city state and zip need to be separated"
   ]
  },
  {
   "cell_type": "code",
   "execution_count": 72,
   "metadata": {
    "collapsed": true
   },
   "outputs": [],
   "source": [
    "searchListings=pd.concat([searchListings, \n",
    "                          searchListings['City Location'].str.split(',',expand=True)],axis=1)"
   ]
  },
  {
   "cell_type": "code",
   "execution_count": 73,
   "metadata": {
    "collapsed": true
   },
   "outputs": [],
   "source": [
    "searchListings.columns=['City Location','Company Name',\n",
    "                       'Description','Job Title','Salary Level','Search Criteria',\n",
    "                       'City', 'State Zip']"
   ]
  },
  {
   "cell_type": "code",
   "execution_count": 74,
   "metadata": {
    "collapsed": true
   },
   "outputs": [],
   "source": [
    "searchListings=pd.concat([searchListings, \n",
    "                          searchListings['State Zip'].str.split(' ',2,expand=True)],axis=1)"
   ]
  },
  {
   "cell_type": "code",
   "execution_count": 75,
   "metadata": {
    "collapsed": true
   },
   "outputs": [],
   "source": [
    "searchListings.columns=['City Location','Company Name',\n",
    "                       'Description','Job Title','Salary Level','Search Criteria',\n",
    "                       'City','State Zip', 'blank','State','Zip']"
   ]
  },
  {
   "cell_type": "code",
   "execution_count": 76,
   "metadata": {
    "collapsed": false
   },
   "outputs": [
    {
     "data": {
      "text/html": [
       "<div>\n",
       "<table border=\"1\" class=\"dataframe\">\n",
       "  <thead>\n",
       "    <tr style=\"text-align: right;\">\n",
       "      <th></th>\n",
       "      <th>CA</th>\n",
       "      <th>IL</th>\n",
       "      <th>IN</th>\n",
       "      <th>KY</th>\n",
       "      <th>OH</th>\n",
       "      <th>TX</th>\n",
       "    </tr>\n",
       "  </thead>\n",
       "  <tbody>\n",
       "    <tr>\n",
       "      <th>2</th>\n",
       "      <td>0.0</td>\n",
       "      <td>1.0</td>\n",
       "      <td>0.0</td>\n",
       "      <td>0.0</td>\n",
       "      <td>0.0</td>\n",
       "      <td>0.0</td>\n",
       "    </tr>\n",
       "    <tr>\n",
       "      <th>8</th>\n",
       "      <td>0.0</td>\n",
       "      <td>1.0</td>\n",
       "      <td>0.0</td>\n",
       "      <td>0.0</td>\n",
       "      <td>0.0</td>\n",
       "      <td>0.0</td>\n",
       "    </tr>\n",
       "    <tr>\n",
       "      <th>9</th>\n",
       "      <td>0.0</td>\n",
       "      <td>1.0</td>\n",
       "      <td>0.0</td>\n",
       "      <td>0.0</td>\n",
       "      <td>0.0</td>\n",
       "      <td>0.0</td>\n",
       "    </tr>\n",
       "    <tr>\n",
       "      <th>10</th>\n",
       "      <td>0.0</td>\n",
       "      <td>1.0</td>\n",
       "      <td>0.0</td>\n",
       "      <td>0.0</td>\n",
       "      <td>0.0</td>\n",
       "      <td>0.0</td>\n",
       "    </tr>\n",
       "    <tr>\n",
       "      <th>12</th>\n",
       "      <td>0.0</td>\n",
       "      <td>1.0</td>\n",
       "      <td>0.0</td>\n",
       "      <td>0.0</td>\n",
       "      <td>0.0</td>\n",
       "      <td>0.0</td>\n",
       "    </tr>\n",
       "  </tbody>\n",
       "</table>\n",
       "</div>"
      ],
      "text/plain": [
       "     CA   IL   IN   KY   OH   TX\n",
       "2   0.0  1.0  0.0  0.0  0.0  0.0\n",
       "8   0.0  1.0  0.0  0.0  0.0  0.0\n",
       "9   0.0  1.0  0.0  0.0  0.0  0.0\n",
       "10  0.0  1.0  0.0  0.0  0.0  0.0\n",
       "12  0.0  1.0  0.0  0.0  0.0  0.0"
      ]
     },
     "execution_count": 76,
     "metadata": {},
     "output_type": "execute_result"
    }
   ],
   "source": [
    "#created dummies by state so not to get all the suburbs\n",
    "stateDummies=pd.get_dummies(searchListings['State'])\n",
    "stateDummies.head()\n"
   ]
  },
  {
   "cell_type": "code",
   "execution_count": 77,
   "metadata": {
    "collapsed": true
   },
   "outputs": [],
   "source": [
    "#merge in salary dummies\n",
    "searchListings=pd.concat([searchListings, salaryDummies],axis =1)"
   ]
  },
  {
   "cell_type": "code",
   "execution_count": 78,
   "metadata": {
    "collapsed": true
   },
   "outputs": [],
   "source": [
    "#merge in state dummies\n",
    "searchListings=pd.concat([searchListings, stateDummies],axis=1)"
   ]
  },
  {
   "cell_type": "code",
   "execution_count": 79,
   "metadata": {
    "collapsed": false
   },
   "outputs": [
    {
     "data": {
      "text/html": [
       "<div>\n",
       "<table border=\"1\" class=\"dataframe\">\n",
       "  <thead>\n",
       "    <tr style=\"text-align: right;\">\n",
       "      <th></th>\n",
       "      <th>City Location</th>\n",
       "      <th>Company Name</th>\n",
       "      <th>Description</th>\n",
       "      <th>Job Title</th>\n",
       "      <th>Salary Level</th>\n",
       "      <th>Search Criteria</th>\n",
       "      <th>City</th>\n",
       "      <th>State Zip</th>\n",
       "      <th>blank</th>\n",
       "      <th>State</th>\n",
       "      <th>Zip</th>\n",
       "      <th>high</th>\n",
       "      <th>low</th>\n",
       "      <th>CA</th>\n",
       "      <th>IL</th>\n",
       "      <th>IN</th>\n",
       "      <th>KY</th>\n",
       "      <th>OH</th>\n",
       "      <th>TX</th>\n",
       "    </tr>\n",
       "  </thead>\n",
       "  <tbody>\n",
       "    <tr>\n",
       "      <th>2</th>\n",
       "      <td>Chicago, IL 60606</td>\n",
       "      <td>Purohit Navigation</td>\n",
       "      <td>Assist with data QC process on an ad hoc basis. We offer thoughtful research design, expertly executed data collection, and actionable research insights to...</td>\n",
       "      <td>Market Research Analyst</td>\n",
       "      <td>low</td>\n",
       "      <td>data scientist</td>\n",
       "      <td>Chicago</td>\n",
       "      <td>IL 60606</td>\n",
       "      <td></td>\n",
       "      <td>IL</td>\n",
       "      <td>60606</td>\n",
       "      <td>0.0</td>\n",
       "      <td>1.0</td>\n",
       "      <td>0.0</td>\n",
       "      <td>1.0</td>\n",
       "      <td>0.0</td>\n",
       "      <td>0.0</td>\n",
       "      <td>0.0</td>\n",
       "      <td>0.0</td>\n",
       "    </tr>\n",
       "    <tr>\n",
       "      <th>8</th>\n",
       "      <td>Chicago, IL</td>\n",
       "      <td>C R Research Services</td>\n",
       "      <td>\\nParticipate in the development of final written reports that involve presentation set-up and data posting. Coordinate all aspects of primary research projects...</td>\n",
       "      <td>Quantitative Research Analyst</td>\n",
       "      <td>low</td>\n",
       "      <td>data scientist</td>\n",
       "      <td>Chicago</td>\n",
       "      <td>IL</td>\n",
       "      <td></td>\n",
       "      <td>IL</td>\n",
       "      <td>None</td>\n",
       "      <td>0.0</td>\n",
       "      <td>1.0</td>\n",
       "      <td>0.0</td>\n",
       "      <td>1.0</td>\n",
       "      <td>0.0</td>\n",
       "      <td>0.0</td>\n",
       "      <td>0.0</td>\n",
       "      <td>0.0</td>\n",
       "    </tr>\n",
       "    <tr>\n",
       "      <th>9</th>\n",
       "      <td>Chicago, IL</td>\n",
       "      <td>Google</td>\n",
       "      <td>\\nExperience interpreting technical data and creating reports with data. Experience with data analytics and/or data visualization techniques and software....</td>\n",
       "      <td>Machine Learning Deployment Engineer, Professional Services,...</td>\n",
       "      <td>low</td>\n",
       "      <td>data scientist</td>\n",
       "      <td>Chicago</td>\n",
       "      <td>IL</td>\n",
       "      <td></td>\n",
       "      <td>IL</td>\n",
       "      <td>None</td>\n",
       "      <td>0.0</td>\n",
       "      <td>1.0</td>\n",
       "      <td>0.0</td>\n",
       "      <td>1.0</td>\n",
       "      <td>0.0</td>\n",
       "      <td>0.0</td>\n",
       "      <td>0.0</td>\n",
       "      <td>0.0</td>\n",
       "    </tr>\n",
       "    <tr>\n",
       "      <th>10</th>\n",
       "      <td>Chicago, IL</td>\n",
       "      <td>Northwestern University</td>\n",
       "      <td>\\nEnsures data integrity. This includes database administration, data consolidation, data analysis and management reporting....</td>\n",
       "      <td>Statistical Analyst</td>\n",
       "      <td>low</td>\n",
       "      <td>data scientist</td>\n",
       "      <td>Chicago</td>\n",
       "      <td>IL</td>\n",
       "      <td></td>\n",
       "      <td>IL</td>\n",
       "      <td>None</td>\n",
       "      <td>0.0</td>\n",
       "      <td>1.0</td>\n",
       "      <td>0.0</td>\n",
       "      <td>1.0</td>\n",
       "      <td>0.0</td>\n",
       "      <td>0.0</td>\n",
       "      <td>0.0</td>\n",
       "      <td>0.0</td>\n",
       "    </tr>\n",
       "    <tr>\n",
       "      <th>12</th>\n",
       "      <td>Chicago, IL</td>\n",
       "      <td>Precima</td>\n",
       "      <td>The Data Scientist will provide process execution support for client projects. Take analytical objectives and define data requirements....</td>\n",
       "      <td>Data Scientist</td>\n",
       "      <td>low</td>\n",
       "      <td>data scientist</td>\n",
       "      <td>Chicago</td>\n",
       "      <td>IL</td>\n",
       "      <td></td>\n",
       "      <td>IL</td>\n",
       "      <td>None</td>\n",
       "      <td>0.0</td>\n",
       "      <td>1.0</td>\n",
       "      <td>0.0</td>\n",
       "      <td>1.0</td>\n",
       "      <td>0.0</td>\n",
       "      <td>0.0</td>\n",
       "      <td>0.0</td>\n",
       "      <td>0.0</td>\n",
       "    </tr>\n",
       "  </tbody>\n",
       "</table>\n",
       "</div>"
      ],
      "text/plain": [
       "        City Location             Company Name  \\\n",
       "2   Chicago, IL 60606       Purohit Navigation   \n",
       "8         Chicago, IL    C R Research Services   \n",
       "9         Chicago, IL                   Google   \n",
       "10        Chicago, IL  Northwestern University   \n",
       "12        Chicago, IL                  Precima   \n",
       "\n",
       "                                                                                                                                                            Description  \\\n",
       "2        Assist with data QC process on an ad hoc basis. We offer thoughtful research design, expertly executed data collection, and actionable research insights to...   \n",
       "8   \\nParticipate in the development of final written reports that involve presentation set-up and data posting. Coordinate all aspects of primary research projects...   \n",
       "9         \\nExperience interpreting technical data and creating reports with data. Experience with data analytics and/or data visualization techniques and software....   \n",
       "10                                      \\nEnsures data integrity. This includes database administration, data consolidation, data analysis and management reporting....   \n",
       "12                           The Data Scientist will provide process execution support for client projects. Take analytical objectives and define data requirements....   \n",
       "\n",
       "                                                          Job Title  \\\n",
       "2                                           Market Research Analyst   \n",
       "8                                     Quantitative Research Analyst   \n",
       "9   Machine Learning Deployment Engineer, Professional Services,...   \n",
       "10                                              Statistical Analyst   \n",
       "12                                                   Data Scientist   \n",
       "\n",
       "   Salary Level Search Criteria     City  State Zip blank State    Zip  high  \\\n",
       "2           low  data scientist  Chicago   IL 60606          IL  60606   0.0   \n",
       "8           low  data scientist  Chicago         IL          IL   None   0.0   \n",
       "9           low  data scientist  Chicago         IL          IL   None   0.0   \n",
       "10          low  data scientist  Chicago         IL          IL   None   0.0   \n",
       "12          low  data scientist  Chicago         IL          IL   None   0.0   \n",
       "\n",
       "    low   CA   IL   IN   KY   OH   TX  \n",
       "2   1.0  0.0  1.0  0.0  0.0  0.0  0.0  \n",
       "8   1.0  0.0  1.0  0.0  0.0  0.0  0.0  \n",
       "9   1.0  0.0  1.0  0.0  0.0  0.0  0.0  \n",
       "10  1.0  0.0  1.0  0.0  0.0  0.0  0.0  \n",
       "12  1.0  0.0  1.0  0.0  0.0  0.0  0.0  "
      ]
     },
     "execution_count": 79,
     "metadata": {},
     "output_type": "execute_result"
    }
   ],
   "source": [
    "searchListings.head()"
   ]
  },
  {
   "cell_type": "markdown",
   "metadata": {},
   "source": [
    "in the next step I am going to separate the City State Zipcode.\n",
    "Since my cities are in separate states, below I will see if there is a relationship between location and salary level.  One would assume that there would be"
   ]
  },
  {
   "cell_type": "code",
   "execution_count": 80,
   "metadata": {
    "collapsed": false
   },
   "outputs": [
    {
     "data": {
      "text/plain": [
       "(2934, 19)"
      ]
     },
     "execution_count": 80,
     "metadata": {},
     "output_type": "execute_result"
    }
   ],
   "source": [
    "searchListings.shape"
   ]
  },
  {
   "cell_type": "code",
   "execution_count": 81,
   "metadata": {
    "collapsed": false
   },
   "outputs": [
    {
     "name": "stdout",
     "output_type": "stream",
     "text": [
      "1756.0\n",
      "1178.0\n"
     ]
    }
   ],
   "source": [
    "#basic exploratory stats\n",
    "#pd.pivot_table(salaryListings[salaryListings[]])\n",
    "print np.sum(searchListings['low'])\n",
    "print np.sum(searchListings['high'])"
   ]
  },
  {
   "cell_type": "code",
   "execution_count": 82,
   "metadata": {
    "collapsed": false
   },
   "outputs": [
    {
     "data": {
      "text/html": [
       "<div>\n",
       "<table border=\"1\" class=\"dataframe\">\n",
       "  <thead>\n",
       "    <tr>\n",
       "      <th></th>\n",
       "      <th>sum</th>\n",
       "    </tr>\n",
       "    <tr>\n",
       "      <th></th>\n",
       "      <th>high</th>\n",
       "    </tr>\n",
       "    <tr>\n",
       "      <th>State</th>\n",
       "      <th></th>\n",
       "    </tr>\n",
       "  </thead>\n",
       "  <tbody>\n",
       "    <tr>\n",
       "      <th>CA</th>\n",
       "      <td>935.0</td>\n",
       "    </tr>\n",
       "    <tr>\n",
       "      <th>IL</th>\n",
       "      <td>156.0</td>\n",
       "    </tr>\n",
       "    <tr>\n",
       "      <th>IN</th>\n",
       "      <td>1.0</td>\n",
       "    </tr>\n",
       "    <tr>\n",
       "      <th>KY</th>\n",
       "      <td>4.0</td>\n",
       "    </tr>\n",
       "    <tr>\n",
       "      <th>OH</th>\n",
       "      <td>9.0</td>\n",
       "    </tr>\n",
       "  </tbody>\n",
       "</table>\n",
       "</div>"
      ],
      "text/plain": [
       "         sum\n",
       "        high\n",
       "State       \n",
       "CA     935.0\n",
       "IL     156.0\n",
       "IN       1.0\n",
       "KY       4.0\n",
       "OH       9.0"
      ]
     },
     "execution_count": 82,
     "metadata": {},
     "output_type": "execute_result"
    }
   ],
   "source": [
    "highPivot=pd.pivot_table(searchListings, \n",
    "                    index = ['State',], \n",
    "                        values=['high'], \n",
    "                        aggfunc = [np.sum]).head()\n",
    "lowPivot=pd.pivot_table(searchListings, \n",
    "                    index = ['State',], \n",
    "                        values=['low'], \n",
    "                        aggfunc = [np.sum]).head()\n",
    "highPivot"
   ]
  },
  {
   "cell_type": "code",
   "execution_count": 83,
   "metadata": {
    "collapsed": false
   },
   "outputs": [
    {
     "data": {
      "text/html": [
       "<div>\n",
       "<table border=\"1\" class=\"dataframe\">\n",
       "  <thead>\n",
       "    <tr>\n",
       "      <th></th>\n",
       "      <th>sum</th>\n",
       "    </tr>\n",
       "    <tr>\n",
       "      <th></th>\n",
       "      <th>low</th>\n",
       "    </tr>\n",
       "    <tr>\n",
       "      <th>State</th>\n",
       "      <th></th>\n",
       "    </tr>\n",
       "  </thead>\n",
       "  <tbody>\n",
       "    <tr>\n",
       "      <th>CA</th>\n",
       "      <td>1195.0</td>\n",
       "    </tr>\n",
       "    <tr>\n",
       "      <th>IL</th>\n",
       "      <td>394.0</td>\n",
       "    </tr>\n",
       "    <tr>\n",
       "      <th>IN</th>\n",
       "      <td>1.0</td>\n",
       "    </tr>\n",
       "    <tr>\n",
       "      <th>KY</th>\n",
       "      <td>11.0</td>\n",
       "    </tr>\n",
       "    <tr>\n",
       "      <th>OH</th>\n",
       "      <td>14.0</td>\n",
       "    </tr>\n",
       "  </tbody>\n",
       "</table>\n",
       "</div>"
      ],
      "text/plain": [
       "          sum\n",
       "          low\n",
       "State        \n",
       "CA     1195.0\n",
       "IL      394.0\n",
       "IN        1.0\n",
       "KY       11.0\n",
       "OH       14.0"
      ]
     },
     "execution_count": 83,
     "metadata": {},
     "output_type": "execute_result"
    }
   ],
   "source": [
    "lowPivot\n"
   ]
  },
  {
   "cell_type": "code",
   "execution_count": 84,
   "metadata": {
    "collapsed": false
   },
   "outputs": [
    {
     "data": {
      "text/html": [
       "<div>\n",
       "<table border=\"1\" class=\"dataframe\">\n",
       "  <thead>\n",
       "    <tr>\n",
       "      <th></th>\n",
       "      <th colspan=\"2\" halign=\"left\">sum</th>\n",
       "    </tr>\n",
       "    <tr>\n",
       "      <th></th>\n",
       "      <th>low</th>\n",
       "      <th>high</th>\n",
       "    </tr>\n",
       "    <tr>\n",
       "      <th>State</th>\n",
       "      <th></th>\n",
       "      <th></th>\n",
       "    </tr>\n",
       "  </thead>\n",
       "  <tbody>\n",
       "    <tr>\n",
       "      <th>CA</th>\n",
       "      <td>1195.0</td>\n",
       "      <td>935.0</td>\n",
       "    </tr>\n",
       "    <tr>\n",
       "      <th>IL</th>\n",
       "      <td>394.0</td>\n",
       "      <td>156.0</td>\n",
       "    </tr>\n",
       "    <tr>\n",
       "      <th>IN</th>\n",
       "      <td>1.0</td>\n",
       "      <td>1.0</td>\n",
       "    </tr>\n",
       "    <tr>\n",
       "      <th>KY</th>\n",
       "      <td>11.0</td>\n",
       "      <td>4.0</td>\n",
       "    </tr>\n",
       "    <tr>\n",
       "      <th>OH</th>\n",
       "      <td>14.0</td>\n",
       "      <td>9.0</td>\n",
       "    </tr>\n",
       "  </tbody>\n",
       "</table>\n",
       "</div>"
      ],
      "text/plain": [
       "          sum       \n",
       "          low   high\n",
       "State               \n",
       "CA     1195.0  935.0\n",
       "IL      394.0  156.0\n",
       "IN        1.0    1.0\n",
       "KY       11.0    4.0\n",
       "OH       14.0    9.0"
      ]
     },
     "execution_count": 84,
     "metadata": {},
     "output_type": "execute_result"
    }
   ],
   "source": [
    "#salaryByState=pd.DataFrame(lowPivot).join(pd.DataFrame(highPivot))\n",
    "salaryByState=pd.concat([lowPivot, highPivot],axis=1)\n",
    "salaryByState"
   ]
  },
  {
   "cell_type": "code",
   "execution_count": 85,
   "metadata": {
    "collapsed": false
   },
   "outputs": [
    {
     "data": {
      "text/html": [
       "<div>\n",
       "<table border=\"1\" class=\"dataframe\">\n",
       "  <thead>\n",
       "    <tr style=\"text-align: right;\">\n",
       "      <th></th>\n",
       "      <th>sum low</th>\n",
       "      <th>sum high</th>\n",
       "    </tr>\n",
       "    <tr>\n",
       "      <th>State</th>\n",
       "      <th></th>\n",
       "      <th></th>\n",
       "    </tr>\n",
       "  </thead>\n",
       "  <tbody>\n",
       "    <tr>\n",
       "      <th>CA</th>\n",
       "      <td>1195.0</td>\n",
       "      <td>935.0</td>\n",
       "    </tr>\n",
       "    <tr>\n",
       "      <th>IL</th>\n",
       "      <td>394.0</td>\n",
       "      <td>156.0</td>\n",
       "    </tr>\n",
       "    <tr>\n",
       "      <th>IN</th>\n",
       "      <td>1.0</td>\n",
       "      <td>1.0</td>\n",
       "    </tr>\n",
       "    <tr>\n",
       "      <th>KY</th>\n",
       "      <td>11.0</td>\n",
       "      <td>4.0</td>\n",
       "    </tr>\n",
       "    <tr>\n",
       "      <th>OH</th>\n",
       "      <td>14.0</td>\n",
       "      <td>9.0</td>\n",
       "    </tr>\n",
       "  </tbody>\n",
       "</table>\n",
       "</div>"
      ],
      "text/plain": [
       "       sum low  sum high\n",
       "State                   \n",
       "CA      1195.0     935.0\n",
       "IL       394.0     156.0\n",
       "IN         1.0       1.0\n",
       "KY        11.0       4.0\n",
       "OH        14.0       9.0"
      ]
     },
     "execution_count": 85,
     "metadata": {},
     "output_type": "execute_result"
    }
   ],
   "source": [
    "#sum of low salaries and sum of high salaries\n",
    "salaryByState.columns=[' '.join(col).strip() for col in salaryByState.columns.values]\n",
    "salaryByState"
   ]
  },
  {
   "cell_type": "markdown",
   "metadata": {
    "collapsed": false,
    "focus": false,
    "id": "43e71edd-210e-42b1-9336-70a931f048af"
   },
   "source": [
    "### Save your results as a CSV"
   ]
  },
  {
   "cell_type": "code",
   "execution_count": 86,
   "metadata": {
    "collapsed": false,
    "focus": false,
    "id": "783fd153-28ac-47ab-bfca-27e7c1de95b4"
   },
   "outputs": [],
   "source": [
    "import csv\n",
    "searchListings.to_csv('SearchListings.csv', encoding='utf-8')\n",
    "\n"
   ]
  },
  {
   "cell_type": "markdown",
   "metadata": {
    "focus": false,
    "id": "04563b69-f7b6-466f-9d65-fc62c9ddee6a"
   },
   "source": [
    "## Predicting salaries using Logistic Regression"
   ]
  },
  {
   "cell_type": "markdown",
   "metadata": {
    "focus": false,
    "id": "243e949e-2742-40af-872e-fec475fd306c"
   },
   "source": [
    "#### Load in the the data of scraped salaries"
   ]
  },
  {
   "cell_type": "markdown",
   "metadata": {
    "collapsed": false,
    "focus": false,
    "id": "588f9845-6143-4bcc-bfd1-85d45b79303d"
   },
   "source": [
    "The assumption that location will predict whether a salary will be high or low.  If it proves otherwise then I will look into whether words in the title predict high or not"
   ]
  },
  {
   "cell_type": "markdown",
   "metadata": {
    "collapsed": true
   },
   "source": [
    "I started looking at predictors by feeding the states into a model\n",
    "I felt this would make a difference California does predict high but only with .59 accuracy"
   ]
  },
  {
   "cell_type": "code",
   "execution_count": 114,
   "metadata": {
    "collapsed": true
   },
   "outputs": [],
   "source": [
    "import seaborn as sns"
   ]
  },
  {
   "cell_type": "code",
   "execution_count": 92,
   "metadata": {
    "collapsed": false
   },
   "outputs": [
    {
     "data": {
      "text/html": [
       "<div>\n",
       "<table border=\"1\" class=\"dataframe\">\n",
       "  <thead>\n",
       "    <tr style=\"text-align: right;\">\n",
       "      <th></th>\n",
       "      <th>Coefficient</th>\n",
       "      <th>Feature</th>\n",
       "    </tr>\n",
       "  </thead>\n",
       "  <tbody>\n",
       "    <tr>\n",
       "      <th>3</th>\n",
       "      <td>-0.056335</td>\n",
       "      <td>CA</td>\n",
       "    </tr>\n",
       "    <tr>\n",
       "      <th>1</th>\n",
       "      <td>0.118462</td>\n",
       "      <td>OH</td>\n",
       "    </tr>\n",
       "    <tr>\n",
       "      <th>2</th>\n",
       "      <td>0.441841</td>\n",
       "      <td>TX</td>\n",
       "    </tr>\n",
       "    <tr>\n",
       "      <th>0</th>\n",
       "      <td>0.619164</td>\n",
       "      <td>IL</td>\n",
       "    </tr>\n",
       "  </tbody>\n",
       "</table>\n",
       "</div>"
      ],
      "text/plain": [
       "   Coefficient Feature\n",
       "3    -0.056335      CA\n",
       "1     0.118462      OH\n",
       "2     0.441841      TX\n",
       "0     0.619164      IL"
      ]
     },
     "execution_count": 92,
     "metadata": {},
     "output_type": "execute_result"
    }
   ],
   "source": [
    "def examine_coefficients(model, df):\n",
    "    df = pd.DataFrame(\n",
    "        { 'Coefficient' : model.coef_[0] , 'Feature' : df.columns}\n",
    "    ).sort_values(by='Coefficient')\n",
    "    return df[df.Coefficient !=0 ]\n",
    "X=searchListings[['IL','OH','TX','CA']]\n",
    "y=searchListings['low']\n",
    "model = LogisticRegression() \n",
    "\n",
    "model.fit(X, y) # This fits the model to learn the coefficients\n",
    "examine_coefficients(model, X)"
   ]
  },
  {
   "cell_type": "code",
   "execution_count": 91,
   "metadata": {
    "collapsed": false
   },
   "outputs": [
    {
     "name": "stdout",
     "output_type": "stream",
     "text": [
      "0.598500340832\n"
     ]
    }
   ],
   "source": [
    "print model.score(X,y)"
   ]
  },
  {
   "cell_type": "code",
   "execution_count": 93,
   "metadata": {
    "collapsed": false
   },
   "outputs": [
    {
     "data": {
      "text/html": [
       "<div>\n",
       "<table border=\"1\" class=\"dataframe\">\n",
       "  <thead>\n",
       "    <tr style=\"text-align: right;\">\n",
       "      <th></th>\n",
       "      <th>Coefficient</th>\n",
       "      <th>Feature</th>\n",
       "    </tr>\n",
       "  </thead>\n",
       "  <tbody>\n",
       "    <tr>\n",
       "      <th>0</th>\n",
       "      <td>-0.619164</td>\n",
       "      <td>IL</td>\n",
       "    </tr>\n",
       "    <tr>\n",
       "      <th>2</th>\n",
       "      <td>-0.441841</td>\n",
       "      <td>TX</td>\n",
       "    </tr>\n",
       "    <tr>\n",
       "      <th>1</th>\n",
       "      <td>-0.118462</td>\n",
       "      <td>OH</td>\n",
       "    </tr>\n",
       "    <tr>\n",
       "      <th>3</th>\n",
       "      <td>0.056335</td>\n",
       "      <td>CA</td>\n",
       "    </tr>\n",
       "  </tbody>\n",
       "</table>\n",
       "</div>"
      ],
      "text/plain": [
       "   Coefficient Feature\n",
       "0    -0.619164      IL\n",
       "2    -0.441841      TX\n",
       "1    -0.118462      OH\n",
       "3     0.056335      CA"
      ]
     },
     "execution_count": 93,
     "metadata": {},
     "output_type": "execute_result"
    }
   ],
   "source": [
    "def examine_coefficients(model, df):\n",
    "    df = pd.DataFrame(\n",
    "        { 'Coefficient' : model.coef_[0] , 'Feature' : df.columns}\n",
    "    ).sort_values(by='Coefficient')\n",
    "    return df[df.Coefficient !=0 ]\n",
    "X=searchListings[['IL','OH','TX', 'CA']]\n",
    "y=searchListings['high']\n",
    "model = LogisticRegression() \n",
    "\n",
    "model.fit(X, y) # This fits the model to learn the coefficients\n",
    "examine_coefficients(model, X)"
   ]
  },
  {
   "cell_type": "code",
   "execution_count": 94,
   "metadata": {
    "collapsed": false
   },
   "outputs": [
    {
     "name": "stdout",
     "output_type": "stream",
     "text": [
      "0.598500340832\n"
     ]
    }
   ],
   "source": [
    "print model.score(X,y)"
   ]
  },
  {
   "cell_type": "code",
   "execution_count": null,
   "metadata": {
    "collapsed": true
   },
   "outputs": [],
   "source": [
    "############  Grid Search"
   ]
  },
  {
   "cell_type": "code",
   "execution_count": 95,
   "metadata": {
    "collapsed": true
   },
   "outputs": [],
   "source": [
    "paramerters={\n",
    "    'penalty':['l1','l2'],\n",
    "    'C':[0.1,1,10,23.5,50]}\n",
    "\n",
    "modelAmTesting=LogisticRegression()"
   ]
  },
  {
   "cell_type": "code",
   "execution_count": 96,
   "metadata": {
    "collapsed": true
   },
   "outputs": [],
   "source": [
    "grid_search = GridSearchCV(estimator=modelAmTesting, param_grid=paramerters,verbose=10)"
   ]
  },
  {
   "cell_type": "code",
   "execution_count": 97,
   "metadata": {
    "collapsed": false
   },
   "outputs": [
    {
     "name": "stdout",
     "output_type": "stream",
     "text": [
      "Fitting 3 folds for each of 10 candidates, totalling 30 fits\n",
      "[CV] penalty=l1, C=0.1 ...............................................\n",
      "[CV] ...................... penalty=l1, C=0.1, score=0.598570 -   0.0s\n",
      "[CV] penalty=l1, C=0.1 ...............................................\n",
      "[CV] ...................... penalty=l1, C=0.1, score=0.598160 -   0.0s\n",
      "[CV] penalty=l1, C=0.1 ...............................................\n",
      "[CV] ...................... penalty=l1, C=0.1, score=0.598772 -   0.0s\n",
      "[CV] penalty=l2, C=0.1 ...............................................\n",
      "[CV] ...................... penalty=l2, C=0.1, score=0.598570 -   0.0s\n",
      "[CV] penalty=l2, C=0.1 ...............................................\n",
      "[CV] ...................... penalty=l2, C=0.1, score=0.598160 -   0.0s\n",
      "[CV] penalty=l2, C=0.1 ...............................................\n",
      "[CV] ...................... penalty=l2, C=0.1, score=0.598772 -   0.0s\n",
      "[CV] penalty=l1, C=1 .................................................\n",
      "[CV] ........................ penalty=l1, C=1, score=0.598570 -   0.0s\n",
      "[CV] penalty=l1, C=1 .................................................\n",
      "[CV] ........................ penalty=l1, C=1, score=0.598160 -   0.0s\n",
      "[CV] penalty=l1, C=1 .................................................\n",
      "[CV] ........................ penalty=l1, C=1, score=0.598772 -   0.0s\n",
      "[CV] penalty=l2, C=1 .................................................\n",
      "[CV] ........................ penalty=l2, C=1, score=0.598570 -   0.0s\n",
      "[CV] penalty=l2, C=1 .................................................\n",
      "[CV] ........................ penalty=l2, C=1, score=0.598160 -   0.0s\n",
      "[CV] penalty=l2, C=1 .................................................\n",
      "[CV] ........................ penalty=l2, C=1, score=0.598772 -   0.0s\n",
      "[CV] penalty=l1, C=10 ................................................\n",
      "[CV] ....................... penalty=l1, C=10, score=0.598570 -   0.1s\n",
      "[CV] penalty=l1, C=10 ................................................\n"
     ]
    },
    {
     "name": "stderr",
     "output_type": "stream",
     "text": [
      "[Parallel(n_jobs=1)]: Done   1 tasks       | elapsed:    0.0s\n",
      "[Parallel(n_jobs=1)]: Done   4 tasks       | elapsed:    0.0s\n",
      "[Parallel(n_jobs=1)]: Done   7 tasks       | elapsed:    0.1s\n",
      "[Parallel(n_jobs=1)]: Done  12 tasks       | elapsed:    0.1s\n"
     ]
    },
    {
     "name": "stdout",
     "output_type": "stream",
     "text": [
      "[CV] ....................... penalty=l1, C=10, score=0.598160 -   0.0s\n",
      "[CV] penalty=l1, C=10 ................................................\n",
      "[CV] ....................... penalty=l1, C=10, score=0.598772 -   0.0s\n",
      "[CV] penalty=l2, C=10 ................................................\n",
      "[CV] ....................... penalty=l2, C=10, score=0.598570 -   0.0s\n",
      "[CV] penalty=l2, C=10 ................................................\n",
      "[CV] ....................... penalty=l2, C=10, score=0.598160 -   0.0s\n",
      "[CV] penalty=l2, C=10 ................................................\n",
      "[CV] ....................... penalty=l2, C=10, score=0.598772 -   0.0s\n",
      "[CV] penalty=l1, C=23.5 ..............................................\n",
      "[CV] ..................... penalty=l1, C=23.5, score=0.598570 -   0.1s\n",
      "[CV] penalty=l1, C=23.5 ..............................................\n",
      "[CV] ..................... penalty=l1, C=23.5, score=0.598160 -   0.0s\n",
      "[CV] penalty=l1, C=23.5 ..............................................\n",
      "[CV] ..................... penalty=l1, C=23.5, score=0.598772 -   0.0s\n",
      "[CV] penalty=l2, C=23.5 ..............................................\n"
     ]
    },
    {
     "name": "stderr",
     "output_type": "stream",
     "text": [
      "[Parallel(n_jobs=1)]: Done  17 tasks       | elapsed:    0.2s\n",
      "[Parallel(n_jobs=1)]: Done  24 tasks       | elapsed:    0.4s\n"
     ]
    },
    {
     "name": "stdout",
     "output_type": "stream",
     "text": [
      "[CV] ..................... penalty=l2, C=23.5, score=0.598570 -   0.0s\n",
      "[CV] penalty=l2, C=23.5 ..............................................\n",
      "[CV] ..................... penalty=l2, C=23.5, score=0.598160 -   0.0s\n",
      "[CV] penalty=l2, C=23.5 ..............................................\n",
      "[CV] ..................... penalty=l2, C=23.5, score=0.598772 -   0.0s\n",
      "[CV] penalty=l1, C=50 ................................................\n",
      "[CV] ....................... penalty=l1, C=50, score=0.598570 -   0.2s\n",
      "[CV] penalty=l1, C=50 ................................................\n",
      "[CV] ....................... penalty=l1, C=50, score=0.598160 -   0.0s\n",
      "[CV] penalty=l1, C=50 ................................................\n",
      "[CV] ....................... penalty=l1, C=50, score=0.598772 -   0.0s\n",
      "[CV] penalty=l2, C=50 ................................................\n",
      "[CV] ....................... penalty=l2, C=50, score=0.598570 -   0.0s\n",
      "[CV] penalty=l2, C=50 ................................................\n",
      "[CV] ....................... penalty=l2, C=50, score=0.598160 -   0.0s\n",
      "[CV] penalty=l2, C=50 ................................................\n",
      "[CV] ....................... penalty=l2, C=50, score=0.598772 -   0.0s\n"
     ]
    },
    {
     "name": "stderr",
     "output_type": "stream",
     "text": [
      "[Parallel(n_jobs=1)]: Done  30 out of  30 | elapsed:    0.7s finished\n"
     ]
    },
    {
     "data": {
      "text/plain": [
       "GridSearchCV(cv=None, error_score='raise',\n",
       "       estimator=LogisticRegression(C=1.0, class_weight=None, dual=False, fit_intercept=True,\n",
       "          intercept_scaling=1, max_iter=100, multi_class='ovr', n_jobs=1,\n",
       "          penalty='l2', random_state=None, solver='liblinear', tol=0.0001,\n",
       "          verbose=0, warm_start=False),\n",
       "       fit_params={}, iid=True, n_jobs=1,\n",
       "       param_grid={'penalty': ['l1', 'l2'], 'C': [0.1, 1, 10, 23.5, 50]},\n",
       "       pre_dispatch='2*n_jobs', refit=True, scoring=None, verbose=10)"
      ]
     },
     "execution_count": 97,
     "metadata": {},
     "output_type": "execute_result"
    }
   ],
   "source": [
    "grid_search.fit(X,y)"
   ]
  },
  {
   "cell_type": "code",
   "execution_count": 98,
   "metadata": {
    "collapsed": false
   },
   "outputs": [
    {
     "name": "stdout",
     "output_type": "stream",
     "text": [
      "0.598500340832\n"
     ]
    }
   ],
   "source": [
    "print grid_search.best_score_\n",
    "#accuracy percent that the data set we fed into that it predicted correctly"
   ]
  },
  {
   "cell_type": "code",
   "execution_count": 99,
   "metadata": {
    "collapsed": true
   },
   "outputs": [],
   "source": [
    "predictions=grid_search.best_estimator_.predict(X)"
   ]
  },
  {
   "cell_type": "markdown",
   "metadata": {},
   "source": [
    "Below is the confusion matrix\n",
    "The model predicted 1756 highs and their were high (True positive)\n",
    "The model predicted 1178 lows that were actually highs\n",
    "The accuracy is good at 75%  1756/(1178+0)\n"
   ]
  },
  {
   "cell_type": "code",
   "execution_count": 100,
   "metadata": {
    "collapsed": false
   },
   "outputs": [
    {
     "data": {
      "text/plain": [
       "array([[1756,    0],\n",
       "       [1178,    0]])"
      ]
     },
     "execution_count": 100,
     "metadata": {},
     "output_type": "execute_result"
    }
   ],
   "source": [
    "#see heat map below \n",
    "\n",
    "confusion_matrix(y, predictions)"
   ]
  },
  {
   "cell_type": "code",
   "execution_count": 101,
   "metadata": {
    "collapsed": false
   },
   "outputs": [
    {
     "name": "stdout",
     "output_type": "stream",
     "text": [
      "             precision    recall  f1-score   support\n",
      "\n",
      "        0.0       0.60      1.00      0.75      1756\n",
      "        1.0       0.00      0.00      0.00      1178\n",
      "\n",
      "avg / total       0.36      0.60      0.45      2934\n",
      "\n"
     ]
    },
    {
     "name": "stderr",
     "output_type": "stream",
     "text": [
      "//anaconda/lib/python2.7/site-packages/sklearn/metrics/classification.py:1074: UndefinedMetricWarning: Precision and F-score are ill-defined and being set to 0.0 in labels with no predicted samples.\n",
      "  'precision', 'predicted', average, warn_for)\n"
     ]
    }
   ],
   "source": [
    "\n",
    "print classification_report(y, predictions)"
   ]
  },
  {
   "cell_type": "code",
   "execution_count": 102,
   "metadata": {
    "collapsed": false
   },
   "outputs": [
    {
     "data": {
      "text/plain": [
       "<matplotlib.axes._subplots.AxesSubplot at 0x118872290>"
      ]
     },
     "execution_count": 102,
     "metadata": {},
     "output_type": "execute_result"
    },
    {
     "data": {
      "image/png": "[encoded data removed]",
      "text/plain": [
       "<matplotlib.figure.Figure at 0x1188728d0>"
      ]
     },
     "metadata": {},
     "output_type": "display_data"
    }
   ],
   "source": [
    "sb.heatmap(confusion_matrix(y,predictions),annot=True)\n",
    "\n",
    "#5.3e+02the true positive is 5300 Predicted low, and actual is low\n",
    "#2.6+02 is predicted it will be low but it acually is not now - false positive\n",
    "#0 for predicted not low and acually low\n",
    "#0 for predicted not low and it is not low\n",
    "#if these numbers are correct\n",
    "#0/(0+2700)/"
   ]
  },
  {
   "cell_type": "code",
   "execution_count": 103,
   "metadata": {
    "collapsed": true
   },
   "outputs": [],
   "source": [
    "###################  ridge model\n",
    "from sklearn.linear_model import Ridge\n",
    "#using ridge- l2"
   ]
  },
  {
   "cell_type": "code",
   "execution_count": 107,
   "metadata": {
    "collapsed": true
   },
   "outputs": [],
   "source": [
    "#Prepare a Range of Alpha Values to Test\n",
    "alphas = np.array([100,10,1,0.1,0.01,0.001,0.0001,0])\n",
    "\n",
    "alphas\n",
    "model = Ridge()"
   ]
  },
  {
   "cell_type": "code",
   "execution_count": 106,
   "metadata": {
    "collapsed": false
   },
   "outputs": [
    {
     "name": "stdout",
     "output_type": "stream",
     "text": [
      "GridSearchCV(cv=None, error_score='raise',\n",
      "       estimator=Ridge(alpha=1.0, copy_X=True, fit_intercept=True, max_iter=None,\n",
      "   normalize=False, random_state=None, solver='auto', tol=0.001),\n",
      "       fit_params={}, iid=True, n_jobs=1,\n",
      "       param_grid={'alpha': array([  1.00000e+02,   1.00000e+01,   1.00000e+00,   1.00000e-01,\n",
      "         1.00000e-02,   1.00000e-03,   1.00000e-04,   0.00000e+00])},\n",
      "       pre_dispatch='2*n_jobs', refit=True, scoring=None, verbose=0)\n"
     ]
    }
   ],
   "source": [
    "grid = GridSearchCV(estimator=model, param_grid={'alpha': alphas,})\n",
    "#a dictionary for param_grid  feed the dictionary to alpha\n",
    "grid.fit(X,y)\n",
    "print(grid)"
   ]
  },
  {
   "cell_type": "code",
   "execution_count": 108,
   "metadata": {
    "collapsed": false
   },
   "outputs": [
    {
     "name": "stdout",
     "output_type": "stream",
     "text": [
      "-5.02352480178\n",
      "100.0\n"
     ]
    }
   ],
   "source": [
    "#Summarize the Results of the Grid Search\n",
    "print(grid.best_score_)\n",
    "print(grid.best_estimator_.alpha)"
   ]
  },
  {
   "cell_type": "code",
   "execution_count": 109,
   "metadata": {
    "collapsed": false
   },
   "outputs": [
    {
     "data": {
      "text/plain": [
       "0.016516509140380831"
      ]
     },
     "execution_count": 109,
     "metadata": {},
     "output_type": "execute_result"
    }
   ],
   "source": [
    "best_model=grid.best_estimator_\n",
    "best_model.score(X,y)"
   ]
  },
  {
   "cell_type": "code",
   "execution_count": 118,
   "metadata": {
    "collapsed": false
   },
   "outputs": [
    {
     "data": {
      "text/plain": [
       "LogisticRegression(C=1.0, class_weight=None, dual=False, fit_intercept=True,\n",
       "          intercept_scaling=1, max_iter=100, multi_class='ovr', n_jobs=1,\n",
       "          penalty='l2', random_state=None, solver='liblinear', tol=0.0001,\n",
       "          verbose=0, warm_start=False)"
      ]
     },
     "execution_count": 118,
     "metadata": {},
     "output_type": "execute_result"
    }
   ],
   "source": [
    "#Lasso\n",
    "logistic_model_1=LogisticRegression(penalty='l2')\n",
    "logistic_model_1.fit(X,y)"
   ]
  },
  {
   "cell_type": "code",
   "execution_count": 119,
   "metadata": {
    "collapsed": false
   },
   "outputs": [
    {
     "data": {
      "text/plain": [
       "0.59850034083162917"
      ]
     },
     "execution_count": 119,
     "metadata": {},
     "output_type": "execute_result"
    }
   ],
   "source": [
    "logistic_model_1.score(X,y)"
   ]
  },
  {
   "cell_type": "code",
   "execution_count": 120,
   "metadata": {
    "collapsed": false
   },
   "outputs": [
    {
     "data": {
      "text/plain": [
       "LogisticRegression(C=0.1, class_weight=None, dual=False, fit_intercept=True,\n",
       "          intercept_scaling=1, max_iter=100, multi_class='ovr', n_jobs=1,\n",
       "          penalty='l1', random_state=None, solver='liblinear', tol=0.0001,\n",
       "          verbose=0, warm_start=False)"
      ]
     },
     "execution_count": 120,
     "metadata": {},
     "output_type": "execute_result"
    }
   ],
   "source": [
    "logistic_model_2=LogisticRegression(penalty='l1', C=0.1)\n",
    "logistic_model_2.fit(X,y)"
   ]
  },
  {
   "cell_type": "code",
   "execution_count": 121,
   "metadata": {
    "collapsed": false
   },
   "outputs": [
    {
     "data": {
      "text/plain": [
       "0.59850034083162917"
      ]
     },
     "execution_count": 121,
     "metadata": {},
     "output_type": "execute_result"
    }
   ],
   "source": [
    "logistic_model_2.score(X,y)"
   ]
  },
  {
   "cell_type": "code",
   "execution_count": null,
   "metadata": {
    "collapsed": true
   },
   "outputs": [],
   "source": []
  },
  {
   "cell_type": "code",
   "execution_count": null,
   "metadata": {
    "collapsed": true
   },
   "outputs": [],
   "source": [
    "#now lasso"
   ]
  },
  {
   "cell_type": "code",
   "execution_count": 122,
   "metadata": {
    "collapsed": true
   },
   "outputs": [],
   "source": [
    "from sklearn.linear_model import Lasso\n",
    "logistic_model_1=LogisticRegression(penalty='l1')"
   ]
  },
  {
   "cell_type": "code",
   "execution_count": 123,
   "metadata": {
    "collapsed": false
   },
   "outputs": [
    {
     "data": {
      "text/plain": [
       "LogisticRegression(C=1.0, class_weight=None, dual=False, fit_intercept=True,\n",
       "          intercept_scaling=1, max_iter=100, multi_class='ovr', n_jobs=1,\n",
       "          penalty='l1', random_state=None, solver='liblinear', tol=0.0001,\n",
       "          verbose=0, warm_start=False)"
      ]
     },
     "execution_count": 123,
     "metadata": {},
     "output_type": "execute_result"
    }
   ],
   "source": [
    "logistic_model_1.fit(X,y)"
   ]
  },
  {
   "cell_type": "code",
   "execution_count": 124,
   "metadata": {
    "collapsed": false
   },
   "outputs": [
    {
     "data": {
      "text/plain": [
       "0.59850034083162917"
      ]
     },
     "execution_count": 124,
     "metadata": {},
     "output_type": "execute_result"
    }
   ],
   "source": [
    "logistic_model_1.score(X,y)"
   ]
  },
  {
   "cell_type": "code",
   "execution_count": 167,
   "metadata": {
    "collapsed": true
   },
   "outputs": [],
   "source": [
    "logistic_model_2=LogisticRegression(penalty='l2', C=0.1)"
   ]
  },
  {
   "cell_type": "code",
   "execution_count": 168,
   "metadata": {
    "collapsed": false
   },
   "outputs": [
    {
     "data": {
      "text/plain": [
       "LogisticRegression(C=0.1, class_weight=None, dual=False, fit_intercept=True,\n",
       "          intercept_scaling=1, max_iter=100, multi_class='ovr', n_jobs=1,\n",
       "          penalty='l2', random_state=None, solver='liblinear', tol=0.0001,\n",
       "          verbose=0, warm_start=False)"
      ]
     },
     "execution_count": 168,
     "metadata": {},
     "output_type": "execute_result"
    }
   ],
   "source": [
    "logistic_model_2.fit(X,y)"
   ]
  },
  {
   "cell_type": "code",
   "execution_count": 169,
   "metadata": {
    "collapsed": false
   },
   "outputs": [
    {
     "data": {
      "text/plain": [
       "0.6070211315610089"
      ]
     },
     "execution_count": 169,
     "metadata": {},
     "output_type": "execute_result"
    }
   ],
   "source": [
    "logistic_model_2.score(X,y)\n",
    "#smaller values= more regulation\n",
    "#higher  getting rid of columns"
   ]
  },
  {
   "cell_type": "markdown",
   "metadata": {
    "focus": false,
    "id": "c7631f51-07f2-4c79-a093-3e9bc7849a48"
   },
   "source": [
    "#### We want to predict a binary variable - whether the salary was low or high. Compute the median salary and create a new binary variable that is true when the salary is high (above the median)\n",
    "\n",
    "We could also perform Linear Regression (or any regression) to predict the salary value here. Instead, we are going to convert this into a _binary_ classification problem, by predicting two classes, HIGH vs LOW salary.\n",
    "\n",
    "While performing regression may be better, performing classification may help remove some of the noise of the extreme salaries. We don't have to choice the `median` as the splitting point - we could also split on the 75th percentile or any other reasonable breaking point.\n",
    "\n",
    "In fact, the ideal scenario may be to predict many levels of salaries, "
   ]
  },
  {
   "cell_type": "markdown",
   "metadata": {
    "collapsed": true,
    "focus": false,
    "id": "c20d2498-151c-44c3-a453-3a333c79a0ac"
   },
   "source": [
    "I couldn't calculate the median salary since I did not pull the actual salary data\n",
    "\n",
    "\n"
   ]
  },
  {
   "cell_type": "markdown",
   "metadata": {
    "focus": false,
    "id": "a7afb2c0-d41e-4779-8216-91cd8dd4473f"
   },
   "source": [
    "#### Thought experiment: What is the baseline accuracy for this model?"
   ]
  },
  {
   "cell_type": "code",
   "execution_count": 16,
   "metadata": {
    "collapsed": true,
    "focus": false,
    "id": "87a17d3d-b7f4-4747-9f75-f9af1d18a174"
   },
   "outputs": [],
   "source": [
    "## YOUR CODE HERE"
   ]
  },
  {
   "cell_type": "markdown",
   "metadata": {
    "focus": false,
    "id": "4fb29de2-5b98-474c-a4ad-5170b72b9aea"
   },
   "source": [
    "#### Create a Logistic Regression model to predict High/Low salary using statsmodel. Start by ONLY using the location as a feature. Display the coefficients and write a short summary of what they mean."
   ]
  },
  {
   "cell_type": "code",
   "execution_count": 17,
   "metadata": {
    "collapsed": false,
    "focus": false,
    "id": "ddbc6159-6854-4ca7-857f-bfecdaf6d9c2"
   },
   "outputs": [],
   "source": [
    "## YOUR CODE HERE"
   ]
  },
  {
   "cell_type": "markdown",
   "metadata": {
    "focus": false,
    "id": "0ef04f32-419c-4bf2-baf7-48201f03df89"
   },
   "source": [
    "#### Create a few new variables in your dataframe to represent interesting features of a job title.\n",
    "- For example, create a feature that represents whether 'Senior' is in the title \n",
    "- or whether 'Manager' is in the title. \n",
    "- Then build a new Logistic Regression model with these features. Do they add any value? \n"
   ]
  },
  {
   "cell_type": "code",
   "execution_count": 18,
   "metadata": {
    "collapsed": false,
    "focus": false,
    "id": "068dc1cf-7fd7-4f27-a1f1-7f0a5a221d29"
   },
   "outputs": [],
   "source": [
    "#focus on words - perhaps they do a better job"
   ]
  },
  {
   "cell_type": "code",
   "execution_count": 129,
   "metadata": {
    "collapsed": true
   },
   "outputs": [],
   "source": [
    "from sklearn.feature_extraction.text import CountVectorizer\n",
    "\n",
    "v = CountVectorizer(\n",
    "    binary=True,  # Create binary features\n",
    "    stop_words='english', # Ignore common words such as 'the', 'and'\n",
    "    max_features=30, # Only use the top 50 most common words\n",
    ")"
   ]
  },
  {
   "cell_type": "code",
   "execution_count": 131,
   "metadata": {
    "collapsed": false
   },
   "outputs": [
    {
     "data": {
      "text/html": [
       "<div>\n",
       "<table border=\"1\" class=\"dataframe\">\n",
       "  <thead>\n",
       "    <tr style=\"text-align: right;\">\n",
       "      <th></th>\n",
       "      <th>analyst</th>\n",
       "      <th>analytics</th>\n",
       "      <th>architect</th>\n",
       "      <th>associate</th>\n",
       "      <th>big</th>\n",
       "      <th>bioinformatics</th>\n",
       "      <th>business</th>\n",
       "      <th>clinical</th>\n",
       "      <th>data</th>\n",
       "      <th>developer</th>\n",
       "      <th>development</th>\n",
       "      <th>director</th>\n",
       "      <th>engineer</th>\n",
       "      <th>engineering</th>\n",
       "      <th>lead</th>\n",
       "      <th>learning</th>\n",
       "      <th>machine</th>\n",
       "      <th>manager</th>\n",
       "      <th>platform</th>\n",
       "      <th>principal</th>\n",
       "      <th>product</th>\n",
       "      <th>quantitative</th>\n",
       "      <th>research</th>\n",
       "      <th>science</th>\n",
       "      <th>scientist</th>\n",
       "      <th>senior</th>\n",
       "      <th>software</th>\n",
       "      <th>sr</th>\n",
       "      <th>staff</th>\n",
       "      <th>statistical</th>\n",
       "    </tr>\n",
       "  </thead>\n",
       "  <tbody>\n",
       "    <tr>\n",
       "      <th>0</th>\n",
       "      <td>1</td>\n",
       "      <td>0</td>\n",
       "      <td>0</td>\n",
       "      <td>0</td>\n",
       "      <td>0</td>\n",
       "      <td>0</td>\n",
       "      <td>0</td>\n",
       "      <td>0</td>\n",
       "      <td>0</td>\n",
       "      <td>0</td>\n",
       "      <td>0</td>\n",
       "      <td>0</td>\n",
       "      <td>0</td>\n",
       "      <td>0</td>\n",
       "      <td>0</td>\n",
       "      <td>0</td>\n",
       "      <td>0</td>\n",
       "      <td>0</td>\n",
       "      <td>0</td>\n",
       "      <td>0</td>\n",
       "      <td>0</td>\n",
       "      <td>0</td>\n",
       "      <td>1</td>\n",
       "      <td>0</td>\n",
       "      <td>0</td>\n",
       "      <td>0</td>\n",
       "      <td>0</td>\n",
       "      <td>0</td>\n",
       "      <td>0</td>\n",
       "      <td>0</td>\n",
       "    </tr>\n",
       "    <tr>\n",
       "      <th>1</th>\n",
       "      <td>1</td>\n",
       "      <td>0</td>\n",
       "      <td>0</td>\n",
       "      <td>0</td>\n",
       "      <td>0</td>\n",
       "      <td>0</td>\n",
       "      <td>0</td>\n",
       "      <td>0</td>\n",
       "      <td>0</td>\n",
       "      <td>0</td>\n",
       "      <td>0</td>\n",
       "      <td>0</td>\n",
       "      <td>0</td>\n",
       "      <td>0</td>\n",
       "      <td>0</td>\n",
       "      <td>0</td>\n",
       "      <td>0</td>\n",
       "      <td>0</td>\n",
       "      <td>0</td>\n",
       "      <td>0</td>\n",
       "      <td>0</td>\n",
       "      <td>1</td>\n",
       "      <td>1</td>\n",
       "      <td>0</td>\n",
       "      <td>0</td>\n",
       "      <td>0</td>\n",
       "      <td>0</td>\n",
       "      <td>0</td>\n",
       "      <td>0</td>\n",
       "      <td>0</td>\n",
       "    </tr>\n",
       "    <tr>\n",
       "      <th>2</th>\n",
       "      <td>0</td>\n",
       "      <td>0</td>\n",
       "      <td>0</td>\n",
       "      <td>0</td>\n",
       "      <td>0</td>\n",
       "      <td>0</td>\n",
       "      <td>0</td>\n",
       "      <td>0</td>\n",
       "      <td>0</td>\n",
       "      <td>0</td>\n",
       "      <td>0</td>\n",
       "      <td>0</td>\n",
       "      <td>1</td>\n",
       "      <td>0</td>\n",
       "      <td>0</td>\n",
       "      <td>1</td>\n",
       "      <td>1</td>\n",
       "      <td>0</td>\n",
       "      <td>0</td>\n",
       "      <td>0</td>\n",
       "      <td>0</td>\n",
       "      <td>0</td>\n",
       "      <td>0</td>\n",
       "      <td>0</td>\n",
       "      <td>0</td>\n",
       "      <td>0</td>\n",
       "      <td>0</td>\n",
       "      <td>0</td>\n",
       "      <td>0</td>\n",
       "      <td>0</td>\n",
       "    </tr>\n",
       "    <tr>\n",
       "      <th>3</th>\n",
       "      <td>1</td>\n",
       "      <td>0</td>\n",
       "      <td>0</td>\n",
       "      <td>0</td>\n",
       "      <td>0</td>\n",
       "      <td>0</td>\n",
       "      <td>0</td>\n",
       "      <td>0</td>\n",
       "      <td>0</td>\n",
       "      <td>0</td>\n",
       "      <td>0</td>\n",
       "      <td>0</td>\n",
       "      <td>0</td>\n",
       "      <td>0</td>\n",
       "      <td>0</td>\n",
       "      <td>0</td>\n",
       "      <td>0</td>\n",
       "      <td>0</td>\n",
       "      <td>0</td>\n",
       "      <td>0</td>\n",
       "      <td>0</td>\n",
       "      <td>0</td>\n",
       "      <td>0</td>\n",
       "      <td>0</td>\n",
       "      <td>0</td>\n",
       "      <td>0</td>\n",
       "      <td>0</td>\n",
       "      <td>0</td>\n",
       "      <td>0</td>\n",
       "      <td>1</td>\n",
       "    </tr>\n",
       "    <tr>\n",
       "      <th>4</th>\n",
       "      <td>0</td>\n",
       "      <td>0</td>\n",
       "      <td>0</td>\n",
       "      <td>0</td>\n",
       "      <td>0</td>\n",
       "      <td>0</td>\n",
       "      <td>0</td>\n",
       "      <td>0</td>\n",
       "      <td>1</td>\n",
       "      <td>0</td>\n",
       "      <td>0</td>\n",
       "      <td>0</td>\n",
       "      <td>0</td>\n",
       "      <td>0</td>\n",
       "      <td>0</td>\n",
       "      <td>0</td>\n",
       "      <td>0</td>\n",
       "      <td>0</td>\n",
       "      <td>0</td>\n",
       "      <td>0</td>\n",
       "      <td>0</td>\n",
       "      <td>0</td>\n",
       "      <td>0</td>\n",
       "      <td>0</td>\n",
       "      <td>1</td>\n",
       "      <td>0</td>\n",
       "      <td>0</td>\n",
       "      <td>0</td>\n",
       "      <td>0</td>\n",
       "      <td>0</td>\n",
       "    </tr>\n",
       "  </tbody>\n",
       "</table>\n",
       "</div>"
      ],
      "text/plain": [
       "   analyst  analytics  architect  associate  big  bioinformatics  business  \\\n",
       "0        1          0          0          0    0               0         0   \n",
       "1        1          0          0          0    0               0         0   \n",
       "2        0          0          0          0    0               0         0   \n",
       "3        1          0          0          0    0               0         0   \n",
       "4        0          0          0          0    0               0         0   \n",
       "\n",
       "   clinical  data  developer  development  director  engineer  engineering  \\\n",
       "0         0     0          0            0         0         0            0   \n",
       "1         0     0          0            0         0         0            0   \n",
       "2         0     0          0            0         0         1            0   \n",
       "3         0     0          0            0         0         0            0   \n",
       "4         0     1          0            0         0         0            0   \n",
       "\n",
       "   lead  learning  machine  manager  platform  principal  product  \\\n",
       "0     0         0        0        0         0          0        0   \n",
       "1     0         0        0        0         0          0        0   \n",
       "2     0         1        1        0         0          0        0   \n",
       "3     0         0        0        0         0          0        0   \n",
       "4     0         0        0        0         0          0        0   \n",
       "\n",
       "   quantitative  research  science  scientist  senior  software  sr  staff  \\\n",
       "0             0         1        0          0       0         0   0      0   \n",
       "1             1         1        0          0       0         0   0      0   \n",
       "2             0         0        0          0       0         0   0      0   \n",
       "3             0         0        0          0       0         0   0      0   \n",
       "4             0         0        0          1       0         0   0      0   \n",
       "\n",
       "   statistical  \n",
       "0            0  \n",
       "1            0  \n",
       "2            0  \n",
       "3            1  \n",
       "4            0  "
      ]
     },
     "execution_count": 131,
     "metadata": {},
     "output_type": "execute_result"
    }
   ],
   "source": [
    "#This builds a matrix with a row per website (or data point) and column per word (using all words in the dataset)\n",
    "wordsJobTitle = v.fit_transform(searchListings['Job Title']).todense()     #no difference between data.title and data['title]\n",
    "wordsJobTitle = pd.DataFrame(wordsJobTitle, columns=v.get_feature_names())\n",
    "wordsJobTitle.head()"
   ]
  },
  {
   "cell_type": "code",
   "execution_count": 132,
   "metadata": {
    "collapsed": false
   },
   "outputs": [
    {
     "name": "stdout",
     "output_type": "stream",
     "text": [
      "scientist         1055\n",
      "data              1015\n",
      "engineer           647\n",
      "senior             603\n",
      "manager            349\n",
      "software           310\n",
      "analyst            233\n",
      "research           231\n",
      "sr                 217\n",
      "learning           200\n",
      "machine            197\n",
      "product            157\n",
      "director           146\n",
      "analytics          136\n",
      "science            114\n",
      "lead               108\n",
      "associate           96\n",
      "developer           86\n",
      "development         85\n",
      "statistical         81\n",
      "engineering         77\n",
      "principal           76\n",
      "quantitative        67\n",
      "staff               64\n",
      "clinical            50\n",
      "business            50\n",
      "big                 47\n",
      "platform            46\n",
      "bioinformatics      46\n",
      "architect           46\n",
      "dtype: int64\n"
     ]
    }
   ],
   "source": [
    "print wordsJobTitle.sum().sort_values(ascending=False)"
   ]
  },
  {
   "cell_type": "code",
   "execution_count": 133,
   "metadata": {
    "collapsed": true
   },
   "outputs": [],
   "source": [
    "\n",
    "listingsJobTitle=pd.DataFrame(searchListings).join(pd.DataFrame(wordsJobTitle))"
   ]
  },
  {
   "cell_type": "code",
   "execution_count": null,
   "metadata": {
    "collapsed": false
   },
   "outputs": [],
   "source": []
  },
  {
   "cell_type": "code",
   "execution_count": 134,
   "metadata": {
    "collapsed": false
   },
   "outputs": [
    {
     "data": {
      "text/html": [
       "<div>\n",
       "<table border=\"1\" class=\"dataframe\">\n",
       "  <thead>\n",
       "    <tr style=\"text-align: right;\">\n",
       "      <th></th>\n",
       "      <th>City Location</th>\n",
       "      <th>Company Name</th>\n",
       "      <th>Description</th>\n",
       "      <th>Job Title</th>\n",
       "      <th>Salary Level</th>\n",
       "      <th>Search Criteria</th>\n",
       "      <th>City</th>\n",
       "      <th>State Zip</th>\n",
       "      <th>blank</th>\n",
       "      <th>State</th>\n",
       "      <th>Zip</th>\n",
       "      <th>high</th>\n",
       "      <th>low</th>\n",
       "      <th>CA</th>\n",
       "      <th>IL</th>\n",
       "      <th>IN</th>\n",
       "      <th>KY</th>\n",
       "      <th>OH</th>\n",
       "      <th>TX</th>\n",
       "      <th>analyst</th>\n",
       "      <th>analytics</th>\n",
       "      <th>architect</th>\n",
       "      <th>associate</th>\n",
       "      <th>big</th>\n",
       "      <th>bioinformatics</th>\n",
       "      <th>business</th>\n",
       "      <th>clinical</th>\n",
       "      <th>data</th>\n",
       "      <th>developer</th>\n",
       "      <th>development</th>\n",
       "      <th>director</th>\n",
       "      <th>engineer</th>\n",
       "      <th>engineering</th>\n",
       "      <th>lead</th>\n",
       "      <th>learning</th>\n",
       "      <th>machine</th>\n",
       "      <th>manager</th>\n",
       "      <th>platform</th>\n",
       "      <th>principal</th>\n",
       "      <th>product</th>\n",
       "      <th>quantitative</th>\n",
       "      <th>research</th>\n",
       "      <th>science</th>\n",
       "      <th>scientist</th>\n",
       "      <th>senior</th>\n",
       "      <th>software</th>\n",
       "      <th>sr</th>\n",
       "      <th>staff</th>\n",
       "      <th>statistical</th>\n",
       "    </tr>\n",
       "  </thead>\n",
       "  <tbody>\n",
       "    <tr>\n",
       "      <th>2</th>\n",
       "      <td>Chicago, IL 60606</td>\n",
       "      <td>Purohit Navigation</td>\n",
       "      <td>Assist with data QC process on an ad hoc basis. We offer thoughtful research design, expertly executed data collection, and actionable research insights to...</td>\n",
       "      <td>Market Research Analyst</td>\n",
       "      <td>low</td>\n",
       "      <td>data scientist</td>\n",
       "      <td>Chicago</td>\n",
       "      <td>IL 60606</td>\n",
       "      <td></td>\n",
       "      <td>IL</td>\n",
       "      <td>60606</td>\n",
       "      <td>0.0</td>\n",
       "      <td>1.0</td>\n",
       "      <td>0.0</td>\n",
       "      <td>1.0</td>\n",
       "      <td>0.0</td>\n",
       "      <td>0.0</td>\n",
       "      <td>0.0</td>\n",
       "      <td>0.0</td>\n",
       "      <td>0.0</td>\n",
       "      <td>0.0</td>\n",
       "      <td>0.0</td>\n",
       "      <td>0.0</td>\n",
       "      <td>0.0</td>\n",
       "      <td>0.0</td>\n",
       "      <td>0.0</td>\n",
       "      <td>0.0</td>\n",
       "      <td>0.0</td>\n",
       "      <td>0.0</td>\n",
       "      <td>0.0</td>\n",
       "      <td>0.0</td>\n",
       "      <td>1.0</td>\n",
       "      <td>0.0</td>\n",
       "      <td>0.0</td>\n",
       "      <td>1.0</td>\n",
       "      <td>1.0</td>\n",
       "      <td>0.0</td>\n",
       "      <td>0.0</td>\n",
       "      <td>0.0</td>\n",
       "      <td>0.0</td>\n",
       "      <td>0.0</td>\n",
       "      <td>0.0</td>\n",
       "      <td>0.0</td>\n",
       "      <td>0.0</td>\n",
       "      <td>0.0</td>\n",
       "      <td>0.0</td>\n",
       "      <td>0.0</td>\n",
       "      <td>0.0</td>\n",
       "      <td>0.0</td>\n",
       "    </tr>\n",
       "  </tbody>\n",
       "</table>\n",
       "</div>"
      ],
      "text/plain": [
       "       City Location        Company Name  \\\n",
       "2  Chicago, IL 60606  Purohit Navigation   \n",
       "\n",
       "                                                                                                                                                      Description  \\\n",
       "2  Assist with data QC process on an ad hoc basis. We offer thoughtful research design, expertly executed data collection, and actionable research insights to...   \n",
       "\n",
       "                 Job Title Salary Level Search Criteria     City  State Zip  \\\n",
       "2  Market Research Analyst          low  data scientist  Chicago   IL 60606   \n",
       "\n",
       "  blank State    Zip  high  low   CA   IL   IN   KY   OH   TX  analyst  \\\n",
       "2          IL  60606   0.0  1.0  0.0  1.0  0.0  0.0  0.0  0.0      0.0   \n",
       "\n",
       "   analytics  architect  associate  big  bioinformatics  business  clinical  \\\n",
       "2        0.0        0.0        0.0  0.0             0.0       0.0       0.0   \n",
       "\n",
       "   data  developer  development  director  engineer  engineering  lead  \\\n",
       "2   0.0        0.0          0.0       0.0       1.0          0.0   0.0   \n",
       "\n",
       "   learning  machine  manager  platform  principal  product  quantitative  \\\n",
       "2       1.0      1.0      0.0       0.0        0.0      0.0           0.0   \n",
       "\n",
       "   research  science  scientist  senior  software   sr  staff  statistical  \n",
       "2       0.0      0.0        0.0     0.0       0.0  0.0    0.0          0.0  "
      ]
     },
     "execution_count": 134,
     "metadata": {},
     "output_type": "execute_result"
    }
   ],
   "source": [
    "listingsJobTitle.head(1)"
   ]
  },
  {
   "cell_type": "code",
   "execution_count": null,
   "metadata": {
    "collapsed": true
   },
   "outputs": [],
   "source": []
  },
  {
   "cell_type": "code",
   "execution_count": 162,
   "metadata": {
    "collapsed": false
   },
   "outputs": [
    {
     "data": {
      "text/plain": [
       "Index([u'analyst', u'analytics', u'architect', u'associate', u'big',\n",
       "       u'bioinformatics', u'business', u'clinical', u'data', u'developer',\n",
       "       u'development', u'director', u'engineer', u'engineering', u'lead',\n",
       "       u'learning', u'machine', u'manager', u'platform', u'principal',\n",
       "       u'product', u'quantitative', u'research', u'science', u'scientist',\n",
       "       u'senior', u'software', u'sr', u'staff', u'statistical'],\n",
       "      dtype='object')"
      ]
     },
     "execution_count": 162,
     "metadata": {},
     "output_type": "execute_result"
    }
   ],
   "source": [
    "wordsJobTitle.columns"
   ]
  },
  {
   "cell_type": "code",
   "execution_count": null,
   "metadata": {
    "collapsed": true
   },
   "outputs": [],
   "source": []
  },
  {
   "cell_type": "code",
   "execution_count": 135,
   "metadata": {
    "collapsed": true
   },
   "outputs": [],
   "source": [
    "\n",
    "def examine_coefficients(model, df):\n",
    "    df = pd.DataFrame(\n",
    "        { 'Coefficient' : model.coef_[0] , 'Feature' : df.columns}\n",
    "    ).sort_values(by='Coefficient')\n",
    "    return df[df.Coefficient !=0 ]"
   ]
  },
  {
   "cell_type": "code",
   "execution_count": 176,
   "metadata": {
    "collapsed": false
   },
   "outputs": [],
   "source": [
    "y=listingsJobTitle['high']\n",
    "X=wordsJobTitle[['lead','senior','director']]\n",
    "#X=wordsJobTitle[['director']]\n"
   ]
  },
  {
   "cell_type": "code",
   "execution_count": 177,
   "metadata": {
    "collapsed": false
   },
   "outputs": [
    {
     "data": {
      "text/html": [
       "<div>\n",
       "<table border=\"1\" class=\"dataframe\">\n",
       "  <thead>\n",
       "    <tr style=\"text-align: right;\">\n",
       "      <th></th>\n",
       "      <th>Coefficient</th>\n",
       "      <th>Feature</th>\n",
       "    </tr>\n",
       "  </thead>\n",
       "  <tbody>\n",
       "    <tr>\n",
       "      <th>1</th>\n",
       "      <td>0.326278</td>\n",
       "      <td>senior</td>\n",
       "    </tr>\n",
       "    <tr>\n",
       "      <th>0</th>\n",
       "      <td>0.451096</td>\n",
       "      <td>lead</td>\n",
       "    </tr>\n",
       "    <tr>\n",
       "      <th>2</th>\n",
       "      <td>0.815006</td>\n",
       "      <td>director</td>\n",
       "    </tr>\n",
       "  </tbody>\n",
       "</table>\n",
       "</div>"
      ],
      "text/plain": [
       "   Coefficient   Feature\n",
       "1     0.326278    senior\n",
       "0     0.451096      lead\n",
       "2     0.815006  director"
      ]
     },
     "execution_count": 177,
     "metadata": {},
     "output_type": "execute_result"
    }
   ],
   "source": [
    "model = LogisticRegression() \n",
    "\n",
    "model.fit(X, y) # This fits the model to learn the coefficients\n",
    "examine_coefficients(model, X)\n",
    "#wow now we are talking numbers lets do a grid search"
   ]
  },
  {
   "cell_type": "code",
   "execution_count": 154,
   "metadata": {
    "collapsed": false
   },
   "outputs": [],
   "source": [
    "\n",
    "X=wordsJobTitle[['lead','senior','director']]"
   ]
  },
  {
   "cell_type": "code",
   "execution_count": 155,
   "metadata": {
    "collapsed": false
   },
   "outputs": [
    {
     "name": "stdout",
     "output_type": "stream",
     "text": [
      "Fitting 3 folds for each of 10 candidates, totalling 30 fits\n",
      "[CV] penalty=l1, C=0.1 ...............................................\n",
      "[CV] ...................... penalty=l1, C=0.1, score=0.593463 -   0.0s\n",
      "[CV] penalty=l1, C=0.1 ...............................................\n",
      "[CV] ...................... penalty=l1, C=0.1, score=0.600204 -   0.0s\n",
      "[CV] penalty=l1, C=0.1 ...............................................\n",
      "[CV] ...................... penalty=l1, C=0.1, score=0.598772 -   0.0s\n",
      "[CV] penalty=l2, C=0.1 ...............................................\n",
      "[CV] ...................... penalty=l2, C=0.1, score=0.593463 -   0.0s\n",
      "[CV] penalty=l2, C=0.1 ...............................................\n",
      "[CV] ...................... penalty=l2, C=0.1, score=0.605317 -   0.0s\n",
      "[CV] penalty=l2, C=0.1 ...............................................\n",
      "[CV] ...................... penalty=l2, C=0.1, score=0.607984 -   0.0s\n",
      "[CV] penalty=l1, C=1 .................................................\n",
      "[CV] ........................ penalty=l1, C=1, score=0.593463 -   0.0s\n",
      "[CV] penalty=l1, C=1 .................................................\n",
      "[CV] ........................ penalty=l1, C=1, score=0.605317 -   0.0s\n",
      "[CV] penalty=l1, C=1 .................................................\n",
      "[CV] ........................ penalty=l1, C=1, score=0.606960 -   0.0s\n",
      "[CV] penalty=l2, C=1 .................................................\n",
      "[CV] ........................ penalty=l2, C=1, score=0.593463 -   0.0s\n",
      "[CV] penalty=l2, C=1 .................................................\n",
      "[CV] ........................ penalty=l2, C=1, score=0.605317 -   0.0s\n",
      "[CV] penalty=l2, C=1 .................................................\n",
      "[CV] ........................ penalty=l2, C=1, score=0.622313 -   0.0s\n",
      "[CV] penalty=l1, C=10 ................................................\n",
      "[CV] ....................... penalty=l1, C=10, score=0.593463 -   0.0s\n",
      "[CV] penalty=l1, C=10 ................................................\n",
      "[CV] ....................... penalty=l1, C=10, score=0.602249 -   0.0s\n",
      "[CV] penalty=l1, C=10 ................................................\n",
      "[CV] ....................... penalty=l1, C=10, score=0.622313 -   0.0s\n",
      "[CV] penalty=l2, C=10 ................................................\n",
      "[CV] ....................... penalty=l2, C=10, score=0.593463 -   0.0s\n",
      "[CV] penalty=l2, C=10 ................................................\n",
      "[CV] ....................... penalty=l2, C=10, score=0.602249 -   0.0s\n",
      "[CV] penalty=l2, C=10 ................................................\n",
      "[CV] ....................... penalty=l2, C=10, score=0.622313 -   0.0s\n",
      "[CV] penalty=l1, C=23.5 ..............................................\n",
      "[CV] ..................... penalty=l1, C=23.5, score=0.593463 -   0.0s\n",
      "[CV] penalty=l1, C=23.5 ..............................................\n",
      "[CV] ..................... penalty=l1, C=23.5, score=0.602249 -   0.0s\n",
      "[CV] penalty=l1, C=23.5 ..............................................\n",
      "[CV] ..................... penalty=l1, C=23.5, score=0.622313 -   0.0s\n",
      "[CV] penalty=l2, C=23.5 ..............................................\n",
      "[CV] ..................... penalty=l2, C=23.5, score=0.593463 -   0.0s\n",
      "[CV] penalty=l2, C=23.5 ..............................................\n",
      "[CV] ..................... penalty=l2, C=23.5, score=0.602249 -   0.0s\n",
      "[CV] penalty=l2, C=23.5 ..............................................\n",
      "[CV] ..................... penalty=l2, C=23.5, score=0.622313 -   0.0s\n",
      "[CV] penalty=l1, C=50 ................................................\n",
      "[CV] ....................... penalty=l1, C=50, score=0.593463 -   0.0s\n",
      "[CV] penalty=l1, C=50 ................................................\n"
     ]
    },
    {
     "name": "stderr",
     "output_type": "stream",
     "text": [
      "[Parallel(n_jobs=1)]: Done   1 tasks       | elapsed:    0.0s\n",
      "[Parallel(n_jobs=1)]: Done   4 tasks       | elapsed:    0.0s\n",
      "[Parallel(n_jobs=1)]: Done   7 tasks       | elapsed:    0.1s\n",
      "[Parallel(n_jobs=1)]: Done  12 tasks       | elapsed:    0.1s\n",
      "[Parallel(n_jobs=1)]: Done  17 tasks       | elapsed:    0.1s\n",
      "[Parallel(n_jobs=1)]: Done  24 tasks       | elapsed:    0.2s\n"
     ]
    },
    {
     "name": "stdout",
     "output_type": "stream",
     "text": [
      "[CV] ....................... penalty=l1, C=50, score=0.602249 -   0.0s\n",
      "[CV] penalty=l1, C=50 ................................................\n",
      "[CV] ....................... penalty=l1, C=50, score=0.622313 -   0.0s\n",
      "[CV] penalty=l2, C=50 ................................................\n",
      "[CV] ....................... penalty=l2, C=50, score=0.593463 -   0.0s\n",
      "[CV] penalty=l2, C=50 ................................................\n",
      "[CV] ....................... penalty=l2, C=50, score=0.602249 -   0.0s\n",
      "[CV] penalty=l2, C=50 ................................................\n",
      "[CV] ....................... penalty=l2, C=50, score=0.622313 -   0.0s\n"
     ]
    },
    {
     "name": "stderr",
     "output_type": "stream",
     "text": [
      "[Parallel(n_jobs=1)]: Done  30 out of  30 | elapsed:    0.3s finished\n"
     ]
    },
    {
     "data": {
      "text/plain": [
       "GridSearchCV(cv=None, error_score='raise',\n",
       "       estimator=LogisticRegression(C=1.0, class_weight=None, dual=False, fit_intercept=True,\n",
       "          intercept_scaling=1, max_iter=100, multi_class='ovr', n_jobs=1,\n",
       "          penalty='l2', random_state=None, solver='liblinear', tol=0.0001,\n",
       "          verbose=0, warm_start=False),\n",
       "       fit_params={}, iid=True, n_jobs=1,\n",
       "       param_grid={'penalty': ['l1', 'l2'], 'C': [0.1, 1, 10, 23.5, 50]},\n",
       "       pre_dispatch='2*n_jobs', refit=True, scoring=None, verbose=10)"
      ]
     },
     "execution_count": 155,
     "metadata": {},
     "output_type": "execute_result"
    }
   ],
   "source": [
    "paramerters={\n",
    "    'penalty':['l1','l2'],\n",
    "    'C':[0.1,1,10,23.5,50]}\n",
    "\n",
    "modelAmTesting=LogisticRegression()\n",
    "grid_search = GridSearchCV(estimator=modelAmTesting, param_grid=paramerters, verbose=10)\n",
    "grid_search\n",
    "grid_search.fit(X,y)"
   ]
  },
  {
   "cell_type": "code",
   "execution_count": 156,
   "metadata": {
    "collapsed": false
   },
   "outputs": [
    {
     "name": "stdout",
     "output_type": "stream",
     "text": [
      "0.607021131561\n"
     ]
    }
   ],
   "source": [
    "print grid_search.best_score_\n",
    "#accuracy - ok"
   ]
  },
  {
   "cell_type": "code",
   "execution_count": 157,
   "metadata": {
    "collapsed": true
   },
   "outputs": [],
   "source": [
    "predictions=grid_search.best_estimator_.predict(X)"
   ]
  },
  {
   "cell_type": "code",
   "execution_count": 158,
   "metadata": {
    "collapsed": false
   },
   "outputs": [
    {
     "data": {
      "text/plain": [
       "array([[1692,   64],\n",
       "       [1089,   89]])"
      ]
     },
     "execution_count": 158,
     "metadata": {},
     "output_type": "execute_result"
    }
   ],
   "source": [
    "confusion_matrix(y, predictions)"
   ]
  },
  {
   "cell_type": "code",
   "execution_count": 159,
   "metadata": {
    "collapsed": false
   },
   "outputs": [
    {
     "name": "stdout",
     "output_type": "stream",
     "text": [
      "             precision    recall  f1-score   support\n",
      "\n",
      "        0.0       0.61      0.96      0.75      1756\n",
      "        1.0       0.58      0.08      0.13      1178\n",
      "\n",
      "avg / total       0.60      0.61      0.50      2934\n",
      "\n"
     ]
    }
   ],
   "source": [
    "\n",
    "print classification_report(y, predictions)"
   ]
  },
  {
   "cell_type": "code",
   "execution_count": 160,
   "metadata": {
    "collapsed": false
   },
   "outputs": [
    {
     "data": {
      "text/plain": [
       "<matplotlib.axes._subplots.AxesSubplot at 0x125052c90>"
      ]
     },
     "execution_count": 160,
     "metadata": {},
     "output_type": "execute_result"
    },
    {
     "data": {
      "image/png": "[encoded data removed]",
      "text/plain": [
       "<matplotlib.figure.Figure at 0x12504ac10>"
      ]
     },
     "metadata": {},
     "output_type": "display_data"
    }
   ],
   "source": [
    "sb.heatmap(confusion_matrix(y,predictions),annot=True)"
   ]
  },
  {
   "cell_type": "markdown",
   "metadata": {
    "focus": false,
    "id": "9c9274ef-c9f5-4d56-b286-ecc8709eff9f"
   },
   "source": [
    "#### Rebuild this model with scikit-learn.\n",
    "- You can either create the dummy features manually or use the `dmatrix` function from `patsy`\n",
    "- Remember to scale the feature variables as well!\n"
   ]
  },
  {
   "cell_type": "code",
   "execution_count": 19,
   "metadata": {
    "collapsed": false,
    "focus": false,
    "id": "b76f65cd-cd3a-4e91-af55-12880be7b057"
   },
   "outputs": [],
   "source": [
    "## YOUR CODE HERE"
   ]
  },
  {
   "cell_type": "markdown",
   "metadata": {
    "focus": false,
    "id": "9367beff-72ba-4768-a0ba-a50b335de61d"
   },
   "source": [
    "#### Use cross-validation in scikit-learn to evaluate the model above. \n",
    "- Evaluate the accuracy, AUC, precision and recall of the model. \n",
    "- Discuss the differences and explain when you want a high-recall or a high-precision model in this scenario."
   ]
  },
  {
   "cell_type": "code",
   "execution_count": 20,
   "metadata": {
    "collapsed": false,
    "focus": false,
    "id": "269b9e7c-60b5-4a06-8255-881d7395bc1b"
   },
   "outputs": [],
   "source": [
    "## YOUR CODE HERE"
   ]
  },
  {
   "cell_type": "markdown",
   "metadata": {
    "focus": false,
    "id": "8c22664b-92e4-4fc2-b7ac-fbac865845d3"
   },
   "source": [
    "#### Compare L1 and L2 regularization for this logistic regression model. What effect does this have on the coefficients learned?"
   ]
  },
  {
   "cell_type": "code",
   "execution_count": 181,
   "metadata": {
    "collapsed": false
   },
   "outputs": [
    {
     "name": "stdout",
     "output_type": "stream",
     "text": [
      "GridSearchCV(cv=None, error_score='raise',\n",
      "       estimator=Lasso(alpha=1.0, copy_X=True, fit_intercept=True, max_iter=1000,\n",
      "   normalize=False, positive=False, precompute=False, random_state=None,\n",
      "   selection='cyclic', tol=0.0001, warm_start=False),\n",
      "       fit_params={}, iid=True, n_jobs=1,\n",
      "       param_grid={'alpha': array([  1.00000e+02,   1.00000e+01,   1.00000e+00,   1.00000e-01,\n",
      "         1.00000e-02,   1.00000e-03,   1.00000e-04,   0.00000e+00])},\n",
      "       pre_dispatch='2*n_jobs', refit=True, scoring=None, verbose=0)\n"
     ]
    },
    {
     "name": "stderr",
     "output_type": "stream",
     "text": [
      "//anaconda/lib/python2.7/site-packages/sklearn/cross_validation.py:1531: UserWarning: With alpha=0, this algorithm does not converge well. You are advised to use the LinearRegression estimator\n",
      "  estimator.fit(X_train, y_train, **fit_params)\n",
      "//anaconda/lib/python2.7/site-packages/sklearn/linear_model/coordinate_descent.py:454: UserWarning: Coordinate descent with alpha=0 may lead to unexpected results and is discouraged.\n",
      "  positive)\n",
      "//anaconda/lib/python2.7/site-packages/sklearn/linear_model/coordinate_descent.py:466: ConvergenceWarning: Objective did not converge. You might want to increase the number of iterations\n",
      "  ConvergenceWarning)\n",
      "//anaconda/lib/python2.7/site-packages/sklearn/grid_search.py:599: UserWarning: With alpha=0, this algorithm does not converge well. You are advised to use the LinearRegression estimator\n",
      "  best_estimator.fit(X, y, **self.fit_params)\n"
     ]
    }
   ],
   "source": [
    "#Prepare a Range of Alpha Values to Test\n",
    "alphas = np.array([100,10,1,0.1,0.01,0.001,0.0001,0])\n",
    "model=Lasso()\n",
    "\n",
    "grid = GridSearchCV(estimator=model, param_grid={'alpha': alphas,})\n",
    "#a dictionary for param_grid  feed the dictionary to alpha\n",
    "grid.fit(X,y)\n",
    "print(grid)"
   ]
  },
  {
   "cell_type": "code",
   "execution_count": 182,
   "metadata": {
    "collapsed": false
   },
   "outputs": [
    {
     "name": "stdout",
     "output_type": "stream",
     "text": [
      "-3.92154009425\n",
      "0.0\n"
     ]
    }
   ],
   "source": [
    "print(grid.best_score_)\n",
    "print(grid.best_estimator_.alpha)\n",
    "#this has to be wrong - a negitive number??"
   ]
  },
  {
   "cell_type": "code",
   "execution_count": 183,
   "metadata": {
    "collapsed": false
   },
   "outputs": [
    {
     "data": {
      "text/plain": [
       "0.013545571017835822"
      ]
     },
     "execution_count": 183,
     "metadata": {},
     "output_type": "execute_result"
    }
   ],
   "source": [
    "best_model=grid.best_estimator_\n",
    "best_model.score(X,y)"
   ]
  },
  {
   "cell_type": "code",
   "execution_count": 22,
   "metadata": {
    "collapsed": false,
    "focus": false,
    "id": "56cc8854-d722-411d-a6c7-e86310710f67"
   },
   "outputs": [],
   "source": [
    "## YOUR CODE HERE"
   ]
  },
  {
   "cell_type": "markdown",
   "metadata": {},
   "source": [
    "The following cities were included in the study, Chicago, Cincinnati, Louisville, San Francisco, and Austin.  \n",
    "\n",
    "The cost of living index. Chicago = 111 Cincinnati = 83 Louisville = 91 Austin Tx = 78.26, and 189 in San Francisco.\n",
    "\n",
    "Median pay for a Data Scientist is $93,146. The range is 64,953-126,183 \n",
    "Chicago the median is 83,437. The range is 53,469-114.196 \n",
    "Austin the median 83,084. The range is 49,460 - 108,409 \n",
    "San Francisco the median salary is $112,468 and the range is 82,601-137,236\n",
    "\n",
    "This data is from www.payscale.com\n",
    "\n",
    "Originally I thought the cities  (especially San Francisco) would predict high salary and I was wrong.  I was surprised to see how many entry level jobs there were in San Francisco. \n",
    "\n",
    "The coefficients for the states for Low\n",
    "CA -.05\n",
    "OH .11\n",
    "TX .44\n",
    "IL .62\n",
    "\n",
    "The accuracy was .60 which was consistent with L1 and L2 results\n",
    "\n",
    "The coefficients for the states for High were all less than 1\n",
    "The precision of the model is .36\n",
    "\n",
    "\n",
    "I played with seeing if words would predict high and settled on the words senior, lead, and director.  These words imply responsibility and experience.  \n",
    "\n",
    "The coefficients were \n",
    "Senior = .32\n",
    "Lead = .45\n",
    "Director = .81\n",
    "\n",
    "I tried director alone and the coefficient was .77\n",
    "\n",
    "The accuracy was .61\n",
    "\n",
    "The confusion matrix results were\n",
    "True Positive: tested high and was high 1,700\n",
    "False Positive: Tested high and was low  64\n",
    "False Negative: Tested low and was high 1,100\n",
    "True Negative: Test negative and was negative  89\n",
    "\n",
    "The precision was .6 - when the model predicted high it was right 60% of the time.\n",
    "\n",
    "I tried to run the Lasso model and my output was wrong. \n",
    "\n",
    "\n",
    "\n",
    "\n"
   ]
  },
  {
   "cell_type": "markdown",
   "metadata": {
    "focus": false,
    "id": "fead9b5b-7316-405d-87fd-e144dff0cbeb"
   },
   "source": [
    "#### Continue to incorporate other text features from the title or summary that you believe will predict the salary and examine their coefficients"
   ]
  },
  {
   "cell_type": "markdown",
   "metadata": {
    "focus": false,
    "id": "12d5edeb-a272-43a0-9977-d951f12fedfb"
   },
   "source": [
    "#### Take ~100 scraped entries with salaries. Convert them to use with your model and predict the salary - which entries have the highest predicted salaries?"
   ]
  },
  {
   "cell_type": "markdown",
   "metadata": {
    "focus": false,
    "id": "3be94357-e551-4094-b784-2df039216d33"
   },
   "source": [
    "### BONUS "
   ]
  },
  {
   "cell_type": "markdown",
   "metadata": {
    "focus": false,
    "id": "db045898-1d2d-4af2-8e79-437c4c7546b4"
   },
   "source": [
    "#### Bonus: Use Count Vectorizer from scikit-learn to create features from the text summaries. \n",
    "- Examine using count or binary features in the model\n",
    "- Re-evaluate the logistic regression model using these. Does this improve the model performance? \n",
    "- What text features are the most valuable? "
   ]
  },
  {
   "cell_type": "code",
   "execution_count": 23,
   "metadata": {
    "collapsed": false,
    "focus": false,
    "id": "4239e458-28bd-4675-8db3-c1d9c02b9854"
   },
   "outputs": [],
   "source": [
    "#I used Count Vectorizer to get the words to use in the final model"
   ]
  },
  {
   "cell_type": "code",
   "execution_count": 24,
   "metadata": {
    "collapsed": false,
    "focus": false,
    "id": "fec80936-37bc-4922-89bd-b5d615566c9c"
   },
   "outputs": [],
   "source": [
    "## YOUR CODE HERE"
   ]
  },
  {
   "cell_type": "markdown",
   "metadata": {
    "focus": false,
    "id": "d42b9fd8-39d5-416a-b40b-7410e6396c11"
   },
   "source": [
    "#### Re-test L1 and L2 regularization. You can use LogisticRegressionCV to find the optimal reguarlization parameters. \n",
    "- Re-test what text features are most valuable.  \n",
    "- How do L1 and L2 change the coefficients?"
   ]
  },
  {
   "cell_type": "code",
   "execution_count": 25,
   "metadata": {
    "collapsed": false,
    "focus": false,
    "id": "7570e237-c8cc-4e26-b569-7aee10627e79"
   },
   "outputs": [],
   "source": [
    "## YOUR CODE HERE"
   ]
  },
  {
   "cell_type": "code",
   "execution_count": null,
   "metadata": {
    "collapsed": true,
    "focus": false,
    "id": "e3a0c83d-e3b8-4bed-b864-7e795b34a3d4"
   },
   "outputs": [],
   "source": []
  }
 ],
 "metadata": {
  "anaconda-cloud": {},
  "kernelspec": {
   "display_name": "Python [Root]",
   "language": "python",
   "name": "Python [Root]"
  },
  "language_info": {
   "codemirror_mode": {
    "name": "ipython",
    "version": 2
   },
   "file_extension": ".py",
   "mimetype": "text/x-python",
   "name": "python",
   "nbconvert_exporter": "python",
   "pygments_lexer": "ipython2",
   "version": "2.7.12"
  }
 },
 "nbformat": 4,
 "nbformat_minor": 0
}
