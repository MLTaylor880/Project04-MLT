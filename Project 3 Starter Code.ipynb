{
 "cells": [
  {
   "cell_type": "markdown",
   "metadata": {},
   "source": [
    "# Getting started\n",
    "\n",
    "Once you've chosen your scenario, download the data from [the Iowa website](https://data.iowa.gov/Economy/Iowa-Liquor-Sales/m3tr-qhgy) in csv format. Start by loading the data with pandas. You may need to parse the date columns appropriately."
   ]
  },
  {
   "cell_type": "code",
   "execution_count": 244,
   "metadata": {
    "collapsed": false
   },
   "outputs": [],
   "source": [
    "%matplotlib inline\n",
    "import pandas as pd\n",
    "import os\n",
    "import seaborn as sns\n",
    "import matplotlib.pyplot as plt\n",
    "import numpy as np\n",
    "\n",
    "## Load the data into a DataFrame\n",
    "# pd.read_csv()\n",
    "\n",
    "## Transform the dates if needed, e.g.\n",
    "# df[\"Date\"] = pd.to_datetime(df[\"Date\"], format=\"%m-%d-%y\")\n",
    "#different separator format off"
   ]
  },
  {
   "cell_type": "code",
   "execution_count": 245,
   "metadata": {
    "collapsed": false
   },
   "outputs": [
    {
     "data": {
      "text/plain": [
       "u'/Users/marthataylor/DSI-CHI-1/projects/weekly-projects/project-03/starter-code'"
      ]
     },
     "execution_count": 245,
     "metadata": {},
     "output_type": "execute_result"
    }
   ],
   "source": [
    "pwd"
   ]
  },
  {
   "cell_type": "code",
   "execution_count": 246,
   "metadata": {
    "collapsed": false
   },
   "outputs": [],
   "source": [
    "data =pd.read_csv('../Datasets/Iowa_Liquor_Sales_reduced.csv')"
   ]
  },
  {
   "cell_type": "markdown",
   "metadata": {},
   "source": [
    "# Explore the data\n",
    "\n",
    "Perform some exploratory statistical analysis and make some plots, such as histograms of transaction totals, bottles sold, etc."
   ]
  },
  {
   "cell_type": "code",
   "execution_count": 248,
   "metadata": {
    "collapsed": false,
    "scrolled": false
   },
   "outputs": [
    {
     "data": {
      "text/html": [
       "<div>\n",
       "<table border=\"1\" class=\"dataframe\">\n",
       "  <thead>\n",
       "    <tr style=\"text-align: right;\">\n",
       "      <th></th>\n",
       "      <th>Date</th>\n",
       "      <th>Store Number</th>\n",
       "      <th>City</th>\n",
       "      <th>Zip Code</th>\n",
       "      <th>County Number</th>\n",
       "      <th>County</th>\n",
       "      <th>Category</th>\n",
       "      <th>Category Name</th>\n",
       "      <th>Vendor Number</th>\n",
       "      <th>Item Number</th>\n",
       "      <th>Item Description</th>\n",
       "      <th>Bottle Volume (ml)</th>\n",
       "      <th>State Bottle Cost</th>\n",
       "      <th>State Bottle Retail</th>\n",
       "      <th>Bottles Sold</th>\n",
       "      <th>Sale (Dollars)</th>\n",
       "      <th>Volume Sold (Liters)</th>\n",
       "      <th>Volume Sold (Gallons)</th>\n",
       "    </tr>\n",
       "  </thead>\n",
       "  <tbody>\n",
       "    <tr>\n",
       "      <th>0</th>\n",
       "      <td>03/31/2016</td>\n",
       "      <td>5029</td>\n",
       "      <td>DAVENPORT</td>\n",
       "      <td>52806</td>\n",
       "      <td>82.0</td>\n",
       "      <td>Scott</td>\n",
       "      <td>1022100.0</td>\n",
       "      <td>TEQUILA</td>\n",
       "      <td>370</td>\n",
       "      <td>87152</td>\n",
       "      <td>Avion Silver</td>\n",
       "      <td>375</td>\n",
       "      <td>$9.99</td>\n",
       "      <td>$14.99</td>\n",
       "      <td>12</td>\n",
       "      <td>$179.88</td>\n",
       "      <td>4.5</td>\n",
       "      <td>1.19</td>\n",
       "    </tr>\n",
       "    <tr>\n",
       "      <th>1</th>\n",
       "      <td>03/31/2016</td>\n",
       "      <td>5029</td>\n",
       "      <td>DAVENPORT</td>\n",
       "      <td>52806</td>\n",
       "      <td>82.0</td>\n",
       "      <td>Scott</td>\n",
       "      <td>1022100.0</td>\n",
       "      <td>TEQUILA</td>\n",
       "      <td>395</td>\n",
       "      <td>89197</td>\n",
       "      <td>Jose Cuervo Especial Reposado Tequila</td>\n",
       "      <td>1000</td>\n",
       "      <td>$12.50</td>\n",
       "      <td>$18.75</td>\n",
       "      <td>2</td>\n",
       "      <td>$37.50</td>\n",
       "      <td>2.0</td>\n",
       "      <td>0.53</td>\n",
       "    </tr>\n",
       "    <tr>\n",
       "      <th>2</th>\n",
       "      <td>03/31/2016</td>\n",
       "      <td>4959</td>\n",
       "      <td>CEDAR FALLS</td>\n",
       "      <td>50613</td>\n",
       "      <td>7.0</td>\n",
       "      <td>Black Hawk</td>\n",
       "      <td>1071100.0</td>\n",
       "      <td>AMERICAN COCKTAILS</td>\n",
       "      <td>380</td>\n",
       "      <td>63959</td>\n",
       "      <td>Uv Blue Raspberry Lemonade Pet</td>\n",
       "      <td>1750</td>\n",
       "      <td>$5.97</td>\n",
       "      <td>$8.96</td>\n",
       "      <td>6</td>\n",
       "      <td>$53.76</td>\n",
       "      <td>10.5</td>\n",
       "      <td>2.77</td>\n",
       "    </tr>\n",
       "  </tbody>\n",
       "</table>\n",
       "</div>"
      ],
      "text/plain": [
       "         Date  Store Number         City Zip Code  County Number      County  \\\n",
       "0  03/31/2016          5029    DAVENPORT    52806           82.0       Scott   \n",
       "1  03/31/2016          5029    DAVENPORT    52806           82.0       Scott   \n",
       "2  03/31/2016          4959  CEDAR FALLS    50613            7.0  Black Hawk   \n",
       "\n",
       "    Category       Category Name  Vendor Number  Item Number  \\\n",
       "0  1022100.0             TEQUILA            370        87152   \n",
       "1  1022100.0             TEQUILA            395        89197   \n",
       "2  1071100.0  AMERICAN COCKTAILS            380        63959   \n",
       "\n",
       "                        Item Description  Bottle Volume (ml)  \\\n",
       "0                           Avion Silver                 375   \n",
       "1  Jose Cuervo Especial Reposado Tequila                1000   \n",
       "2         Uv Blue Raspberry Lemonade Pet                1750   \n",
       "\n",
       "  State Bottle Cost State Bottle Retail  Bottles Sold Sale (Dollars)  \\\n",
       "0             $9.99              $14.99            12        $179.88   \n",
       "1            $12.50              $18.75             2         $37.50   \n",
       "2             $5.97               $8.96             6         $53.76   \n",
       "\n",
       "   Volume Sold (Liters)  Volume Sold (Gallons)  \n",
       "0                   4.5                   1.19  \n",
       "1                   2.0                   0.53  \n",
       "2                  10.5                   2.77  "
      ]
     },
     "execution_count": 248,
     "metadata": {},
     "output_type": "execute_result"
    }
   ],
   "source": [
    "data.head(3)"
   ]
  },
  {
   "cell_type": "code",
   "execution_count": 249,
   "metadata": {
    "collapsed": false
   },
   "outputs": [],
   "source": [
    "data[\"Date\"] = pd.to_datetime(data[\"Date\"], format=\"%m/%d/%Y\")"
   ]
  },
  {
   "cell_type": "code",
   "execution_count": 250,
   "metadata": {
    "collapsed": false
   },
   "outputs": [
    {
     "data": {
      "text/plain": [
       "Index([u'Date', u'Store Number', u'City', u'Zip Code', u'County Number',\n",
       "       u'County', u'Category', u'Category Name', u'Vendor Number',\n",
       "       u'Item Number', u'Item Description', u'Bottle Volume (ml)',\n",
       "       u'State Bottle Cost', u'State Bottle Retail', u'Bottles Sold',\n",
       "       u'Sale (Dollars)', u'Volume Sold (Liters)', u'Volume Sold (Gallons)'],\n",
       "      dtype='object')"
      ]
     },
     "execution_count": 250,
     "metadata": {},
     "output_type": "execute_result"
    }
   ],
   "source": [
    "data.columns"
   ]
  },
  {
   "cell_type": "code",
   "execution_count": null,
   "metadata": {
    "collapsed": true
   },
   "outputs": [],
   "source": [
    "#clean up before describing. The dollar amounts will be converted to float\n",
    "#Store numbers will be converted to string\n"
   ]
  },
  {
   "cell_type": "code",
   "execution_count": 251,
   "metadata": {
    "collapsed": false
   },
   "outputs": [],
   "source": [
    "data['State Bottle Retail'] = data['State Bottle Retail'].str.replace('$', '').astype(float)\n",
    "data['State Bottle Cost'] = data['State Bottle Cost'].str.replace('$', '').astype(float)\n",
    "data['Sale (Dollars)'] = data['Sale (Dollars)'].str.replace('$', '').astype(float)"
   ]
  },
  {
   "cell_type": "code",
   "execution_count": 252,
   "metadata": {
    "collapsed": false
   },
   "outputs": [
    {
     "name": "stdout",
     "output_type": "stream",
     "text": [
      "For Date  *********\n",
      "datetime64[ns]\n",
      "0\n",
      "count                 2709552\n",
      "unique                    284\n",
      "top       2015-12-01 00:00:00\n",
      "freq                    15588\n",
      "first     2015-01-05 00:00:00\n",
      "last      2016-03-31 00:00:00\n",
      "Name: Date, dtype: object\n",
      " \n",
      "For Store Number  *********\n",
      "int64\n",
      "0\n",
      "count    2.709552e+06\n",
      "mean     3.589071e+03\n",
      "std      9.491083e+02\n",
      "min      2.106000e+03\n",
      "25%      2.604000e+03\n",
      "50%      3.721000e+03\n",
      "75%      4.382000e+03\n",
      "max      9.023000e+03\n",
      "Name: Store Number, dtype: float64\n",
      " \n",
      "For City  *********\n",
      "object\n",
      "0\n",
      "count        2709552\n",
      "unique           386\n",
      "top       DES MOINES\n",
      "freq          237791\n",
      "Name: City, dtype: object\n",
      " \n",
      "For Zip Code  *********\n",
      "object\n",
      "0\n",
      "count     2709552\n",
      "unique        771\n",
      "top         50010\n",
      "freq        67815\n",
      "Name: Zip Code, dtype: object\n",
      " \n",
      "For County Number  *********\n",
      "float64\n",
      "10913\n",
      "count    2.698639e+06\n",
      "mean     5.726086e+01\n",
      "std      2.732565e+01\n",
      "min      1.000000e+00\n",
      "25%               NaN\n",
      "50%               NaN\n",
      "75%               NaN\n",
      "max      9.900000e+01\n",
      "Name: County Number, dtype: float64\n",
      " \n",
      "For County  *********\n",
      "object\n",
      "10913\n",
      "count     2698639\n",
      "unique         99\n",
      "top          Polk\n",
      "freq       491953\n",
      "Name: County, dtype: object\n",
      " \n",
      "For Category  *********\n",
      "float64\n",
      "779\n",
      "count    2.708773e+06\n",
      "mean     1.043826e+06\n",
      "std      5.003493e+04\n",
      "min      1.011100e+06\n",
      "25%               NaN\n",
      "50%               NaN\n",
      "75%               NaN\n",
      "max      1.701100e+06\n",
      "Name: Category, dtype: float64\n",
      " \n",
      "For Category Name  *********\n",
      "object\n",
      "6109\n",
      "count            2703443\n",
      "unique                73\n",
      "top       VODKA 80 PROOF\n",
      "freq              353491\n",
      "Name: Category Name, dtype: object\n",
      " \n",
      "For Vendor Number  *********\n",
      "int64\n",
      "0\n",
      "count    2.709552e+06\n",
      "mean     2.563901e+02\n",
      "std      1.408757e+02\n",
      "min      1.000000e+01\n",
      "25%      1.150000e+02\n",
      "50%      2.600000e+02\n",
      "75%      3.800000e+02\n",
      "max      9.780000e+02\n",
      "Name: Vendor Number, dtype: float64\n",
      " \n",
      "For Item Number  *********\n",
      "int64\n",
      "0\n",
      "count    2.709552e+06\n",
      "mean     4.601624e+04\n",
      "std      5.311268e+04\n",
      "min      1.460000e+02\n",
      "25%      2.682800e+04\n",
      "50%      3.817600e+04\n",
      "75%      6.460100e+04\n",
      "max      9.992750e+05\n",
      "Name: Item Number, dtype: float64\n",
      " \n",
      "For Item Description  *********\n",
      "object\n",
      "0\n",
      "count          2709552\n",
      "unique            3029\n",
      "top       Black Velvet\n",
      "freq             72432\n",
      "Name: Item Description, dtype: object\n",
      " \n",
      "For Bottle Volume (ml)  *********\n",
      "int64\n",
      "0\n",
      "count    2.709552e+06\n",
      "mean     9.242111e+02\n",
      "std      5.464858e+02\n",
      "min      0.000000e+00\n",
      "25%      7.500000e+02\n",
      "50%      7.500000e+02\n",
      "75%      1.000000e+03\n",
      "max      2.250000e+05\n",
      "Name: Bottle Volume (ml), dtype: float64\n",
      " \n",
      "For State Bottle Cost  *********\n",
      "float64\n",
      "0\n",
      "count    2.709552e+06\n",
      "mean     9.816209e+00\n",
      "std      1.490656e+01\n",
      "min      8.900000e-01\n",
      "25%      5.510000e+00\n",
      "50%      8.070000e+00\n",
      "75%      1.196000e+01\n",
      "max      6.468000e+03\n",
      "Name: State Bottle Cost, dtype: float64\n",
      " \n",
      "For State Bottle Retail  *********\n",
      "float64\n",
      "0\n",
      "count    2.709552e+06\n",
      "mean     1.474012e+01\n",
      "std      2.235953e+01\n",
      "min      1.340000e+00\n",
      "25%      8.270000e+00\n",
      "50%      1.230000e+01\n",
      "75%      1.794000e+01\n",
      "max      9.702000e+03\n",
      "Name: State Bottle Retail, dtype: float64\n",
      " \n",
      "For Bottles Sold  *********\n",
      "int64\n",
      "0\n",
      "count    2.709552e+06\n",
      "mean     9.838390e+00\n",
      "std      2.349863e+01\n",
      "min      1.000000e+00\n",
      "25%      2.000000e+00\n",
      "50%      6.000000e+00\n",
      "75%      1.200000e+01\n",
      "max      3.960000e+03\n",
      "Name: Bottles Sold, dtype: float64\n",
      " \n",
      "For Sale (Dollars)  *********\n",
      "float64\n",
      "0\n",
      "count    2.709552e+06\n",
      "mean     1.291191e+02\n",
      "std      3.994615e+02\n",
      "min      1.340000e+00\n",
      "25%      3.048000e+01\n",
      "50%      7.056000e+01\n",
      "75%      1.350000e+02\n",
      "max      1.063260e+05\n",
      "Name: Sale (Dollars), dtype: float64\n",
      " \n",
      "For Volume Sold (Liters)  *********\n",
      "float64\n",
      "0\n",
      "count    2.709552e+06\n",
      "mean     8.921504e+00\n",
      "std      2.824435e+01\n",
      "min      0.000000e+00\n",
      "25%      1.500000e+00\n",
      "50%      5.250000e+00\n",
      "75%      1.050000e+01\n",
      "max      3.960000e+03\n",
      "Name: Volume Sold (Liters), dtype: float64\n",
      " \n",
      "For Volume Sold (Gallons)  *********\n",
      "float64\n",
      "0\n",
      "count    2.709552e+06\n",
      "mean     2.357017e+00\n",
      "std      7.461356e+00\n",
      "min      0.000000e+00\n",
      "25%      4.000000e-01\n",
      "50%      1.390000e+00\n",
      "75%      2.770000e+00\n",
      "max      1.046120e+03\n",
      "Name: Volume Sold (Gallons), dtype: float64\n",
      " \n"
     ]
    }
   ],
   "source": [
    "\n",
    "# for item in lstWeeks:\n",
    "#     print 'For %s' %item\n",
    "#     print billboard.dtypes[item] \n",
    "#     print billboard[item].isnull().sum()\n",
    "#     print billboard[item].describe()\n",
    "#     print ' '\n",
    "\n",
    "lstColumns = []\n",
    "i = 0\n",
    "for labels in data.columns:\n",
    "    lstColumns.append(labels)\n",
    "    i = i + 1\n",
    "for item in lstColumns:\n",
    "    print 'For %s  *********' %item\n",
    "    print data.dtypes[item]\n",
    "    print data[item].isnull().sum()\n",
    "    print data[item].describe()\n",
    "    print ' '\n",
    "\n",
    "\n",
    "    \n",
    "        "
   ]
  },
  {
   "cell_type": "code",
   "execution_count": 253,
   "metadata": {
    "collapsed": false
   },
   "outputs": [
    {
     "data": {
      "text/plain": [
       "Index([u'Date', u'Store Number', u'City', u'Zip Code', u'County Number',\n",
       "       u'County', u'Category', u'Category Name', u'Vendor Number',\n",
       "       u'Item Number', u'Item Description', u'Bottle Volume (ml)',\n",
       "       u'State Bottle Cost', u'State Bottle Retail', u'Bottles Sold',\n",
       "       u'Sale (Dollars)', u'Volume Sold (Liters)', u'Volume Sold (Gallons)'],\n",
       "      dtype='object')"
      ]
     },
     "execution_count": 253,
     "metadata": {},
     "output_type": "execute_result"
    }
   ],
   "source": [
    "data.columns"
   ]
  },
  {
   "cell_type": "code",
   "execution_count": null,
   "metadata": {
    "collapsed": true
   },
   "outputs": [],
   "source": []
  },
  {
   "cell_type": "code",
   "execution_count": 254,
   "metadata": {
    "collapsed": false
   },
   "outputs": [
    {
     "data": {
      "text/html": [
       "<div>\n",
       "<table border=\"1\" class=\"dataframe\">\n",
       "  <thead>\n",
       "    <tr style=\"text-align: right;\">\n",
       "      <th></th>\n",
       "      <th>Date</th>\n",
       "      <th>Store Number</th>\n",
       "      <th>City</th>\n",
       "      <th>Zip Code</th>\n",
       "      <th>County Number</th>\n",
       "      <th>County</th>\n",
       "      <th>Category</th>\n",
       "      <th>Category Name</th>\n",
       "      <th>Vendor Number</th>\n",
       "      <th>Item Number</th>\n",
       "      <th>...</th>\n",
       "      <th>Bottle Volume (ml)</th>\n",
       "      <th>State Bottle Cost</th>\n",
       "      <th>State Bottle Retail</th>\n",
       "      <th>Bottles Sold</th>\n",
       "      <th>Sale (Dollars)</th>\n",
       "      <th>Volume Sold (Liters)</th>\n",
       "      <th>Volume Sold (Gallons)</th>\n",
       "      <th>totalCost</th>\n",
       "      <th>profit</th>\n",
       "      <th>Profit Margin</th>\n",
       "    </tr>\n",
       "  </thead>\n",
       "  <tbody>\n",
       "    <tr>\n",
       "      <th>0</th>\n",
       "      <td>2016-03-31</td>\n",
       "      <td>5029</td>\n",
       "      <td>DAVENPORT</td>\n",
       "      <td>52806</td>\n",
       "      <td>82.0</td>\n",
       "      <td>Scott</td>\n",
       "      <td>1022100.0</td>\n",
       "      <td>TEQUILA</td>\n",
       "      <td>370</td>\n",
       "      <td>87152</td>\n",
       "      <td>...</td>\n",
       "      <td>375</td>\n",
       "      <td>9.99</td>\n",
       "      <td>14.99</td>\n",
       "      <td>12</td>\n",
       "      <td>179.88</td>\n",
       "      <td>4.5</td>\n",
       "      <td>1.19</td>\n",
       "      <td>119.88</td>\n",
       "      <td>60.00</td>\n",
       "      <td>33.355570</td>\n",
       "    </tr>\n",
       "    <tr>\n",
       "      <th>1</th>\n",
       "      <td>2016-03-31</td>\n",
       "      <td>5029</td>\n",
       "      <td>DAVENPORT</td>\n",
       "      <td>52806</td>\n",
       "      <td>82.0</td>\n",
       "      <td>Scott</td>\n",
       "      <td>1022100.0</td>\n",
       "      <td>TEQUILA</td>\n",
       "      <td>395</td>\n",
       "      <td>89197</td>\n",
       "      <td>...</td>\n",
       "      <td>1000</td>\n",
       "      <td>12.50</td>\n",
       "      <td>18.75</td>\n",
       "      <td>2</td>\n",
       "      <td>37.50</td>\n",
       "      <td>2.0</td>\n",
       "      <td>0.53</td>\n",
       "      <td>25.00</td>\n",
       "      <td>12.50</td>\n",
       "      <td>33.333333</td>\n",
       "    </tr>\n",
       "    <tr>\n",
       "      <th>2</th>\n",
       "      <td>2016-03-31</td>\n",
       "      <td>4959</td>\n",
       "      <td>CEDAR FALLS</td>\n",
       "      <td>50613</td>\n",
       "      <td>7.0</td>\n",
       "      <td>Black Hawk</td>\n",
       "      <td>1071100.0</td>\n",
       "      <td>AMERICAN COCKTAILS</td>\n",
       "      <td>380</td>\n",
       "      <td>63959</td>\n",
       "      <td>...</td>\n",
       "      <td>1750</td>\n",
       "      <td>5.97</td>\n",
       "      <td>8.96</td>\n",
       "      <td>6</td>\n",
       "      <td>53.76</td>\n",
       "      <td>10.5</td>\n",
       "      <td>2.77</td>\n",
       "      <td>35.82</td>\n",
       "      <td>17.94</td>\n",
       "      <td>33.370536</td>\n",
       "    </tr>\n",
       "    <tr>\n",
       "      <th>3</th>\n",
       "      <td>2016-03-31</td>\n",
       "      <td>2190</td>\n",
       "      <td>DES MOINES</td>\n",
       "      <td>50314</td>\n",
       "      <td>77.0</td>\n",
       "      <td>Polk</td>\n",
       "      <td>1031200.0</td>\n",
       "      <td>VODKA FLAVORED</td>\n",
       "      <td>205</td>\n",
       "      <td>40597</td>\n",
       "      <td>...</td>\n",
       "      <td>200</td>\n",
       "      <td>2.24</td>\n",
       "      <td>3.36</td>\n",
       "      <td>48</td>\n",
       "      <td>161.28</td>\n",
       "      <td>9.6</td>\n",
       "      <td>2.54</td>\n",
       "      <td>107.52</td>\n",
       "      <td>53.76</td>\n",
       "      <td>33.333333</td>\n",
       "    </tr>\n",
       "    <tr>\n",
       "      <th>4</th>\n",
       "      <td>2016-03-31</td>\n",
       "      <td>5240</td>\n",
       "      <td>WEST BRANCH</td>\n",
       "      <td>52358</td>\n",
       "      <td>NaN</td>\n",
       "      <td>NaN</td>\n",
       "      <td>1081200.0</td>\n",
       "      <td>CREAM LIQUEURS</td>\n",
       "      <td>305</td>\n",
       "      <td>73055</td>\n",
       "      <td>...</td>\n",
       "      <td>750</td>\n",
       "      <td>12.50</td>\n",
       "      <td>18.75</td>\n",
       "      <td>6</td>\n",
       "      <td>112.50</td>\n",
       "      <td>4.5</td>\n",
       "      <td>1.19</td>\n",
       "      <td>75.00</td>\n",
       "      <td>37.50</td>\n",
       "      <td>33.333333</td>\n",
       "    </tr>\n",
       "  </tbody>\n",
       "</table>\n",
       "<p>5 rows × 21 columns</p>\n",
       "</div>"
      ],
      "text/plain": [
       "        Date  Store Number         City Zip Code  County Number      County  \\\n",
       "0 2016-03-31          5029    DAVENPORT    52806           82.0       Scott   \n",
       "1 2016-03-31          5029    DAVENPORT    52806           82.0       Scott   \n",
       "2 2016-03-31          4959  CEDAR FALLS    50613            7.0  Black Hawk   \n",
       "3 2016-03-31          2190   DES MOINES    50314           77.0        Polk   \n",
       "4 2016-03-31          5240  WEST BRANCH    52358            NaN         NaN   \n",
       "\n",
       "    Category       Category Name  Vendor Number  Item Number      ...        \\\n",
       "0  1022100.0             TEQUILA            370        87152      ...         \n",
       "1  1022100.0             TEQUILA            395        89197      ...         \n",
       "2  1071100.0  AMERICAN COCKTAILS            380        63959      ...         \n",
       "3  1031200.0      VODKA FLAVORED            205        40597      ...         \n",
       "4  1081200.0      CREAM LIQUEURS            305        73055      ...         \n",
       "\n",
       "  Bottle Volume (ml)  State Bottle Cost  State Bottle Retail  Bottles Sold  \\\n",
       "0                375               9.99                14.99            12   \n",
       "1               1000              12.50                18.75             2   \n",
       "2               1750               5.97                 8.96             6   \n",
       "3                200               2.24                 3.36            48   \n",
       "4                750              12.50                18.75             6   \n",
       "\n",
       "   Sale (Dollars)  Volume Sold (Liters)  Volume Sold (Gallons)  totalCost  \\\n",
       "0          179.88                   4.5                   1.19     119.88   \n",
       "1           37.50                   2.0                   0.53      25.00   \n",
       "2           53.76                  10.5                   2.77      35.82   \n",
       "3          161.28                   9.6                   2.54     107.52   \n",
       "4          112.50                   4.5                   1.19      75.00   \n",
       "\n",
       "   profit  Profit Margin  \n",
       "0   60.00      33.355570  \n",
       "1   12.50      33.333333  \n",
       "2   17.94      33.370536  \n",
       "3   53.76      33.333333  \n",
       "4   37.50      33.333333  \n",
       "\n",
       "[5 rows x 21 columns]"
      ]
     },
     "execution_count": 254,
     "metadata": {},
     "output_type": "execute_result"
    }
   ],
   "source": [
    "#adding the costs in order to calculate the profit\n",
    "data['totalCost']= (data['Bottles Sold']*data['State Bottle Cost'])\n",
    "data['profit']=(data['Sale (Dollars)']-data['totalCost'])\n",
    "data['Profit Margin']=(data['profit']/data['Sale (Dollars)']*100)\n",
    "data.head(5)"
   ]
  },
  {
   "cell_type": "code",
   "execution_count": null,
   "metadata": {
    "collapsed": false
   },
   "outputs": [],
   "source": [
    "#saving county sales to csv for upload to tableau\n",
    "data.to_csv('stateData.csv')"
   ]
  },
  {
   "cell_type": "code",
   "execution_count": 255,
   "metadata": {
    "collapsed": false
   },
   "outputs": [
    {
     "data": {
      "image/png": "[encoded data removed]",
      "text/plain": [
       "<matplotlib.figure.Figure at 0x1cc7b19d0>"
      ]
     },
     "metadata": {},
     "output_type": "display_data"
    }
   ],
   "source": [
    "plt.scatter(data['Profit Margin'],data['profit'])\n",
    "xlabel=('Mark up')\n",
    "ylable=('profit');\n"
   ]
  },
  {
   "cell_type": "code",
   "execution_count": 229,
   "metadata": {
    "collapsed": false
   },
   "outputs": [
    {
     "data": {
      "text/plain": [
       "71.428571428571431"
      ]
     },
     "execution_count": 229,
     "metadata": {},
     "output_type": "execute_result"
    }
   ],
   "source": [
    "data['Profit Margin'].max()"
   ]
  },
  {
   "cell_type": "code",
   "execution_count": 228,
   "metadata": {
    "collapsed": false
   },
   "outputs": [
    {
     "data": {
      "text/plain": [
       "count    2.709552e+06\n",
       "mean     3.342122e+01\n",
       "std      5.044588e-01\n",
       "min     -1.409807e-14\n",
       "25%      3.333333e+01\n",
       "50%      3.333333e+01\n",
       "75%      3.336026e+01\n",
       "max      7.142857e+01\n",
       "Name: Profit Margin, dtype: float64"
      ]
     },
     "execution_count": 228,
     "metadata": {},
     "output_type": "execute_result"
    }
   ],
   "source": [
    "data['Profit Margin'].describe()"
   ]
  },
  {
   "cell_type": "code",
   "execution_count": 256,
   "metadata": {
    "collapsed": false
   },
   "outputs": [],
   "source": [
    "#making a table that mirrors the by county\n",
    "# summaryForState= data.groupby('Store Number')\n",
    "# summaryForState.head(10)\n",
    "forStateByStoreBottles=pd.pivot_table(data,\n",
    "                        index=['Store Number'],\n",
    "                        values = ['Bottles Sold'], aggfunc=np.sum)\n",
    "forStateByStoreSales=pd.pivot_table(data,\n",
    "                        index=['Store Number'],\n",
    "                        values = ['Sale (Dollars)'], aggfunc=np.sum)\n",
    "\n",
    "forStateByStoreBottles=forStateByStoreBottles.reset_index()\n",
    "forStateByStoreSales=forStateByStoreSales.reset_index()\n"
   ]
  },
  {
   "cell_type": "code",
   "execution_count": 257,
   "metadata": {
    "collapsed": false
   },
   "outputs": [],
   "source": [
    "#create table store number and its county\n",
    "tempTable = data[['Store Number','County Number']]\n"
   ]
  },
  {
   "cell_type": "code",
   "execution_count": 258,
   "metadata": {
    "collapsed": false
   },
   "outputs": [
    {
     "data": {
      "text/html": [
       "<div>\n",
       "<table border=\"1\" class=\"dataframe\">\n",
       "  <thead>\n",
       "    <tr style=\"text-align: right;\">\n",
       "      <th></th>\n",
       "      <th>Store Number</th>\n",
       "      <th>County Number</th>\n",
       "    </tr>\n",
       "  </thead>\n",
       "  <tbody>\n",
       "    <tr>\n",
       "      <th>0</th>\n",
       "      <td>5029</td>\n",
       "      <td>82.0</td>\n",
       "    </tr>\n",
       "    <tr>\n",
       "      <th>1</th>\n",
       "      <td>5029</td>\n",
       "      <td>82.0</td>\n",
       "    </tr>\n",
       "    <tr>\n",
       "      <th>2</th>\n",
       "      <td>4959</td>\n",
       "      <td>7.0</td>\n",
       "    </tr>\n",
       "    <tr>\n",
       "      <th>3</th>\n",
       "      <td>2190</td>\n",
       "      <td>77.0</td>\n",
       "    </tr>\n",
       "    <tr>\n",
       "      <th>4</th>\n",
       "      <td>5240</td>\n",
       "      <td>NaN</td>\n",
       "    </tr>\n",
       "    <tr>\n",
       "      <th>5</th>\n",
       "      <td>4988</td>\n",
       "      <td>7.0</td>\n",
       "    </tr>\n",
       "    <tr>\n",
       "      <th>6</th>\n",
       "      <td>3993</td>\n",
       "      <td>7.0</td>\n",
       "    </tr>\n",
       "    <tr>\n",
       "      <th>7</th>\n",
       "      <td>5029</td>\n",
       "      <td>82.0</td>\n",
       "    </tr>\n",
       "    <tr>\n",
       "      <th>8</th>\n",
       "      <td>5144</td>\n",
       "      <td>77.0</td>\n",
       "    </tr>\n",
       "    <tr>\n",
       "      <th>9</th>\n",
       "      <td>5029</td>\n",
       "      <td>82.0</td>\n",
       "    </tr>\n",
       "  </tbody>\n",
       "</table>\n",
       "</div>"
      ],
      "text/plain": [
       "   Store Number  County Number\n",
       "0          5029           82.0\n",
       "1          5029           82.0\n",
       "2          4959            7.0\n",
       "3          2190           77.0\n",
       "4          5240            NaN\n",
       "5          4988            7.0\n",
       "6          3993            7.0\n",
       "7          5029           82.0\n",
       "8          5144           77.0\n",
       "9          5029           82.0"
      ]
     },
     "execution_count": 258,
     "metadata": {},
     "output_type": "execute_result"
    }
   ],
   "source": [
    "tempTable.head(10)\n"
   ]
  },
  {
   "cell_type": "code",
   "execution_count": null,
   "metadata": {
    "collapsed": true
   },
   "outputs": [],
   "source": []
  },
  {
   "cell_type": "code",
   "execution_count": null,
   "metadata": {
    "collapsed": true
   },
   "outputs": [],
   "source": [
    "#I didn't get to finish this part I was going to compare my county model\n",
    "#to the state model"
   ]
  },
  {
   "cell_type": "code",
   "execution_count": 259,
   "metadata": {
    "collapsed": false
   },
   "outputs": [],
   "source": [
    "stateSales = pd.concat([forStateByStoreBottles,forStateByStoreSales], axis =1)"
   ]
  },
  {
   "cell_type": "code",
   "execution_count": 260,
   "metadata": {
    "collapsed": false
   },
   "outputs": [
    {
     "data": {
      "text/html": [
       "<div>\n",
       "<table border=\"1\" class=\"dataframe\">\n",
       "  <thead>\n",
       "    <tr style=\"text-align: right;\">\n",
       "      <th></th>\n",
       "      <th>Store Number</th>\n",
       "      <th>Bottles Sold</th>\n",
       "      <th>Store Number</th>\n",
       "      <th>Sale (Dollars)</th>\n",
       "    </tr>\n",
       "  </thead>\n",
       "  <tbody>\n",
       "    <tr>\n",
       "      <th>125</th>\n",
       "      <td>2633</td>\n",
       "      <td>744424</td>\n",
       "      <td>2633</td>\n",
       "      <td>1.228265e+07</td>\n",
       "    </tr>\n",
       "    <tr>\n",
       "      <th>1033</th>\n",
       "      <td>4829</td>\n",
       "      <td>657032</td>\n",
       "      <td>4829</td>\n",
       "      <td>1.108553e+07</td>\n",
       "    </tr>\n",
       "    <tr>\n",
       "      <th>36</th>\n",
       "      <td>2512</td>\n",
       "      <td>356873</td>\n",
       "      <td>2512</td>\n",
       "      <td>5.206377e+06</td>\n",
       "    </tr>\n",
       "    <tr>\n",
       "      <th>194</th>\n",
       "      <td>3385</td>\n",
       "      <td>296426</td>\n",
       "      <td>3385</td>\n",
       "      <td>4.759188e+06</td>\n",
       "    </tr>\n",
       "  </tbody>\n",
       "</table>\n",
       "</div>"
      ],
      "text/plain": [
       "      Store Number  Bottles Sold  Store Number  Sale (Dollars)\n",
       "125           2633        744424          2633    1.228265e+07\n",
       "1033          4829        657032          4829    1.108553e+07\n",
       "36            2512        356873          2512    5.206377e+06\n",
       "194           3385        296426          3385    4.759188e+06"
      ]
     },
     "execution_count": 260,
     "metadata": {},
     "output_type": "execute_result"
    }
   ],
   "source": [
    "\n",
    "stateSales.sort_values('Bottles Sold', ascending = False).head(4)"
   ]
  },
  {
   "cell_type": "code",
   "execution_count": null,
   "metadata": {
    "collapsed": true
   },
   "outputs": [],
   "source": []
  },
  {
   "cell_type": "code",
   "execution_count": null,
   "metadata": {
    "collapsed": true
   },
   "outputs": [],
   "source": []
  },
  {
   "cell_type": "code",
   "execution_count": null,
   "metadata": {
    "collapsed": true
   },
   "outputs": [],
   "source": []
  },
  {
   "cell_type": "code",
   "execution_count": null,
   "metadata": {
    "collapsed": true
   },
   "outputs": [],
   "source": []
  },
  {
   "cell_type": "code",
   "execution_count": 261,
   "metadata": {
    "collapsed": false
   },
   "outputs": [
    {
     "data": {
      "text/html": [
       "<div>\n",
       "<table border=\"1\" class=\"dataframe\">\n",
       "  <thead>\n",
       "    <tr>\n",
       "      <th></th>\n",
       "      <th>mean</th>\n",
       "      <th>sum</th>\n",
       "    </tr>\n",
       "    <tr>\n",
       "      <th></th>\n",
       "      <th>profit</th>\n",
       "      <th>profit</th>\n",
       "    </tr>\n",
       "    <tr>\n",
       "      <th>County Number</th>\n",
       "      <th></th>\n",
       "      <th></th>\n",
       "    </tr>\n",
       "  </thead>\n",
       "  <tbody>\n",
       "    <tr>\n",
       "      <th>1.0</th>\n",
       "      <td>31.834981</td>\n",
       "      <td>177416.35</td>\n",
       "    </tr>\n",
       "    <tr>\n",
       "      <th>2.0</th>\n",
       "      <td>18.262799</td>\n",
       "      <td>40908.67</td>\n",
       "    </tr>\n",
       "    <tr>\n",
       "      <th>3.0</th>\n",
       "      <td>31.382380</td>\n",
       "      <td>336293.58</td>\n",
       "    </tr>\n",
       "    <tr>\n",
       "      <th>4.0</th>\n",
       "      <td>32.321840</td>\n",
       "      <td>338571.27</td>\n",
       "    </tr>\n",
       "    <tr>\n",
       "      <th>5.0</th>\n",
       "      <td>28.834839</td>\n",
       "      <td>70731.86</td>\n",
       "    </tr>\n",
       "  </tbody>\n",
       "</table>\n",
       "</div>"
      ],
      "text/plain": [
       "                    mean        sum\n",
       "                  profit     profit\n",
       "County Number                      \n",
       "1.0            31.834981  177416.35\n",
       "2.0            18.262799   40908.67\n",
       "3.0            31.382380  336293.58\n",
       "4.0            32.321840  338571.27\n",
       "5.0            28.834839   70731.86"
      ]
     },
     "execution_count": 261,
     "metadata": {},
     "output_type": "execute_result"
    }
   ],
   "source": [
    "#the start of building the table to do the analysis\n",
    "profitTable=pd.pivot_table(data,\n",
    "                        index=['County Number'],\n",
    "                        values = ['profit'], aggfunc=[np.mean,np.sum])\n",
    "\n",
    "profitTable.head()"
   ]
  },
  {
   "cell_type": "code",
   "execution_count": 262,
   "metadata": {
    "collapsed": false
   },
   "outputs": [
    {
     "data": {
      "text/plain": [
       "County Number\n",
       "1.0    43503\n",
       "2.0    10173\n",
       "3.0    74610\n",
       "4.0    81618\n",
       "5.0    18552\n",
       "Name: Bottles Sold, dtype: int64"
      ]
     },
     "execution_count": 262,
     "metadata": {},
     "output_type": "execute_result"
    }
   ],
   "source": [
    "byCountyBottles = data.groupby('County Number')['Bottles Sold'].sum()\n",
    "byCountyBottles.head()"
   ]
  },
  {
   "cell_type": "code",
   "execution_count": 263,
   "metadata": {
    "collapsed": false
   },
   "outputs": [
    {
     "data": {
      "text/plain": [
       "County Number\n",
       "1.0    8\n",
       "2.0    1\n",
       "3.0    6\n",
       "4.0    6\n",
       "5.0    3\n",
       "Name: Store Number, dtype: int64"
      ]
     },
     "execution_count": 263,
     "metadata": {},
     "output_type": "execute_result"
    }
   ],
   "source": [
    "countyStores= data.groupby('County Number')['Store Number'].nunique()\n",
    "countyStores.head()"
   ]
  },
  {
   "cell_type": "code",
   "execution_count": 264,
   "metadata": {
    "collapsed": false
   },
   "outputs": [],
   "source": [
    "byCountyVol = data.groupby('County Number')['Volume Sold (Liters)'].sum()\n",
    "byCountySales=data.groupby('County Number')['Sale (Dollars)'].sum()\n"
   ]
  },
  {
   "cell_type": "code",
   "execution_count": 278,
   "metadata": {
    "collapsed": false
   },
   "outputs": [],
   "source": [
    "countySales = pd.concat([profitTable, byCountyBottles, byCountyVol,\n",
    "                        byCountySales, countyStores], axis =1)"
   ]
  },
  {
   "cell_type": "code",
   "execution_count": 279,
   "metadata": {
    "collapsed": false
   },
   "outputs": [
    {
     "data": {
      "text/html": [
       "<div>\n",
       "<table border=\"1\" class=\"dataframe\">\n",
       "  <thead>\n",
       "    <tr style=\"text-align: right;\">\n",
       "      <th></th>\n",
       "      <th>(mean, profit)</th>\n",
       "      <th>(sum, profit)</th>\n",
       "      <th>Bottles Sold</th>\n",
       "      <th>Volume Sold (Liters)</th>\n",
       "      <th>Sale (Dollars)</th>\n",
       "      <th>Store Number</th>\n",
       "    </tr>\n",
       "    <tr>\n",
       "      <th>County Number</th>\n",
       "      <th></th>\n",
       "      <th></th>\n",
       "      <th></th>\n",
       "      <th></th>\n",
       "      <th></th>\n",
       "      <th></th>\n",
       "    </tr>\n",
       "  </thead>\n",
       "  <tbody>\n",
       "    <tr>\n",
       "      <th>1.0</th>\n",
       "      <td>31.834981</td>\n",
       "      <td>177416.35</td>\n",
       "      <td>43503</td>\n",
       "      <td>42233.79</td>\n",
       "      <td>530180.13</td>\n",
       "      <td>8</td>\n",
       "    </tr>\n",
       "    <tr>\n",
       "      <th>2.0</th>\n",
       "      <td>18.262799</td>\n",
       "      <td>40908.67</td>\n",
       "      <td>10173</td>\n",
       "      <td>9191.49</td>\n",
       "      <td>122431.29</td>\n",
       "      <td>1</td>\n",
       "    </tr>\n",
       "    <tr>\n",
       "      <th>3.0</th>\n",
       "      <td>31.382380</td>\n",
       "      <td>336293.58</td>\n",
       "      <td>74610</td>\n",
       "      <td>81150.41</td>\n",
       "      <td>1003696.58</td>\n",
       "      <td>6</td>\n",
       "    </tr>\n",
       "    <tr>\n",
       "      <th>4.0</th>\n",
       "      <td>32.321840</td>\n",
       "      <td>338571.27</td>\n",
       "      <td>81618</td>\n",
       "      <td>75244.65</td>\n",
       "      <td>1012266.23</td>\n",
       "      <td>6</td>\n",
       "    </tr>\n",
       "    <tr>\n",
       "      <th>5.0</th>\n",
       "      <td>28.834839</td>\n",
       "      <td>70731.86</td>\n",
       "      <td>18552</td>\n",
       "      <td>18283.05</td>\n",
       "      <td>210962.80</td>\n",
       "      <td>3</td>\n",
       "    </tr>\n",
       "  </tbody>\n",
       "</table>\n",
       "</div>"
      ],
      "text/plain": [
       "               (mean, profit)  (sum, profit)  Bottles Sold  \\\n",
       "County Number                                                \n",
       "1.0                 31.834981      177416.35         43503   \n",
       "2.0                 18.262799       40908.67         10173   \n",
       "3.0                 31.382380      336293.58         74610   \n",
       "4.0                 32.321840      338571.27         81618   \n",
       "5.0                 28.834839       70731.86         18552   \n",
       "\n",
       "               Volume Sold (Liters)  Sale (Dollars)  Store Number  \n",
       "County Number                                                      \n",
       "1.0                        42233.79       530180.13             8  \n",
       "2.0                         9191.49       122431.29             1  \n",
       "3.0                        81150.41      1003696.58             6  \n",
       "4.0                        75244.65      1012266.23             6  \n",
       "5.0                        18283.05       210962.80             3  "
      ]
     },
     "execution_count": 279,
     "metadata": {},
     "output_type": "execute_result"
    }
   ],
   "source": [
    "countySales.head(5)"
   ]
  },
  {
   "cell_type": "code",
   "execution_count": 280,
   "metadata": {
    "collapsed": false
   },
   "outputs": [
    {
     "data": {
      "text/plain": [
       "Index([   (u'mean', u'profit'),     (u'sum', u'profit'),\n",
       "               u'Bottles Sold', u'Volume Sold (Liters)',\n",
       "             u'Sale (Dollars)',         u'Store Number'],\n",
       "      dtype='object')"
      ]
     },
     "execution_count": 280,
     "metadata": {},
     "output_type": "execute_result"
    }
   ],
   "source": [
    "countySales.columns"
   ]
  },
  {
   "cell_type": "code",
   "execution_count": 281,
   "metadata": {
    "collapsed": false
   },
   "outputs": [],
   "source": [
    "countySales=countySales.reset_index()\n",
    "#countiesProfitPivot = countiesProfitPivot.reset_index()\n",
    "countySales.columns=['County Number',\n",
    "                     'mean profit',\n",
    "                     'sum profit',\n",
    "                     'bottles Sold',\n",
    "                     'volume sold liters', \n",
    "                     'Sales Dollars',\n",
    "                     'Nu Stores',]"
   ]
  },
  {
   "cell_type": "code",
   "execution_count": 282,
   "metadata": {
    "collapsed": false
   },
   "outputs": [
    {
     "data": {
      "text/plain": [
       "Index([u'County Number', u'mean profit', u'sum profit', u'bottles Sold',\n",
       "       u'volume sold liters', u'Sales Dollars', u'Nu Stores'],\n",
       "      dtype='object')"
      ]
     },
     "execution_count": 282,
     "metadata": {},
     "output_type": "execute_result"
    }
   ],
   "source": [
    "countySales.columns\n"
   ]
  },
  {
   "cell_type": "code",
   "execution_count": 283,
   "metadata": {
    "collapsed": false
   },
   "outputs": [
    {
     "data": {
      "text/html": [
       "<div>\n",
       "<table border=\"1\" class=\"dataframe\">\n",
       "  <thead>\n",
       "    <tr style=\"text-align: right;\">\n",
       "      <th></th>\n",
       "      <th>County Number</th>\n",
       "      <th>mean profit</th>\n",
       "      <th>sum profit</th>\n",
       "      <th>bottles Sold</th>\n",
       "      <th>volume sold liters</th>\n",
       "      <th>Sales Dollars</th>\n",
       "      <th>Nu Stores</th>\n",
       "      <th>Sales Per Store</th>\n",
       "      <th>Profit Per Store</th>\n",
       "      <th>Volume sales per store</th>\n",
       "      <th>Bottles Per Store</th>\n",
       "    </tr>\n",
       "  </thead>\n",
       "  <tbody>\n",
       "    <tr>\n",
       "      <th>0</th>\n",
       "      <td>1.0</td>\n",
       "      <td>31.834981</td>\n",
       "      <td>177416.35</td>\n",
       "      <td>43503</td>\n",
       "      <td>42233.79</td>\n",
       "      <td>530180.13</td>\n",
       "      <td>8</td>\n",
       "      <td>66272.516250</td>\n",
       "      <td>22177.043750</td>\n",
       "      <td>5279.223750</td>\n",
       "      <td>5437.875</td>\n",
       "    </tr>\n",
       "    <tr>\n",
       "      <th>1</th>\n",
       "      <td>2.0</td>\n",
       "      <td>18.262799</td>\n",
       "      <td>40908.67</td>\n",
       "      <td>10173</td>\n",
       "      <td>9191.49</td>\n",
       "      <td>122431.29</td>\n",
       "      <td>1</td>\n",
       "      <td>122431.290000</td>\n",
       "      <td>40908.670000</td>\n",
       "      <td>9191.490000</td>\n",
       "      <td>10173.000</td>\n",
       "    </tr>\n",
       "    <tr>\n",
       "      <th>2</th>\n",
       "      <td>3.0</td>\n",
       "      <td>31.382380</td>\n",
       "      <td>336293.58</td>\n",
       "      <td>74610</td>\n",
       "      <td>81150.41</td>\n",
       "      <td>1003696.58</td>\n",
       "      <td>6</td>\n",
       "      <td>167282.763333</td>\n",
       "      <td>56048.930000</td>\n",
       "      <td>13525.068333</td>\n",
       "      <td>12435.000</td>\n",
       "    </tr>\n",
       "    <tr>\n",
       "      <th>3</th>\n",
       "      <td>4.0</td>\n",
       "      <td>32.321840</td>\n",
       "      <td>338571.27</td>\n",
       "      <td>81618</td>\n",
       "      <td>75244.65</td>\n",
       "      <td>1012266.23</td>\n",
       "      <td>6</td>\n",
       "      <td>168711.038333</td>\n",
       "      <td>56428.545000</td>\n",
       "      <td>12540.775000</td>\n",
       "      <td>13603.000</td>\n",
       "    </tr>\n",
       "    <tr>\n",
       "      <th>4</th>\n",
       "      <td>5.0</td>\n",
       "      <td>28.834839</td>\n",
       "      <td>70731.86</td>\n",
       "      <td>18552</td>\n",
       "      <td>18283.05</td>\n",
       "      <td>210962.80</td>\n",
       "      <td>3</td>\n",
       "      <td>70320.933333</td>\n",
       "      <td>23577.286667</td>\n",
       "      <td>6094.350000</td>\n",
       "      <td>6184.000</td>\n",
       "    </tr>\n",
       "  </tbody>\n",
       "</table>\n",
       "</div>"
      ],
      "text/plain": [
       "   County Number  mean profit  sum profit  bottles Sold  volume sold liters  \\\n",
       "0            1.0    31.834981   177416.35         43503            42233.79   \n",
       "1            2.0    18.262799    40908.67         10173             9191.49   \n",
       "2            3.0    31.382380   336293.58         74610            81150.41   \n",
       "3            4.0    32.321840   338571.27         81618            75244.65   \n",
       "4            5.0    28.834839    70731.86         18552            18283.05   \n",
       "\n",
       "   Sales Dollars  Nu Stores  Sales Per Store  Profit Per Store  \\\n",
       "0      530180.13          8     66272.516250      22177.043750   \n",
       "1      122431.29          1    122431.290000      40908.670000   \n",
       "2     1003696.58          6    167282.763333      56048.930000   \n",
       "3     1012266.23          6    168711.038333      56428.545000   \n",
       "4      210962.80          3     70320.933333      23577.286667   \n",
       "\n",
       "   Volume sales per store  Bottles Per Store  \n",
       "0             5279.223750           5437.875  \n",
       "1             9191.490000          10173.000  \n",
       "2            13525.068333          12435.000  \n",
       "3            12540.775000          13603.000  \n",
       "4             6094.350000           6184.000  "
      ]
     },
     "execution_count": 283,
     "metadata": {},
     "output_type": "execute_result"
    }
   ],
   "source": [
    "countySales['Sales Per Store'] = (countySales['Sales Dollars']/countySales['Nu Stores'])\n",
    "countySales['Profit Per Store'] = (countySales['sum profit']/countySales['Nu Stores'])\n",
    "countySales['Volume sales per store']=(countySales['volume sold liters']/countySales['Nu Stores'])\n",
    "countySales['Bottles Per Store'] = (countySales['bottles Sold']/countySales['Nu Stores'])\n",
    "countySales.head(5)"
   ]
  },
  {
   "cell_type": "code",
   "execution_count": 284,
   "metadata": {
    "collapsed": false
   },
   "outputs": [],
   "source": [
    "countySales=countySales.reset_index()\n",
    "countySales.columns=['Index1',\n",
    "                     'County Number',\n",
    "                     'mean profit',\n",
    "                     'sum profit',\n",
    "                     'bottles Sold',\n",
    "                     'volume sold liters', \n",
    "                     'Sales Dollars',\n",
    "                     'Nu Stores',\n",
    "                     'Sales Per Store',\n",
    "                     'Profit Per Store', \n",
    "                     'Volume Sales per Store',\n",
    "                     'Bottles Sold per Store']"
   ]
  },
  {
   "cell_type": "code",
   "execution_count": 285,
   "metadata": {
    "collapsed": false
   },
   "outputs": [
    {
     "data": {
      "text/html": [
       "<div>\n",
       "<table border=\"1\" class=\"dataframe\">\n",
       "  <thead>\n",
       "    <tr style=\"text-align: right;\">\n",
       "      <th></th>\n",
       "      <th>Index1</th>\n",
       "      <th>County Number</th>\n",
       "      <th>mean profit</th>\n",
       "      <th>sum profit</th>\n",
       "      <th>bottles Sold</th>\n",
       "      <th>volume sold liters</th>\n",
       "      <th>Sales Dollars</th>\n",
       "      <th>Nu Stores</th>\n",
       "      <th>Sales Per Store</th>\n",
       "      <th>Profit Per Store</th>\n",
       "      <th>Volume Sales per Store</th>\n",
       "      <th>Bottles Sold per Store</th>\n",
       "    </tr>\n",
       "  </thead>\n",
       "  <tbody>\n",
       "    <tr>\n",
       "      <th>0</th>\n",
       "      <td>0</td>\n",
       "      <td>1.0</td>\n",
       "      <td>31.834981</td>\n",
       "      <td>177416.35</td>\n",
       "      <td>43503</td>\n",
       "      <td>42233.79</td>\n",
       "      <td>530180.13</td>\n",
       "      <td>8</td>\n",
       "      <td>66272.516250</td>\n",
       "      <td>22177.043750</td>\n",
       "      <td>5279.223750</td>\n",
       "      <td>5437.875</td>\n",
       "    </tr>\n",
       "    <tr>\n",
       "      <th>1</th>\n",
       "      <td>1</td>\n",
       "      <td>2.0</td>\n",
       "      <td>18.262799</td>\n",
       "      <td>40908.67</td>\n",
       "      <td>10173</td>\n",
       "      <td>9191.49</td>\n",
       "      <td>122431.29</td>\n",
       "      <td>1</td>\n",
       "      <td>122431.290000</td>\n",
       "      <td>40908.670000</td>\n",
       "      <td>9191.490000</td>\n",
       "      <td>10173.000</td>\n",
       "    </tr>\n",
       "    <tr>\n",
       "      <th>2</th>\n",
       "      <td>2</td>\n",
       "      <td>3.0</td>\n",
       "      <td>31.382380</td>\n",
       "      <td>336293.58</td>\n",
       "      <td>74610</td>\n",
       "      <td>81150.41</td>\n",
       "      <td>1003696.58</td>\n",
       "      <td>6</td>\n",
       "      <td>167282.763333</td>\n",
       "      <td>56048.930000</td>\n",
       "      <td>13525.068333</td>\n",
       "      <td>12435.000</td>\n",
       "    </tr>\n",
       "    <tr>\n",
       "      <th>3</th>\n",
       "      <td>3</td>\n",
       "      <td>4.0</td>\n",
       "      <td>32.321840</td>\n",
       "      <td>338571.27</td>\n",
       "      <td>81618</td>\n",
       "      <td>75244.65</td>\n",
       "      <td>1012266.23</td>\n",
       "      <td>6</td>\n",
       "      <td>168711.038333</td>\n",
       "      <td>56428.545000</td>\n",
       "      <td>12540.775000</td>\n",
       "      <td>13603.000</td>\n",
       "    </tr>\n",
       "    <tr>\n",
       "      <th>4</th>\n",
       "      <td>4</td>\n",
       "      <td>5.0</td>\n",
       "      <td>28.834839</td>\n",
       "      <td>70731.86</td>\n",
       "      <td>18552</td>\n",
       "      <td>18283.05</td>\n",
       "      <td>210962.80</td>\n",
       "      <td>3</td>\n",
       "      <td>70320.933333</td>\n",
       "      <td>23577.286667</td>\n",
       "      <td>6094.350000</td>\n",
       "      <td>6184.000</td>\n",
       "    </tr>\n",
       "  </tbody>\n",
       "</table>\n",
       "</div>"
      ],
      "text/plain": [
       "   Index1  County Number  mean profit  sum profit  bottles Sold  \\\n",
       "0       0            1.0    31.834981   177416.35         43503   \n",
       "1       1            2.0    18.262799    40908.67         10173   \n",
       "2       2            3.0    31.382380   336293.58         74610   \n",
       "3       3            4.0    32.321840   338571.27         81618   \n",
       "4       4            5.0    28.834839    70731.86         18552   \n",
       "\n",
       "   volume sold liters  Sales Dollars  Nu Stores  Sales Per Store  \\\n",
       "0            42233.79      530180.13          8     66272.516250   \n",
       "1             9191.49      122431.29          1    122431.290000   \n",
       "2            81150.41     1003696.58          6    167282.763333   \n",
       "3            75244.65     1012266.23          6    168711.038333   \n",
       "4            18283.05      210962.80          3     70320.933333   \n",
       "\n",
       "   Profit Per Store  Volume Sales per Store  Bottles Sold per Store  \n",
       "0      22177.043750             5279.223750                5437.875  \n",
       "1      40908.670000             9191.490000               10173.000  \n",
       "2      56048.930000            13525.068333               12435.000  \n",
       "3      56428.545000            12540.775000               13603.000  \n",
       "4      23577.286667             6094.350000                6184.000  "
      ]
     },
     "execution_count": 285,
     "metadata": {},
     "output_type": "execute_result"
    }
   ],
   "source": [
    "countySales.head(5)"
   ]
  },
  {
   "cell_type": "code",
   "execution_count": 286,
   "metadata": {
    "collapsed": true
   },
   "outputs": [],
   "source": [
    "#saving county sales to csv for upload to tableau\n",
    "countySales.to_csv('countySales.csv')"
   ]
  },
  {
   "cell_type": "code",
   "execution_count": 287,
   "metadata": {
    "collapsed": false
   },
   "outputs": [
    {
     "data": {
      "text/plain": [
       "Index([u'Index1', u'County Number', u'mean profit', u'sum profit',\n",
       "       u'bottles Sold', u'volume sold liters', u'Sales Dollars', u'Nu Stores',\n",
       "       u'Sales Per Store', u'Profit Per Store', u'Volume Sales per Store',\n",
       "       u'Bottles Sold per Store'],\n",
       "      dtype='object')"
      ]
     },
     "execution_count": 287,
     "metadata": {},
     "output_type": "execute_result"
    }
   ],
   "source": [
    "countySales.columns"
   ]
  },
  {
   "cell_type": "code",
   "execution_count": 288,
   "metadata": {
    "collapsed": false
   },
   "outputs": [
    {
     "data": {
      "text/html": [
       "<div>\n",
       "<table border=\"1\" class=\"dataframe\">\n",
       "  <thead>\n",
       "    <tr style=\"text-align: right;\">\n",
       "      <th></th>\n",
       "      <th>Index1</th>\n",
       "      <th>County Number</th>\n",
       "      <th>mean profit</th>\n",
       "      <th>sum profit</th>\n",
       "      <th>bottles Sold</th>\n",
       "      <th>volume sold liters</th>\n",
       "      <th>Sales Dollars</th>\n",
       "      <th>Nu Stores</th>\n",
       "      <th>Sales Per Store</th>\n",
       "      <th>Profit Per Store</th>\n",
       "      <th>Volume Sales per Store</th>\n",
       "      <th>Bottles Sold per Store</th>\n",
       "    </tr>\n",
       "  </thead>\n",
       "  <tbody>\n",
       "    <tr>\n",
       "      <th>0</th>\n",
       "      <td>0</td>\n",
       "      <td>1.0</td>\n",
       "      <td>31.834981</td>\n",
       "      <td>177416.35</td>\n",
       "      <td>43503</td>\n",
       "      <td>42233.79</td>\n",
       "      <td>530180.13</td>\n",
       "      <td>8</td>\n",
       "      <td>66272.516250</td>\n",
       "      <td>22177.043750</td>\n",
       "      <td>5279.223750</td>\n",
       "      <td>5437.875</td>\n",
       "    </tr>\n",
       "    <tr>\n",
       "      <th>1</th>\n",
       "      <td>1</td>\n",
       "      <td>2.0</td>\n",
       "      <td>18.262799</td>\n",
       "      <td>40908.67</td>\n",
       "      <td>10173</td>\n",
       "      <td>9191.49</td>\n",
       "      <td>122431.29</td>\n",
       "      <td>1</td>\n",
       "      <td>122431.290000</td>\n",
       "      <td>40908.670000</td>\n",
       "      <td>9191.490000</td>\n",
       "      <td>10173.000</td>\n",
       "    </tr>\n",
       "    <tr>\n",
       "      <th>2</th>\n",
       "      <td>2</td>\n",
       "      <td>3.0</td>\n",
       "      <td>31.382380</td>\n",
       "      <td>336293.58</td>\n",
       "      <td>74610</td>\n",
       "      <td>81150.41</td>\n",
       "      <td>1003696.58</td>\n",
       "      <td>6</td>\n",
       "      <td>167282.763333</td>\n",
       "      <td>56048.930000</td>\n",
       "      <td>13525.068333</td>\n",
       "      <td>12435.000</td>\n",
       "    </tr>\n",
       "    <tr>\n",
       "      <th>3</th>\n",
       "      <td>3</td>\n",
       "      <td>4.0</td>\n",
       "      <td>32.321840</td>\n",
       "      <td>338571.27</td>\n",
       "      <td>81618</td>\n",
       "      <td>75244.65</td>\n",
       "      <td>1012266.23</td>\n",
       "      <td>6</td>\n",
       "      <td>168711.038333</td>\n",
       "      <td>56428.545000</td>\n",
       "      <td>12540.775000</td>\n",
       "      <td>13603.000</td>\n",
       "    </tr>\n",
       "    <tr>\n",
       "      <th>4</th>\n",
       "      <td>4</td>\n",
       "      <td>5.0</td>\n",
       "      <td>28.834839</td>\n",
       "      <td>70731.86</td>\n",
       "      <td>18552</td>\n",
       "      <td>18283.05</td>\n",
       "      <td>210962.80</td>\n",
       "      <td>3</td>\n",
       "      <td>70320.933333</td>\n",
       "      <td>23577.286667</td>\n",
       "      <td>6094.350000</td>\n",
       "      <td>6184.000</td>\n",
       "    </tr>\n",
       "  </tbody>\n",
       "</table>\n",
       "</div>"
      ],
      "text/plain": [
       "   Index1  County Number  mean profit  sum profit  bottles Sold  \\\n",
       "0       0            1.0    31.834981   177416.35         43503   \n",
       "1       1            2.0    18.262799    40908.67         10173   \n",
       "2       2            3.0    31.382380   336293.58         74610   \n",
       "3       3            4.0    32.321840   338571.27         81618   \n",
       "4       4            5.0    28.834839    70731.86         18552   \n",
       "\n",
       "   volume sold liters  Sales Dollars  Nu Stores  Sales Per Store  \\\n",
       "0            42233.79      530180.13          8     66272.516250   \n",
       "1             9191.49      122431.29          1    122431.290000   \n",
       "2            81150.41     1003696.58          6    167282.763333   \n",
       "3            75244.65     1012266.23          6    168711.038333   \n",
       "4            18283.05      210962.80          3     70320.933333   \n",
       "\n",
       "   Profit Per Store  Volume Sales per Store  Bottles Sold per Store  \n",
       "0      22177.043750             5279.223750                5437.875  \n",
       "1      40908.670000             9191.490000               10173.000  \n",
       "2      56048.930000            13525.068333               12435.000  \n",
       "3      56428.545000            12540.775000               13603.000  \n",
       "4      23577.286667             6094.350000                6184.000  "
      ]
     },
     "execution_count": 288,
     "metadata": {},
     "output_type": "execute_result"
    }
   ],
   "source": [
    "countySales.head(5)"
   ]
  },
  {
   "cell_type": "code",
   "execution_count": 289,
   "metadata": {
    "collapsed": true
   },
   "outputs": [],
   "source": [
    "#saving county sales to csv for upload to tableau\n",
    "countySales.to_csv('countySales.csv')"
   ]
  },
  {
   "cell_type": "code",
   "execution_count": null,
   "metadata": {
    "collapsed": false
   },
   "outputs": [],
   "source": [
    "#countyDummies = pd.get_dummies(data['County Number'])\n",
    "#did do dummies -beyone my brain power at 5 am.\n"
   ]
  },
  {
   "cell_type": "code",
   "execution_count": 242,
   "metadata": {
    "collapsed": false
   },
   "outputs": [
    {
     "data": {
      "text/plain": [
       "Index([u'index', u'Store Number', u'Sale (Dollars)'], dtype='object')"
      ]
     },
     "execution_count": 242,
     "metadata": {},
     "output_type": "execute_result"
    }
   ],
   "source": [
    "countySales.columns"
   ]
  },
  {
   "cell_type": "code",
   "execution_count": 290,
   "metadata": {
    "collapsed": false
   },
   "outputs": [
    {
     "data": {
      "text/html": [
       "<div>\n",
       "<table border=\"1\" class=\"dataframe\">\n",
       "  <thead>\n",
       "    <tr style=\"text-align: right;\">\n",
       "      <th></th>\n",
       "      <th>Index1</th>\n",
       "      <th>County Number</th>\n",
       "      <th>mean profit</th>\n",
       "      <th>sum profit</th>\n",
       "      <th>bottles Sold</th>\n",
       "      <th>volume sold liters</th>\n",
       "      <th>Sales Dollars</th>\n",
       "      <th>Nu Stores</th>\n",
       "      <th>Sales Per Store</th>\n",
       "      <th>Profit Per Store</th>\n",
       "      <th>Volume Sales per Store</th>\n",
       "      <th>Bottles Sold per Store</th>\n",
       "    </tr>\n",
       "  </thead>\n",
       "  <tbody>\n",
       "    <tr>\n",
       "      <th>count</th>\n",
       "      <td>99.000000</td>\n",
       "      <td>99.000000</td>\n",
       "      <td>99.000000</td>\n",
       "      <td>9.900000e+01</td>\n",
       "      <td>9.900000e+01</td>\n",
       "      <td>9.900000e+01</td>\n",
       "      <td>9.900000e+01</td>\n",
       "      <td>99.000000</td>\n",
       "      <td>99.000000</td>\n",
       "      <td>99.000000</td>\n",
       "      <td>99.000000</td>\n",
       "      <td>99.000000</td>\n",
       "    </tr>\n",
       "    <tr>\n",
       "      <th>mean</th>\n",
       "      <td>49.000000</td>\n",
       "      <td>50.000000</td>\n",
       "      <td>34.989117</td>\n",
       "      <td>1.177198e+06</td>\n",
       "      <td>2.682589e+05</td>\n",
       "      <td>2.433666e+05</td>\n",
       "      <td>3.521452e+06</td>\n",
       "      <td>13.939394</td>\n",
       "      <td>175054.703660</td>\n",
       "      <td>58576.577569</td>\n",
       "      <td>13040.469994</td>\n",
       "      <td>13326.679317</td>\n",
       "    </tr>\n",
       "    <tr>\n",
       "      <th>std</th>\n",
       "      <td>28.722813</td>\n",
       "      <td>28.722813</td>\n",
       "      <td>10.107143</td>\n",
       "      <td>3.065236e+06</td>\n",
       "      <td>6.927955e+05</td>\n",
       "      <td>5.932126e+05</td>\n",
       "      <td>9.176022e+06</td>\n",
       "      <td>25.033373</td>\n",
       "      <td>89925.550930</td>\n",
       "      <td>30064.707897</td>\n",
       "      <td>6073.235146</td>\n",
       "      <td>6444.434368</td>\n",
       "    </tr>\n",
       "    <tr>\n",
       "      <th>min</th>\n",
       "      <td>0.000000</td>\n",
       "      <td>1.000000</td>\n",
       "      <td>15.987410</td>\n",
       "      <td>9.940240e+03</td>\n",
       "      <td>3.088000e+03</td>\n",
       "      <td>2.115050e+03</td>\n",
       "      <td>2.975710e+04</td>\n",
       "      <td>1.000000</td>\n",
       "      <td>29757.100000</td>\n",
       "      <td>9940.240000</td>\n",
       "      <td>2115.050000</td>\n",
       "      <td>3088.000000</td>\n",
       "    </tr>\n",
       "    <tr>\n",
       "      <th>25%</th>\n",
       "      <td>24.500000</td>\n",
       "      <td>25.500000</td>\n",
       "      <td>28.999623</td>\n",
       "      <td>1.830150e+05</td>\n",
       "      <td>4.562500e+04</td>\n",
       "      <td>4.448244e+04</td>\n",
       "      <td>5.470660e+05</td>\n",
       "      <td>5.000000</td>\n",
       "      <td>95937.342786</td>\n",
       "      <td>32089.905857</td>\n",
       "      <td>8297.165643</td>\n",
       "      <td>8119.916667</td>\n",
       "    </tr>\n",
       "    <tr>\n",
       "      <th>50%</th>\n",
       "      <td>49.000000</td>\n",
       "      <td>50.000000</td>\n",
       "      <td>33.070079</td>\n",
       "      <td>3.452164e+05</td>\n",
       "      <td>8.161800e+04</td>\n",
       "      <td>8.115041e+04</td>\n",
       "      <td>1.029072e+06</td>\n",
       "      <td>7.000000</td>\n",
       "      <td>162878.882500</td>\n",
       "      <td>54401.570000</td>\n",
       "      <td>12422.330000</td>\n",
       "      <td>12334.900000</td>\n",
       "    </tr>\n",
       "    <tr>\n",
       "      <th>75%</th>\n",
       "      <td>73.500000</td>\n",
       "      <td>74.500000</td>\n",
       "      <td>42.428453</td>\n",
       "      <td>7.265732e+05</td>\n",
       "      <td>1.602550e+05</td>\n",
       "      <td>1.667272e+05</td>\n",
       "      <td>2.167493e+06</td>\n",
       "      <td>12.500000</td>\n",
       "      <td>239463.892143</td>\n",
       "      <td>80111.910357</td>\n",
       "      <td>17640.428333</td>\n",
       "      <td>18103.556548</td>\n",
       "    </tr>\n",
       "    <tr>\n",
       "      <th>max</th>\n",
       "      <td>98.000000</td>\n",
       "      <td>99.000000</td>\n",
       "      <td>81.315748</td>\n",
       "      <td>2.621364e+07</td>\n",
       "      <td>5.818078e+06</td>\n",
       "      <td>5.009660e+06</td>\n",
       "      <td>7.847391e+07</td>\n",
       "      <td>207.000000</td>\n",
       "      <td>406841.044340</td>\n",
       "      <td>135905.340377</td>\n",
       "      <td>27021.547000</td>\n",
       "      <td>30530.791045</td>\n",
       "    </tr>\n",
       "  </tbody>\n",
       "</table>\n",
       "</div>"
      ],
      "text/plain": [
       "          Index1  County Number  mean profit    sum profit  bottles Sold  \\\n",
       "count  99.000000      99.000000    99.000000  9.900000e+01  9.900000e+01   \n",
       "mean   49.000000      50.000000    34.989117  1.177198e+06  2.682589e+05   \n",
       "std    28.722813      28.722813    10.107143  3.065236e+06  6.927955e+05   \n",
       "min     0.000000       1.000000    15.987410  9.940240e+03  3.088000e+03   \n",
       "25%    24.500000      25.500000    28.999623  1.830150e+05  4.562500e+04   \n",
       "50%    49.000000      50.000000    33.070079  3.452164e+05  8.161800e+04   \n",
       "75%    73.500000      74.500000    42.428453  7.265732e+05  1.602550e+05   \n",
       "max    98.000000      99.000000    81.315748  2.621364e+07  5.818078e+06   \n",
       "\n",
       "       volume sold liters  Sales Dollars   Nu Stores  Sales Per Store  \\\n",
       "count        9.900000e+01   9.900000e+01   99.000000        99.000000   \n",
       "mean         2.433666e+05   3.521452e+06   13.939394    175054.703660   \n",
       "std          5.932126e+05   9.176022e+06   25.033373     89925.550930   \n",
       "min          2.115050e+03   2.975710e+04    1.000000     29757.100000   \n",
       "25%          4.448244e+04   5.470660e+05    5.000000     95937.342786   \n",
       "50%          8.115041e+04   1.029072e+06    7.000000    162878.882500   \n",
       "75%          1.667272e+05   2.167493e+06   12.500000    239463.892143   \n",
       "max          5.009660e+06   7.847391e+07  207.000000    406841.044340   \n",
       "\n",
       "       Profit Per Store  Volume Sales per Store  Bottles Sold per Store  \n",
       "count         99.000000               99.000000               99.000000  \n",
       "mean       58576.577569            13040.469994            13326.679317  \n",
       "std        30064.707897             6073.235146             6444.434368  \n",
       "min         9940.240000             2115.050000             3088.000000  \n",
       "25%        32089.905857             8297.165643             8119.916667  \n",
       "50%        54401.570000            12422.330000            12334.900000  \n",
       "75%        80111.910357            17640.428333            18103.556548  \n",
       "max       135905.340377            27021.547000            30530.791045  "
      ]
     },
     "execution_count": 290,
     "metadata": {},
     "output_type": "execute_result"
    }
   ],
   "source": [
    "countySales.describe()"
   ]
  },
  {
   "cell_type": "code",
   "execution_count": 291,
   "metadata": {
    "collapsed": false
   },
   "outputs": [
    {
     "data": {
      "image/png": "[encoded data removed]",
      "text/plain": [
       "<matplotlib.figure.Figure at 0x118928850>"
      ]
     },
     "metadata": {},
     "output_type": "display_data"
    }
   ],
   "source": [
    "plt.scatter(countySales['bottles Sold'],countySales['Sales Dollars'])\n",
    "plt.xlabel('bottles Sold');\n",
    "plt.ylabel('Sales Dollars');"
   ]
  },
  {
   "cell_type": "code",
   "execution_count": 292,
   "metadata": {
    "collapsed": false
   },
   "outputs": [
    {
     "data": {
      "image/png": "[encoded data removed]",
      "text/plain": [
       "<matplotlib.figure.Figure at 0x1186240d0>"
      ]
     },
     "metadata": {},
     "output_type": "display_data"
    }
   ],
   "source": [
    "plt.scatter(countySales['Bottles Sold per Store'],countySales['Sales Dollars'])\n",
    "plt.xlabel('Bottles Sold per Store');\n",
    "plt.ylabel('Sales Dollars');"
   ]
  },
  {
   "cell_type": "code",
   "execution_count": 26,
   "metadata": {
    "collapsed": false
   },
   "outputs": [
    {
     "data": {
      "image/png": "[encoded data removed]",
      "text/plain": [
       "<matplotlib.figure.Figure at 0x103d6a750>"
      ]
     },
     "metadata": {},
     "output_type": "display_data"
    }
   ],
   "source": [
    "plt.scatter(countySales['County Number'],countySales['sum profit'])\n",
    "plt.xlabel('County Number');\n",
    "plt.ylabel('total profit');"
   ]
  },
  {
   "cell_type": "code",
   "execution_count": 27,
   "metadata": {
    "collapsed": false
   },
   "outputs": [
    {
     "data": {
      "text/plain": [
       "<matplotlib.text.Text at 0x116870f10>"
      ]
     },
     "execution_count": 27,
     "metadata": {},
     "output_type": "execute_result"
    },
    {
     "data": {
      "image/png": "[encoded data removed]",
      "text/plain": [
       "<matplotlib.figure.Figure at 0x1165428d0>"
      ]
     },
     "metadata": {},
     "output_type": "display_data"
    }
   ],
   "source": [
    "plt.scatter(countySales['bottles Sold'],countySales['sum profit'])\n",
    "plt.xlabel('bottles sold');\n",
    "plt.ylabel('total profit')"
   ]
  },
  {
   "cell_type": "code",
   "execution_count": 28,
   "metadata": {
    "collapsed": false
   },
   "outputs": [
    {
     "data": {
      "text/plain": [
       "<matplotlib.text.Text at 0x116b48910>"
      ]
     },
     "execution_count": 28,
     "metadata": {},
     "output_type": "execute_result"
    },
    {
     "data": {
      "image/png": "[encoded data removed]",
      "text/plain": [
       "<matplotlib.figure.Figure at 0x1168539d0>"
      ]
     },
     "metadata": {},
     "output_type": "display_data"
    }
   ],
   "source": [
    "plt.scatter(countySales['bottles Sold'],countySales['mean profit'])\n",
    "plt.xlabel('bottles sold');\n",
    "plt.ylabel('average profit')"
   ]
  },
  {
   "cell_type": "code",
   "execution_count": 32,
   "metadata": {
    "collapsed": false
   },
   "outputs": [
    {
     "data": {
      "text/plain": [
       "<matplotlib.text.Text at 0x11689c2d0>"
      ]
     },
     "execution_count": 32,
     "metadata": {},
     "output_type": "execute_result"
    },
    {
     "data": {
      "image/png": "[encoded data removed]",
      "text/plain": [
       "<matplotlib.figure.Figure at 0x1172cea50>"
      ]
     },
     "metadata": {},
     "output_type": "display_data"
    }
   ],
   "source": [
    "plt.scatter(countySales['Nu Stores'],countySales['mean profit'])\n",
    "plt.xlabel('Number of Stores');\n",
    "plt.ylabel('average profit')"
   ]
  },
  {
   "cell_type": "code",
   "execution_count": 33,
   "metadata": {
    "collapsed": false
   },
   "outputs": [
    {
     "data": {
      "text/plain": [
       "<matplotlib.text.Text at 0x1172bbed0>"
      ]
     },
     "execution_count": 33,
     "metadata": {},
     "output_type": "execute_result"
    },
    {
     "data": {
      "image/png": "[encoded data removed]",
      "text/plain": [
       "<matplotlib.figure.Figure at 0x117228350>"
      ]
     },
     "metadata": {},
     "output_type": "display_data"
    }
   ],
   "source": [
    "plt.scatter(countySales['Nu Stores'],countySales['sum profit'])\n",
    "plt.xlabel('Number of Stores');\n",
    "plt.ylabel('sum profit')"
   ]
  },
  {
   "cell_type": "code",
   "execution_count": 31,
   "metadata": {
    "collapsed": false
   },
   "outputs": [
    {
     "data": {
      "image/png": "[encoded data removed]",
      "text/plain": [
       "<matplotlib.figure.Figure at 0x117196cd0>"
      ]
     },
     "metadata": {},
     "output_type": "display_data"
    }
   ],
   "source": [
    "plt.hist(countySales['Nu Stores']);"
   ]
  },
  {
   "cell_type": "code",
   "execution_count": 72,
   "metadata": {
    "collapsed": false
   },
   "outputs": [
    {
     "data": {
      "image/png": "[encoded data removed]",
      "text/plain": [
       "<matplotlib.figure.Figure at 0x115aae190>"
      ]
     },
     "metadata": {},
     "output_type": "display_data"
    }
   ],
   "source": [
    "plt.plot(countySales['Profit Per Store'],color = 'red')\n",
    "plt.xlabel('County')\n",
    "plt.ylabel('Profit by Store');"
   ]
  },
  {
   "cell_type": "code",
   "execution_count": 39,
   "metadata": {
    "collapsed": false
   },
   "outputs": [
    {
     "name": "stdout",
     "output_type": "stream",
     "text": [
      "349854916.289\n",
      "1380\n"
     ]
    }
   ],
   "source": [
    "#analysis on per store sales\n",
    "totalStoreSales = data['Sale (Dollars)'].sum()\n",
    "totalNuStores = countySales['Nu Stores'].sum()\n",
    "print totalStoreSales\n",
    "print totalNuStores"
   ]
  },
  {
   "cell_type": "code",
   "execution_count": 41,
   "metadata": {
    "collapsed": false
   },
   "outputs": [
    {
     "data": {
      "text/plain": [
       "253518.0552818202"
      ]
     },
     "execution_count": 41,
     "metadata": {},
     "output_type": "execute_result"
    }
   ],
   "source": [
    "salesPerStore=totalStoreSales/totalNuStores\n",
    "salesPerStore"
   ]
  },
  {
   "cell_type": "code",
   "execution_count": null,
   "metadata": {
    "collapsed": true
   },
   "outputs": [],
   "source": []
  },
  {
   "cell_type": "markdown",
   "metadata": {},
   "source": [
    "## Record your findings\n",
    "\n",
    "Be sure to write out anything observations from your exploratory analysis."
   ]
  },
  {
   "cell_type": "markdown",
   "metadata": {
    "collapsed": true
   },
   "source": [
    "It would have been more interesting to have some other variables - income,\n",
    "density, education level.  In the current data there were no suprises. One would expect there to be a positive relationshiop between bottles sold and profit.  "
   ]
  },
  {
   "cell_type": "code",
   "execution_count": null,
   "metadata": {
    "collapsed": true
   },
   "outputs": [],
   "source": []
  },
  {
   "cell_type": "markdown",
   "metadata": {},
   "source": [
    "# Mine the data\n",
    "Now you are ready to compute the variables you will use for your regression from the data. For example, you may want to\n",
    "compute total sales per store from Jan to March of 2015, mean price per bottle, etc. Refer to the readme for more ideas appropriate to your scenario.\n",
    "\n",
    "Pandas is your friend for this task. Take a look at the operations [here](http://pandas.pydata.org/pandas-docs/stable/groupby.html) for ideas on how to make the best use of pandas and feel free to search for blog and Stack Overflow posts to help you group data by certain variables and compute sums, means, etc. You may find it useful to create a new data frame to house this summary data."
   ]
  },
  {
   "cell_type": "markdown",
   "metadata": {},
   "source": [
    "# Refine the data\n",
    "Look for any statistical relationships, correlations, or other relevant properties of the dataset."
   ]
  },
  {
   "cell_type": "code",
   "execution_count": null,
   "metadata": {
    "collapsed": true
   },
   "outputs": [],
   "source": [
    "see below"
   ]
  },
  {
   "cell_type": "markdown",
   "metadata": {},
   "source": [
    "# Build your models\n",
    "\n",
    "Using scikit-learn or statsmodels, build the necessary models for your scenario. Evaluate model fit."
   ]
  },
  {
   "cell_type": "code",
   "execution_count": 123,
   "metadata": {
    "collapsed": false
   },
   "outputs": [],
   "source": [
    "from scipy import stats\n",
    "from sklearn import datasets\n",
    "import statsmodels.api as sm\n",
    "from sklearn import linear_model\n",
    "from sklearn.metrics import mean_squared_error, mean_absolute_error\n"
   ]
  },
  {
   "cell_type": "code",
   "execution_count": 96,
   "metadata": {
    "collapsed": false
   },
   "outputs": [
    {
     "data": {
      "image/png": "[encoded data removed]",
      "text/plain": [
       "<matplotlib.figure.Figure at 0x115c5b650>"
      ]
     },
     "metadata": {},
     "output_type": "display_data"
    }
   ],
   "source": [
    "sns.regplot(x='bottles Sold',y='sum profit', data =  countySales);"
   ]
  },
  {
   "cell_type": "code",
   "execution_count": 97,
   "metadata": {
    "collapsed": false
   },
   "outputs": [
    {
     "data": {
      "text/html": [
       "<table class=\"simpletable\">\n",
       "<caption>OLS Regression Results</caption>\n",
       "<tr>\n",
       "  <th>Dep. Variable:</th>       <td>sum profit</td>    <th>  R-squared:         </th> <td>   0.998</td> \n",
       "</tr>\n",
       "<tr>\n",
       "  <th>Model:</th>                   <td>OLS</td>       <th>  Adj. R-squared:    </th> <td>   0.998</td> \n",
       "</tr>\n",
       "<tr>\n",
       "  <th>Method:</th>             <td>Least Squares</td>  <th>  F-statistic:       </th> <td>4.031e+04</td>\n",
       "</tr>\n",
       "<tr>\n",
       "  <th>Date:</th>             <td>Sun, 16 Oct 2016</td> <th>  Prob (F-statistic):</th> <td>5.74e-130</td>\n",
       "</tr>\n",
       "<tr>\n",
       "  <th>Time:</th>                 <td>11:03:58</td>     <th>  Log-Likelihood:    </th> <td> -1327.4</td> \n",
       "</tr>\n",
       "<tr>\n",
       "  <th>No. Observations:</th>      <td>    99</td>      <th>  AIC:               </th> <td>   2657.</td> \n",
       "</tr>\n",
       "<tr>\n",
       "  <th>Df Residuals:</th>          <td>    98</td>      <th>  BIC:               </th> <td>   2659.</td> \n",
       "</tr>\n",
       "<tr>\n",
       "  <th>Df Model:</th>              <td>     1</td>      <th>                     </th>     <td> </td>    \n",
       "</tr>\n",
       "<tr>\n",
       "  <th>Covariance Type:</th>      <td>nonrobust</td>    <th>                     </th>     <td> </td>    \n",
       "</tr>\n",
       "</table>\n",
       "<table class=\"simpletable\">\n",
       "<tr>\n",
       "        <td></td>          <th>coef</th>     <th>std err</th>      <th>t</th>      <th>P>|t|</th> <th>[95.0% Conf. Int.]</th> \n",
       "</tr>\n",
       "<tr>\n",
       "  <th>bottles Sold</th> <td>    4.4143</td> <td>    0.022</td> <td>  200.772</td> <td> 0.000</td> <td>    4.371     4.458</td>\n",
       "</tr>\n",
       "</table>\n",
       "<table class=\"simpletable\">\n",
       "<tr>\n",
       "  <th>Omnibus:</th>       <td>82.163</td> <th>  Durbin-Watson:     </th> <td>   1.995</td>\n",
       "</tr>\n",
       "<tr>\n",
       "  <th>Prob(Omnibus):</th> <td> 0.000</td> <th>  Jarque-Bera (JB):  </th> <td>1594.277</td>\n",
       "</tr>\n",
       "<tr>\n",
       "  <th>Skew:</th>          <td>-2.217</td> <th>  Prob(JB):          </th> <td>    0.00</td>\n",
       "</tr>\n",
       "<tr>\n",
       "  <th>Kurtosis:</th>      <td>22.153</td> <th>  Cond. No.          </th> <td>    1.00</td>\n",
       "</tr>\n",
       "</table>"
      ],
      "text/plain": [
       "<class 'statsmodels.iolib.summary.Summary'>\n",
       "\"\"\"\n",
       "                            OLS Regression Results                            \n",
       "==============================================================================\n",
       "Dep. Variable:             sum profit   R-squared:                       0.998\n",
       "Model:                            OLS   Adj. R-squared:                  0.998\n",
       "Method:                 Least Squares   F-statistic:                 4.031e+04\n",
       "Date:                Sun, 16 Oct 2016   Prob (F-statistic):          5.74e-130\n",
       "Time:                        11:03:58   Log-Likelihood:                -1327.4\n",
       "No. Observations:                  99   AIC:                             2657.\n",
       "Df Residuals:                      98   BIC:                             2659.\n",
       "Df Model:                           1                                         \n",
       "Covariance Type:            nonrobust                                         \n",
       "================================================================================\n",
       "                   coef    std err          t      P>|t|      [95.0% Conf. Int.]\n",
       "--------------------------------------------------------------------------------\n",
       "bottles Sold     4.4143      0.022    200.772      0.000         4.371     4.458\n",
       "==============================================================================\n",
       "Omnibus:                       82.163   Durbin-Watson:                   1.995\n",
       "Prob(Omnibus):                  0.000   Jarque-Bera (JB):             1594.277\n",
       "Skew:                          -2.217   Prob(JB):                         0.00\n",
       "Kurtosis:                      22.153   Cond. No.                         1.00\n",
       "==============================================================================\n",
       "\n",
       "Warnings:\n",
       "[1] Standard Errors assume that the covariance matrix of the errors is correctly specified.\n",
       "\"\"\""
      ]
     },
     "execution_count": 97,
     "metadata": {},
     "output_type": "execute_result"
    },
    {
     "data": {
      "image/png": "[encoded data removed]",
      "text/plain": [
       "<matplotlib.figure.Figure at 0x115aae150>"
      ]
     },
     "metadata": {},
     "output_type": "display_data"
    }
   ],
   "source": [
    "#model = sm.OLS(countySales['mean profit',x='bottles Sold')\n",
    "X = countySales[['bottles Sold']]\n",
    "y = countySales['sum profit']\n",
    "\n",
    "model = sm.OLS(y, X).fit()\n",
    "predictions = model.predict(X)\n",
    "#model.summary() to show some stuff\n",
    "\n",
    "# Plot the data and the best fit line\n",
    "## The data\n",
    "plt.scatter(X, y)\n",
    "## The line / model\n",
    "plt.plot(X, predictions)\n",
    "plt.ylabel('sum profit')\n",
    "plt.xlabel('bottles Sold');\n",
    "model.summary()"
   ]
  },
  {
   "cell_type": "code",
   "execution_count": 98,
   "metadata": {
    "collapsed": false
   },
   "outputs": [
    {
     "name": "stdout",
     "output_type": "stream",
     "text": [
      "110\n",
      "('Sales Dollars_by_sum profit', 0.99999982307251878)\n",
      "('Sales Dollars_by_County Number', 0.13441109950820784)\n"
     ]
    }
   ],
   "source": [
    "# doing the statsmodels \n",
    "#below is the linear regression model\n",
    "r2_list={}\n",
    "\n",
    "for first_pair in countySales.columns:\n",
    "    for second_pair in countySales.columns:\n",
    "        if first_pair != second_pair:\n",
    "            y=countySales[first_pair]\n",
    "            x=countySales[second_pair]\n",
    "            model=sm.OLS(y,x).fit()\n",
    "            r2_list['%s_by_%s' % (first_pair, second_pair)] = model.rsquared\n",
    "       \n",
    "print len(r2_list)\n",
    "r2_list\n",
    "\n",
    "\n",
    "maximum = max(r2_list, key=r2_list.get)  \n",
    "print(maximum, r2_list[maximum])\n",
    "\n",
    "minimum = min(r2_list, key=r2_list.get)  \n",
    "print(minimum, r2_list[minimum])"
   ]
  },
  {
   "cell_type": "code",
   "execution_count": 99,
   "metadata": {
    "collapsed": false
   },
   "outputs": [
    {
     "data": {
      "text/plain": [
       "{'Bottles Sold per Store_by_County Number': 0.64384493371992257,\n",
       " 'Bottles Sold per Store_by_Nu Stores': 0.40389398421781109,\n",
       " 'Bottles Sold per Store_by_Profit Per Store': 0.99385857370621189,\n",
       " 'Bottles Sold per Store_by_Sales Dollars': 0.29513892800801034,\n",
       " 'Bottles Sold per Store_by_Sales Per Store': 0.99388156580266307,\n",
       " 'Bottles Sold per Store_by_Volume Sales per Store': 0.99059098044474037,\n",
       " 'Bottles Sold per Store_by_bottles Sold': 0.29884199673890666,\n",
       " 'Bottles Sold per Store_by_mean profit': 0.88855130698976603,\n",
       " 'Bottles Sold per Store_by_sum profit': 0.29538336282490807,\n",
       " 'Bottles Sold per Store_by_volume sold liters': 0.31855795583340463,\n",
       " 'County Number_by_Bottles Sold per Store': 0.64384493371992257,\n",
       " 'County Number_by_Nu Stores': 0.22147431021231767,\n",
       " 'County Number_by_Profit Per Store': 0.62877269376428768,\n",
       " 'County Number_by_Sales Dollars': 0.13441109950820795,\n",
       " 'County Number_by_Sales Per Store': 0.62883474517199112,\n",
       " 'County Number_by_Volume Sales per Store': 0.64181808913158367,\n",
       " 'County Number_by_bottles Sold': 0.13539934866672476,\n",
       " 'County Number_by_mean profit': 0.69739201175836629,\n",
       " 'County Number_by_sum profit': 0.1345244120311917,\n",
       " 'County Number_by_volume sold liters': 0.14695460084915135,\n",
       " 'Nu Stores_by_Bottles Sold per Store': 0.4038939842178112,\n",
       " 'Nu Stores_by_County Number': 0.22147431021231778,\n",
       " 'Nu Stores_by_Profit Per Store': 0.39322961065320239,\n",
       " 'Nu Stores_by_Sales Dollars': 0.96049079526766723,\n",
       " 'Nu Stores_by_Sales Per Store': 0.39385397700346025,\n",
       " 'Nu Stores_by_Volume Sales per Store': 0.35196140525067532,\n",
       " 'Nu Stores_by_bottles Sold': 0.96565428928236641,\n",
       " 'Nu Stores_by_mean profit': 0.3163224490197426,\n",
       " 'Nu Stores_by_sum profit': 0.96059128855972276,\n",
       " 'Nu Stores_by_volume sold liters': 0.97130794063284709,\n",
       " 'Profit Per Store_by_Bottles Sold per Store': 0.99385857370621189,\n",
       " 'Profit Per Store_by_County Number': 0.62877269376428768,\n",
       " 'Profit Per Store_by_Nu Stores': 0.39322961065320228,\n",
       " 'Profit Per Store_by_Sales Dollars': 0.29092266796856925,\n",
       " 'Profit Per Store_by_Sales Per Store': 0.99999808568594373,\n",
       " 'Profit Per Store_by_Volume Sales per Store': 0.9925253635994733,\n",
       " 'Profit Per Store_by_bottles Sold': 0.29171648210929246,\n",
       " 'Profit Per Store_by_mean profit': 0.89109921455702246,\n",
       " 'Profit Per Store_by_sum profit': 0.29116816118541289,\n",
       " 'Profit Per Store_by_volume sold liters': 0.31319441750568633,\n",
       " 'Sales Dollars_by_Bottles Sold per Store': 0.29513892800801023,\n",
       " 'Sales Dollars_by_County Number': 0.13441109950820784,\n",
       " 'Sales Dollars_by_Nu Stores': 0.96049079526766723,\n",
       " 'Sales Dollars_by_Profit Per Store': 0.29092266796856914,\n",
       " 'Sales Dollars_by_Sales Per Store': 0.29151126732444299,\n",
       " 'Sales Dollars_by_Volume Sales per Store': 0.24991424856230493,\n",
       " 'Sales Dollars_by_bottles Sold': 0.99757161231792024,\n",
       " 'Sales Dollars_by_mean profit': 0.20219006143238016,\n",
       " 'Sales Dollars_by_sum profit': 0.99999982307251878,\n",
       " 'Sales Dollars_by_volume sold liters': 0.99817661203233665,\n",
       " 'Sales Per Store_by_Bottles Sold per Store': 0.99388156580266307,\n",
       " 'Sales Per Store_by_County Number': 0.62883474517199112,\n",
       " 'Sales Per Store_by_Nu Stores': 0.39385397700346014,\n",
       " 'Sales Per Store_by_Profit Per Store': 0.99999808568594373,\n",
       " 'Sales Per Store_by_Sales Dollars': 0.2915112673244431,\n",
       " 'Sales Per Store_by_Volume Sales per Store': 0.99235000327639999,\n",
       " 'Sales Per Store_by_bottles Sold': 0.29231067954747936,\n",
       " 'Sales Per Store_by_mean profit': 0.89093249999500312,\n",
       " 'Sales Per Store_by_sum profit': 0.29175668216259043,\n",
       " 'Sales Per Store_by_volume sold liters': 0.31379051054103257,\n",
       " 'Volume Sales per Store_by_Bottles Sold per Store': 0.99059098044474037,\n",
       " 'Volume Sales per Store_by_County Number': 0.64181808913158367,\n",
       " 'Volume Sales per Store_by_Nu Stores': 0.35196140525067532,\n",
       " 'Volume Sales per Store_by_Profit Per Store': 0.9925253635994733,\n",
       " 'Volume Sales per Store_by_Sales Dollars': 0.24991424856230504,\n",
       " 'Volume Sales per Store_by_Sales Per Store': 0.99235000327639999,\n",
       " 'Volume Sales per Store_by_bottles Sold': 0.25127996027023203,\n",
       " 'Volume Sales per Store_by_mean profit': 0.89591037233994408,\n",
       " 'Volume Sales per Store_by_sum profit': 0.25015458890769016,\n",
       " 'Volume Sales per Store_by_volume sold liters': 0.27211361437561032,\n",
       " 'bottles Sold_by_Bottles Sold per Store': 0.29884199673890677,\n",
       " 'bottles Sold_by_County Number': 0.13539934866672465,\n",
       " 'bottles Sold_by_Nu Stores': 0.96565428928236641,\n",
       " 'bottles Sold_by_Profit Per Store': 0.29171648210929257,\n",
       " 'bottles Sold_by_Sales Dollars': 0.99757161231792024,\n",
       " 'bottles Sold_by_Sales Per Store': 0.29231067954747925,\n",
       " 'bottles Sold_by_Volume Sales per Store': 0.25127996027023214,\n",
       " 'bottles Sold_by_mean profit': 0.20237966206809799,\n",
       " 'bottles Sold_by_sum profit': 0.99757471312598123,\n",
       " 'bottles Sold_by_volume sold liters': 0.99760409647702319,\n",
       " 'mean profit_by_Bottles Sold per Store': 0.88855130698976603,\n",
       " 'mean profit_by_County Number': 0.69739201175836629,\n",
       " 'mean profit_by_Nu Stores': 0.3163224490197426,\n",
       " 'mean profit_by_Profit Per Store': 0.89109921455702246,\n",
       " 'mean profit_by_Sales Dollars': 0.20219006143238027,\n",
       " 'mean profit_by_Sales Per Store': 0.89093249999500324,\n",
       " 'mean profit_by_Volume Sales per Store': 0.89591037233994419,\n",
       " 'mean profit_by_bottles Sold': 0.20237966206809799,\n",
       " 'mean profit_by_sum profit': 0.20239952894885627,\n",
       " 'mean profit_by_volume sold liters': 0.22046984866786223,\n",
       " 'sum profit_by_Bottles Sold per Store': 0.29538336282490807,\n",
       " 'sum profit_by_County Number': 0.13452441203119192,\n",
       " 'sum profit_by_Nu Stores': 0.96059128855972276,\n",
       " 'sum profit_by_Profit Per Store': 0.29116816118541322,\n",
       " 'sum profit_by_Sales Dollars': 0.99999982307251878,\n",
       " 'sum profit_by_Sales Per Store': 0.29175668216259032,\n",
       " 'sum profit_by_Volume Sales per Store': 0.25015458890769016,\n",
       " 'sum profit_by_bottles Sold': 0.99757471312598123,\n",
       " 'sum profit_by_mean profit': 0.20239952894885638,\n",
       " 'sum profit_by_volume sold liters': 0.99820313134869143,\n",
       " 'volume sold liters_by_Bottles Sold per Store': 0.31855795583340463,\n",
       " 'volume sold liters_by_County Number': 0.14695460084915135,\n",
       " 'volume sold liters_by_Nu Stores': 0.97130794063284709,\n",
       " 'volume sold liters_by_Profit Per Store': 0.31319441750568633,\n",
       " 'volume sold liters_by_Sales Dollars': 0.99817661203233665,\n",
       " 'volume sold liters_by_Sales Per Store': 0.31379051054103246,\n",
       " 'volume sold liters_by_Volume Sales per Store': 0.27211361437561021,\n",
       " 'volume sold liters_by_bottles Sold': 0.99760409647702319,\n",
       " 'volume sold liters_by_mean profit': 0.22046984866786212,\n",
       " 'volume sold liters_by_sum profit': 0.99820313134869143}"
      ]
     },
     "execution_count": 99,
     "metadata": {},
     "output_type": "execute_result"
    }
   ],
   "source": [
    "r2_list"
   ]
  },
  {
   "cell_type": "code",
   "execution_count": 79,
   "metadata": {
    "collapsed": false
   },
   "outputs": [
    {
     "data": {
      "text/html": [
       "<table class=\"simpletable\">\n",
       "<caption>OLS Regression Results</caption>\n",
       "<tr>\n",
       "  <th>Dep. Variable:</th>    <td>Profit Per Store</td> <th>  R-squared:         </th> <td>   1.000</td> \n",
       "</tr>\n",
       "<tr>\n",
       "  <th>Model:</th>                   <td>OLS</td>       <th>  Adj. R-squared:    </th> <td>   1.000</td> \n",
       "</tr>\n",
       "<tr>\n",
       "  <th>Method:</th>             <td>Least Squares</td>  <th>  F-statistic:       </th> <td>5.119e+07</td>\n",
       "</tr>\n",
       "<tr>\n",
       "  <th>Date:</th>             <td>Sun, 16 Oct 2016</td> <th>  Prob (F-statistic):</th> <td>5.29e-282</td>\n",
       "</tr>\n",
       "<tr>\n",
       "  <th>Time:</th>                 <td>09:33:26</td>     <th>  Log-Likelihood:    </th> <td> -587.05</td> \n",
       "</tr>\n",
       "<tr>\n",
       "  <th>No. Observations:</th>      <td>    99</td>      <th>  AIC:               </th> <td>   1176.</td> \n",
       "</tr>\n",
       "<tr>\n",
       "  <th>Df Residuals:</th>          <td>    98</td>      <th>  BIC:               </th> <td>   1179.</td> \n",
       "</tr>\n",
       "<tr>\n",
       "  <th>Df Model:</th>              <td>     1</td>      <th>                     </th>     <td> </td>    \n",
       "</tr>\n",
       "<tr>\n",
       "  <th>Covariance Type:</th>      <td>nonrobust</td>    <th>                     </th>     <td> </td>    \n",
       "</tr>\n",
       "</table>\n",
       "<table class=\"simpletable\">\n",
       "<tr>\n",
       "         <td></td>            <th>coef</th>     <th>std err</th>      <th>t</th>      <th>P>|t|</th> <th>[95.0% Conf. Int.]</th> \n",
       "</tr>\n",
       "<tr>\n",
       "  <th>Sales Per Store</th> <td>    0.3346</td> <td> 4.68e-05</td> <td> 7154.941</td> <td> 0.000</td> <td>    0.334     0.335</td>\n",
       "</tr>\n",
       "</table>\n",
       "<table class=\"simpletable\">\n",
       "<tr>\n",
       "  <th>Omnibus:</th>       <td> 4.447</td> <th>  Durbin-Watson:     </th> <td>   1.880</td>\n",
       "</tr>\n",
       "<tr>\n",
       "  <th>Prob(Omnibus):</th> <td> 0.108</td> <th>  Jarque-Bera (JB):  </th> <td>   5.756</td>\n",
       "</tr>\n",
       "<tr>\n",
       "  <th>Skew:</th>          <td> 0.043</td> <th>  Prob(JB):          </th> <td>  0.0562</td>\n",
       "</tr>\n",
       "<tr>\n",
       "  <th>Kurtosis:</th>      <td> 4.178</td> <th>  Cond. No.          </th> <td>    1.00</td>\n",
       "</tr>\n",
       "</table>"
      ],
      "text/plain": [
       "<class 'statsmodels.iolib.summary.Summary'>\n",
       "\"\"\"\n",
       "                            OLS Regression Results                            \n",
       "==============================================================================\n",
       "Dep. Variable:       Profit Per Store   R-squared:                       1.000\n",
       "Model:                            OLS   Adj. R-squared:                  1.000\n",
       "Method:                 Least Squares   F-statistic:                 5.119e+07\n",
       "Date:                Sun, 16 Oct 2016   Prob (F-statistic):          5.29e-282\n",
       "Time:                        09:33:26   Log-Likelihood:                -587.05\n",
       "No. Observations:                  99   AIC:                             1176.\n",
       "Df Residuals:                      98   BIC:                             1179.\n",
       "Df Model:                           1                                         \n",
       "Covariance Type:            nonrobust                                         \n",
       "===================================================================================\n",
       "                      coef    std err          t      P>|t|      [95.0% Conf. Int.]\n",
       "-----------------------------------------------------------------------------------\n",
       "Sales Per Store     0.3346   4.68e-05   7154.941      0.000         0.334     0.335\n",
       "==============================================================================\n",
       "Omnibus:                        4.447   Durbin-Watson:                   1.880\n",
       "Prob(Omnibus):                  0.108   Jarque-Bera (JB):                5.756\n",
       "Skew:                           0.043   Prob(JB):                       0.0562\n",
       "Kurtosis:                       4.178   Cond. No.                         1.00\n",
       "==============================================================================\n",
       "\n",
       "Warnings:\n",
       "[1] Standard Errors assume that the covariance matrix of the errors is correctly specified.\n",
       "\"\"\""
      ]
     },
     "execution_count": 79,
     "metadata": {},
     "output_type": "execute_result"
    }
   ],
   "source": [
    "model.summary()"
   ]
  },
  {
   "cell_type": "code",
   "execution_count": null,
   "metadata": {
    "collapsed": true
   },
   "outputs": [],
   "source": [
    "#Now I am going to see if multiple variables have a relationship with total\n",
    "#sales.  I decided only to focus on total sales because the marketup seems \n",
    "#fairly consistent.  \n",
    "\n"
   ]
  },
  {
   "cell_type": "code",
   "execution_count": 116,
   "metadata": {
    "collapsed": false
   },
   "outputs": [
    {
     "data": {
      "text/plain": [
       "Index([u'index0', u'Index1', u'County Number', u'mean profit', u'sum profit',\n",
       "       u'bottles Sold', u'volume sold liters', u'Sales Dollars', u'Nu Stores',\n",
       "       u'Sales Per Store', u'Profit Per Store', u'Volume Sales per Store',\n",
       "       u'Bottles Sold per Store'],\n",
       "      dtype='object')"
      ]
     },
     "execution_count": 116,
     "metadata": {},
     "output_type": "execute_result"
    }
   ],
   "source": [
    "countySales.columns"
   ]
  },
  {
   "cell_type": "code",
   "execution_count": 293,
   "metadata": {
    "collapsed": false
   },
   "outputs": [
    {
     "name": "stdout",
     "output_type": "stream",
     "text": [
      "0.997571612318\n"
     ]
    },
    {
     "data": {
      "image/png": "[encoded data removed]",
      "text/plain": [
       "<matplotlib.figure.Figure at 0x1187c4110>"
      ]
     },
     "metadata": {},
     "output_type": "display_data"
    }
   ],
   "source": [
    "X = countySales['bottles Sold']\n",
    "y = countySales[\"Sales Dollars\"]\n",
    "\n",
    "model = sm.OLS(y, X).fit()\n",
    "predictions = model.predict(X)\n",
    "print model.rsquared\n",
    "\n",
    "plt.scatter(predictions, y)\n",
    "plt.plot(y, y)\n",
    "plt.ylabel('bottles sold')\n",
    "plt.xlabel('Sales Dollars');"
   ]
  },
  {
   "cell_type": "code",
   "execution_count": 122,
   "metadata": {
    "collapsed": false
   },
   "outputs": [
    {
     "name": "stdout",
     "output_type": "stream",
     "text": [
      "0.997572373784\n"
     ]
    },
    {
     "data": {
      "image/png": "[encoded data removed]",
      "text/plain": [
       "<matplotlib.figure.Figure at 0x115acd710>"
      ]
     },
     "metadata": {},
     "output_type": "display_data"
    }
   ],
   "source": [
    "#print countySales.columns\n",
    "X = countySales[[\"Volume Sales per Store\", 'bottles Sold']]\n",
    "y = countySales[\"Sales Dollars\"]\n",
    "\n",
    "model = sm.OLS(y, X).fit()\n",
    "predictions = model.predict(X)\n",
    "print model.rsquared\n",
    "\n",
    "plt.scatter(predictions, y)\n",
    "plt.plot(y, y)\n",
    "plt.ylabel('Volume (liters)per store and bottles sold')\n",
    "plt.xlabel('Sales Dollars');"
   ]
  },
  {
   "cell_type": "code",
   "execution_count": 125,
   "metadata": {
    "collapsed": false
   },
   "outputs": [
    {
     "data": {
      "text/html": [
       "<table class=\"simpletable\">\n",
       "<caption>OLS Regression Results</caption>\n",
       "<tr>\n",
       "  <th>Dep. Variable:</th>      <td>Sales Dollars</td>  <th>  R-squared:         </th> <td>   0.998</td> \n",
       "</tr>\n",
       "<tr>\n",
       "  <th>Model:</th>                   <td>OLS</td>       <th>  Adj. R-squared:    </th> <td>   0.998</td> \n",
       "</tr>\n",
       "<tr>\n",
       "  <th>Method:</th>             <td>Least Squares</td>  <th>  F-statistic:       </th> <td>1.993e+04</td>\n",
       "</tr>\n",
       "<tr>\n",
       "  <th>Date:</th>             <td>Sun, 16 Oct 2016</td> <th>  Prob (F-statistic):</th> <td>1.52e-127</td>\n",
       "</tr>\n",
       "<tr>\n",
       "  <th>Time:</th>                 <td>17:17:22</td>     <th>  Log-Likelihood:    </th> <td> -1436.0</td> \n",
       "</tr>\n",
       "<tr>\n",
       "  <th>No. Observations:</th>      <td>    99</td>      <th>  AIC:               </th> <td>   2876.</td> \n",
       "</tr>\n",
       "<tr>\n",
       "  <th>Df Residuals:</th>          <td>    97</td>      <th>  BIC:               </th> <td>   2881.</td> \n",
       "</tr>\n",
       "<tr>\n",
       "  <th>Df Model:</th>              <td>     2</td>      <th>                     </th>     <td> </td>    \n",
       "</tr>\n",
       "<tr>\n",
       "  <th>Covariance Type:</th>      <td>nonrobust</td>    <th>                     </th>     <td> </td>    \n",
       "</tr>\n",
       "</table>\n",
       "<table class=\"simpletable\">\n",
       "<tr>\n",
       "             <td></td>               <th>coef</th>     <th>std err</th>      <th>t</th>      <th>P>|t|</th> <th>[95.0% Conf. Int.]</th> \n",
       "</tr>\n",
       "<tr>\n",
       "  <th>Volume Sales per Store</th> <td>   -0.6866</td> <td>    3.936</td> <td>   -0.174</td> <td> 0.862</td> <td>   -8.499     7.126</td>\n",
       "</tr>\n",
       "<tr>\n",
       "  <th>bottles Sold</th>           <td>   13.2201</td> <td>    0.076</td> <td>  172.841</td> <td> 0.000</td> <td>   13.068    13.372</td>\n",
       "</tr>\n",
       "</table>\n",
       "<table class=\"simpletable\">\n",
       "<tr>\n",
       "  <th>Omnibus:</th>       <td>82.916</td> <th>  Durbin-Watson:     </th> <td>   1.993</td>\n",
       "</tr>\n",
       "<tr>\n",
       "  <th>Prob(Omnibus):</th> <td> 0.000</td> <th>  Jarque-Bera (JB):  </th> <td>1615.843</td>\n",
       "</tr>\n",
       "<tr>\n",
       "  <th>Skew:</th>          <td>-2.247</td> <th>  Prob(JB):          </th> <td>    0.00</td>\n",
       "</tr>\n",
       "<tr>\n",
       "  <th>Kurtosis:</th>      <td>22.275</td> <th>  Cond. No.          </th> <td>    59.5</td>\n",
       "</tr>\n",
       "</table>"
      ],
      "text/plain": [
       "<class 'statsmodels.iolib.summary.Summary'>\n",
       "\"\"\"\n",
       "                            OLS Regression Results                            \n",
       "==============================================================================\n",
       "Dep. Variable:          Sales Dollars   R-squared:                       0.998\n",
       "Model:                            OLS   Adj. R-squared:                  0.998\n",
       "Method:                 Least Squares   F-statistic:                 1.993e+04\n",
       "Date:                Sun, 16 Oct 2016   Prob (F-statistic):          1.52e-127\n",
       "Time:                        17:17:22   Log-Likelihood:                -1436.0\n",
       "No. Observations:                  99   AIC:                             2876.\n",
       "Df Residuals:                      97   BIC:                             2881.\n",
       "Df Model:                           2                                         \n",
       "Covariance Type:            nonrobust                                         \n",
       "==========================================================================================\n",
       "                             coef    std err          t      P>|t|      [95.0% Conf. Int.]\n",
       "------------------------------------------------------------------------------------------\n",
       "Volume Sales per Store    -0.6866      3.936     -0.174      0.862        -8.499     7.126\n",
       "bottles Sold              13.2201      0.076    172.841      0.000        13.068    13.372\n",
       "==============================================================================\n",
       "Omnibus:                       82.916   Durbin-Watson:                   1.993\n",
       "Prob(Omnibus):                  0.000   Jarque-Bera (JB):             1615.843\n",
       "Skew:                          -2.247   Prob(JB):                         0.00\n",
       "Kurtosis:                      22.275   Cond. No.                         59.5\n",
       "==============================================================================\n",
       "\n",
       "Warnings:\n",
       "[1] Standard Errors assume that the covariance matrix of the errors is correctly specified.\n",
       "\"\"\""
      ]
     },
     "execution_count": 125,
     "metadata": {},
     "output_type": "execute_result"
    }
   ],
   "source": [
    "# print \"RMSE:\", mean_squared_error(y, predictions)\n",
    "# print \"MAE:\", mean_absolute_error(y, predictions)\n",
    "model.summary()\n",
    "#rsqured - the proportion of the variance in sales that is predictible from\n",
    "#volumn (liter) sales and bottles sold.\n",
    "#we can look at them individually.  \n",
    "#Bottles sold per store Rsquared = .9938\n",
    "#Volume (liter) sold Rsqured is = 99.81\n",
    "#this is about the same as adding both variables\n"
   ]
  },
  {
   "cell_type": "code",
   "execution_count": 126,
   "metadata": {
    "collapsed": false
   },
   "outputs": [
    {
     "data": {
      "text/plain": [
       "Index([u'index0', u'Index1', u'County Number', u'mean profit', u'sum profit',\n",
       "       u'bottles Sold', u'volume sold liters', u'Sales Dollars', u'Nu Stores',\n",
       "       u'Sales Per Store', u'Profit Per Store', u'Volume Sales per Store',\n",
       "       u'Bottles Sold per Store'],\n",
       "      dtype='object')"
      ]
     },
     "execution_count": 126,
     "metadata": {},
     "output_type": "execute_result"
    }
   ],
   "source": [
    "countySales.columns"
   ]
  },
  {
   "cell_type": "code",
   "execution_count": null,
   "metadata": {
    "collapsed": true
   },
   "outputs": [],
   "source": [
    "#what counties\n",
    "#if we know that either volumne (liter) sales per store or bottles sold \n",
    "#is related to total sales then the top 3 counties are below"
   ]
  },
  {
   "cell_type": "code",
   "execution_count": 127,
   "metadata": {
    "collapsed": false
   },
   "outputs": [
    {
     "data": {
      "text/html": [
       "<div>\n",
       "<table border=\"1\" class=\"dataframe\">\n",
       "  <thead>\n",
       "    <tr style=\"text-align: right;\">\n",
       "      <th></th>\n",
       "      <th>index0</th>\n",
       "      <th>Index1</th>\n",
       "      <th>County Number</th>\n",
       "      <th>mean profit</th>\n",
       "      <th>sum profit</th>\n",
       "      <th>bottles Sold</th>\n",
       "      <th>volume sold liters</th>\n",
       "      <th>Sales Dollars</th>\n",
       "      <th>Nu Stores</th>\n",
       "      <th>Sales Per Store</th>\n",
       "      <th>Profit Per Store</th>\n",
       "      <th>Volume Sales per Store</th>\n",
       "      <th>Bottles Sold per Store</th>\n",
       "    </tr>\n",
       "  </thead>\n",
       "  <tbody>\n",
       "    <tr>\n",
       "      <th>76</th>\n",
       "      <td>76</td>\n",
       "      <td>76</td>\n",
       "      <td>77.0</td>\n",
       "      <td>53.284847</td>\n",
       "      <td>2.621364e+07</td>\n",
       "      <td>5818078</td>\n",
       "      <td>5009659.55</td>\n",
       "      <td>7.847391e+07</td>\n",
       "      <td>207</td>\n",
       "      <td>379100.994396</td>\n",
       "      <td>126635.942512</td>\n",
       "      <td>24201.253865</td>\n",
       "      <td>28106.657005</td>\n",
       "    </tr>\n",
       "    <tr>\n",
       "      <th>56</th>\n",
       "      <td>56</td>\n",
       "      <td>56</td>\n",
       "      <td>57.0</td>\n",
       "      <td>44.530544</td>\n",
       "      <td>1.031109e+07</td>\n",
       "      <td>2421390</td>\n",
       "      <td>2155821.84</td>\n",
       "      <td>3.085593e+07</td>\n",
       "      <td>101</td>\n",
       "      <td>305504.230693</td>\n",
       "      <td>102090.019109</td>\n",
       "      <td>21344.770693</td>\n",
       "      <td>23974.158416</td>\n",
       "    </tr>\n",
       "    <tr>\n",
       "      <th>81</th>\n",
       "      <td>81</td>\n",
       "      <td>81</td>\n",
       "      <td>82.0</td>\n",
       "      <td>49.903702</td>\n",
       "      <td>8.357573e+06</td>\n",
       "      <td>2045563</td>\n",
       "      <td>1622301.15</td>\n",
       "      <td>2.502894e+07</td>\n",
       "      <td>67</td>\n",
       "      <td>373566.262090</td>\n",
       "      <td>124739.888507</td>\n",
       "      <td>24213.450000</td>\n",
       "      <td>30530.791045</td>\n",
       "    </tr>\n",
       "    <tr>\n",
       "      <th>6</th>\n",
       "      <td>6</td>\n",
       "      <td>6</td>\n",
       "      <td>7.0</td>\n",
       "      <td>44.045797</td>\n",
       "      <td>6.648537e+06</td>\n",
       "      <td>1735197</td>\n",
       "      <td>1341144.82</td>\n",
       "      <td>1.989110e+07</td>\n",
       "      <td>73</td>\n",
       "      <td>272480.856849</td>\n",
       "      <td>91075.847260</td>\n",
       "      <td>18371.846849</td>\n",
       "      <td>23769.821918</td>\n",
       "    </tr>\n",
       "    <tr>\n",
       "      <th>51</th>\n",
       "      <td>51</td>\n",
       "      <td>51</td>\n",
       "      <td>52.0</td>\n",
       "      <td>53.805804</td>\n",
       "      <td>7.202983e+06</td>\n",
       "      <td>1527109</td>\n",
       "      <td>1362106.24</td>\n",
       "      <td>2.156258e+07</td>\n",
       "      <td>53</td>\n",
       "      <td>406841.044340</td>\n",
       "      <td>135905.340377</td>\n",
       "      <td>25700.117736</td>\n",
       "      <td>28813.377358</td>\n",
       "    </tr>\n",
       "    <tr>\n",
       "      <th>77</th>\n",
       "      <td>77</td>\n",
       "      <td>77</td>\n",
       "      <td>78.0</td>\n",
       "      <td>45.199028</td>\n",
       "      <td>4.148367e+06</td>\n",
       "      <td>951506</td>\n",
       "      <td>835287.77</td>\n",
       "      <td>1.242305e+07</td>\n",
       "      <td>53</td>\n",
       "      <td>234397.130566</td>\n",
       "      <td>78271.072264</td>\n",
       "      <td>15760.146604</td>\n",
       "      <td>17952.943396</td>\n",
       "    </tr>\n",
       "    <tr>\n",
       "      <th>96</th>\n",
       "      <td>96</td>\n",
       "      <td>96</td>\n",
       "      <td>97.0</td>\n",
       "      <td>48.320387</td>\n",
       "      <td>4.123710e+06</td>\n",
       "      <td>939206</td>\n",
       "      <td>822017.42</td>\n",
       "      <td>1.234449e+07</td>\n",
       "      <td>38</td>\n",
       "      <td>324855.108947</td>\n",
       "      <td>108518.688421</td>\n",
       "      <td>21632.037368</td>\n",
       "      <td>24715.947368</td>\n",
       "    </tr>\n",
       "    <tr>\n",
       "      <th>30</th>\n",
       "      <td>30</td>\n",
       "      <td>30</td>\n",
       "      <td>31.0</td>\n",
       "      <td>46.569536</td>\n",
       "      <td>3.565410e+06</td>\n",
       "      <td>779839</td>\n",
       "      <td>749256.29</td>\n",
       "      <td>1.066283e+07</td>\n",
       "      <td>40</td>\n",
       "      <td>266570.844250</td>\n",
       "      <td>89135.256000</td>\n",
       "      <td>18731.407250</td>\n",
       "      <td>19495.975000</td>\n",
       "    </tr>\n",
       "    <tr>\n",
       "      <th>84</th>\n",
       "      <td>84</td>\n",
       "      <td>84</td>\n",
       "      <td>85.0</td>\n",
       "      <td>39.227337</td>\n",
       "      <td>3.541601e+06</td>\n",
       "      <td>770265</td>\n",
       "      <td>747705.43</td>\n",
       "      <td>1.059031e+07</td>\n",
       "      <td>38</td>\n",
       "      <td>278692.250000</td>\n",
       "      <td>93200.023947</td>\n",
       "      <td>19676.458684</td>\n",
       "      <td>20270.131579</td>\n",
       "    </tr>\n",
       "    <tr>\n",
       "      <th>16</th>\n",
       "      <td>16</td>\n",
       "      <td>16</td>\n",
       "      <td>17.0</td>\n",
       "      <td>36.587451</td>\n",
       "      <td>2.355573e+06</td>\n",
       "      <td>550337</td>\n",
       "      <td>540430.94</td>\n",
       "      <td>7.039657e+06</td>\n",
       "      <td>20</td>\n",
       "      <td>351982.861000</td>\n",
       "      <td>117778.665000</td>\n",
       "      <td>27021.547000</td>\n",
       "      <td>27516.850000</td>\n",
       "    </tr>\n",
       "  </tbody>\n",
       "</table>\n",
       "</div>"
      ],
      "text/plain": [
       "    index0  Index1  County Number  mean profit    sum profit  bottles Sold  \\\n",
       "76      76      76           77.0    53.284847  2.621364e+07       5818078   \n",
       "56      56      56           57.0    44.530544  1.031109e+07       2421390   \n",
       "81      81      81           82.0    49.903702  8.357573e+06       2045563   \n",
       "6        6       6            7.0    44.045797  6.648537e+06       1735197   \n",
       "51      51      51           52.0    53.805804  7.202983e+06       1527109   \n",
       "77      77      77           78.0    45.199028  4.148367e+06        951506   \n",
       "96      96      96           97.0    48.320387  4.123710e+06        939206   \n",
       "30      30      30           31.0    46.569536  3.565410e+06        779839   \n",
       "84      84      84           85.0    39.227337  3.541601e+06        770265   \n",
       "16      16      16           17.0    36.587451  2.355573e+06        550337   \n",
       "\n",
       "    volume sold liters  Sales Dollars  Nu Stores  Sales Per Store  \\\n",
       "76          5009659.55   7.847391e+07        207    379100.994396   \n",
       "56          2155821.84   3.085593e+07        101    305504.230693   \n",
       "81          1622301.15   2.502894e+07         67    373566.262090   \n",
       "6           1341144.82   1.989110e+07         73    272480.856849   \n",
       "51          1362106.24   2.156258e+07         53    406841.044340   \n",
       "77           835287.77   1.242305e+07         53    234397.130566   \n",
       "96           822017.42   1.234449e+07         38    324855.108947   \n",
       "30           749256.29   1.066283e+07         40    266570.844250   \n",
       "84           747705.43   1.059031e+07         38    278692.250000   \n",
       "16           540430.94   7.039657e+06         20    351982.861000   \n",
       "\n",
       "    Profit Per Store  Volume Sales per Store  Bottles Sold per Store  \n",
       "76     126635.942512            24201.253865            28106.657005  \n",
       "56     102090.019109            21344.770693            23974.158416  \n",
       "81     124739.888507            24213.450000            30530.791045  \n",
       "6       91075.847260            18371.846849            23769.821918  \n",
       "51     135905.340377            25700.117736            28813.377358  \n",
       "77      78271.072264            15760.146604            17952.943396  \n",
       "96     108518.688421            21632.037368            24715.947368  \n",
       "30      89135.256000            18731.407250            19495.975000  \n",
       "84      93200.023947            19676.458684            20270.131579  \n",
       "16     117778.665000            27021.547000            27516.850000  "
      ]
     },
     "execution_count": 127,
     "metadata": {},
     "output_type": "execute_result"
    }
   ],
   "source": [
    "countySales.sort_values(by='bottles Sold', ascending=False).head(10)"
   ]
  },
  {
   "cell_type": "code",
   "execution_count": 156,
   "metadata": {
    "collapsed": false
   },
   "outputs": [
    {
     "data": {
      "text/plain": [
       "1403"
      ]
     },
     "execution_count": 156,
     "metadata": {},
     "output_type": "execute_result"
    }
   ],
   "source": [
    "#how does our choice stack up to if we just look at where the top stores are\n",
    "storesStatewide= data['Store Number'].nunique()\n",
    "storesStatewide"
   ]
  },
  {
   "cell_type": "code",
   "execution_count": 152,
   "metadata": {
    "collapsed": false
   },
   "outputs": [
    {
     "data": {
      "text/html": [
       "<div>\n",
       "<table border=\"1\" class=\"dataframe\">\n",
       "  <thead>\n",
       "    <tr style=\"text-align: right;\">\n",
       "      <th></th>\n",
       "      <th>Date</th>\n",
       "      <th>Store Number</th>\n",
       "      <th>City</th>\n",
       "      <th>Zip Code</th>\n",
       "      <th>County Number</th>\n",
       "      <th>County</th>\n",
       "      <th>Category</th>\n",
       "      <th>Category Name</th>\n",
       "      <th>Vendor Number</th>\n",
       "      <th>Item Number</th>\n",
       "      <th>Item Description</th>\n",
       "      <th>Bottle Volume (ml)</th>\n",
       "      <th>State Bottle Cost</th>\n",
       "      <th>State Bottle Retail</th>\n",
       "      <th>Bottles Sold</th>\n",
       "      <th>Sale (Dollars)</th>\n",
       "      <th>Volume Sold (Liters)</th>\n",
       "      <th>Volume Sold (Gallons)</th>\n",
       "      <th>totalCost</th>\n",
       "      <th>profit</th>\n",
       "    </tr>\n",
       "  </thead>\n",
       "  <tbody>\n",
       "    <tr>\n",
       "      <th>0</th>\n",
       "      <td>2016-03-31</td>\n",
       "      <td>5029</td>\n",
       "      <td>DAVENPORT</td>\n",
       "      <td>52806</td>\n",
       "      <td>76</td>\n",
       "      <td>Scott</td>\n",
       "      <td>1022100.0</td>\n",
       "      <td>TEQUILA</td>\n",
       "      <td>370</td>\n",
       "      <td>87152</td>\n",
       "      <td>Avion Silver</td>\n",
       "      <td>375</td>\n",
       "      <td>9.99</td>\n",
       "      <td>14.99</td>\n",
       "      <td>12</td>\n",
       "      <td>179.88</td>\n",
       "      <td>4.5</td>\n",
       "      <td>1.19</td>\n",
       "      <td>119.88</td>\n",
       "      <td>60.00</td>\n",
       "    </tr>\n",
       "    <tr>\n",
       "      <th>1</th>\n",
       "      <td>2016-03-31</td>\n",
       "      <td>5029</td>\n",
       "      <td>DAVENPORT</td>\n",
       "      <td>52806</td>\n",
       "      <td>76</td>\n",
       "      <td>Scott</td>\n",
       "      <td>1022100.0</td>\n",
       "      <td>TEQUILA</td>\n",
       "      <td>395</td>\n",
       "      <td>89197</td>\n",
       "      <td>Jose Cuervo Especial Reposado Tequila</td>\n",
       "      <td>1000</td>\n",
       "      <td>12.50</td>\n",
       "      <td>18.75</td>\n",
       "      <td>2</td>\n",
       "      <td>37.50</td>\n",
       "      <td>2.0</td>\n",
       "      <td>0.53</td>\n",
       "      <td>25.00</td>\n",
       "      <td>12.50</td>\n",
       "    </tr>\n",
       "    <tr>\n",
       "      <th>2</th>\n",
       "      <td>2016-03-31</td>\n",
       "      <td>4959</td>\n",
       "      <td>CEDAR FALLS</td>\n",
       "      <td>50613</td>\n",
       "      <td>76</td>\n",
       "      <td>Black Hawk</td>\n",
       "      <td>1071100.0</td>\n",
       "      <td>AMERICAN COCKTAILS</td>\n",
       "      <td>380</td>\n",
       "      <td>63959</td>\n",
       "      <td>Uv Blue Raspberry Lemonade Pet</td>\n",
       "      <td>1750</td>\n",
       "      <td>5.97</td>\n",
       "      <td>8.96</td>\n",
       "      <td>6</td>\n",
       "      <td>53.76</td>\n",
       "      <td>10.5</td>\n",
       "      <td>2.77</td>\n",
       "      <td>35.82</td>\n",
       "      <td>17.94</td>\n",
       "    </tr>\n",
       "    <tr>\n",
       "      <th>3</th>\n",
       "      <td>2016-03-31</td>\n",
       "      <td>2190</td>\n",
       "      <td>DES MOINES</td>\n",
       "      <td>50314</td>\n",
       "      <td>76</td>\n",
       "      <td>Polk</td>\n",
       "      <td>1031200.0</td>\n",
       "      <td>VODKA FLAVORED</td>\n",
       "      <td>205</td>\n",
       "      <td>40597</td>\n",
       "      <td>New Amsterdam Red Berry</td>\n",
       "      <td>200</td>\n",
       "      <td>2.24</td>\n",
       "      <td>3.36</td>\n",
       "      <td>48</td>\n",
       "      <td>161.28</td>\n",
       "      <td>9.6</td>\n",
       "      <td>2.54</td>\n",
       "      <td>107.52</td>\n",
       "      <td>53.76</td>\n",
       "    </tr>\n",
       "    <tr>\n",
       "      <th>4</th>\n",
       "      <td>2016-03-31</td>\n",
       "      <td>5240</td>\n",
       "      <td>WEST BRANCH</td>\n",
       "      <td>52358</td>\n",
       "      <td>76</td>\n",
       "      <td>NaN</td>\n",
       "      <td>1081200.0</td>\n",
       "      <td>CREAM LIQUEURS</td>\n",
       "      <td>305</td>\n",
       "      <td>73055</td>\n",
       "      <td>Rumchata</td>\n",
       "      <td>750</td>\n",
       "      <td>12.50</td>\n",
       "      <td>18.75</td>\n",
       "      <td>6</td>\n",
       "      <td>112.50</td>\n",
       "      <td>4.5</td>\n",
       "      <td>1.19</td>\n",
       "      <td>75.00</td>\n",
       "      <td>37.50</td>\n",
       "    </tr>\n",
       "  </tbody>\n",
       "</table>\n",
       "</div>"
      ],
      "text/plain": [
       "        Date  Store Number         City Zip Code  County Number      County  \\\n",
       "0 2016-03-31          5029    DAVENPORT    52806             76       Scott   \n",
       "1 2016-03-31          5029    DAVENPORT    52806             76       Scott   \n",
       "2 2016-03-31          4959  CEDAR FALLS    50613             76  Black Hawk   \n",
       "3 2016-03-31          2190   DES MOINES    50314             76        Polk   \n",
       "4 2016-03-31          5240  WEST BRANCH    52358             76         NaN   \n",
       "\n",
       "    Category       Category Name  Vendor Number  Item Number  \\\n",
       "0  1022100.0             TEQUILA            370        87152   \n",
       "1  1022100.0             TEQUILA            395        89197   \n",
       "2  1071100.0  AMERICAN COCKTAILS            380        63959   \n",
       "3  1031200.0      VODKA FLAVORED            205        40597   \n",
       "4  1081200.0      CREAM LIQUEURS            305        73055   \n",
       "\n",
       "                        Item Description  Bottle Volume (ml)  \\\n",
       "0                           Avion Silver                 375   \n",
       "1  Jose Cuervo Especial Reposado Tequila                1000   \n",
       "2         Uv Blue Raspberry Lemonade Pet                1750   \n",
       "3                New Amsterdam Red Berry                 200   \n",
       "4                               Rumchata                 750   \n",
       "\n",
       "   State Bottle Cost  State Bottle Retail  Bottles Sold  Sale (Dollars)  \\\n",
       "0               9.99                14.99            12          179.88   \n",
       "1              12.50                18.75             2           37.50   \n",
       "2               5.97                 8.96             6           53.76   \n",
       "3               2.24                 3.36            48          161.28   \n",
       "4              12.50                18.75             6          112.50   \n",
       "\n",
       "   Volume Sold (Liters)  Volume Sold (Gallons)  totalCost  profit  \n",
       "0                   4.5                   1.19     119.88   60.00  \n",
       "1                   2.0                   0.53      25.00   12.50  \n",
       "2                  10.5                   2.77      35.82   17.94  \n",
       "3                   9.6                   2.54     107.52   53.76  \n",
       "4                   4.5                   1.19      75.00   37.50  "
      ]
     },
     "execution_count": 152,
     "metadata": {},
     "output_type": "execute_result"
    }
   ],
   "source": [
    "stateSummary"
   ]
  },
  {
   "cell_type": "code",
   "execution_count": 164,
   "metadata": {
    "collapsed": false
   },
   "outputs": [
    {
     "name": "stdout",
     "output_type": "stream",
     "text": [
      "Average bottles sold per store19000\n"
     ]
    }
   ],
   "source": [
    "print 'Average bottles sold per store  ' + str((data['Bottles Sold'].sum())/1403)"
   ]
  },
  {
   "cell_type": "markdown",
   "metadata": {},
   "source": [
    "## Plot your results\n",
    "\n",
    "Again make sure that you record any valuable information. For example, in the tax scenario, did you find the sales from the first three months of the year to be a good predictor of the total sales for the year? Plot the predictions versus the true values and discuss the successes and limitations of your models"
   ]
  },
  {
   "cell_type": "code",
   "execution_count": null,
   "metadata": {
    "collapsed": true
   },
   "outputs": [],
   "source": []
  },
  {
   "cell_type": "markdown",
   "metadata": {},
   "source": [
    "# Present the Results\n",
    "\n",
    "Present your conclusions and results. If you have more than one interesting model feel free to include more than one along with a discussion. Use your work in this notebook to prepare your write-up."
   ]
  },
  {
   "cell_type": "code",
   "execution_count": null,
   "metadata": {
    "collapsed": true
   },
   "outputs": [],
   "source": [
    "The problem is where to locate a new store in Iowa.  The decision was made to analyze the data at the county level. There are 99 counties in Iowa.\n",
    "\n",
    "In the analysis the sales per store in each county was analyzed. It was important to look at sales per store in a county and not total sales for a county. An oversaturated market would not yield as much sales as an underserved market. \n",
    "\n",
    "Since the state decides the wholesale (cost) prices and the retail prices the margins are consistent throughout the state. The profit margin for each transaction was 33.3%. There are some outliers that should be examined.\n",
    "\n",
    "\n",
    "\n",
    "In the analysis it was determined that Bottles Sold per Store would be used to predict Sales per Store. The r-square value for that relationship is  'Bottles Sold per Store_by_Sales Per Store': 0.99388156580266307. It is very similar to the relationship between bottles sold per store by volume. In order to simply the process the former was chosen.\n",
    "\n",
    "\n",
    "The store should be located in County 77\n",
    "County 77 has 207 stores. The total bottles sold for the county is 5,818,078.  Bottles sold per store is approximately 28,106. The average profit for store is $126,635"
   ]
  }
 ],
 "metadata": {
  "anaconda-cloud": {},
  "kernelspec": {
   "display_name": "Python [Root]",
   "language": "python",
   "name": "Python [Root]"
  },
  "language_info": {
   "codemirror_mode": {
    "name": "ipython",
    "version": 2
   },
   "file_extension": ".py",
   "mimetype": "text/x-python",
   "name": "python",
   "nbconvert_exporter": "python",
   "pygments_lexer": "ipython2",
   "version": "2.7.12"
  }
 },
 "nbformat": 4,
 "nbformat_minor": 0
}
